{
 "cells": [
  {
   "cell_type": "markdown",
   "metadata": {},
   "source": [
    "<script async src=\"https://www.googletagmanager.com/gtag/js?id=UA-59152712-8\"></script>\n",
    "<script>\n",
    "  window.dataLayer = window.dataLayer || [];\n",
    "  function gtag(){dataLayer.push(arguments);}\n",
    "  gtag('js', new Date());\n",
    "\n",
    "  gtag('config', 'UA-59152712-8');\n",
    "</script>\n",
    "\n",
    "# $p_r$, the radial component of the momentum vector, up to and including 3.5 post-Newtonian order\n",
    "\n",
    "## This notebook constructs the radial component of the momentum vector, up to and including 3.5 PN order\n",
    "\n",
    "**Notebook Status:** <font color='red'><b> IN PROGRESS </b></font>\n",
    "\n",
    "**Validation Notes:** All expressions in this notebook were transcribed twice by hand on separate occasions, and expressions were corrected as needed to ensure consistency with published work. Published work was cross-validated and typo(s) in published work were corrected. In addition, this tutorial notebook has been confirmed to be self-consistent with its corresponding NRPy+ module, as documented [below](#code_validation). **Additional validation tests may have been performed, but are as yet, undocumented.**\n",
    "\n",
    "## Author: Zach Etienne\n",
    "\n",
    "### This notebook exists as the following Python module:\n",
    "1. [PN_p_r.py](../../edit/NRPyPN/PN_p_r.py)\n",
    "\n",
    "### This notebook & corresponding Python module depend on the following NRPy+/NRPyPN Python modules:\n",
    "1. [outputC.py](../../edit/outputC.py): [**documentation+tutorial**](../Tutorial-Coutput__Parameter_Interface.ipynb)\n",
    "1. [indexedexp.py](../../edit/indexedexp.py): [**documentation+tutorial**](../Tutorial-Indexed_Expressions.ipynb)\n",
    "1. [NRPyPN_shortcuts.py](../../edit/NRPyPN/NRPyPN_shortcuts.py): [**documentation**](NRPyPN_shortcuts.ipynb)"
   ]
  },
  {
   "cell_type": "markdown",
   "metadata": {},
   "source": [
    "<a id='toc'></a>\n",
    "\n",
    "# Table of Contents\n",
    "$$\\label{toc}$$\n",
    "\n",
    "1. Part 0: [Import needed Python modules](#imports)\n",
    "1. Part 1: [Basic strategy](#strategy) for computing $p_r$\n",
    "1. Part 2: [$p_r$](#p_r), up to and including 3.5PN order, as derived in [Ramos-Buades, Husa, and Pratten (2018)](https://arxiv.org/abs/1810.00036)\n",
    "1. Part 2: [Validation against second transcription and corresponding Python module](#code_validation)\n",
    "1. Part 3: [Validation against trusted numerical values](#code_validationv2) (i.e., in Table V of [Ramos-Buades, Husa, and Pratten (2018)](https://arxiv.org/abs/1810.00036))\n",
    "1. Part 4: [LaTeX PDF output](#latex_pdf_output): $\\LaTeX$ PDF Output"
   ]
  },
  {
   "cell_type": "markdown",
   "metadata": {},
   "source": [
    "<a id='imports'></a>\n",
    "\n",
    "# Part 0: Import needed Python modules \\[Back to [top](#toc)\\]\n",
    "$$\\label{imports}$$ "
   ]
  },
  {
   "cell_type": "code",
   "execution_count": 1,
   "metadata": {},
   "outputs": [],
   "source": [
    "# Step 0: Add NRPy's directory to the path\n",
    "# https://stackoverflow.com/questions/16780014/import-file-from-parent-directory\n",
    "import os,sys                    # Standard Python modules for multiplatform OS-level functions\n",
    "nrpy_dir_path = os.path.join(\"..\")\n",
    "if nrpy_dir_path not in sys.path:\n",
    "    sys.path.append(nrpy_dir_path)\n",
    "import sympy as sp               # SymPy: The Python computer algebra package upon which NRPy+ depends\n",
    "from outputC import *            # NRPy+: Core C code output module\n",
    "import indexedexp as ixp         # NRPy+: Symbolic indexed expression (e.g., tensors, vectors, etc.) support\n",
    "from NRPyPN_shortcuts import *   # NRPyPN: shortcuts for e.g., vector operations"
   ]
  },
  {
   "cell_type": "markdown",
   "metadata": {},
   "source": [
    "<a id='strategy'></a>\n",
    "\n",
    "# Part 1: Basic strategy for computing $p_r$ \\[Back to [top](#toc)\\]\n",
    "$$\\label{strategy}$$ \n",
    "\n",
    "\n",
    "## Part 1.a: Construct the full Hamiltonian consistent with a binary orbiting instantaneously in the $x$-$y$ plane\n",
    "\n",
    "As detailed in [Ramos-Buades, Husa, and Pratten (2018)](https://arxiv.org/abs/1810.00036), the basic strategy for computing $p_r$ first involves constructing the full Hamiltonian expression assuming that, consistent with a binary system initially on the $x$-axis and orbiting instantaneously on the $x$-$y$ plane, the momenta and normal vectors are given by:\n",
    "\n",
    "\\begin{align}\n",
    "P_1^x &= -p_r\\\\\n",
    "P_2^x &= +p_r\\\\\n",
    "P_1^y &= +p_t\\\\\n",
    "P_2^y &= -p_t\\\\\n",
    "P_1^z = P_2^z &= 0\\\\\n",
    "\\mathbf{n} &= (1,0,0)\n",
    "\\end{align}\n",
    "\n",
    "Now let's construct the full Hamiltonian, applying these assumptions as we go:"
   ]
  },
  {
   "cell_type": "code",
   "execution_count": 2,
   "metadata": {},
   "outputs": [
    {
     "name": "stdout",
     "output_type": "stream",
     "text": [
      "9*Pt**2*S1U2*S2U2/(2*m2**2*r**4) + 9*Pt**2*S1U2*S2U2/(2*m1**2*r**4) + S1U2*(-2*(Pt**3/(m1*m2) + Pt*(3*Pt**2/(4*m1*m2) + 3*Pt**2/(4*m1**2) - 5*Pt**2*m2/(8*m1**3)))/r**3 - 3*(-Pt*(6*m1 + 15*m2/2) + Pt*(-11*m2/2 - 5*m2**2/m1))/r**4) + S1U2*(2*Pt*(Pt**4/(2*m1*m2**3) + Pt**4/(4*m1**2*m2**2) + Pt**4/(2*m1**3*m2))/r**3 - 2*Pt*(-3*Pt**4/(16*m1*m2**3) + 3*Pt**4/(16*m1**2*m2**2) - 3*Pt**4/(16*m1**3*m2) - 9*Pt**4/(16*m1**4) + 7*Pt**4*m2/(16*m1**5))/r**3 - 3*Pt*(-Pt**2*(23/(4*m1) + 9*m2/(2*m1**2)) - Pt**2*(37/(8*m2) + 159/(16*m1)) + Pt**2*(-3*m2/(2*m1**2) + 27*m2**2/(8*m1**3)))/r**4 + 3*Pt*(Pt**2*(5/m2 + 47/(8*m1)) + 53*Pt**2/(8*m2) + 13*Pt**2/(2*m1))/r**4 - 4*(Pt*(21*m1**2/2 + 473*m1*m2/16 + 63*m2**2/4) + Pt*(181*m1*m2/16 + 95*m2**2/4 + 75*m2**3/(8*m1)))/r**5) - 2*S1U2*(2*Pt + 3*Pt*m2/(2*m1))/r**3 + S2U2*(-2*(Pt**3/(m1*m2) + Pt*(-5*Pt**2*m1/(8*m2**3) + 3*Pt**2/(4*m2**2) + 3*Pt**2/(4*m1*m2)))/r**3 - 3*(-Pt*(15*m1/2 + 6*m2) + Pt*(-5*m1**2/m2 - 11*m1/2))/r**4) + S2U2*(2*Pt*(Pt**4/(2*m1*m2**3) + Pt**4/(4*m1**2*m2**2) + Pt**4/(2*m1**3*m2))/r**3 - 2*Pt*(7*Pt**4*m1/(16*m2**5) - 9*Pt**4/(16*m2**4) - 3*Pt**4/(16*m1*m2**3) + 3*Pt**4/(16*m1**2*m2**2) - 3*Pt**4/(16*m1**3*m2))/r**3 + 3*Pt*(Pt**2*(47/(8*m2) + 5/m1) + 13*Pt**2/(2*m2) + 53*Pt**2/(8*m1))/r**4 - 3*Pt*(-Pt**2*(159/(16*m2) + 37/(8*m1)) - Pt**2*(9*m1/(2*m2**2) + 23/(4*m2)) + Pt**2*(27*m1**2/(8*m2**3) - 3*m1/(2*m2**2)))/r**4 - 4*(Pt*(63*m1**2/4 + 473*m1*m2/16 + 21*m2**2/2) + Pt*(75*m1**3/(8*m2) + 95*m1**2/4 + 181*m1*m2/16))/r**5) - 2*S2U2*(3*Pt*m1/(2*m2) + 2*Pt)/r**3 + m1*m2*(Pt**2*(m1 + m2)**2*(m1*m2/(m1 + m2)**2 + 3)/(2*m1**2*m2**2*r**2) - 1/r**3)/(m1 + m2) + m1*m2*(-Pt**4*(m1 + m2)**4*(-3*m1**2*m2**2/(m1 + m2)**4 - 20*m1*m2/(m1 + m2)**2 + 5)/(8*m1**4*m2**4*r**2) - Pt**2*(m1 + m2)**2*(8*m1*m2/(m1 + m2)**2 + 5)/(m1**2*m2**2*r**3) + 3*(3*m1*m2/(4*(m1 + m2)**2) + 1/4)/r**4)/(m1 + m2) + m1*m2*(-Pt**6*(m1 + m2)**6*(-5*m1**3*m2**3/(m1 + m2)**6 - 53*m1**2*m2**2/(m1 + m2)**4 + 42*m1*m2/(m1 + m2)**2 - 7)/(16*m1**6*m2**6*r**2) - 2*Pt**4*(m1 + m2)**4*(109*m1**2*m2**2/(16*(m1 + m2)**4) + 17*m1*m2/(2*(m1 + m2)**2) - 27/16)/(m1**4*m2**4*r**3) - 3*Pt**2*(m1 + m2)**2*(-23*m1**2*m2**2/(8*(m1 + m2)**4) + m1*m2*(-335/48 + pi**2/64)/(m1 + m2)**2 - 25/8)/(m1**2*m2**2*r**4) - 4*(m1*m2*(109/12 - 21*pi**2/32)/(m1 + m2)**2 + 1/8)/r**5)/(m1 + m2) + m1*m2/(r**2*(m1 + m2)) - 3*m1*m2*(2*(S1U0*(1 + m2/m1) + S2U0*(m1/m2 + 1))**2 - (S1U1*(1 + m2/m1) + S2U1*(m1/m2 + 1))**2 - (S1U2*(1 + m2/m1) + S2U2*(m1/m2 + 1))**2)/(2*r**4*(m1 + m2)**2) - 4*m1*(-7*S2U0**2*m1/m2 - 2*S2U0**2 + 5*S2U1**2/2 + 5*S2U2**2/2 + 3*m1*(S2U0**2 + S2U1**2 + S2U2**2)/m2)/r**5 - 4*m2*(-2*S1U0**2 - 7*S1U0**2*m2/m1 + 5*S1U1**2/2 + 5*S1U2**2/2 + 3*m2*(S1U0**2 + S1U1**2 + S1U2**2)/m1)/r**5 - 3*(9*Pt**2*S1U0**2/(4*m1*m2) + 9*Pt**2*S1U0**2/(4*m1**2) - 3*Pt**2*S1U0**2*m2/(8*m1**3) + Pt**2*S1U1**2*m2/(4*m1**3) - 3*Pt**2*(S1U0**2 + S1U1**2 + S1U2**2)/(4*m1*m2) - 3*Pt**2*(S1U0**2 + S1U1**2 + S1U2**2)/(4*m1**2))/r**4 - 3*(-3*Pt**2*S2U0**2*m1/(8*m2**3) + 9*Pt**2*S2U0**2/(4*m2**2) + 9*Pt**2*S2U0**2/(4*m1*m2) + Pt**2*S2U1**2*m1/(4*m2**3) - 3*Pt**2*(S2U0**2 + S2U1**2 + S2U2**2)/(4*m2**2) - 3*Pt**2*(S2U0**2 + S2U1**2 + S2U2**2)/(4*m1*m2))/r**4 - 4*(m1 + m2)*(-6*S1U0*S2U0 + 6*S1U1*S2U1 + 6*S1U2*S2U2)/r**5 - 4*(-15*Pt*S1U2*S2U0**2/2 + 3*Pt*S1U2*(S2U0**2 + S2U1**2 + S2U2**2)/2 - 3*Pt*S2U1*(S1U1*S2U2 - S1U2*S2U1)/2 - 3*S2U0*(Pt*S1U0*S2U2 - Pt*S1U2*S2U0)/2 + S2U2*(Pt*m1/(4*m2) + Pt)*(-4*S2U0**2 + S2U1**2 + S2U2**2) - 3*m2*(5*Pt*S1U2*S2U0**2 - Pt*S1U2*(S2U0**2 + S2U1**2 + S2U2**2) - 2*S2U0*(-Pt*S1U0*S2U2 + Pt*S1U2*S2U0))/(2*m1))/(m2**2*r**5) - 3*(3*Pt**2*S1U0*S2U0 - Pt**2*S1U1*S2U1/2 - 15*Pt**2*S1U2*S2U2/2 - Pt**2*(S1U0*S2U0/2 + S1U1*S2U1/2 + S1U2*S2U2/2))/(2*m1*m2*r**4) - 4*(-15*Pt*S1U0**2*S2U2/2 + 3*Pt*S1U1*(S1U1*S2U2 - S1U2*S2U1)/2 + 3*Pt*S2U2*(S1U0**2 + S1U1**2 + S1U2**2)/2 + 3*S1U0*(Pt*S1U0*S2U2 - Pt*S1U2*S2U0)/2 - S1U2*(-Pt - Pt*m2/(4*m1))*(-4*S1U0**2 + S1U1**2 + S1U2**2) - 3*m1*(5*Pt*S1U0**2*S2U2 - Pt*S2U2*(S1U0**2 + S1U1**2 + S1U2**2) + 2*S1U0*(-Pt*S1U0*S2U2 + Pt*S1U2*S2U0))/(2*m2))/(m1**2*r**5)\n"
     ]
    }
   ],
   "source": [
    "def f_Htot(m1,m2, n12U,n21U, S1U, S2U, p1U,p2U, q):\n",
    "    def make_replacements(expr):\n",
    "        zero = sp.sympify(0)\n",
    "        one  = sp.sympify(1)\n",
    "        return expr.subs(p1U[1],Pt).subs(p2U[1],-Pt).subs(p1U[2],zero).subs(p2U[2],zero).subs(p1U[0],-Pr).subs(p2U[0],Pr)\\\n",
    "    .subs(nU[0],one).subs(nU[1],zero).subs(nU[2],zero)\\\n",
    "    .subs(q,r)\n",
    "\n",
    "    import PN_Hamiltonian_NS as H_NS\n",
    "    H_NS.f_H_Newt__H_NS_1PN__H_NS_2PN(m1,m2, pU, nU, q)\n",
    "    H_NS.f_H_NS_3PN(m1,m2, pU, nU, q)\n",
    "    \n",
    "    global Htot\n",
    "    Htot = make_replacements(+H_NS.H_Newt\n",
    "                             +H_NS.H_NS_1PN\n",
    "                             +H_NS.H_NS_2PN\n",
    "                             +H_NS.H_NS_3PN)\n",
    "\n",
    "    import PN_Hamiltonian_SO as H_SO\n",
    "    H_SO.f_H_SO_1p5PN(m1,m2, n12U,n21U, S1U, S2U, p1U,p2U, q)\n",
    "    H_SO.f_H_SO_2p5PN(m1,m2, n12U,n21U, S1U, S2U, p1U,p2U, q)\n",
    "    H_SO.f_H_SO_3p5PN(m1,m2, n12U,n21U, S1U, S2U, p1U,p2U, q)\n",
    "    Htot+= make_replacements(+H_SO.H_SO_1p5PN\n",
    "                             +H_SO.H_SO_2p5PN\n",
    "                             +H_SO.H_SO_3p5PN)\n",
    "\n",
    "    import PN_Hamiltonian_SS as H_SS\n",
    "    H_SS.f_H_SS_2PN(m1,m2, S1U,S2U, nU, q)\n",
    "    H_SS.f_H_SS_S1S2_3PN(m1,m2, n12U, S1U,S2U, p1U,p2U, q)\n",
    "    H_SS.f_H_SS_S1sq_S2sq_3PN(m1,m2, n12U,n21U, S1U,S2U, p1U,p2U, q)\n",
    "    Htot+= make_replacements(+H_SS.H_SS_2PN\n",
    "                             +H_SS.H_SS_S1S2_3PN\n",
    "                             +H_SS.H_SS_S1sq_S2sq_3PN)\n",
    "\n",
    "    import PN_Hamiltonian_SSS as H_SSS\n",
    "    H_SSS.f_H_SSS_3PN(m1,m2, n12U,n21U, S1U,S2U, p1U,p2U, q)\n",
    "    Htot+= make_replacements(+H_SSS.H_SSS_3PN)\n",
    "    \n",
    "f_Htot(m1,m2, n12U,n21U, S1U, S2U, p1U,p2U, q)\n",
    "print(sp.diff(Htot.subs(Pr,sp.sympify(0)),r))"
   ]
  },
  {
   "cell_type": "markdown",
   "metadata": {},
   "source": [
    "## Computing $p_r$ as a function of $\\frac{dr}{dt}$\n",
    "\n",
    "Hamilton's equations of motion imply that\n",
    "$$\n",
    "\\frac{dr}{dt} = \\frac{\\partial H}{\\partial p_r}.\n",
    "$$\n",
    "\n",
    "Next we Taylor expand $\\frac{\\partial H}{\\partial p_r}$ in powers of $p_r$, about $p_r=0$:\n",
    "\n",
    "\\begin{align}\n",
    "\\frac{dr}{dt} = \\frac{\\partial H}{\\partial p_r} = \\left.\\frac{\\partial H}{\\partial p_r}\\right|_{p_r=0} \n",
    "+ \\frac{1}{1!} p_r \\left.\\frac{\\partial^2 H}{\\partial p_r^2}\\right|_{p_r=0} \n",
    "+ \\frac{1}{2!} p_r^2 \\left.\\frac{\\partial^3 H}{\\partial p_r^3}\\right|_{p_r=0} \n",
    "+ \\frac{1}{3!} p_r^3 \\left.\\frac{\\partial^4 H}{\\partial p_r^4}\\right|_{p_r=0} \n",
    "+ \\mathcal{O}(p_r^4)\n",
    "\\end{align}\n",
    "so to first order we get\n",
    "\n",
    "$$\n",
    "p_r \\approx \\left(\\frac{dr}{dt} - \\left.\\frac{\\partial H}{\\partial p_r}\\right|_{p_r=0} \\right) \\left( \\left.\\frac{\\partial^2 H}{\\partial p_r^2}\\right|_{p_r=0} \\right)^{-1}.\n",
    "$$\n",
    "\n",
    "Given the input masses and spins, we can compute $p_t$ using the formula given in [this NRPyPN notebook](PN-p_t.ipynb) (from [Ramos-Buades, Husa, and Pratten (2018)](https://arxiv.org/abs/1810.00036)), and the above will lead us with one equation and two unknowns: $p_r$ and $\\frac{dr}{dt}$. This is an equation we can derive directly from our Hamiltonian expression, and compare the output to the expression derived to 3.5PN order in [Ramos-Buades, Husa, and Pratten (2018)](https://arxiv.org/abs/1810.00036)."
   ]
  },
  {
   "cell_type": "code",
   "execution_count": 3,
   "metadata": {},
   "outputs": [],
   "source": [
    "# Next we compute p_r as a function of dr_dt (unknown) and known quantities using \n",
    "# p_r ~ (\\frac{dr}{dt} - partial_H/partial_{p_r}|_{p_r=0} / \\partial^2_H/partial_{p_r^2}|_{p_r=0}\n",
    "def f_p_r(H,drdt):\n",
    "    dHdpr_przero   = sp.diff(H,Pr).subs(Pr,sp.sympify(0))\n",
    "    d2Hdpr2_przero = sp.diff(sp.diff(H,Pr),Pr).subs(Pr,sp.sympify(0))\n",
    "    global p_r\n",
    "    p_r = (drdt - dHdpr_przero)/(d2Hdpr2_przero)"
   ]
  },
  {
   "cell_type": "markdown",
   "metadata": {},
   "source": [
    "## Computing $\\frac{dr}{dt}$\n",
    "\n",
    "Now we have $p_r$ as a function of $\\frac{dr}{dt}$ (unknown) and known input parameters (like masses and spins). Let's next construct an expression for $\\frac{dr}{dt}$ in terms of known quantities, via\n",
    "$$\n",
    "\\frac{dr}{dt}=\\left(\\frac{dE_{\\rm GW}}{dt}+\\frac{dM}{dt}\\right)\\left[\\frac{dH_{\\rm circ}}{dr}\\right]^{-1},\n",
    "$$\n",
    "where\n",
    "$$\n",
    "\\frac{dH_{\\rm circ}(r,p_t(r))}{dr} = \\frac{\\partial H(p_r=0)}{\\partial r} \n",
    "+ \\frac{\\partial H(p_r=0)}{\\partial p_t} \\frac{\\partial p_t}{\\partial r},\n",
    "$$\n",
    "and the total energy flux\n",
    "$$\n",
    "\\mathcal{E}(M\\Omega,...) = \\left(\\frac{dE_{\\rm GW}}{dt}+\\frac{dM}{dt}\\right) \n",
    "$$ \n",
    "is given in terms of input parameters (e.g., masses and spins), plus $M\\Omega$, which we also constructed in terms of the input masses, spins, and orbital separation $r$."
   ]
  },
  {
   "cell_type": "code",
   "execution_count": 4,
   "metadata": {},
   "outputs": [],
   "source": [
    "def f_dr_dt(Htot, m1,m2, n12U,n21U, chi1U,chi2U, S1U,S2U, p1U,p2U, r):\n",
    "    # First compute M\\Omega\n",
    "    import PN_MOmega as MOm\n",
    "    MOm.f_MOmega(m1,m2, chi1U,chi2U, r)\n",
    "\n",
    "    # Then compute dE_GW_dt_plus_dM_dt\n",
    "    import PN_dE_GW_dt_and_dM_dt as dEdt\n",
    "    dEdt.f_dE_GW_dt_and_dM_dt(MOm.MOmega, m1,m2, n12U, S1U,S2U)\n",
    "\n",
    "    # Then compute p_t\n",
    "    import PN_p_t as pt\n",
    "    pt.f_p_t(m1,m2, chi1U,chi2U, r)\n",
    "\n",
    "    # Then compute dH_{circ}/dr\n",
    "    dHcirc_dr = (+sp.diff(Htot.subs(Pr,sp.sympify(0)),r) \n",
    "                 +sp.diff(Htot.subs(Pr,sp.sympify(0)),Pt)*sp.diff(pt.p_t,r))\n",
    "\n",
    "    global dr_dt\n",
    "    dr_dt = dEdt.dE_GW_dt_plus_dM_dt / dHcirc_dr"
   ]
  },
  {
   "cell_type": "markdown",
   "metadata": {},
   "source": [
    "<a id='code_validation'></a>\n",
    "\n",
    "# Part 2: Validation of transcribed versions for $p_r$ \\[Back to [top](#toc)\\]\n",
    "$$\\label{code_validation}$$ \n",
    "\n",
    "As a code validation check, we verify agreement between \n",
    "* the SymPy expressions transcribed from the cited published work on two separate occasions, and"
   ]
  },
  {
   "cell_type": "markdown",
   "metadata": {},
   "source": [
    "Next, for validation purposes we will include the expression for $p_r$ given by Eq 2.16 of [Ramos-Buades, Husa, and Pratten (2018)](https://arxiv.org/abs/1810.00036). \n",
    "\n",
    "To reduce the possibility of copying error, the equation for $p_r$ is taken directly from the arXiv LaTeX source code of Eq 2.16 in [Ramos-Buades, Husa, and Pratten (2018)](https://arxiv.org/abs/1810.00036), and only mildly formatted to (1) improve presentation in Jupyter notebooks and (2) to ensure some degree of consistency in notation across different terms in other NRPyPN notebooks:\n",
    "\n",
    "\\begin{equation}\n",
    "\\begin{split}\n",
    "p_r &= \\left[-\\frac{dr}{dt} \\right.\\\\\n",
    "&\\quad\\quad \\left. +\\frac{1}{r^{7/2}} \\left( -\\frac{(6 q+13) q^2 \\chi _{1x} \\chi _{2 y}}{4 (q+1)^4}-\\frac{(6 q+1) q^2 \\chi _{2 x} \\chi _{2 y}}{4 (q+1)^4}+\\chi _{1y} \\left(-\\frac{q (q+6) \\chi _{1x}}{4 (q+1)^4}-\\frac{q (13 q+6) \\chi _{2 x}}{4 (q+1)^4}\\right)\\right) \\right.\\\\\n",
    "&\\quad\\quad \\left. +\\frac{1}{r^4} \\left( \\chi _{1z} \\left(\\frac{3 q (5 q+2) \\chi _{1x} \\chi _{2 y}}{2 (q+1)^4}   -\\frac{3 q^2 (2 q+5) \\chi _{2 x} \\chi _{2 y}}{2 (q+1)^4}\\right)+\\chi _{1y} \\chi _{2 z} \\left(\\frac{3 q^2 (2 q+5) \\chi _{2 x}}{2 (q+1)^4}-\\frac{3 q (5 q+2) \\chi _{1x}}{2 (q+1)^4}\\right)\\right)\\right] \\\\\n",
    "& \\times \\left[ -\\frac{(q+1)^2}{q}-\\frac{1 \\left(-7 q^2-15 q-7\\right)}{2 q r}  \\right.\n",
    " \\\\\n",
    "&\\quad\\quad \\left.  -\\frac{47 q^4+229 q^3+363 q^2+229 q+47}{8 q (q+1)^2 r^2} -\\frac{1}{r^{5/2}}\\left( \\frac{\\left(4 q^2+11 q+12\\right) \\chi _{1z}}{4 q (q+1)}+\\frac{\\left(12 q^2+11 q+4\\right) \\chi _{2 z}}{4 (q+1)} \\right)    \\right. \\\\\n",
    "&\\quad\\quad \\left. \\left.- \\frac{1}{r^{7/2}}  \\left( \\frac{\\left(-53 q^5-357 q^4-1097 q^3-1486 q^2-842 q-144\\right) \\chi _{1z}}{16 q (q+1)^4}+\\frac{\\left(-144 q^5-842 q^4-1486 q^3-1097 q^2-357 q-53\\right) \\chi _{2 z}}{16 (q+1)^4} \\right)\\right. \\right. \\\\\n",
    "&\\quad\\quad \\left. -\\frac{1}{r^3} \\left(\\frac{\\left(q^2+9 q+9\\right) \\chi _{1x}^2}{2 q (q+1)^2}+\\frac{\\left(3 q^2+5 q+3\\right) \\chi _{2 x} \\chi _{1x}}{(q+1)^2}+\\frac{\\left(3 q^2+8 q+3\\right) \\chi _{1y} \\chi _{2 y}}{2 (q+1)^2}-\\frac{9 q^2 \\chi _{2 y}^2}{4 (q+1)}+\\frac{\\left(3 q^2+8 q+3\\right) \\chi _{1z} \\chi _{2 z}}{2 (q+1)^2}-\\frac{9 q^2 \\chi _{2 z}^2}{4 (q+1)} \\right. \\right.\n",
    "\\\\\n",
    "&\\quad\\quad\\quad \\left. \\left. +\\frac{\\left(9 q^3+9 q^2+q\\right) \\chi _{2 x}^2}{2 (q+1)^2}+\\frac{-363 q^6-2608 q^5-7324 q^4-10161 q^3-7324 q^2-2608 q-363}{48 q (q+1)^4}-\\frac{9 \\chi _{1y}^2}{4 q (q+1)}-\\frac{9 \\chi _{1z}^2}{4 q (q+1)}-\\frac{\\pi ^2}{16} \\right) \\right]^{-1}. \n",
    "\\end{split}\n",
    "\\end{equation}"
   ]
  },
  {
   "cell_type": "code",
   "execution_count": 5,
   "metadata": {},
   "outputs": [],
   "source": [
    "# Transcribed from Eq 2.18 of \n",
    "# Ramos-Buades, Husa, and Pratten (2018),\n",
    "#   https://arxiv.org/abs/1810.00036\n",
    "def f_p_r_RHP2018(drdt, m1,m2, chi1x,chi1y,chi1z, chi2x,chi2y,chi2z,r):\n",
    "    q = m2/m1 # It is assumed that q >= 1, so m2 >= m1.\n",
    "    p_r_num = (-drdt\n",
    "               +(-(6*q+13)*q**2*chi1x*chi2y/(4*(q+1)**4)\n",
    "                 -(6*q+ 1)*q**2*chi2x*chi2y/(4*(q+1)**4)\n",
    "                 +chi1y*(-q*(   q+6)*chi1x/(4*(q+1)**4)\n",
    "                         -q*(13*q+6)*chi2x/(4*(q+1)**4)))/r**div(7,2)\n",
    "               +(+chi1z*(+3*q   *(5*q+2)*chi1x*chi2y/(2*(q+1)**4)\n",
    "                         -3*q**2*(2*q+5)*chi2x*chi2y/(2*(q+1)**4))\n",
    "                 +chi1y*chi2z*(+3*q**2*(2*q+5)*chi2x/(2*(q+1)**4)\n",
    "                               -3*q   *(5*q+2)*chi1x/(2*(q+1)**4)))/r**4)\n",
    "    p_r_den = (-(q+1)**2/q - (-7*q**2-15*q-7)/(2*q*r)\n",
    "               -(47*q**4 + 229*q**3 + 363*q**2 + 229*q + 47)/(8*q*(q+1)**2*r**2)\n",
    "               -(+( 4*q**2 + 11*q + 12)*chi1z/(4*q*(q+1))\n",
    "                 +(12*q**2 + 11*q +  4)*chi2z/(4*  (q+1)))/r**div(5,2)\n",
    "               -(+(- 53*q**5 - 357*q**4 - 1097*q**3 - 1486*q**2 - 842*q - 144)*chi1z/(16*q*(q+1)**4)\n",
    "                 +(-144*q**5 - 842*q**4 - 1486*q**3 - 1097*q**2 - 357*q -  53)*chi2z/(16  *(q+1)**4))/r**div(7,2)\n",
    "               -(+(  q**2 + 9*q + 9)*chi1x**2/(2*q*(q+1)**2)\n",
    "                 +(3*q**2 + 5*q + 3)*chi2x*chi1x/((q+1)**2)\n",
    "                 +(3*q**2 + 8*q + 3)*chi1y*chi2y/(2*(q+1)**2)\n",
    "                 -9*q**2*chi2y**2/(4*(q+1))\n",
    "                 +(3*q**2 + 8*q + 3)*chi1z*chi2z/(2*(q+1)**2)\n",
    "                 -9*q**2*chi2z**2/(4*(q+1))\n",
    "                 +(9*q**3 + 9*q**2 + q)*chi2x**2/(2*(q+1)**2)\n",
    "                 +(-363*q**6 - 2608*q**5 - 7324*q**4 - 10161*q**3 - 7324*q**2 - 2608*q - 363)/(48*q*(q+1)**4)\n",
    "                 -9*chi1y**2/(4*q*(q+1))\n",
    "                 -9*chi1z**2/(4*q*(q+1)) - sp.pi**2/16)/r**3)\n",
    "    global p_r_RHP2018\n",
    "    p_r_RHP2018 = p_r_num/p_r_den"
   ]
  },
  {
   "cell_type": "code",
   "execution_count": 6,
   "metadata": {},
   "outputs": [],
   "source": [
    "# Second version, used for validation purposes only.\n",
    "def f_p_r_RHP2018v2(drdt, m1,m2, chi1x,chi1y,chi1z, chi2x,chi2y,chi2z, r):\n",
    "    q = m2/m1\n",
    "    p_r_num = (-drdt\n",
    "               +(-(6*q+13)*q**2*chi1x*chi2y/(4*(q+1)**4) \n",
    "                 -(6*q+1)*q**2*chi2x*chi2y/(4*(q+1)**4)\n",
    "                 +chi1y*(-q*(q+6)*chi1x/(4*(q+1)**4) - q*(13*q+6)*chi2x/(4*(q+1)**4)))/r**div(7,2)\n",
    "               +(+chi1z*(+div(3,2)*(q*   (5*q+2)*chi1x*chi2y)/(q+1)**4\n",
    "                         -div(3,2)*(q**2*(2*q+5)*chi2x*chi2y)/(q+1)**4)\n",
    "                 +chi1y*chi2z*(+div(3,2)*(q**2*(2*q+5)*chi2x)/(q+1)**4\n",
    "                               -div(3,2)*(q*   (5*q+2)*chi1x)/(q+1)**4))/r**4)\n",
    "    p_r_den = (-(q+1)**2/q \n",
    "               -(-7*q**2-15*q-7)/(2*q*r)\n",
    "               -(47*q**4 + 229*q**3 + 363*q**2 + 229*q + 47)/(8*q*(q+1)**2*r**2)\n",
    "               -( (4*q**2+11*q+12)*chi1z/(4*q*(q+1)) + (12*q**2+11*q+4)*chi2z/(4*(q+1)) )/r**div(5,2)\n",
    "               -(+(-53 *q**5 - 357*q**4 - 1097*q**3 - 1486*q**2 - 842*q - 144)*chi1z/(16*q*(q+1)**4)\n",
    "                 +(-144*q**5 - 842*q**4 - 1486*q**3 - 1097*q**2 - 357*q - 53 )*chi2z/(16*  (q+1)**4) )/r**div(7,2)\n",
    "               -(+(  q**2+9*q+9)*chi1x**2/(2*q*(q+1)**2)\n",
    "                 +(3*q**2+5*q+3)*chi2x*chi1x/((q+1)**2)\n",
    "                 +(3*q**2+8*q+3)*chi1y*chi2y/(2*(q+1)**2)\n",
    "                 -(9*q**2*chi2y**2/(4*(q+1)))\n",
    "                 +(3*q**2+8*q+3)*chi1z*chi2z/(2*(q+1)**2)\n",
    "                 -(9*q**2*chi2z**2/(4*(q+1)))\n",
    "                 +(9*q**3+9*q**2+q)*chi2x**2/(2*(q+1)**2)\n",
    "                 +(-363*q**6 - 2608*q**5 - 7324*q**4 - 10161*q**3 - 7324*q**2 - 2608*q - 363)/(48*q*(q+1)**4)\n",
    "                 -(9*chi1y**2)/(4*q*(q+1))\n",
    "                 -(9*chi1z**2)/(4*q*(q+1))\n",
    "                 -sp.pi**2/16) / r**3)\n",
    "    global p_r_RHP2018v2\n",
    "    p_r_RHP2018v2 = p_r_num/p_r_den"
   ]
  },
  {
   "cell_type": "code",
   "execution_count": 7,
   "metadata": {},
   "outputs": [
    {
     "name": "stdout",
     "output_type": "stream",
     "text": [
      "TRANSCRIPTION TEST PASSES\n"
     ]
    }
   ],
   "source": [
    "from outputC import *   # NRPy+: Core C code output module\n",
    "\n",
    "def error(varname):\n",
    "    print(\"ERROR: When comparing Python module & notebook, \"+varname+\" was found not to match.\")\n",
    "    sys.exit(1)\n",
    "\n",
    "# Validation against second transcription of the expressions:\n",
    "f_p_r_RHP2018(  drdt, m1,m2, chi1U[0],chi1U[1],chi1U[2], chi2U[0],chi2U[1],chi2U[2], q)\n",
    "f_p_r_RHP2018v2(drdt, m1,m2, chi1U[0],chi1U[1],chi1U[2], chi2U[0],chi2U[1],chi2U[2], q)\n",
    "\n",
    "if sp.simplify(p_r_RHP2018 - p_r_RHP2018v2) != 0: error(\"p_r_RHP2018v2\")\n",
    "print(\"TRANSCRIPTION TEST PASSES\")"
   ]
  },
  {
   "cell_type": "markdown",
   "metadata": {},
   "source": [
    "<a id='code_validationpt2'></a>\n",
    "\n",
    "## Part 2.a: Numerical validation of transcribed version against $p_r$ expression given from Hamiltonian \\[Back to [top](#toc)\\]\n",
    "$$\\label{code_validationpt2}$$ \n",
    "\n",
    "As an additional validation check, we verify agreement between \n",
    "\n",
    "* the SymPy expressions generated in this notebook, and the corresponding Python module."
   ]
  },
  {
   "cell_type": "code",
   "execution_count": 8,
   "metadata": {},
   "outputs": [
    {
     "name": "stdout",
     "output_type": "stream",
     "text": [
      "1.669e-03 1 1.6691e-03 3.2027e-04 3.2081e-04 6.91 12.27 -0.09 -0.27 0.01 -0.10 0.31 -0.22\n",
      "2.030e-03 2 2.3909e-03 4.2484e-04 4.2382e-04 1.94 12.54 0.29 -0.27 -0.01 -0.06 0.17 0.32\n",
      "2.012e-03 3 1.9747e-03 3.1814e-04 3.1877e-04 7.69 12.84 -0.49 -0.46 0.37 0.26 0.19 -0.21\n"
     ]
    }
   ],
   "source": [
    "import random\n",
    "\n",
    "def eval_random(errorsum,i,trusted, other, p_t):\n",
    "    random.seed(i)\n",
    "\n",
    "    qmassratio = 1.0 + 7*random.random()  # must be >= 1\n",
    "    nr         = 10. + 3*random.random()  # Orbital separation\n",
    "    # Choose spins so that the total spin magnitude does not exceed 1.\n",
    "    nchi1x     = -0.55 + 1.1*random.random()\n",
    "    nchi1y     = -0.55 + 1.1*random.random()\n",
    "    nchi1z     = -0.55 + 1.1*random.random()\n",
    "    nchi2x     = -0.55 + 1.1*random.random()\n",
    "    nchi2y     = -0.55 + 1.1*random.random()\n",
    "    nchi2z     = -0.55 + 1.1*random.random()\n",
    "\n",
    "    nPt        = num_eval(p_t,\n",
    "                          qmassratio=qmassratio, nr=nr,\n",
    "                          nchi1x=nchi1x,nchi1y=nchi1y,nchi1z=nchi1z,\n",
    "                          nchi2x=nchi2x,nchi2y=nchi2y,nchi2z=nchi2z)\n",
    "    ndrdt      = 0.1*nPt*(random.random()+0.1)\n",
    "\n",
    "    trusted_res = num_eval(trusted,\n",
    "                           qmassratio=qmassratio, nr=nr,\n",
    "                           nchi1x=nchi1x,nchi1y=nchi1y,nchi1z=nchi1z,\n",
    "                           nchi2x=nchi2x,nchi2y=nchi2y,nchi2z=nchi2z,\n",
    "                           ndrdt=ndrdt,nPt=nPt)\n",
    "    other_result= num_eval(other,\n",
    "                           qmassratio=qmassratio, nr=nr,\n",
    "                           nchi1x=nchi1x,nchi1y=nchi1y,nchi1z=nchi1z,\n",
    "                           nchi2x=nchi2x,nchi2y=nchi2y,nchi2z=nchi2z,\n",
    "                           ndrdt=ndrdt,nPt=nPt)\n",
    "\n",
    "    relerror = abs((trusted_res-other_result)/trusted_res)\n",
    "    print(\"%.3e\" % ((relerror+errorsum)/(i+1)), i+1, #\"%.2f\" % int(count+1)/int(i+1), \n",
    "          \"%.4e\" % relerror,\"%.4e\" % trusted_res,\"%.4e\" % other_result,\n",
    "          \"%.2f\" % qmassratio,\"%.2f\" % nr,\n",
    "          \"%.2f\" % nchi1x,\"%.2f\" % nchi1y,\"%.2f\" % nchi1z,\n",
    "          \"%.2f\" % nchi2x,\"%.2f\" % nchi2y,\"%.2f\" % nchi2z)\n",
    "    return relerror\n",
    "\n",
    "import PN_p_t as pt\n",
    "pt.f_p_t(m1,m2, chi1U,chi2U, q)\n",
    "\n",
    "f_p_r(Htot,drdt)\n",
    "f_p_r_RHP2018(  drdt, m1,m2, chi1U[0],chi1U[1],chi1U[2], chi2U[0],chi2U[1],chi2U[2], q)\n",
    "\n",
    "errorsum = 0.0\n",
    "for i in range(3):\n",
    "    errorsum += eval_random(errorsum,i,p_r_RHP2018,p_r,pt.p_t)\n",
    "# Without 3.5PN term in p_r denominator (comparing \n",
    "#      Eq 2.16 of https://arxiv.org/pdf/1810.00036.pdf with\n",
    "#      Eq 16 of https://arxiv.org/pdf/1702.00872.pdf): \n",
    "#  average relative error over 1000 inputs = 4.112e-03\n",
    "# 4.112e-03 1000 1.3856e-04 6.5871e-04 6.5861e-04 6.47 10.24 0.41 0.08 -0.01 -0.40 0.33 -0.20\n",
    "\n",
    "# With 3.5PN term in p_r: average relative error over 1000 inputs = 4.027e-03\n",
    "# 4.027e-03 1000 5.4787e-04 6.5825e-04 6.5861e-04 6.47 10.24 0.41 0.08 -0.01 -0.40 0.33 -0.20"
   ]
  },
  {
   "cell_type": "markdown",
   "metadata": {},
   "source": [
    "<a id='code_validationpub'></a>\n",
    "# Part 4: Validation against trusted numerical values (i.e., in Table V of [Ramos-Buades, Husa, and Pratten (2018)](https://arxiv.org/abs/1810.00036)) \\[Back to [top](#toc)\\]\n",
    "\n",
    "$$\\label{code_validationpub}$$ \n",
    "\n",
    "We will measure success in this validation to be within the error bar of the two values of $p_r$ given for each iteration, preferably being closer to the second iteration's value than the first."
   ]
  },
  {
   "cell_type": "code",
   "execution_count": 9,
   "metadata": {},
   "outputs": [],
   "source": [
    "# First construct symbolic expression for p_r\n",
    "f_dr_dt(Htot, m1,m2, n12U,n21U, chi1U,chi2U, S1U,S2U, p1U,p2U, r) # <- Note that we must pass r to the function here\n",
    "#                                                                      as q has been replaced by r by SymPy in Htot. \n",
    "f_p_r(Htot,drdt)"
   ]
  },
  {
   "cell_type": "code",
   "execution_count": 30,
   "metadata": {},
   "outputs": [],
   "source": [
    "# Useful function for comparing published & NRPyPN results\n",
    "def compare_pub_NPN(desc,pub0,pub1,  qmassratio, nr, nchi1x,nchi1y,nchi1z, nchi2x,nchi2y,nchi2z):\n",
    "    nPt        = num_eval(pt.p_t,\n",
    "                          qmassratio=qmassratio, nr=nr,\n",
    "                          nchi1x=nchi1x,nchi1y=nchi1y,nchi1z=nchi1z,\n",
    "                          nchi2x=nchi2x,nchi2y=nchi2y,nchi2z=nchi2z)\n",
    "    ndrdt      = num_eval(dr_dt,\n",
    "                          qmassratio=qmassratio, nr=nr,\n",
    "                          nchi1x=nchi1x,nchi1y=nchi1y,nchi1z=nchi1z,\n",
    "                          nchi2x=nchi2x,nchi2y=nchi2y,nchi2z=nchi2z,\n",
    "                          nPt=nPt).subs(gamma_EulerMascheroni,0.5772156649015328606065120900824024310421)\n",
    "\n",
    "    NPN_result = num_eval(p_r,  qmassratio = qmassratio, nr=nr,\n",
    "                          nchi1x=nchi1x, nchi1y=nchi1y, nchi1z=nchi1z,\n",
    "                          nchi2x=nchi2x, nchi2y=nchi2y, nchi2z=nchi2z,\n",
    "                          nPt=nPt,  ndrdt=ndrdt)\n",
    "    \n",
    "    print(\"##################################################\")\n",
    "    print(\"  \"+desc)\n",
    "    print(\"##################################################\")\n",
    "    print(str(pub0) + \"          <- Expected result, from Table V of Ramos-Buades, Husa, and Pratten (2018)\")\n",
    "    print(str(NPN_result) + \" <- Result from NRPyPN\")\n",
    "    print(str(pub1) + \"          <- Result at 2nd iteration, from Table V of Ramos-Buades, Husa, and Pratten (2018)\")\n",
    "    relerror = abs((pub0-NPN_result)/pub0)\n",
    "    relerror01 = abs((pub0-pub1)/pub1)\n",
    "    print(\"Relative error between published iteration 0 vs it. 1: \"+str(relerror01*100)+\"%\")\n",
    "    resultstring = \"Relative error between NRPyPN & published: \"+str(relerror*100)+\"%\"\n",
    "    if relerror > relerror01:\n",
    "        resultstring += \" < \"+str(relerror01*100)+\"%  <--- NOT GOOD!\"\n",
    "    else:\n",
    "        resultstring += \" < \"+str(relerror01*100)+\"%  <--- EXCELLENT AGREEMENT!\"\n",
    "    print(resultstring+\"\\n\")"
   ]
  },
  {
   "cell_type": "code",
   "execution_count": 31,
   "metadata": {},
   "outputs": [
    {
     "name": "stdout",
     "output_type": "stream",
     "text": [
      "##################################################\n",
      "  Case: q=1, nonspinning, initial separation 12\n",
      "##################################################\n",
      "0.00053833          <- Expected result, from Table V of Ramos-Buades, Husa, and Pratten (2018)\n",
      "0.000539170939050403 <- Result from NRPyPN\n",
      "0.000468113          <- Result at 2nd iteration, from Table V of Ramos-Buades, Husa, and Pratten (2018)\n",
      "Relative error between published iteration 0 vs it. 1: 15.000010681181674%\n",
      "Relative error between NRPyPN & published: 0.156212555570496% < 15.000010681181674%  <--- EXCELLENT AGREEMENT!\n",
      "\n"
     ]
    }
   ],
   "source": [
    "# 1. Let's consider the case:\n",
    "# * Mass ratio q=1, chi1=chi2=(0,0,0), radial separation r=12\n",
    "pub_result0 = 0.53833e-3 # Expected result, from Table V of Ramos-Buades, Husa, and Pratten (2018) https://arxiv.org/abs/1810.00036\n",
    "pub_result1 = 0.468113e-3 # Expected result 2nd iteration, from Table V of Ramos-Buades, Husa, and Pratten (2018) https://arxiv.org/abs/1810.00036\n",
    "qmassratio = 1.0  # must be >= 1\n",
    "nr         = 12.  # Orbital separation\n",
    "# Choose spins so that the total spin magnitude does not exceed 1.\n",
    "nchi1x     = +0.\n",
    "nchi1y     = +0.\n",
    "nchi1z     = +0.\n",
    "nchi2x     = +0.\n",
    "nchi2y     = +0.\n",
    "nchi2z     = +0.\n",
    "\n",
    "compare_pub_NPN(\"Case: q=1, nonspinning, initial separation 12\",pub_result0,pub_result1,\n",
    "                qmassratio, nr, nchi1x,nchi1y,nchi1z, nchi2x,nchi2y,nchi2z)"
   ]
  },
  {
   "cell_type": "code",
   "execution_count": 32,
   "metadata": {},
   "outputs": [
    {
     "name": "stdout",
     "output_type": "stream",
     "text": [
      "##################################################\n",
      "  Case: q=1.5, chi1z=-0.6, chi2z=0.6, initial separation 10.8\n",
      "##################################################\n",
      "0.000699185          <- Expected result, from Table V of Ramos-Buades, Husa, and Pratten (2018)\n",
      "0.000675943948454396 <- Result from NRPyPN\n",
      "0.000641051          <- Result at 2nd iteration, from Table V of Ramos-Buades, Husa, and Pratten (2018)\n",
      "Relative error between published iteration 0 vs it. 1: 9.068545248349965%\n",
      "Relative error between NRPyPN & published: 3.32402033018504% < 9.068545248349965%  <--- EXCELLENT AGREEMENT!\n",
      "\n"
     ]
    }
   ],
   "source": [
    "# 2. Let's consider the case:\n",
    "# * Mass ratio q=1.5, chi1= (0,0,-0.6); chi2=(0,0,0.6), radial separation r=10.8\n",
    "pub_result0 = 0.699185e-3 # Expected result, from Table V of Ramos-Buades, Husa, and Pratten (2018) https://arxiv.org/abs/1810.00036\n",
    "pub_result1 = 0.641051e-3 # Expected result, from Table V of Ramos-Buades, Husa, and Pratten (2018) https://arxiv.org/abs/1810.00036\n",
    "qmassratio =  1.5  # must be >= 1\n",
    "nr         = 10.8  # Orbital separation\n",
    "nchi1x     = +0.\n",
    "nchi1y     = +0.\n",
    "nchi1z     = -0.6\n",
    "nchi2x     = +0.\n",
    "nchi2y     = +0.\n",
    "nchi2z     = +0.6\n",
    "compare_pub_NPN(\"Case: q=1.5, chi1z=-0.6, chi2z=0.6, initial separation 10.8\",pub_result0,pub_result1,\n",
    "                qmassratio, nr, nchi1x,nchi1y,nchi1z, nchi2x,nchi2y,nchi2z)"
   ]
  },
  {
   "cell_type": "code",
   "execution_count": 33,
   "metadata": {},
   "outputs": [
    {
     "name": "stdout",
     "output_type": "stream",
     "text": [
      "##################################################\n",
      "  Case: q=4.0, chi1z=-0.8, chi2z=0.8, initial separation 11.0\n",
      "##################################################\n",
      "0.000336564          <- Expected result, from Table V of Ramos-Buades, Husa, and Pratten (2018)\n",
      "0.000251239965029368 <- Result from NRPyPN\n",
      "0.00024708          <- Result at 2nd iteration, from Table V of Ramos-Buades, Husa, and Pratten (2018)\n",
      "Relative error between published iteration 0 vs it. 1: 36.21661000485673%\n",
      "Relative error between NRPyPN & published: 25.3515037171628% < 36.21661000485673%  <--- EXCELLENT AGREEMENT!\n",
      "\n"
     ]
    }
   ],
   "source": [
    "# 3. Let's consider the case:\n",
    "# * Mass ratio q=4, chi1= (0,0,-0.8); chi2=(0,0,0.8), radial separation r=11\n",
    "pub_result0 = 0.336564e-3 # Expected result, from Table V of Ramos-Buades, Husa, and Pratten (2018) https://arxiv.org/abs/1810.00036\n",
    "pub_result1 = 0.24708e-3 # Expected result, from Table V of Ramos-Buades, Husa, and Pratten (2018) https://arxiv.org/abs/1810.00036\n",
    "qmassratio =  4.0  # must be >= 1\n",
    "nr         = 11.0  # Orbital separation\n",
    "nchi1x     = +0.\n",
    "nchi1y     = +0.\n",
    "nchi1z     = -0.8\n",
    "nchi2x     = +0.\n",
    "nchi2y     = +0.\n",
    "nchi2z     = +0.8\n",
    "compare_pub_NPN(\"Case: q=4.0, chi1z=-0.8, chi2z=0.8, initial separation 11.0\",pub_result0,pub_result1,\n",
    "                qmassratio, nr, nchi1x,nchi1y,nchi1z, nchi2x,nchi2y,nchi2z)"
   ]
  },
  {
   "cell_type": "code",
   "execution_count": 34,
   "metadata": {},
   "outputs": [
    {
     "name": "stdout",
     "output_type": "stream",
     "text": [
      "##################################################\n",
      "  Case: q=2.0, chi2x=-0.3535, chi2y=+0.3535, chi2z=+0.5, initial separation 10.8\n",
      "##################################################\n",
      "0.000531374          <- Expected result, from Table V of Ramos-Buades, Husa, and Pratten (2018)\n",
      "0.000545356534220444 <- Result from NRPyPN\n",
      "0.000448148          <- Result at 2nd iteration, from Table V of Ramos-Buades, Husa, and Pratten (2018)\n",
      "Relative error between published iteration 0 vs it. 1: 18.571097048296554%\n",
      "Relative error between NRPyPN & published: 2.63139224358813% < 18.571097048296554%  <--- EXCELLENT AGREEMENT!\n",
      "\n"
     ]
    }
   ],
   "source": [
    "# 4. Let's consider the case:\n",
    "# * Mass ratio q=2, chi1= (0,0,0); chi2=(−0.3535, 0.3535, 0.5), radial separation r=10.8\n",
    "pub_result0 = 0.531374e-3 # Expected result, from Table V of Ramos-Buades, Husa, and Pratten (2018) https://arxiv.org/abs/1810.00036\n",
    "pub_result1 = 0.448148e-3 # Expected result, from Table V of Ramos-Buades, Husa, and Pratten (2018) https://arxiv.org/abs/1810.00036\n",
    "qmassratio =  2.0  # must be >= 1\n",
    "nr         = 10.8  # Orbital separation\n",
    "nchi1x     = +0.\n",
    "nchi1y     = +0.\n",
    "nchi1z     = +0.\n",
    "nchi2x     = -0.3535\n",
    "nchi2y     = +0.3535\n",
    "nchi2z     = +0.5\n",
    "compare_pub_NPN(\"Case: q=2.0, chi2x=-0.3535, chi2y=+0.3535, chi2z=+0.5, initial separation 10.8\",pub_result0,pub_result1,\n",
    "                qmassratio, nr, nchi1x,nchi1y,nchi1z, nchi2x,nchi2y,nchi2z)"
   ]
  },
  {
   "cell_type": "code",
   "execution_count": 35,
   "metadata": {},
   "outputs": [
    {
     "name": "stdout",
     "output_type": "stream",
     "text": [
      "##################################################\n",
      "  \n",
      "Case: q=8.0, chi1z=chi2z=+0.5, initial separation 11\n",
      "\n",
      "Note: This one is weird. Clearly the value in the table\n",
      "      has a typo, such that the p_r and p_t values\n",
      "      should be interchanged; p_t is about 20% the \n",
      "      next smallest value in the table, and the \n",
      "      parameters aren't that different. We therefore\n",
      "      assume that this is the case, and find agreement\n",
      "      with the published result to about 0.07%, which\n",
      "      isn't the best, but given that the table values\n",
      "      seem to be clearly wrong, it's an encouraging \n",
      "      sign.\n",
      "\n",
      "##################################################\n",
      "0.000102969          <- Expected result, from Table V of Ramos-Buades, Husa, and Pratten (2018)\n",
      "9.76943754276420e-5 <- Result from NRPyPN\n",
      "0.000139132          <- Result at 2nd iteration, from Table V of Ramos-Buades, Husa, and Pratten (2018)\n",
      "Relative error between published iteration 0 vs it. 1: 25.991863841531792%\n",
      "Relative error between NRPyPN & published: 5.12253646472045% < 25.991863841531792%  <--- EXCELLENT AGREEMENT!\n",
      "\n"
     ]
    }
   ],
   "source": [
    "# 5. Let's consider the case:\n",
    "# * Mass ratio q=8, chi1= (0, 0, 0.5); chi2=(0, 0, 0.5), radial separation r=11\n",
    "pub_result0 = 0.102969e-3 # Expected result, from Table V of Ramos-Buades, Husa, and Pratten (2018) https://arxiv.org/abs/1810.00036\n",
    "pub_result1 = 0.139132e-3 # Expected result, from Table V of Ramos-Buades, Husa, and Pratten (2018) https://arxiv.org/abs/1810.00036\n",
    "qmassratio =  8.0  # must be >= 1\n",
    "nr         = 11.0  # Orbital separation\n",
    "nchi1x     = +0.\n",
    "nchi1y     = +0.\n",
    "nchi1z     = +0.5\n",
    "nchi2x     = +0.\n",
    "nchi2y     = +0.\n",
    "nchi2z     = +0.5\n",
    "compare_pub_NPN(\"\"\"\n",
    "Case: q=8.0, chi1z=chi2z=+0.5, initial separation 11\n",
    "\n",
    "Note: This one is weird. Clearly the value in the table\n",
    "      has a typo, such that the p_r and p_t values\n",
    "      should be interchanged; p_t is about 20% the \n",
    "      next smallest value in the table, and the \n",
    "      parameters aren't that different. We therefore\n",
    "      assume that this is the case, and find agreement\n",
    "      with the published result to about 0.07%, which\n",
    "      isn't the best, but given that the table values\n",
    "      seem to be clearly wrong, it's an encouraging \n",
    "      sign.\n",
    "\"\"\",pub_result0,pub_result1,\n",
    "                qmassratio, nr, nchi1x,nchi1y,nchi1z, nchi2x,nchi2y,nchi2z)"
   ]
  },
  {
   "cell_type": "markdown",
   "metadata": {},
   "source": [
    "<a id='code_validationpython'></a>\n",
    "\n",
    "# Part 5: Validation against corresponding Python module \\[Back to [top](#toc)\\]\n",
    "$$\\label{code_validationpython}$$ \n",
    "\n",
    "Here we verify agreement between \n",
    "\n",
    "* the SymPy expressions generated in this notebook, and the corresponding Python module."
   ]
  },
  {
   "cell_type": "code",
   "execution_count": null,
   "metadata": {},
   "outputs": [],
   "source": []
  },
  {
   "cell_type": "markdown",
   "metadata": {},
   "source": [
    "<a id='latex_pdf_output'></a>\n",
    "\n",
    "# Part 5: Output this notebook to $\\LaTeX$-formatted PDF file \\[Back to [top](#toc)\\]\n",
    "$$\\label{latex_pdf_output}$$\n",
    "\n",
    "The following code cell converts this Jupyter notebook into a proper, clickable $\\LaTeX$-formatted PDF file. After the cell is successfully run, the generated PDF may be found in the root NRPy+ tutorial directory, with filename\n",
    "[PN-p_r.pdf](PN-p_r.pdf) (Note that clicking on this link may not work; you may need to open the PDF file through another means.)"
   ]
  },
  {
   "cell_type": "code",
   "execution_count": 12,
   "metadata": {},
   "outputs": [
    {
     "name": "stdout",
     "output_type": "stream",
     "text": [
      "Created PN-p_r.tex, and compiled LaTeX file to PDF file PN-p_r.pdf\n"
     ]
    }
   ],
   "source": [
    "import os,sys                    # Standard Python modules for multiplatform OS-level functions\n",
    "nrpy_dir_path = os.path.join(\"..\")\n",
    "if nrpy_dir_path not in sys.path:\n",
    "    sys.path.append(nrpy_dir_path)\n",
    "import cmdline_helper as cmd    # NRPy+: Multi-platform Python command-line interface\n",
    "cmd.output_Jupyter_notebook_to_LaTeXed_PDF(\"PN-p_r\",location_of_template_file=os.path.join(\"..\"))"
   ]
  }
 ],
 "metadata": {
  "kernelspec": {
   "display_name": "Python 3",
   "language": "python",
   "name": "python3"
  },
  "language_info": {
   "codemirror_mode": {
    "name": "ipython",
    "version": 3
   },
   "file_extension": ".py",
   "mimetype": "text/x-python",
   "name": "python",
   "nbconvert_exporter": "python",
   "pygments_lexer": "ipython3",
   "version": "3.8.2"
  }
 },
 "nbformat": 4,
 "nbformat_minor": 4
}
