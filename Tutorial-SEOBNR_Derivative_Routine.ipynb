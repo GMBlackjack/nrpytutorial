{
 "cells": [
  {
   "cell_type": "markdown",
   "metadata": {},
   "source": [
    "# Symbolic Partial Derivative Routine\n",
    "\n",
    "## Authors: Zach Etienne & Tyler Knowles\n",
    "\n",
    "## This module contains a routine for computing partial derivatives of a mathematical expression that is written as several subexpressions.\n",
    "\n",
    "**Notebook Status:** <font color='green'><b> Validated </b></font>\n",
    "\n",
    "**Validation Notes:** This tutorial notebook has been confirmed to be self-consistent with its corresponding NRPy+ module, as documented [below](#code_validation). Additionally, this notebook has been validated by checking that results are consistent with exact derivative expressions used in the SEOBNRv3_opt approixment of [LALSuite](https://git.ligo.org/lscsoft/lalsuite).\n",
    "\n",
    "### NRPy+ Source Code for this module: [SEOBNR_Derivative_Routine.py](../edit/SEOBNR/SEOBNR_Derivative_Routine.py)\n",
    "\n",
    "## Introduction\n",
    "$$\\label{intro}$$\n",
    "\n",
    "This notebook documents the symbolic partial derivative routine used to generate analytic derivatives of the [SEOBNRv3](https://git.ligo.org/lscsoft/lalsuite) Hamiltonian (documented [here](../Tutorial-SEOBNR_v3_Hamiltonian.ipynb)) and described in [this article](https://arxiv.org/abs/1803.06346).  In general, this notebook takes as input a file of inter-dependent mathematical expressions (in SymPy syntax), a file listing the names of values within those expressions, and a file listing all variables with which to take partial derivatives of each expression.  The output is a text file containing the original expression and those for each partial derivative computation.  The intention is to perform CSE on these expressions to create efficient partial derivative code!"
   ]
  },
  {
   "cell_type": "markdown",
   "metadata": {},
   "source": [
    "<a id='toc'></a>\n",
    "\n",
    "# Table of Contents\n",
    "$$\\label{toc}$$\n",
    "\n",
    "This notebook is organized as follows\n",
    "\n",
    "1. [Step 1](#initializenrpy): Initialize core Python/NRPy+ modules\n",
    "1. [Step 2:](#step2) Read in expressions\n",
    "1. [Step 3:](#step3) Read in constants and variables\n",
    "1. [Step 4:](#step4) List free symbols\n",
    "1. [Step 5:](#step5) Convert expressions to function notation\n",
    "1. [Step 6:](#step6) Differentiate with respect to xx\n",
    "1. [Step 7:](#step7) Simplify derivative expressions\n",
    "1. [Step 8:](#step8) Differentiate with respect to a specific free variable\n",
    "1. [Step 9:](#step9) Output result\n",
    "1. [Step 10:](#code_validation) Code Validation against `SEOBNR_Derivative_Routine` NRPy+ module\n",
    "1. [Step 11:](#latex_pdf_output) Output this notebook to $\\LaTeX$-formatted PDF file"
   ]
  },
  {
   "cell_type": "markdown",
   "metadata": {},
   "source": [
    "<a id='initializenrpy'></a>\n",
    "\n",
    "# Step 1: Initialize core Python/NRPy+ modules \\[Back to [top](#toc)\\]\n",
    "$$\\label{initializenrpy}$$\n",
    "\n",
    "Let's start by importing all the needed modules from Python/NRPy+ and creating the output directory (if it does not already exist):"
   ]
  },
  {
   "cell_type": "code",
   "execution_count": 1,
   "metadata": {},
   "outputs": [],
   "source": [
    "# Step 1.a: import all needed modules from Python/NRPy+:\n",
    "import sympy as sp                # SymPy: The Python computer algebra package upon which NRPy+ depends\n",
    "import os, sys                    # Standard Python modules for multiplatform OS-level functions\n",
    "import cmdline_helper as cmd      # NRPy+: Multi-platform Python command-line interface\n",
    "from outputC import superfast_uniq, lhrh      # Remove duplicate entries from a Python array; store left- and right-\n",
    "                                              #   hand sides of mathematical expressions\n",
    "\n",
    "# Step 1.b: Check for a sufficiently new version of SymPy (for validation)\n",
    "# Ignore the rc's and b's for release candidates & betas.\n",
    "sympy_version = sp.__version__.replace('rc', '...').replace('b', '...')\n",
    "sympy_version_decimal = float(int(sympy_version.split(\".\")[0]) + int(sympy_version.split(\".\")[1])/10.0)\n",
    "if sympy_version_decimal < 1.4:\n",
    "    print('Error: SEOBNR_Derivative_Routine does not support SymPy < 1.4; derivative data structure changed')\n",
    "    sys.exit(1)\n",
    "\n",
    "# Step 1.c: Name the directory of input files\n",
    "inputdir = \"SEOBNR\"\n",
    "cmd.mkdir(inputdir)"
   ]
  },
  {
   "cell_type": "markdown",
   "metadata": {},
   "source": [
    "<a id='step2'></a>\n",
    "\n",
    "# Step 2: Read in expressions \\[Back to [top](#toc)\\]\n",
    "$$\\label{step2}$$\n",
    "\n",
    "We read in the expressions of which we will compute partial derivatives in a single large string before splitting the string by line (carriage return) and by \"=\".  Doing so allows us to manipulate the right- and left-hand sides of the expressions appropriately.  We store the left- and right-hand sides in the array $\\texttt{lr}$, which consists of $\\texttt{lhrh}$ arrays with left-hand sides $\\texttt{lhs}$ and right-hand sides $\\texttt{rhs}$.  Note that $\\texttt{Lambda}$ is a protected keyword in Python, so the variable $\\Lambda$ in the Hamiltonian is renamed $\\texttt{Lamb}$."
   ]
  },
  {
   "cell_type": "code",
   "execution_count": 2,
   "metadata": {},
   "outputs": [],
   "source": [
    "# Step 2.a: Read in expressions as a (single) string\n",
    "with open(os.path.join(inputdir,'Hamstring.txt'), 'r') as file:\n",
    "    expressions_as_lines = file.readlines()\n",
    "\n",
    "# Step 2.b: Create and populate the \"lr\" array, which separates each line into left- and right-hand sides\n",
    "#   Each entry is a string of the form lhrh(lhs='',rhs='')\n",
    "lr = []\n",
    "\n",
    "for i in range(len(expressions_as_lines)):\n",
    "    # Ignore lines with 2 or fewer characters and those starting with #\n",
    "    if len(expressions_as_lines[i]) > 2 and expressions_as_lines[i][0] != \"#\":\n",
    "        # Split each line by its equals sign\n",
    "        split_line = expressions_as_lines[i].split(\"=\")\n",
    "        # Append the line to \"lr\", removing spaces, \"sp.\" prefixes, and replacing Lambda->Lamb\n",
    "        #   (Lambda is a protected keyword):\n",
    "        lr.append(lhrh(lhs=split_line[0].replace(\" \",\"\").replace(\"Lambda\",\"Lamb\"),\n",
    "                       rhs=split_line[1].replace(\" \",\"\").replace(\"sp.\",\"\").replace(\"Lambda\",\"Lamb\")))\n",
    "\n",
    "# Step 2.c: Separate and sympify right- and left-hand sides into separate arrays\n",
    "lhss = []\n",
    "rhss = []\n",
    "for i in range(len(lr)):\n",
    "    lhss.append(sp.sympify(lr[i].lhs))\n",
    "    rhss.append(sp.sympify(lr[i].rhs))"
   ]
  },
  {
   "cell_type": "markdown",
   "metadata": {},
   "source": [
    "<a id='step3'></a>\n",
    "\n",
    "# Step 3: Read in constants and variables \\[Back to [top](#toc)\\]\n",
    "$$\\label{step3}$$\n",
    "\n",
    "We read in and declare as SymPy symbols the constant values; derivatives with respect to these variables will be set to zero.  We then read in the variables with respect to which we want to take derivatives and declare those as SymPy variables as well."
   ]
  },
  {
   "cell_type": "code",
   "execution_count": 3,
   "metadata": {},
   "outputs": [],
   "source": [
    "# Step 3.a: Read in constants as a (single) string\n",
    "with open(os.path.join(inputdir,'Hamstring_constants.txt'), 'r') as file:\n",
    "    constants_as_lines = file.readlines()\n",
    "\n",
    "# Step 3.b: Create \"input_constants\" array and populate with SymPy constants\n",
    "input_constants = []\n",
    "for constant in constants_as_lines:\n",
    "    constant = sp.symbols(constant,real=True)\n",
    "    input_constants.append(constant)\n",
    "\n",
    "# Step 3.c: Read in variables with which to take derivatives\n",
    "with open(os.path.join(inputdir,'Hamstring_variables.txt'), 'r') as file:\n",
    "    variables_as_lines = file.readlines()\n",
    "\n",
    "#Step 3.d: Create \"dynamic_variables\" array and populate with SymPy symbols\n",
    "dynamic_variables = []\n",
    "for variable in variables_as_lines:\n",
    "    variable = sp.symbols(variable,real=True)\n",
    "    dynamic_variables.append(variable)"
   ]
  },
  {
   "cell_type": "markdown",
   "metadata": {},
   "source": [
    "<a id='step4'></a>\n",
    "\n",
    "# Step 4: List free symbols \\[Back to [top](#toc)\\]\n",
    "$$\\label{step4}$$\n",
    "\n",
    "By ''free symbols'' we mean the variables in the right-hand sides.  We first create a list of all such terms (using SymPy's built-in free_symbol attribute), including duplicates, and then strip the duplicates.  We then remove input constants from the symbol list."
   ]
  },
  {
   "cell_type": "code",
   "execution_count": 4,
   "metadata": {},
   "outputs": [],
   "source": [
    "# Step 4.a: Prepare array of \"free symbols\" in the right-hand side expressions\n",
    "full_symbol_list_with_dups = []\n",
    "for i in range(len(lr)):\n",
    "    for variable in rhss[i].free_symbols:\n",
    "        full_symbol_list_with_dups.append(variable)\n",
    "\n",
    "# Step 4.b: Remove duplicate free symbols\n",
    "full_symbol_list = superfast_uniq(full_symbol_list_with_dups)\n",
    "\n",
    "# Step 4.c: Remove input constants from symbol list\n",
    "for inputconst in input_constants:\n",
    "    for symbol in full_symbol_list:\n",
    "        if str(symbol) == str(inputconst):\n",
    "            full_symbol_list.remove(symbol)"
   ]
  },
  {
   "cell_type": "markdown",
   "metadata": {},
   "source": [
    "<a id='step5'></a>\n",
    "\n",
    "# Step 5: Convert expressions to function notation \\[Back to [top](#toc)\\]\n",
    "$$\\label{step5}$$\n",
    "\n",
    "In order to compute the partial derivative of each right-hand side, we mark each variable (left-hand side) and each free symbol (in right-hand sides) as a function with argument $\\texttt{xx}$."
   ]
  },
  {
   "cell_type": "code",
   "execution_count": 5,
   "metadata": {},
   "outputs": [],
   "source": [
    "# Step 5.a: Convert each left-hand side to function notation\n",
    "#   while separating and simplifying left- and right-hand sides\n",
    "xx = sp.Symbol('xx',real=True)\n",
    "func = []\n",
    "for i in range(len(lr)):\n",
    "    func.append(sp.sympify(sp.Function(lr[i].lhs)(xx)))\n",
    "\n",
    "# Step 5.b: Mark each free variable as a function with argument xx\n",
    "full_function_list = []\n",
    "for symb in full_symbol_list:\n",
    "    func = sp.sympify(sp.Function(str(symb))(xx))\n",
    "    full_function_list.append(func)\n",
    "    for i in range(len(rhss)):\n",
    "        for var in rhss[i].free_symbols:\n",
    "            if str(var) == str(symb):\n",
    "                rhss[i] = rhss[i].subs(var,func)"
   ]
  },
  {
   "cell_type": "markdown",
   "metadata": {},
   "source": [
    "<a id='step6'></a>\n",
    "\n",
    "# Step 6: Differentiate with respect to xx \\[Back to [top](#toc)\\]\n",
    "$$\\label{step6}$$\n",
    "\n",
    "Now we differentiate the right-hand expressions with respect to $\\textrm{xx}$.  We use the SymPy $\\texttt{diff}$ command, differentiating with respect to $\\texttt{xx}$.  After so doing, we remove $\\texttt{(xx)}$ and \"Derivative\" (which is output by $\\texttt{diff}$), and use \"prm\" suffix to denote the derivative with respect to $\\texttt{xx}$."
   ]
  },
  {
   "cell_type": "code",
   "execution_count": 6,
   "metadata": {},
   "outputs": [],
   "source": [
    "# Step 6: Use SymPy's diff function to differentiate right-hand sides with respect to xx\n",
    "#   and append \"prm\" notation to left-hand sides\n",
    "lhss_deriv = []\n",
    "rhss_deriv = []\n",
    "for i in range(len(rhss)):\n",
    "    lhss_deriv.append(sp.sympify(str(lhss[i])+\"prm\"))\n",
    "    newrhs = sp.sympify(str(sp.diff(rhss[i],xx)).replace(\"(xx)\",\"\").replace(\", xx\",\"prm\").replace(\"Derivative\",\"\"))\n",
    "    rhss_deriv.append(newrhs)"
   ]
  },
  {
   "cell_type": "markdown",
   "metadata": {},
   "source": [
    "<a id='step7'></a>\n",
    "\n",
    "# Step 7: Simplify derivative expressions \\[Back to [top](#toc)\\]\n",
    "$$\\label{step7}$$\n",
    "\n",
    "We declare a function to simply the derivative expressions.  In particular, we want to remove terms equal to zero."
   ]
  },
  {
   "cell_type": "code",
   "execution_count": 7,
   "metadata": {},
   "outputs": [],
   "source": [
    "# Step 7.a: Define derivative simplification function\n",
    "def simplify_deriv(lhss_deriv,rhss_deriv):\n",
    "    # Copy expressions into another array\n",
    "    lhss_deriv_simp = []\n",
    "    rhss_deriv_simp = []\n",
    "    for i in range(len(rhss_deriv)):\n",
    "        lhss_deriv_simp.append(lhss_deriv[i])\n",
    "        rhss_deriv_simp.append(rhss_deriv[i])\n",
    "    # If a right-hand side is 0, substitute value 0 for the corresponding left-hand side in later terms\n",
    "    for i in range(len(rhss_deriv_simp)):\n",
    "        if rhss_deriv_simp[i] == 0:\n",
    "            for j in range(i+1,len(rhss_deriv_simp)):\n",
    "                for var in rhss_deriv_simp[j].free_symbols:\n",
    "                    if str(var) == str(lhss_deriv_simp[i]):\n",
    "                        rhss_deriv_simp[j] = rhss_deriv_simp[j].subs(var,0)\n",
    "    zero_elements_to_remove = []\n",
    "    # Create array of indices for expressions that are zero\n",
    "    for i in range(len(rhss_deriv_simp)):\n",
    "        if rhss_deriv_simp[i] == sp.sympify(0):\n",
    "            zero_elements_to_remove.append(i)\n",
    "\n",
    "    # When removing terms that are zero, we need to take into account their new index (after each removal)\n",
    "    count = 0\n",
    "    for i in range(len(zero_elements_to_remove)):\n",
    "        del lhss_deriv_simp[zero_elements_to_remove[i]+count]\n",
    "        del rhss_deriv_simp[zero_elements_to_remove[i]+count]\n",
    "        count -= 1\n",
    "    return lhss_deriv_simp,rhss_deriv_simp\n",
    "\n",
    "# Step 7.b: Call the simplication function and then copy results\n",
    "lhss_deriv_simp,rhss_deriv_simp = simplify_deriv(lhss_deriv,rhss_deriv)\n",
    "lhss_deriv = lhss_deriv_simp\n",
    "rhss_deriv = rhss_deriv_simp"
   ]
  },
  {
   "cell_type": "markdown",
   "metadata": {},
   "source": [
    "<a id='step8'></a>\n",
    "\n",
    "# Step 8: Differentiate with respect to a specific free variable \\[Back to [top](#toc)\\]\n",
    "$$\\label{step8}$$\n",
    "\n",
    "In [Step 6](#step6) we took a generic derivative of each term, assuming it is a function of the varible $\\textrm{xx}$.  We now define a function that will select a specific free variable for differentiation."
   ]
  },
  {
   "cell_type": "code",
   "execution_count": 8,
   "metadata": {},
   "outputs": [],
   "source": [
    "# Step 8.a: Define onevar derivative function\n",
    "def deriv_onevar(lhss_deriv,rhss_deriv,variable_list,index):\n",
    "    # Denote each variable with prm\n",
    "    variableprm_list = []\n",
    "    for variable in variable_list:\n",
    "        variableprm_list.append(str(variable)+\"prm\")\n",
    "\n",
    "    # Copy expressions into another array\n",
    "    lhss_deriv_new = []\n",
    "    rhss_deriv_new = []\n",
    "    for i in range(len(rhss_deriv)):\n",
    "        lhss_deriv_new.append(lhss_deriv[i])\n",
    "        rhss_deriv_new.append(rhss_deriv[i])\n",
    "    # For each free symbol's derivative, replace it with:\n",
    "    #   1, if we are differentiating with respect to the variable, or\n",
    "    #   0, if we are note differentiating with respect to that variable\n",
    "    for i in range(len(rhss_deriv_new)):\n",
    "        for var in variableprm_list:\n",
    "            if variableprm_list.index(str(var))==index:\n",
    "                rhss_deriv_new[i] = rhss_deriv_new[i].subs(var,1)\n",
    "            else:\n",
    "                rhss_deriv_new[i] = rhss_deriv_new[i].subs(var,0)\n",
    "    # Simplify derivative expressions again\n",
    "    lhss_deriv_simp,rhss_deriv_simp = simplify_deriv(lhss_deriv_new,rhss_deriv_new)\n",
    "    return lhss_deriv_simp,rhss_deriv_simp\n",
    "\n",
    "# Step 8.b: Call the derivative function and populate dictionaries with the result\n",
    "lhss_derivative = {}\n",
    "rhss_derivative = {}\n",
    "for index in range(len(dynamic_variables)):\n",
    "    lhss_temp,rhss_temp = deriv_onevar(lhss_deriv,rhss_deriv,dynamic_variables,index)\n",
    "    lhss_derivative[dynamic_variables[index]] = lhss_temp\n",
    "    rhss_derivative[dynamic_variables[index]] = rhss_temp"
   ]
  },
  {
   "cell_type": "markdown",
   "metadata": {},
   "source": [
    "<a id='step9'></a>\n",
    "\n",
    "# Step 9: Output result \\[Back to [top](#toc)\\]\n",
    "$$\\label{step9}$$\n",
    "\n",
    "We write the resulting derivatives in SymPy syntax.  Each partial derivative is output in its own file, in a similar format to the input expressions."
   ]
  },
  {
   "cell_type": "code",
   "execution_count": 9,
   "metadata": {},
   "outputs": [],
   "source": [
    "# Step 9: Output original expression and each partial derivative expression in SymPy snytax\n",
    "with open(os.path.join(inputdir,'partial_derivatives.txt-VALIDATION'), 'w') as output:\n",
    "    for i in range(len(lr)):\n",
    "        right_side = lr[i].rhs\n",
    "        right_side_in_sp = right_side.replace(\"sqrt(\",\"sp.sqrt(\").replace(\"log(\",\"sp.log(\").replace(\"pi\",\n",
    "                                                \"sp.pi\").replace(\"sign(\",\"sp.sign(\").replace(\"Abs(\",\n",
    "                                                \"sp.Abs(\").replace(\"Rational(\",\"sp.Rational(\")\n",
    "        output.write(str(lr[i].lhs)+\" = \"+right_side_in_sp)\n",
    "    for var in dynamic_variables:\n",
    "        for i in range(len(lhss_derivative[var])):\n",
    "            right_side = str(rhss_derivative[var][i])\n",
    "            right_side_in_sp = right_side.replace(\"sqrt(\",\"sp.sqrt(\").replace(\"log(\",\"sp.log(\").replace(\"pi\",\n",
    "                                                \"sp.pi\").replace(\"sign(\",\"sp.sign(\").replace(\"Abs(\",\n",
    "                                                \"sp.Abs(\").replace(\"Rational(\",\"sp.Rational(\").replace(\"prm\",\n",
    "                                                \"prm_\"+str(var))\n",
    "            output.write(str(lhss_derivative[var][i]).replace(\"prm\",\"prm_\"+str(var))+\" = \"+right_side_in_sp+\"\\n\")"
   ]
  },
  {
   "cell_type": "markdown",
   "metadata": {},
   "source": [
    "<a id='code_validation'></a>\n",
    "\n",
    "# Step 10: Code Validation against `SEOBNR_Derivative_Routine` NRPy+ module \\[Back to [top](#toc)\\]\n",
    "$$\\label{code_validation}$$\n",
    "\n",
    "We validate the output of this notebook against the output of the `SEOBNR_Derivative_Routine` NRPy+ module by comparing the output line-by-line."
   ]
  },
  {
   "cell_type": "code",
   "execution_count": 10,
   "metadata": {},
   "outputs": [
    {
     "name": "stdout",
     "output_type": "stream",
     "text": [
      "Printing difference between notebook output and trusted NRPy+ module output...\n",
      "Checking file partial_derivatives.txt-VALIDATION\n",
      "No difference. TEST PASSED!\n"
     ]
    }
   ],
   "source": [
    "import difflib # Used to compare output file with trusted version generated by the NRPy+ module\n",
    "\n",
    "print(\"Printing difference between notebook output and trusted NRPy+ module output...\")\n",
    "# Open the files to compare\n",
    "file = 'partial_derivatives.txt'\n",
    "outfile = 'partial_derivatives.txt-VALIDATION'\n",
    "\n",
    "print(\"Checking file \" + outfile)\n",
    "with open(os.path.join(inputdir,file), \"r\") as file1, open(os.path.join(inputdir,outfile), \"r\") as file2:\n",
    "    # Read the lines of each file\n",
    "    file1_lines=[]\n",
    "    file2_lines=[]\n",
    "    # Remove spaces to make lines consistent\n",
    "    for line in file1.readlines():\n",
    "        file1_lines.append(line.replace(\" \", \"\"))\n",
    "    for line in file2.readlines():\n",
    "        file2_lines.append(line.replace(\" \", \"\"))\n",
    "    num_diffs = 0\n",
    "    for line in difflib.unified_diff(file1_lines, file2_lines, fromfile=os.path.join(inputdir,file), tofile=os.path.join(inputdir,outfile)):\n",
    "        sys.stdout.writelines(line)\n",
    "        num_diffs = num_diffs + 1\n",
    "    if num_diffs == 0:\n",
    "        print(\"No difference. TEST PASSED!\")\n",
    "    else:\n",
    "        print(\"ERROR: Disagreement found with the trusted file. See differences above.\")\n",
    "        sys.exit(1)"
   ]
  },
  {
   "cell_type": "markdown",
   "metadata": {},
   "source": [
    "<a id='latex_pdf_output'></a>\n",
    "\n",
    "# Step 11: Output this notebook to $\\LaTeX$-formatted PDF file \\[Back to [top](#toc)\\]\n",
    "$$\\label{latex_pdf_output}$$\n",
    "\n",
    "The following code cell converts this Jupyter notebook into a proper, clickable $\\LaTeX$-formatted PDF file. After the cell is successfully run, the generated PDF may be found in the root NRPy+ tutorial directory, with filename\n",
    "[Tutorial-SEOBNR_Derivative_Routine.pdf](Tutorial-SEOBNR_Derivative_Routine.pdf) (Note that clicking on this link may not work; you may need to open the PDF file through another means.)"
   ]
  },
  {
   "cell_type": "code",
   "execution_count": 11,
   "metadata": {},
   "outputs": [
    {
     "name": "stdout",
     "output_type": "stream",
     "text": [
      "Notebook output to PDF is only supported on Linux systems, with pdflatex installed.\n"
     ]
    }
   ],
   "source": [
    "import os,sys                    # Standard Python modules for multiplatform OS-level functions\n",
    "nrpy_dir_path = os.path.join(\"..\")\n",
    "if nrpy_dir_path not in sys.path:\n",
    "    sys.path.append(nrpy_dir_path)\n",
    "import cmdline_helper as cmd    # NRPy+: Multi-platform Python command-line interface\n",
    "cmd.output_Jupyter_notebook_to_LaTeXed_PDF(\"NRPyPN_shortcuts\",location_of_template_file=os.path.join(\"..\"))"
   ]
  },
  {
   "cell_type": "code",
   "execution_count": null,
   "metadata": {},
   "outputs": [],
   "source": []
  }
 ],
 "metadata": {
  "kernelspec": {
   "display_name": "Python 3",
   "language": "python",
   "name": "python3"
  },
  "language_info": {
   "codemirror_mode": {
    "name": "ipython",
    "version": 3
   },
   "file_extension": ".py",
   "mimetype": "text/x-python",
   "name": "python",
   "nbconvert_exporter": "python",
   "pygments_lexer": "ipython3",
   "version": "3.5.2"
  }
 },
 "nbformat": 4,
 "nbformat_minor": 2
}
