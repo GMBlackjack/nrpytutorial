{
 "cells": [
  {
   "cell_type": "markdown",
   "metadata": {},
   "source": [
    "# Start-to-Finish Example: Gaussian pulse initial data for a massless scalar field, in Curvilinear coordinates\n",
    "\n",
    "## Authors: Leonardo Werneck & Zach Etienne\n",
    "\n",
    "# This tutorial notebook sets up initial data for a massless scalar field in *spherical-like coordinates*, using the *Numerical* ADM Spherical to BSSN Curvilinear initial data module (numerical = BSSN $\\lambda^i$'s are computed using finite-difference derivatives instead of exact expressions).\n",
    "\n",
    "**Notebook Status:** <font color='green'><b> Validated </b></font>\n",
    "\n",
    "**Validation Notes:** This module has been validated to exhibit convergence to zero of the Hamiltonian constraint violation at the expected order to the exact solution (see [plots](#convergence) at bottom).</font>\n",
    "\n",
    "## NRPy+ module to obtain the initial data used in this tutorial: **[ScalarFieldCollapse/ScalarField_InitialData.py](../edit/ScalarFieldCollapse/ScalarField_InitialData.py)**\n",
    "\n",
    "## References\n",
    "\n",
    "* [Tutorial-ADM_Initial_Data-ScalarField_GaussianPulse.ipynb](Tutorial-ADM_Initial_Data-ScalarField.ipynb)\n",
    "* [Akbarian & Choptuik (2015)](https://arxiv.org/pdf/1508.01614.pdf) (Useful to understand the theoretical framework)\n",
    "* [Baumgarte (2018)](https://arxiv.org/pdf/1807.10342.pdf) (Useful to understand the theoretical framework)\n",
    "* [Baumgarte & Shapiro's Numerical Relativity](https://books.google.com.br/books/about/Numerical_Relativity.html?id=dxU1OEinvRUC&redir_esc=y): Section 6.2.2 (Useful to understand how to solve the Hamiltonian constraint)\n",
    "\n",
    "<a id='toc'></a>\n",
    "\n",
    "# Table of Contents\n",
    "$$\\label{toc}$$\n",
    "\n",
    "* [Step 1](#set_nrpy_core): Set core NRPy+ parameters for numerical grids and reference metric\n",
    "* [Step 2](#adm_id_scalar_field): Set up ADM initial data for the scalar field\n",
    "* [Step 3](#adm_id_spacetime): Convert ADM initial data to BSSN-in-curvilinear coordinates\n",
    "* [Step 4](#validate): Validating that the scalar field initial data satisfies the Hamiltonian constraint\n",
    "    * [Step 4.a](#ham_const_output): Output the Hamiltonian constraint \n",
    "    * [Step 4.b](#bc_functs): Set up boundary condition functions for chosen singular, curvilinear coordinate system\n",
    "    * [Step 4.c](#enforce3metric): Enforce conformal 3-metric $\\det{\\bar{\\gamma}_{ij}}=\\det{\\hat{\\gamma}_{ij}}$ constraint\n",
    "    * [Step 4.d](#cparams_rfm_and_domainsize): Output C codes needed for declaring and setting Cparameters; also set `free_parameters.h`\n",
    "* [Step 5](#mainc): `ScalarField_Playground.c`: The Main C Code\n",
    "* [Step 6](#convergence): Validation: Convergence of numerical errors of the Scalar Field Collapse initial data (Hamiltonian constraint violation) to zero\n",
    "* [Step 7](#latex_pdf_output): Output this module as $\\LaTeX$-formatted PDF file"
   ]
  },
  {
   "cell_type": "markdown",
   "metadata": {},
   "source": [
    "<a id='set_nrpy_core'></a>\n",
    "\n",
    "# Step 1: Set core NRPy+ parameters for numerical grids and reference metric \\[Back to [top](#toc)\\]\n",
    "$$\\label{set_nrpy_core}$$"
   ]
  },
  {
   "cell_type": "code",
   "execution_count": 1,
   "metadata": {
    "execution": {
     "iopub.execute_input": "2021-06-15T10:06:47.206313Z",
     "iopub.status.busy": "2021-06-15T10:06:47.202597Z",
     "iopub.status.idle": "2021-06-15T10:06:48.422463Z",
     "shell.execute_reply": "2021-06-15T10:06:48.422872Z"
    }
   },
   "outputs": [],
   "source": [
    "# Step P1: Import needed NRPy+ core modules:\n",
    "from outputC import lhrh,outCfunction,outputC # NRPy+: Core C code output module\n",
    "import NRPy_param_funcs as par   # NRPy+: Parameter interface\n",
    "import sympy as sp               # SymPy: The Python computer algebra package upon which NRPy+ depends\n",
    "import finite_difference as fin  # NRPy+: Finite difference C code generation module\n",
    "import grid as gri               # NRPy+: Functions having to do with numerical grids\n",
    "import indexedexp as ixp         # NRPy+: Symbolic indexed expression (e.g., tensors, vectors, etc.) support\n",
    "import reference_metric as rfm   # NRPy+: Reference metric support\n",
    "import cmdline_helper as cmd     # NRPy+: Multi-platform Python command-line interface\n",
    "import shutil, os, sys           # Standard Python modules for multiplatform OS-level functions\n",
    "\n",
    "# Step P2: Create C code output directory:\n",
    "Ccodesdir = os.path.join(\"ScalarFieldID_Ccodes/\")\n",
    "# First remove C code output directory if it exists\n",
    "# Courtesy https://stackoverflow.com/questions/303200/how-do-i-remove-delete-a-folder-that-is-not-empty\n",
    "# !rm -r ScalarWaveCurvilinear_Playground_Ccodes\n",
    "shutil.rmtree(Ccodesdir, ignore_errors=True)\n",
    "# Then create a fresh directory\n",
    "cmd.mkdir(Ccodesdir)\n",
    "\n",
    "# Step P3: Create executable output directory:\n",
    "outdir = os.path.join(Ccodesdir,\"output/\")\n",
    "cmd.mkdir(outdir)\n",
    "\n",
    "thismodule = \"ScalarFieldCollapse_ID_setup\"\n",
    "\n",
    "# Step 1: Set the spatial dimension parameter\n",
    "#         to three this time, and then read\n",
    "#         the parameter as DIM.\n",
    "par.set_parval_from_str(\"grid::DIM\",3)\n",
    "DIM = par.parval_from_str(\"grid::DIM\")\n",
    "\n",
    "# Then we set the coordinate system for the numerical grid\n",
    "par.set_parval_from_str(\"reference_metric::CoordSystem\",\"SinhSpherical\")\n",
    "rfm.reference_metric() # Create ReU, ReDD needed for rescaling B-L initial data, generating BSSN RHSs, etc.\n",
    "\n",
    "# Step 2: Set some core parameters, including CoordSystem MoL timestepping algorithm,\n",
    "#                                 FD order, floating point precision, and CFL factor:\n",
    "# Choices are: Spherical, SinhSpherical, SinhSphericalv2, Cylindrical, SinhCylindrical,\n",
    "#              SymTP, SinhSymTP\n",
    "CoordSystem     = \"SinhSpherical\"\n",
    "\n",
    "# Step 2.a: Set defaults for Coordinate system parameters.\n",
    "#           These are perhaps the most commonly adjusted parameters,\n",
    "#           so we enable modifications at this high level.\n",
    "domain_size = 15\n",
    "\n",
    "# sinh_width sets the default value for:\n",
    "#   * SinhSpherical's params.SINHW\n",
    "#   * SinhCylindrical's params.SINHW{RHO,Z}\n",
    "#   * SinhSymTP's params.SINHWAA\n",
    "sinh_width      = 0.2 # If Sinh* coordinates chosen\n",
    "\n",
    "# sinhv2_const_dr sets the default value for:\n",
    "#   * SinhSphericalv2's params.const_dr\n",
    "#   * SinhCylindricalv2's params.const_d{rho,z}\n",
    "sinhv2_const_dr = 0.05# If Sinh*v2 coordinates chosen\n",
    "\n",
    "# SymTP_bScale sets the default value for:\n",
    "#   * SinhSymTP's params.bScale\n",
    "SymTP_bScale    = 0.5 # If SymTP chosen\n",
    "\n",
    "# Step 2.b: Set the order of spatial finite difference derivatives;\n",
    "#           and the core data type.\n",
    "FD_order  = 4        # Finite difference order: even numbers only, starting with 2. 12 is generally unstable\n",
    "REAL      = \"double\" # Best to use double here.\n",
    "\n",
    "# Step 3: Set the coordinate system for the numerical grid\n",
    "par.set_parval_from_str(\"reference_metric::CoordSystem\",CoordSystem)\n",
    "rfm.reference_metric() # Create ReU, ReDD needed for rescaling B-L initial data, generating BSSN RHSs, etc.\n",
    "\n",
    "# Step 4: Set the finite differencing order to FD_order (set above).\n",
    "par.set_parval_from_str(\"finite_difference::FD_CENTDERIVS_ORDER\", FD_order)\n",
    "\n",
    "# Step 5: Set the directions=1,2 (theta,phi) axis to be the symmetry axis;\n",
    "#         This sets all spatial derivatives in the thetha and phi directions to zero.\n",
    "par.set_parval_from_str(\"indexedexp::symmetry_axes\",\"12\")\n",
    "\n",
    "# Step 6: The MoLtimestepping interface is only used for memory allocation/deallocation\n",
    "import MoLtimestepping.C_Code_Generation as MoL\n",
    "from MoLtimestepping.RK_Butcher_Table_Dictionary import Butcher_dict\n",
    "RK_method = \"Euler\" # DOES NOT MATTER; Again MoL interface is only used for memory alloc/dealloc.\n",
    "RK_order  = Butcher_dict[RK_method][1]\n",
    "cmd.mkdir(os.path.join(Ccodesdir,\"MoLtimestepping/\"))\n",
    "MoL.MoL_C_Code_Generation(RK_method, RHS_string      = \"\", post_RHS_string = \"\",\n",
    "    outdir = os.path.join(Ccodesdir,\"MoLtimestepping/\"))"
   ]
  },
  {
   "cell_type": "markdown",
   "metadata": {},
   "source": [
    "<a id='adm_id_scalar_field'></a>\n",
    "\n",
    "# Step 2: Set up ADM initial data for the scalar field \\[Back to [top](#toc)\\]\n",
    "$$\\label{adm_id_scalar_field}$$\n",
    "\n",
    "As documented [in the time-symmetric Gaussian pulse scalar field initial data NRPy+ tutorial notebook](Tutorial-ScalarField-Gaussian_pulse_initial_data-time_symmetric.ipynb), we generate the scalar field initial data and output it to a file.\n",
    "\n",
    "Our initial data solver requires space matrices methods which are implemented in SciPy, so we make sure that it is installed."
   ]
  },
  {
   "cell_type": "code",
   "execution_count": 2,
   "metadata": {
    "execution": {
     "iopub.execute_input": "2021-06-15T10:06:48.428907Z",
     "iopub.status.busy": "2021-06-15T10:06:48.426149Z",
     "iopub.status.idle": "2021-06-15T10:06:49.005468Z",
     "shell.execute_reply": "2021-06-15T10:06:49.004927Z"
    }
   },
   "outputs": [],
   "source": [
    "!pip install scipy > /dev/null"
   ]
  },
  {
   "cell_type": "markdown",
   "metadata": {},
   "source": [
    "Next we call the [`ScalarField.ScalarField_time_symmetric_initial_data.py()` function](../edit/ScalarField/ScalarField_time_symmetric_initial_data.py) ([NRPy+ tutorial notebook](Tutorial-ScalarField-Gaussian_pulse_initial_data-time_symmetric.ipynb)) to set up the initial data, using the default parameters for initial data. This function outputs the solution to a file named \"outputSFID.txt\"."
   ]
  },
  {
   "cell_type": "code",
   "execution_count": 3,
   "metadata": {
    "execution": {
     "iopub.execute_input": "2021-06-15T10:06:49.010891Z",
     "iopub.status.busy": "2021-06-15T10:06:49.010272Z",
     "iopub.status.idle": "2021-06-15T10:06:49.987348Z",
     "shell.execute_reply": "2021-06-15T10:06:49.987090Z"
    }
   },
   "outputs": [
    {
     "name": "stdout",
     "output_type": "stream",
     "text": [
      "Generated the ADM initial data for the gravitational collapse \n",
      "of a massless scalar field in Spherical coordinates.\n",
      "\n",
      "Type of initial condition: Scalar field: \"Gaussian\" Shell\n",
      "                         ADM quantities: Time-symmetric\n",
      "                        Lapse condition: Pre-collapsed\n",
      "Parameters: amplitude         = 0.1,\n",
      "            center            = 0,\n",
      "            width             = 1,\n",
      "            domain size       = 22.5,\n",
      "            number of points  = 100000,\n",
      "            Initial data file = ScalarFieldID_Ccodes/output/SFID.txt.\n",
      "\n",
      "Wrote to file ScalarFieldID_Ccodes/ID_scalar_field_ADM_quantities.h\n",
      "Wrote to file ScalarFieldID_Ccodes/ID_scalar_field_spherical.h\n",
      "Appended to file \"ScalarFieldID_Ccodes/ID_scalarfield_xx0xx1xx2_to_BSSN_xx0xx1xx2.h\"\n",
      "Appended to file \"ScalarFieldID_Ccodes/ID_scalarfield_xx0xx1xx2_to_BSSN_xx0xx1xx2.h\"\n"
     ]
    }
   ],
   "source": [
    "# Step 2.a: Import necessary Python and NRPy+ modules\n",
    "import ScalarField.ScalarField_InitialData as sfid\n",
    "\n",
    "# Step 2.b: Set the initial data parameters\n",
    "outputfilename      = os.path.join(outdir,\"SFID.txt\")\n",
    "initial_data_family = \"Gaussian_pulse\"\n",
    "pulse_amplitude     = 0.1\n",
    "pulse_center        = 0\n",
    "pulse_width         = 1\n",
    "Nr                  = 100000\n",
    "rmax                = domain_size*1.5\n",
    "\n",
    "# Step 2.c: Generate the initial data\n",
    "sfid.ScalarField_InitialData(outputfilename,Ccodesdir,initial_data_family,\n",
    "                             pulse_amplitude,pulse_center,pulse_width,Nr,rmax)"
   ]
  },
  {
   "cell_type": "markdown",
   "metadata": {},
   "source": [
    "<a id='adm_id_spacetime'></a>\n",
    "\n",
    "# Step 3: Convert ADM initial data to BSSN-in-curvilinear coordinates \\[Back to [top](#toc)\\]\n",
    "$$\\label{adm_id_spacetime}$$\n",
    "\n",
    "This is an automated process, taken care of by [`BSSN.ADM_Numerical_Spherical_or_Cartesian_to_BSSNCurvilinear`](../edit/BSSN.ADM_Numerical_Spherical_or_Cartesian_to_BSSNCurvilinear.py), and documented [in this tutorial notebook](Tutorial-ADM_Initial_Data-Converting_Numerical_ADM_Spherical_or_Cartesian_to_BSSNCurvilinear.ipynb)."
   ]
  },
  {
   "cell_type": "code",
   "execution_count": 4,
   "metadata": {
    "execution": {
     "iopub.execute_input": "2021-06-15T10:06:49.989688Z",
     "iopub.status.busy": "2021-06-15T10:06:49.989268Z",
     "iopub.status.idle": "2021-06-15T10:06:50.674812Z",
     "shell.execute_reply": "2021-06-15T10:06:50.675051Z"
    }
   },
   "outputs": [
    {
     "name": "stdout",
     "output_type": "stream",
     "text": [
      "Output C function ID_BSSN_lambdas() to file ScalarFieldID_Ccodes/ID_BSSN_lambdas.h\n",
      "Output C function ID_ADM_xx0xx1xx2_to_BSSN_xx0xx1xx2__ALL_BUT_LAMBDAs() to file ScalarFieldID_Ccodes/ID_ADM_xx0xx1xx2_to_BSSN_xx0xx1xx2__ALL_BUT_LAMBDAs.h\n",
      "Output C function ID_BSSN__ALL_BUT_LAMBDAs() to file ScalarFieldID_Ccodes/ID_BSSN__ALL_BUT_LAMBDAs.h\n"
     ]
    }
   ],
   "source": [
    "import BSSN.ADM_Numerical_Spherical_or_Cartesian_to_BSSNCurvilinear as AtoBnum\n",
    "AtoBnum.Convert_Spherical_or_Cartesian_ADM_to_BSSN_curvilinear(\"Spherical\",\"ID_scalar_field_ADM_quantities\",\n",
    "                                                               Ccodesdir=Ccodesdir,loopopts=\"\")"
   ]
  },
  {
   "cell_type": "markdown",
   "metadata": {},
   "source": [
    "<a id='validate'></a>\n",
    "\n",
    "# Step 4: Validating that the scalar field initial data satisfies the Hamiltonian constraint \\[Back to [top](#toc)\\]\n",
    "$$\\label{validate}$$\n",
    "\n",
    "We will validate that the scalar field initial data satisfies the Hamiltonian constraint, modulo numerical finite differencing error."
   ]
  },
  {
   "cell_type": "markdown",
   "metadata": {},
   "source": [
    "<a id='ham_const_output'></a>\n",
    "\n",
    "## Step 4.a: Output the Hamiltonian constraint \\[Back to [top](#toc)\\]\n",
    "$$\\label{ham_const_output}$$\n",
    "\n",
    "First output the Hamiltonian constraint [as documented in the corresponding NRPy+ tutorial notebook](Tutorial-BSSN_constraints.ipynb)"
   ]
  },
  {
   "cell_type": "code",
   "execution_count": 5,
   "metadata": {
    "execution": {
     "iopub.execute_input": "2021-06-15T10:06:50.679746Z",
     "iopub.status.busy": "2021-06-15T10:06:50.679310Z",
     "iopub.status.idle": "2021-06-15T10:07:21.788610Z",
     "shell.execute_reply": "2021-06-15T10:07:21.788113Z"
    }
   },
   "outputs": [
    {
     "name": "stdout",
     "output_type": "stream",
     "text": [
      "Output C function ScalarField_TMUNU() to file ScalarFieldID_Ccodes/ScalarField_TMUNU.h\n",
      "Output C function Hamiltonian_constraint() to file ScalarFieldID_Ccodes/Hamiltonian_constraint.h\n"
     ]
    }
   ],
   "source": [
    "# Enable rfm_precompute infrastructure, which results in\n",
    "#   BSSN RHSs that are free of transcendental functions,\n",
    "#   even in curvilinear coordinates, so long as\n",
    "#   ConformalFactor is set to \"W\" (default).\n",
    "cmd.mkdir(os.path.join(Ccodesdir,\"rfm_files/\"))\n",
    "par.set_parval_from_str(\"reference_metric::enable_rfm_precompute\",\"True\")\n",
    "par.set_parval_from_str(\"reference_metric::rfm_precompute_Ccode_outdir\",os.path.join(Ccodesdir,\"rfm_files/\"))\n",
    "\n",
    "import BSSN.Enforce_Detgammabar_Constraint as EGC\n",
    "enforce_detg_constraint_symb_expressions = EGC.Enforce_Detgammabar_Constraint_symb_expressions()\n",
    "\n",
    "\n",
    "# Now register the Hamiltonian as a gridfunction.\n",
    "H = gri.register_gridfunctions(\"AUX\",\"H\")\n",
    "\n",
    "# Compute the scalar field energy-momentum tensor\n",
    "import ScalarField.ScalarField_Tmunu as sfTmunu\n",
    "sfTmunu.ScalarField_Tmunu(Ccodesdir)\n",
    "T4UU = sfTmunu.T4UU\n",
    "\n",
    "# Then define the Hamiltonian constraint and output the optimized C code.\n",
    "import BSSN.BSSN_constraints as bssncon\n",
    "import BSSN.BSSN_stress_energy_source_terms as Bsest\n",
    "bssncon.BSSN_constraints(add_T4UUmunu_source_terms=False)\n",
    "Bsest.BSSN_source_terms_for_BSSN_constraints(T4UU)\n",
    "bssncon.H += Bsest.sourceterm_H\n",
    "\n",
    "# Now that we are finished with all the rfm hatted\n",
    "#           quantities in generic precomputed functional\n",
    "#           form, let's restore them to their closed-\n",
    "#           form expressions.\n",
    "par.set_parval_from_str(\"reference_metric::enable_rfm_precompute\",\"False\") # Reset to False to disable rfm_precompute.\n",
    "rfm.ref_metric__hatted_quantities()\n",
    "\n",
    "desc=\"Evaluate the Hamiltonian constraint\"\n",
    "name=\"Hamiltonian_constraint\"\n",
    "outCfunction(\n",
    "    outfile  = os.path.join(Ccodesdir,name+\".h\"), desc=desc, name=name,\n",
    "    params   = \"\"\"rfm_struct *restrict rfmstruct,const paramstruct *restrict params,\n",
    "                  REAL *restrict in_gfs, REAL *restrict auxevol_gfs, REAL *restrict aux_gfs\"\"\",\n",
    "    body     = fin.FD_outputC(\"returnstring\",lhrh(lhs=gri.gfaccess(\"aux_gfs\", \"H\"), rhs=bssncon.H),\n",
    "                              params=\"outCverbose=False\").replace(\"IDX4\",\"IDX4S\"),\n",
    "    loopopts = \"InteriorPoints,Enable_rfm_precompute\")"
   ]
  },
  {
   "cell_type": "markdown",
   "metadata": {},
   "source": [
    "<a id='bc_functs'></a>\n",
    "\n",
    "## Step 4.b: Set up boundary condition functions for chosen singular, curvilinear coordinate system \\[Back to [top](#toc)\\]\n",
    "$$\\label{bc_functs}$$\n",
    "\n",
    "Next apply singular, curvilinear coordinate boundary conditions [as documented in the corresponding NRPy+ tutorial notebook](Tutorial-Start_to_Finish-Curvilinear_BCs.ipynb)."
   ]
  },
  {
   "cell_type": "code",
   "execution_count": 6,
   "metadata": {
    "execution": {
     "iopub.execute_input": "2021-06-15T10:07:21.791677Z",
     "iopub.status.busy": "2021-06-15T10:07:21.791148Z",
     "iopub.status.idle": "2021-06-15T10:07:22.509485Z",
     "shell.execute_reply": "2021-06-15T10:07:22.508996Z"
    }
   },
   "outputs": [
    {
     "name": "stdout",
     "output_type": "stream",
     "text": [
      "Wrote to file \"ScalarFieldID_Ccodes/boundary_conditions/parity_conditions_symbolic_dot_products.h\"\n",
      "Evolved parity: ( aDD00:4, aDD01:5, aDD02:6, aDD11:7, aDD12:8, aDD22:9,\n",
      "    alpha:0, betU0:1, betU1:2, betU2:3, cf:0, hDD00:4, hDD01:5, hDD02:6,\n",
      "    hDD11:7, hDD12:8, hDD22:9, lambdaU0:1, lambdaU1:2, lambdaU2:3, sf:0,\n",
      "    sfM:0, trK:0, vetU0:1, vetU1:2, vetU2:3 )\n",
      "Auxiliary parity: ( H:0 )\n",
      "AuxEvol parity: ( T4UU00:0, T4UU01:1, T4UU02:2, T4UU03:3, T4UU11:4,\n",
      "    T4UU12:5, T4UU13:6, T4UU22:7, T4UU23:8, T4UU33:9 )\n",
      "Wrote to file \"ScalarFieldID_Ccodes/boundary_conditions/EigenCoord_Cart_to_xx.h\"\n"
     ]
    }
   ],
   "source": [
    "import CurviBoundaryConditions.CurviBoundaryConditions as cbcs\n",
    "cbcs.Set_up_CurviBoundaryConditions(os.path.join(Ccodesdir,\"boundary_conditions/\"),Cparamspath=os.path.join(\"../\"))"
   ]
  },
  {
   "cell_type": "markdown",
   "metadata": {},
   "source": [
    "<a id='enforce3metric'></a>\n",
    "\n",
    "## Step 4.c: Enforce conformal 3-metric $\\det{\\bar{\\gamma}_{ij}}=\\det{\\hat{\\gamma}_{ij}}$ constraint \\[Back to [top](#toc)\\]\n",
    "$$\\label{enforce3metric}$$\n",
    "\n",
    "Then enforce conformal 3-metric $\\det{\\bar{\\gamma}_{ij}}=\\det{\\hat{\\gamma}_{ij}}$ constraint (Eq. 53 of [Ruchlin, Etienne, and Baumgarte (2018)](https://arxiv.org/abs/1712.07658)), as [documented in the corresponding NRPy+ tutorial notebook](Tutorial-BSSN-Enforcing_Determinant_gammabar_equals_gammahat_Constraint.ipynb).\n",
    "\n",
    "Applying curvilinear boundary conditions should affect the initial data at the outer boundary, and will in general cause the $\\det{\\bar{\\gamma}_{ij}}=\\det{\\hat{\\gamma}_{ij}}$ constraint to be violated there. Thus after we apply these boundary conditions, we must always call the routine for enforcing the $\\det{\\bar{\\gamma}_{ij}}=\\det{\\hat{\\gamma}_{ij}}$ constraint:"
   ]
  },
  {
   "cell_type": "code",
   "execution_count": 7,
   "metadata": {
    "execution": {
     "iopub.execute_input": "2021-06-15T10:07:22.587824Z",
     "iopub.status.busy": "2021-06-15T10:07:22.552088Z",
     "iopub.status.idle": "2021-06-15T10:07:22.593846Z",
     "shell.execute_reply": "2021-06-15T10:07:22.593380Z"
    }
   },
   "outputs": [
    {
     "name": "stdout",
     "output_type": "stream",
     "text": [
      "Output C function enforce_detgammabar_constraint() to file ScalarFieldID_Ccodes/enforce_detgammabar_constraint.h\n"
     ]
    }
   ],
   "source": [
    "# Set up the C function for the det(gammahat) = det(gammabar)\n",
    "EGC.output_Enforce_Detgammabar_Constraint_Ccode(Ccodesdir,\n",
    "                                                exprs=enforce_detg_constraint_symb_expressions)"
   ]
  },
  {
   "cell_type": "markdown",
   "metadata": {},
   "source": [
    "<a id='cparams_rfm_and_domainsize'></a>\n",
    "\n",
    "## Step 4.d: Output C codes needed for declaring and setting Cparameters; also set `free_parameters.h` \\[Back to [top](#toc)\\]\n",
    "$$\\label{cparams_rfm_and_domainsize}$$\n",
    "\n",
    "Based on declared NRPy+ Cparameters, first we generate `declare_Cparameters_struct.h`, `set_Cparameters_default.h`, and `set_Cparameters[-SIMD].h`.\n",
    "\n",
    "Then we output `free_parameters.h`, which sets initial data parameters, as well as grid domain & reference metric parameters, applying `domain_size` and `sinh_width`/`SymTP_bScale` (if applicable) as set above"
   ]
  },
  {
   "cell_type": "code",
   "execution_count": 8,
   "metadata": {
    "execution": {
     "iopub.execute_input": "2021-06-15T10:07:22.597369Z",
     "iopub.status.busy": "2021-06-15T10:07:22.596729Z",
     "iopub.status.idle": "2021-06-15T10:07:22.943834Z",
     "shell.execute_reply": "2021-06-15T10:07:22.943345Z"
    }
   },
   "outputs": [],
   "source": [
    "# Step 3.d.i: Generate declare_Cparameters_struct.h, set_Cparameters_default.h, and set_Cparameters[-SIMD].h\n",
    "par.generate_Cparameters_Ccodes(os.path.join(Ccodesdir))\n",
    "\n",
    "# Step 3.d.ii: Set free_parameters.h\n",
    "# Output to $Ccodesdir/free_parameters.h reference metric parameters based on generic\n",
    "#    domain_size,sinh_width,sinhv2_const_dr,SymTP_bScale,\n",
    "#    parameters set above.\n",
    "rfm.out_default_free_parameters_for_rfm(os.path.join(Ccodesdir,\"free_parameters.h\"),\n",
    "                                        domain_size,sinh_width,sinhv2_const_dr,SymTP_bScale)\n",
    "\n",
    "# Step 3.d.iii: Generate set_Nxx_dxx_invdx_params__and__xx.h:\n",
    "rfm.set_Nxx_dxx_invdx_params__and__xx_h(Ccodesdir)\n",
    "\n",
    "# Step 3.d.iv: Generate xx_to_Cart.h, which contains xx_to_Cart() for\n",
    "#               (the mapping from xx->Cartesian) for the chosen\n",
    "#               CoordSystem:\n",
    "rfm.xx_to_Cart_h(\"xx_to_Cart\",\"./set_Cparameters.h\",os.path.join(Ccodesdir,\"xx_to_Cart.h\"))\n",
    "\n",
    "# Step 3.d.v: Generate declare_Cparameters_struct.h, set_Cparameters_default.h, and set_Cparameters[-SIMD].h\n",
    "par.generate_Cparameters_Ccodes(os.path.join(Ccodesdir))"
   ]
  },
  {
   "cell_type": "markdown",
   "metadata": {},
   "source": [
    "<a id='mainc'></a>\n",
    "\n",
    "# Step 5: `ScalarField_Playground.c`: The Main C Code \\[Back to [top](#toc)\\]\n",
    "$$\\label{mainc}$$"
   ]
  },
  {
   "cell_type": "code",
   "execution_count": 9,
   "metadata": {
    "execution": {
     "iopub.execute_input": "2021-06-15T10:07:22.947109Z",
     "iopub.status.busy": "2021-06-15T10:07:22.946444Z",
     "iopub.status.idle": "2021-06-15T10:07:22.948397Z",
     "shell.execute_reply": "2021-06-15T10:07:22.947771Z"
    }
   },
   "outputs": [],
   "source": [
    "# Part P0: Define REAL, set the number of ghost cells NGHOSTS (from NRPy+'s FD_CENTDERIVS_ORDER)\n",
    "\n",
    "with open(os.path.join(Ccodesdir,\"ScalarField_Playground_REAL__NGHOSTS.h\"), \"w\") as file:\n",
    "    file.write(\"\"\"\n",
    "// Part P0.a: Set the number of ghost cells, from NRPy+'s FD_CENTDERIVS_ORDER\n",
    "#define NGHOSTS \"\"\"+str(int(FD_order/2)+1)+\"\"\"\n",
    "// Part P0.b: Set the numerical precision (REAL) to double, ensuring all floating point\n",
    "//            numbers are stored to at least ~16 significant digits\n",
    "#define REAL \"\"\"+REAL+\"\\n\")"
   ]
  },
  {
   "cell_type": "code",
   "execution_count": 10,
   "metadata": {
    "execution": {
     "iopub.execute_input": "2021-06-15T10:07:22.953476Z",
     "iopub.status.busy": "2021-06-15T10:07:22.952903Z",
     "iopub.status.idle": "2021-06-15T10:07:22.954936Z",
     "shell.execute_reply": "2021-06-15T10:07:22.955306Z"
    }
   },
   "outputs": [
    {
     "name": "stdout",
     "output_type": "stream",
     "text": [
      "Writing ScalarFieldID_Ccodes//ScalarField_Playground.c\n"
     ]
    }
   ],
   "source": [
    "%%writefile $Ccodesdir/ScalarField_Playground.c\n",
    "\n",
    "\n",
    "// Step P0: Define REAL and NGHOSTS. This header is generated by NRPy+.\n",
    "#include \"ScalarField_Playground_REAL__NGHOSTS.h\"\n",
    "\n",
    "#include \"rfm_files/rfm_struct__declare.h\"\n",
    "\n",
    "#include \"declare_Cparameters_struct.h\"\n",
    "\n",
    "// Step P1: Import needed header files\n",
    "#include \"stdio.h\"\n",
    "#include \"stdlib.h\"\n",
    "#include \"math.h\"\n",
    "#ifndef M_PI\n",
    "#define M_PI 3.141592653589793238462643383279502884L\n",
    "#endif\n",
    "#ifndef M_SQRT1_2\n",
    "#define M_SQRT1_2 0.707106781186547524400844362104849039L\n",
    "#endif\n",
    "\n",
    "// Step P2: Declare the IDX4S(gf,i,j,k) macro, which enables us to store 4-dimensions of\n",
    "//           data in a 1D array. In this case, consecutive values of \"i\"\n",
    "//           (all other indices held to a fixed value) are consecutive in memory, where\n",
    "//           consecutive values of \"j\" (fixing all other indices) are separated by\n",
    "//           Nxx_plus_2NGHOSTS0 elements in memory. Similarly, consecutive values of\n",
    "//           \"k\" are separated by Nxx_plus_2NGHOSTS0*Nxx_plus_2NGHOSTS1 in memory, etc.\n",
    "#define IDX4S(g,i,j,k) \\\n",
    "( (i) + Nxx_plus_2NGHOSTS0 * ( (j) + Nxx_plus_2NGHOSTS1 * ( (k) + Nxx_plus_2NGHOSTS2 * (g) ) ) )\n",
    "#define IDX4ptS(g,idx) ( (idx) + (Nxx_plus_2NGHOSTS0*Nxx_plus_2NGHOSTS1*Nxx_plus_2NGHOSTS2) * (g) )\n",
    "#define IDX3S(i,j,k) ( (i) + Nxx_plus_2NGHOSTS0 * ( (j) + Nxx_plus_2NGHOSTS1 * ( (k) ) ) )\n",
    "#define LOOP_REGION(i0min,i0max, i1min,i1max, i2min,i2max) \\\n",
    "  for(int i2=i2min;i2<i2max;i2++) for(int i1=i1min;i1<i1max;i1++) for(int i0=i0min;i0<i0max;i0++)\n",
    "#define LOOP_ALL_GFS_GPS(ii) _Pragma(\"omp parallel for\") \\\n",
    "  for(int (ii)=0;(ii)<Nxx_plus_2NGHOSTS_tot*NUM_EVOL_GFS;(ii)++)\n",
    "\n",
    "// Step P3: Set gridfunctions macros\n",
    "#include \"boundary_conditions/gridfunction_defines.h\"\n",
    "\n",
    "// Step P4: Set xx_to_Cart(const paramstruct *restrict params,\n",
    "//                     REAL *restrict xx[3],\n",
    "//                     const int i0,const int i1,const int i2,\n",
    "//                     REAL xCart[3]),\n",
    "//           which maps xx->Cartesian via\n",
    "//    {xx[0][i0],xx[1][i1],xx[2][i2]}->{xCart[0],xCart[1],xCart[2]}\n",
    "#include \"xx_to_Cart.h\"\n",
    "\n",
    "// Step P5: Defines set_Nxx_dxx_invdx_params__and__xx(const int EigenCoord, const int Nxx[3],\n",
    "//                                       paramstruct *restrict params, REAL *restrict xx[3]),\n",
    "//          which sets params Nxx,Nxx_plus_2NGHOSTS,dxx,invdx, and xx[] for\n",
    "//          the chosen Eigen-CoordSystem if EigenCoord==1, or\n",
    "//          CoordSystem if EigenCoord==0.\n",
    "#include \"set_Nxx_dxx_invdx_params__and__xx.h\"\n",
    "\n",
    "// Step P6: Include basic functions needed to impose curvilinear\n",
    "//          parity and boundary conditions.\n",
    "#include \"boundary_conditions/CurviBC_include_Cfunctions.h\"\n",
    "\n",
    "// Step P7: Include function for enforcing detgammabar constraint.\n",
    "#include \"enforce_detgammabar_constraint.h\"\n",
    "\n",
    "// Step P8: Declare initial data input struct:\n",
    "//          stores data from initial data solver,\n",
    "//          so they can be put on the numerical grid.\n",
    "typedef struct __ID_inputs {\n",
    "    int interp_stencil_size;\n",
    "    int numlines_in_file;\n",
    "    REAL *r_arr,*sf_arr,*psi4_arr,*alpha_arr;\n",
    "} ID_inputs;\n",
    "\n",
    "// Part P9: Declare all functions for setting up ScalarField initial data.\n",
    "/* Routines to interpolate the ScalarField solution and convert to ADM & T^{munu}: */\n",
    "#include \"../ScalarField/ScalarField_interp.h\"\n",
    "#include \"ID_scalar_field_ADM_quantities.h\"\n",
    "#include \"ID_scalar_field_spherical.h\"\n",
    "#include \"ID_scalarfield_xx0xx1xx2_to_BSSN_xx0xx1xx2.h\"\n",
    "#include \"ID_scalarfield.h\"\n",
    "#include \"ScalarField_TMUNU.h\"\n",
    "\n",
    "/* Next perform the basis conversion and compute all needed BSSN quantities */\n",
    "#include \"ID_ADM_xx0xx1xx2_to_BSSN_xx0xx1xx2__ALL_BUT_LAMBDAs.h\"\n",
    "#include \"ID_BSSN__ALL_BUT_LAMBDAs.h\"\n",
    "#include \"ID_BSSN_lambdas.h\"\n",
    "\n",
    "// Step P10: Set the generic driver function for setting up BSSN initial data\n",
    "void initial_data(const paramstruct *restrict params,const bc_struct *restrict bcstruct,\n",
    "                  const rfm_struct *restrict rfmstruct,\n",
    "                  REAL *restrict xx[3], REAL *restrict auxevol_gfs, REAL *restrict in_gfs) {\n",
    "#include \"set_Cparameters.h\"\n",
    "\n",
    "    // Step 1: Set up ScalarField initial data\n",
    "    // Step 1.a: Read ScalarField initial data from data file\n",
    "    // Open the data file:\n",
    "    char filename[100];\n",
    "    sprintf(filename,\"./SFID.txt\");\n",
    "    FILE *fp = fopen(filename, \"r\");\n",
    "    if (fp == NULL) {\n",
    "        fprintf(stderr,\"ERROR: could not open file %s\\n\",filename);\n",
    "        exit(1);\n",
    "    }\n",
    "    // Count the number of lines in the data file:\n",
    "    int numlines_in_file = count_num_lines_in_file(fp);\n",
    "    // Allocate space for all data arrays:\n",
    "    REAL *r_arr     = (REAL *)malloc(sizeof(REAL)*numlines_in_file);\n",
    "    REAL *sf_arr    = (REAL *)malloc(sizeof(REAL)*numlines_in_file);\n",
    "    REAL *psi4_arr  = (REAL *)malloc(sizeof(REAL)*numlines_in_file);\n",
    "    REAL *alpha_arr = (REAL *)malloc(sizeof(REAL)*numlines_in_file);\n",
    "\n",
    "    // Read from the data file, filling in arrays\n",
    "    // read_datafile__set_arrays() may be found in ScalarField/ScalarField_interp.h\n",
    "    if(read_datafile__set_arrays(fp,r_arr,sf_arr,psi4_arr,alpha_arr) == 1) {\n",
    "        fprintf(stderr,\"ERROR WHEN READING FILE %s!\\n\",filename);\n",
    "        exit(1);\n",
    "    }\n",
    "    fclose(fp);\n",
    "\n",
    "    const int interp_stencil_size = 12;\n",
    "    ID_inputs SF_in;\n",
    "    SF_in.interp_stencil_size = interp_stencil_size;\n",
    "    SF_in.numlines_in_file    = numlines_in_file;\n",
    "    SF_in.r_arr               = r_arr;\n",
    "    SF_in.sf_arr              = sf_arr;\n",
    "    SF_in.psi4_arr            = psi4_arr;\n",
    "    SF_in.alpha_arr           = alpha_arr;\n",
    "\n",
    "    // Step 1.b: Interpolate data from data file to set BSSN gridfunctions\n",
    "    ID_scalarfield(params,xx,SF_in, in_gfs);\n",
    "    ID_BSSN__ALL_BUT_LAMBDAs(params,xx,SF_in, in_gfs);\n",
    "    apply_bcs_curvilinear(params, bcstruct, NUM_EVOL_GFS, evol_gf_parity, in_gfs);\n",
    "    enforce_detgammabar_constraint(rfmstruct, params,                   in_gfs);\n",
    "    ID_BSSN_lambdas(params, xx, in_gfs);\n",
    "    apply_bcs_curvilinear(params, bcstruct, NUM_EVOL_GFS, evol_gf_parity, in_gfs);\n",
    "    enforce_detgammabar_constraint(rfmstruct, params,                   in_gfs);\n",
    "\n",
    "    free(r_arr);\n",
    "    free(sf_arr);\n",
    "    free(psi4_arr);\n",
    "    free(alpha_arr);\n",
    "}\n",
    "\n",
    "// Step P11: Declare function for evaluating Hamiltonian constraint (diagnostic)\n",
    "#include \"Hamiltonian_constraint.h\"\n",
    "\n",
    "// main() function:\n",
    "// Step 0: Read command-line input, set up grid structure, allocate memory for gridfunctions, set up coordinates\n",
    "// Step 1: Set up initial data to an exact solution\n",
    "// Step 2: Start the timer, for keeping track of how fast the simulation is progressing.\n",
    "// Step 3: Integrate the initial data forward in time using the chosen RK-like Method of\n",
    "//         Lines timestepping algorithm, and output periodic simulation diagnostics\n",
    "// Step 3.a: Output 2D data file periodically, for visualization\n",
    "// Step 3.b: Step forward one timestep (t -> t+dt) in time using\n",
    "//           chosen RK-like MoL timestepping algorithm\n",
    "// Step 3.c: If t=t_final, output conformal factor & Hamiltonian\n",
    "//           constraint violation to 2D data file\n",
    "// Step 3.d: Progress indicator printing to stderr\n",
    "// Step 4: Free all allocated memory\n",
    "int main(int argc, const char *argv[]) {\n",
    "    paramstruct params;\n",
    "#include \"set_Cparameters_default.h\"\n",
    "\n",
    "    // Step 0a: Read command-line input, error out if nonconformant\n",
    "    if((argc != 4) || atoi(argv[1]) < NGHOSTS || atoi(argv[2]) < 2 || atoi(argv[3]) < 2 /* FIXME; allow for axisymmetric sims */) {\n",
    "        fprintf(stderr,\"Error: Expected three command-line arguments: ./ScalarField_Playground Nx0 Nx1 Nx2,\\n\");\n",
    "        fprintf(stderr,\"where Nx[0,1,2] is the number of grid points in the 0, 1, and 2 directions.\\n\");\n",
    "        fprintf(stderr,\"Nx[] MUST BE larger than NGHOSTS (= %d)\\n\",NGHOSTS);\n",
    "        exit(1);\n",
    "    }\n",
    "    // Step 0b: Set up numerical grid structure, first in space...\n",
    "    const int Nxx[3] = { atoi(argv[1]), atoi(argv[2]), atoi(argv[3]) };\n",
    "    if(Nxx[0]%2 != 0 || Nxx[1]%2 != 0 || Nxx[2]%2 != 0) {\n",
    "        fprintf(stderr,\"Error: Cannot guarantee a proper cell-centered grid if number of grid cells not set to even number.\\n\");\n",
    "        fprintf(stderr,\"       For example, in case of angular directions, proper symmetry zones will not exist.\\n\");\n",
    "        exit(1);\n",
    "    }\n",
    "\n",
    "    // Step 0c: Set free parameters, overwriting Cparameters defaults\n",
    "    //          by hand or with command-line input, as desired.\n",
    "#include \"free_parameters.h\"\n",
    "\n",
    "   // Step 0d: Uniform coordinate grids are stored to *xx[3]\n",
    "    REAL *xx[3];\n",
    "    // Step 0d.i: Set bcstruct\n",
    "    bc_struct bcstruct;\n",
    "    {\n",
    "        int EigenCoord = 1;\n",
    "        // Step 0d.ii: Call set_Nxx_dxx_invdx_params__and__xx(), which sets\n",
    "        //             params Nxx,Nxx_plus_2NGHOSTS,dxx,invdx, and xx[] for the\n",
    "        //             chosen Eigen-CoordSystem.\n",
    "        set_Nxx_dxx_invdx_params__and__xx(EigenCoord, Nxx, &params, xx);\n",
    "        // Step 0d.iii: Set Nxx_plus_2NGHOSTS_tot\n",
    "#include \"set_Cparameters-nopointer.h\"\n",
    "        const int Nxx_plus_2NGHOSTS_tot = Nxx_plus_2NGHOSTS0*Nxx_plus_2NGHOSTS1*Nxx_plus_2NGHOSTS2;\n",
    "        // Step 0e: Find ghostzone mappings; set up bcstruct\n",
    "#include \"boundary_conditions/driver_bcstruct.h\"\n",
    "        // Step 0e.i: Free allocated space for xx[][] array\n",
    "        for(int i=0;i<3;i++) free(xx[i]);\n",
    "    }\n",
    "\n",
    "    // Step 0f: Call set_Nxx_dxx_invdx_params__and__xx(), which sets\n",
    "    //          params Nxx,Nxx_plus_2NGHOSTS,dxx,invdx, and xx[] for the\n",
    "    //          chosen (non-Eigen) CoordSystem.\n",
    "    int EigenCoord = 0;\n",
    "    set_Nxx_dxx_invdx_params__and__xx(EigenCoord, Nxx, &params, xx);\n",
    "\n",
    "    // Step 0g: Set all C parameters \"blah\" for params.blah, including\n",
    "    //          Nxx_plus_2NGHOSTS0 = params.Nxx_plus_2NGHOSTS0, etc.\n",
    "#include \"set_Cparameters-nopointer.h\"\n",
    "    const int Nxx_plus_2NGHOSTS_tot = Nxx_plus_2NGHOSTS0*Nxx_plus_2NGHOSTS1*Nxx_plus_2NGHOSTS2;\n",
    "\n",
    "    // Step 0j: Error out if the number of auxiliary gridfunctions outnumber evolved gridfunctions.\n",
    "    //              This is a limitation of the RK method. You are always welcome to declare & allocate\n",
    "    //              additional gridfunctions by hand.\n",
    "    if(NUM_AUX_GFS > NUM_EVOL_GFS) {\n",
    "        fprintf(stderr,\"Error: NUM_AUX_GFS > NUM_EVOL_GFS. Either reduce the number of auxiliary gridfunctions,\\n\");\n",
    "        fprintf(stderr,\"       or allocate (malloc) by hand storage for *diagnostic_output_gfs. \\n\");\n",
    "        exit(1);\n",
    "    }\n",
    "\n",
    "    // Step 0k: Allocate memory for gridfunctions\n",
    "#include \"MoLtimestepping/RK_Allocate_Memory.h\"\n",
    "    REAL *restrict auxevol_gfs = (REAL *)malloc(sizeof(REAL) * NUM_AUXEVOL_GFS * Nxx_plus_2NGHOSTS_tot);\n",
    "\n",
    "    // Step 0l: Set up precomputed reference metric arrays\n",
    "    // Step 0l.i: Allocate space for precomputed reference metric arrays.\n",
    "#include \"rfm_files/rfm_struct__malloc.h\"\n",
    "\n",
    "    // Step 0l.ii: Define precomputed reference metric arrays.\n",
    "    {\n",
    "    #include \"set_Cparameters-nopointer.h\"\n",
    "    #include \"rfm_files/rfm_struct__define.h\"\n",
    "    }\n",
    "\n",
    "    // Step 1: Set up initial data\n",
    "    initial_data(&params,&bcstruct, &rfmstruct, xx, auxevol_gfs, y_n_gfs);\n",
    "    // Step 1a: Compute the energy-momentum tensor\n",
    "    ScalarField_TMUNU(&rfmstruct,&params,y_n_gfs,auxevol_gfs);\n",
    "\n",
    "    // Step 1b: Apply boundary conditions, as initial data\n",
    "    //          are sometimes ill-defined in ghost zones.\n",
    "    //          E.g., spherical initial data might not be\n",
    "    //          properly defined at points where r=-1.\n",
    "    apply_bcs_curvilinear(&params, &bcstruct, NUM_EVOL_GFS,evol_gf_parity, y_n_gfs);\n",
    "    enforce_detgammabar_constraint(&rfmstruct, &params, y_n_gfs);\n",
    "\n",
    "    // Evaluate Hamiltonian constraint violation\n",
    "    Hamiltonian_constraint(&rfmstruct, &params, y_n_gfs,auxevol_gfs, diagnostic_output_gfs);\n",
    "    char filename[100];\n",
    "    sprintf(filename,\"out%d.txt\",Nxx[0]);\n",
    "    FILE *out1D = fopen(filename, \"w\");\n",
    "    const int i1mid = Nxx_plus_2NGHOSTS1/2;\n",
    "    const int i2mid = Nxx_plus_2NGHOSTS2/2;\n",
    "    for(int i0=NGHOSTS;i0<Nxx_plus_2NGHOSTS0-NGHOSTS;i0++) {\n",
    "        REAL xCart[3];\n",
    "        xx_to_Cart(&params,xx,i0,i1mid,i2mid,xCart);\n",
    "        int idx = IDX3S(i0,i1mid,i2mid);\n",
    "        REAL rr = sqrt( xCart[0]*xCart[0] + xCart[1]*xCart[1] + xCart[2]*xCart[2] );\n",
    "        fprintf(out1D,\"%e %e\\n\",rr,log10(fabs(diagnostic_output_gfs[IDX4ptS(HGF,idx)])));\n",
    "    }\n",
    "    fclose(out1D);\n",
    "\n",
    "    // Step 4: Free all allocated memory\n",
    "#include \"rfm_files/rfm_struct__freemem.h\"\n",
    "#include \"boundary_conditions/bcstruct_freemem.h\"\n",
    "#include \"MoLtimestepping/RK_Free_Memory.h\"\n",
    "    free(auxevol_gfs);\n",
    "    for(int i=0;i<3;i++) free(xx[i]);\n",
    "\n",
    "    return 0;\n",
    "}"
   ]
  },
  {
   "cell_type": "code",
   "execution_count": 11,
   "metadata": {
    "execution": {
     "iopub.execute_input": "2021-06-15T10:07:22.962407Z",
     "iopub.status.busy": "2021-06-15T10:07:22.958228Z",
     "iopub.status.idle": "2021-06-15T10:07:25.086736Z",
     "shell.execute_reply": "2021-06-15T10:07:25.087235Z"
    }
   },
   "outputs": [
    {
     "name": "stdout",
     "output_type": "stream",
     "text": [
      "Compiling executable...\n",
      "(EXEC): Executing `gcc -std=gnu99 -Ofast -fopenmp -march=native -funroll-loops ScalarFieldID_Ccodes/ScalarField_Playground.c -o ScalarFieldID_Ccodes/output/ScalarField_Playground -lm`...\n",
      "(BENCH): Finished executing in 3.468311071395874 seconds.\n",
      "Finished compilation.\n",
      "(EXEC): Executing `./ScalarField_Playground 96 2 2`...\n",
      "(BENCH): Finished executing in 0.6162450313568115 seconds.\n",
      "(EXEC): Executing `./ScalarField_Playground 72 2 2`...\n",
      "(BENCH): Finished executing in 0.41692209243774414 seconds.\n",
      "(EXEC): Executing `./ScalarField_Playground 48 2 2`...\n",
      "(BENCH): Finished executing in 0.21360421180725098 seconds.\n"
     ]
    }
   ],
   "source": [
    "import cmdline_helper as cmd\n",
    "cmd.C_compile(os.path.join(Ccodesdir,\"ScalarField_Playground.c\"),\n",
    "              os.path.join(outdir,\"ScalarField_Playground\"),compile_mode=\"optimized\")\n",
    "              \n",
    "os.chdir(outdir)\n",
    "cmd.delete_existing_files(\"out96.txt\")\n",
    "cmd.Execute(\"ScalarField_Playground\", \"96 2 2\", \"out96.txt\")\n",
    "cmd.delete_existing_files(\"out72.txt\")\n",
    "cmd.Execute(\"ScalarField_Playground\", \"72 2 2\", \"out72.txt\")\n",
    "cmd.delete_existing_files(\"out48.txt\")\n",
    "cmd.Execute(\"ScalarField_Playground\", \"48 2 2\", \"out48.txt\")\n",
    "os.chdir(os.path.join(\"..\",\"..\"))"
   ]
  },
  {
   "cell_type": "markdown",
   "metadata": {},
   "source": [
    "<a id='convergence'></a>\n",
    "\n",
    "# Step 6: Validation: Convergence of numerical errors (Hamiltonian constraint violation) to zero \\[Back to [top](#toc)\\]\n",
    "$$\\label{convergence}$$\n",
    "\n",
    "The equations behind these initial data solve Einstein's equations exactly, at a single instant in time. One reflection of this solution is that the Hamiltonian constraint violation should be exactly zero in the initial data. \n",
    "\n",
    "However, when evaluated on numerical grids, the Hamiltonian constraint violation will *not* generally evaluate to zero due to the associated numerical derivatives not being exact. However, these numerical derivatives (finite difference derivatives in this case) should *converge* to the exact derivatives as the density of numerical sampling points approaches infinity.\n",
    "\n",
    "In this case, all of our finite difference derivatives agree with the exact solution, with an error term that drops with the uniform gridspacing to the fourth power: $\\left(\\Delta x^i\\right)^4$. \n",
    "\n",
    "Here, as in the [Start-to-Finish Scalar Wave (Cartesian grids) NRPy+ tutorial](Tutorial-Start_to_Finish-ScalarWave.ipynb) and the [Start-to-Finish Scalar Wave (curvilinear grids) NRPy+ tutorial](Tutorial-Start_to_Finish-ScalarWaveCurvilinear.ipynb) we confirm this convergence.\n",
    "\n",
    "We demonstrate convergence along the radial direction in our 1D (spherically symmetric) problem."
   ]
  },
  {
   "cell_type": "code",
   "execution_count": 12,
   "metadata": {
    "execution": {
     "iopub.execute_input": "2021-06-15T10:07:25.095069Z",
     "iopub.status.busy": "2021-06-15T10:07:25.094469Z",
     "iopub.status.idle": "2021-06-15T10:07:25.514885Z",
     "shell.execute_reply": "2021-06-15T10:07:25.515197Z"
    }
   },
   "outputs": [
    {
     "data": {
      "image/png": "[encoded data removed]",
      "text/plain": [
       "<IPython.core.display.Image object>"
      ]
     },
     "execution_count": 12,
     "metadata": {},
     "output_type": "execute_result"
    }
   ],
   "source": [
    "import numpy as np\n",
    "import matplotlib.pyplot as plt\n",
    "from IPython.display import Image\n",
    "\n",
    "r_96,log10H_96 = np.loadtxt(os.path.join(outdir,\"out96.txt\")).T\n",
    "r_72,log10H_72 = np.loadtxt(os.path.join(outdir,\"out72.txt\")).T\n",
    "r_48,log10H_48 = np.loadtxt(os.path.join(outdir,\"out48.txt\")).T\n",
    "\n",
    "# Set 4 subplots\n",
    "fig = plt.figure()\n",
    "\n",
    "plt.title(\"Plot Demonstrating 4th-order Convergence\")\n",
    "plt.ylabel(r\"$\\log_{10}|H|$\")\n",
    "plt.xlabel(r\"$r$\")\n",
    "plt.xlim(0,3)\n",
    "plt.ylim(-10,-5)\n",
    "plt.plot(r_96,log10H_96,color='black',ls='-',label=r\"$N_{r}=96$\")\n",
    "plt.plot(r_72,log10H_72+np.log10((72.0/96.0)**4),color='green',ls='-.',label=r\"$N_{r}=72$, times (72/96)^4\")\n",
    "plt.plot(r_48,log10H_48+np.log10((48.0/96.0)**4),color='red',ls='--',label=r\"$N_{r}=60$, times (48/96)^4\")\n",
    "legend = plt.legend(shadow=True,loc=3)\n",
    "legend.get_frame().set_facecolor('C1')\n",
    "plt.tight_layout()\n",
    "\n",
    "outfile = os.path.join(outdir,\"HC_convergence_SFID.png\")\n",
    "plt.savefig(outfile,facecolor='white')\n",
    "plt.close(fig)\n",
    "Image(outfile)"
   ]
  },
  {
   "cell_type": "markdown",
   "metadata": {},
   "source": [
    "<a id='latex_pdf_output'></a>\n",
    "\n",
    "# Step 7: Output this notebook to $\\LaTeX$-formatted PDF file \\[Back to [top](#toc)\\]\n",
    "$$\\label{latex_pdf_output}$$\n",
    "\n",
    "The following code cell converts this Jupyter notebook into a proper, clickable $\\LaTeX$-formatted PDF file. After the cell is successfully run, the generated PDF may be found in the root NRPy+ tutorial directory, with filename\n",
    "[Tutorial-Start_to_Finish-BSSNCurvilinear-Setting_up_ScalarField_initial_data.pdf](Tutorial-Start_to_Finish-BSSNCurvilinear-Setting_up_ScalarField_initial_data.pdf) (Note that clicking on this link may not work; you may need to open the PDF file through another means.)"
   ]
  },
  {
   "cell_type": "code",
   "execution_count": 13,
   "metadata": {
    "execution": {
     "iopub.execute_input": "2021-06-15T10:07:25.517284Z",
     "iopub.status.busy": "2021-06-15T10:07:25.517010Z",
     "iopub.status.idle": "2021-06-15T10:07:28.188209Z",
     "shell.execute_reply": "2021-06-15T10:07:28.187743Z"
    }
   },
   "outputs": [
    {
     "name": "stdout",
     "output_type": "stream",
     "text": [
      "Created Tutorial-Start_to_Finish-BSSNCurvilinear-\n",
      "    Setting_up_ScalarField_initial_data.tex, and compiled LaTeX file to PDF\n",
      "    file Tutorial-Start_to_Finish-BSSNCurvilinear-\n",
      "    Setting_up_ScalarField_initial_data.pdf\n"
     ]
    }
   ],
   "source": [
    "import cmdline_helper as cmd # NRPy+: Multi-platform Python command-line interface\n",
    "cmd.output_Jupyter_notebook_to_LaTeXed_PDF(\"Tutorial-Start_to_Finish-BSSNCurvilinear-Setting_up_ScalarField_initial_data\")"
   ]
  }
 ],
 "metadata": {
  "kernelspec": {
   "display_name": "Python 3",
   "language": "python",
   "name": "python3"
  },
  "language_info": {
   "codemirror_mode": {
    "name": "ipython",
    "version": 3
   },
   "file_extension": ".py",
   "mimetype": "text/x-python",
   "name": "python",
   "nbconvert_exporter": "python",
   "pygments_lexer": "ipython3",
   "version": "3.9.5"
  }
 },
 "nbformat": 4,
 "nbformat_minor": 4
}
