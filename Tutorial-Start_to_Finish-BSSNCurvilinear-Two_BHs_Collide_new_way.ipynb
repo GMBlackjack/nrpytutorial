{
 "cells": [
  {
   "cell_type": "markdown",
   "metadata": {},
   "source": [
    "<script async src=\"https://www.googletagmanager.com/gtag/js?id=UA-59152712-8\"></script>\n",
    "<script>\n",
    "  window.dataLayer = window.dataLayer || [];\n",
    "  function gtag(){dataLayer.push(arguments);}\n",
    "  gtag('js', new Date());\n",
    "\n",
    "  gtag('config', 'UA-59152712-8');\n",
    "</script>\n",
    "\n",
    "# Start-to-Finish Example: Head-On Black Hole Collision\n",
    "\n",
    "## Author: Zach Etienne\n",
    "### Formatting improvements courtesy Brandon Clark\n",
    "\n",
    "## This module implements a basic numerical relativity code to merge two black holes in *spherical coordinates*\n",
    "\n",
    "### Here we place the black holes initially on the $z$-axis, so the entire simulation is axisymmetric about the $\\phi$-axis. Not sampling in the $\\phi$ direction greatly speeds up the simulation.\n",
    "\n",
    "**Notebook Status:** <font color = green><b> Validated </b></font>\n",
    "\n",
    "**Validation Notes:** This module has been validated to exhibit convergence to zero of the Hamiltonian constraint violation at the expected order to the exact solution *after a short numerical evolution of the initial data* (see [plots at bottom](#convergence)), and all quantities have been validated against the [original SENR code](https://bitbucket.org/zach_etienne/nrpy).\n",
    "\n",
    "### NRPy+ Source Code & Tutorials for this module: \n",
    "* [BSSN/BrillLindquist.py](../edit/BSSN/BrillLindquist.py); [\\[**tutorial**\\]](Tutorial-ADM_Initial_Data-Brill-Lindquist.ipynb): Brill-Lindquist initial data; sets all ADM variables in Cartesian basis: \n",
    "* [BSSN/ADM_Exact_Spherical_or_Cartesian_to_BSSNCurvilinear.py](../edit/BSSN/ADM_Exact_Spherical_or_Cartesian_to_BSSNCurvilinear.py); [\\[**tutorial**\\]](Tutorial-ADM_Initial_Data-Converting_Exact_ADM_Spherical_or_Cartesian_to_BSSNCurvilinear.ipynb): Spherical/Cartesian ADM$\\to$Curvilinear BSSN converter function, for which exact expressions are given for ADM quantities.\n",
    "* [BSSN/BSSN_ID_function_string.py](../edit/BSSN/BSSN_ID_function_string.py): Sets up the C code string enabling initial data be set up in a point-by-point fashion\n",
    "* [BSSN/BSSN_Ccodegen_library.py](../edit/BSSN/BSSN_Ccodegen_library.py); [\\[**tutorial**\\]](Tutorial-BSSN_time_evolution-C_codegen_library.ipynb): Implements a number of helper functions for generating C codes from symbolic expressions generated in the following modules/tutorials:\n",
    "    * [BSSN/BSSN_constraints.py](../edit/BSSN/BSSN_constraints.py); [\\[**tutorial**\\]](Tutorial-BSSN_constraints.ipynb): Hamiltonian constraint in BSSN curvilinear basis/coordinates\n",
    "    * [BSSN/BSSN_RHSs.py](../edit/BSSN/BSSN_RHSs.py); [\\[**tutorial**\\]](Tutorial-BSSN_time_evolution-BSSN_RHSs.ipynb): Generates the right-hand sides for the BSSN evolution equations in singular, curvilinear coordinates\n",
    "    * [BSSN/BSSN_gauge_RHSs.py](../edit/BSSN/BSSN_gauge_RHSs.py); [\\[**tutorial**\\]](Tutorial-BSSN_time_evolution-BSSN_gauge_RHSs.ipynb): Generates the right-hand sides for the BSSN gauge evolution equations in singular, curvilinear coordinates\n",
    "\n",
    "## Introduction:\n",
    "Here we use NRPy+ to generate the C source code necessary to set up initial data for two black holes (Brill-Lindquist, [Brill & Lindquist, Phys. Rev. 131, 471, 1963](https://journals.aps.org/pr/abstract/10.1103/PhysRev.131.471); see also Eq. 1 of [Brandt & Brügmann, arXiv:gr-qc/9711015v1](https://arxiv.org/pdf/gr-qc/9711015v1.pdf)). Then we use it to generate the RHS expressions for [Method of Lines](https://reference.wolfram.com/language/tutorial/NDSolveMethodOfLines.html) time integration based on an [explicit Runge-Kutta fourth-order scheme](https://en.wikipedia.org/wiki/Runge%E2%80%93Kutta_methods) (RK4 is chosen below, but multiple options exist). \n",
    "\n",
    "The entire algorithm is outlined as follows, with links to the relevant NRPy+ tutorial notebooks listed at each step:\n",
    "\n",
    "1. Allocate memory for gridfunctions, including temporary storage for the Method of Lines time integration\n",
    "    * [**NRPy+ tutorial on Method of Lines algorithm**](Tutorial-Method_of_Lines-C_Code_Generation.ipynb).\n",
    "1. Set gridfunction values to initial data \n",
    "    * [**NRPy+ tutorial on Brill-Lindquist initial data**](Tutorial-ADM_Initial_Data-Brill-Lindquist.ipynb)\n",
    "    * [**NRPy+ tutorial on validating Brill-Lindquist initial data**](Tutorial-Start_to_Finish-BSSNCurvilinear-Setting_up_Exact_Initial_Data.ipynb).\n",
    "1. Next, integrate the initial data forward in time using the Method of Lines coupled to a Runge-Kutta explicit timestepping algorithm:\n",
    "    1. At the start of each iteration in time, output the Hamiltonian constraint violation \n",
    "        * [**NRPy+ tutorial on BSSN constraints**](Tutorial-BSSN_constraints.ipynb).\n",
    "    1. At each RK time substep, do the following:\n",
    "        1. Evaluate BSSN RHS expressions \n",
    "            * [**NRPy+ tutorial on BSSN right-hand sides**](Tutorial-BSSN_time_evolution-BSSN_RHSs.ipynb) ([**BSSN Introduction Notebook**](Tutorial-BSSN_formulation.ipynb))\n",
    "            * [**NRPy+ tutorial on BSSN gauge condition right-hand sides**](Tutorial-BSSN_time_evolution-BSSN_gauge_RHSs.ipynb) \n",
    "        1. Apply singular, curvilinear coordinate boundary conditions [*a la* the SENR/NRPy+ paper](https://arxiv.org/abs/1712.07658)\n",
    "            * [**NRPy+ tutorial on setting up singular, curvilinear boundary conditions**](Tutorial-Start_to_Finish-Curvilinear_BCs.ipynb)\n",
    "        1. Enforce constraint on conformal 3-metric: $\\det{\\bar{\\gamma}_{ij}}=\\det{\\hat{\\gamma}_{ij}}$ \n",
    "            * [**NRPy+ tutorial on enforcing $\\det{\\bar{\\gamma}_{ij}}=\\det{\\hat{\\gamma}_{ij}}$ constraint**](Tutorial-BSSN-Enforcing_Determinant_gammabar_equals_gammahat_Constraint.ipynb)\n",
    "1. Repeat above steps at two numerical resolutions to confirm convergence to zero."
   ]
  },
  {
   "cell_type": "markdown",
   "metadata": {},
   "source": [
    "<a id='toc'></a>\n",
    "\n",
    "# Table of Contents\n",
    "$$\\label{toc}$$\n",
    "\n",
    "This notebook is organized as follows\n",
    "\n",
    "1. [Step 1](#initializenrpy): Set core NRPy+ parameters for numerical grids and reference metric\n",
    "1. [Step 2](#ccodegen): Generate C code kernels for BSSN expressions, in parallel if possible\n",
    "    1. [Step 2.a](#rfm_ccodegen): Generate C code kernels for reference metric\n",
    "1. [Step 3](#cparams_rfm_and_domainsize): Set `free_parameters.h`; also output C codes needed for declaring and setting Cparameters\n",
    "1. [Step 4](#bc_functs): Set up boundary condition functions for chosen singular, curvilinear coordinate system\n",
    "1. [Step 5](#mainc): `BrillLindquist_Playground`: The C code `main()` function\n",
    "1. [Step 6](#compileexec): Compile generated C codes & perform the black hole collision calculation\n",
    "1. [Step 7](#visualize): Visualize the output!\n",
    "    1. [Step 7.a](#installdownload): Install `scipy` and download `ffmpeg` if they are not yet installed/downloaded\n",
    "    1. [Step 7.b](#genimages): Generate images for visualization animation\n",
    "    1. [Step 7.c](#genvideo): Generate visualization animation\n",
    "1. [Step 8](#convergence): Plot the numerical error, and confirm that it converges to zero with increasing numerical resolution (sampling)\n",
    "1. [Step 9](#latex_pdf_output): Output this notebook to $\\LaTeX$-formatted PDF file"
   ]
  },
  {
   "cell_type": "markdown",
   "metadata": {},
   "source": [
    "<a id='initializenrpy'></a>\n",
    "\n",
    "# Step 1: Set core NRPy+ parameters for numerical grids and reference metric \\[Back to [top](#toc)\\]\n",
    "$$\\label{initializenrpy}$$"
   ]
  },
  {
   "cell_type": "code",
   "execution_count": 1,
   "metadata": {
    "execution": {
     "iopub.execute_input": "2021-03-07T17:28:22.699247Z",
     "iopub.status.busy": "2021-03-07T17:28:22.691709Z",
     "iopub.status.idle": "2021-03-07T17:28:23.477052Z",
     "shell.execute_reply": "2021-03-07T17:28:23.476205Z"
    }
   },
   "outputs": [],
   "source": [
    "# Step P1: Import needed NRPy+ core modules:\n",
    "from outputC import lhrh,outCfunction,outC_function_dict, add_to_Cfunction_dict # NRPy+: Core C code output module\n",
    "import finite_difference as fin  # NRPy+: Finite difference C code generation module\n",
    "import NRPy_param_funcs as par   # NRPy+: Parameter interface\n",
    "import grid as gri               # NRPy+: Functions having to do with numerical grids\n",
    "import reference_metric as rfm   # NRPy+: Reference metric support\n",
    "import cmdline_helper as cmd     # NRPy+: Multi-platform Python command-line interface\n",
    "from pickling import pickle_NRPy_env, unpickle_NRPy_env  # NRPy+: Pickle/unpickle NRPy+ environment, for parallel codegen\n",
    "import shutil, os, sys, time     # Standard Python modules for multiplatform OS-level functions, benchmarking\n",
    "\n",
    "# Step P2: Create C code output directory:\n",
    "Ccodesrootdir = os.path.join(\"BSSN_Two_BHs_Collide_Ccodes_new_way\")\n",
    "# First remove C code output directory if it exists\n",
    "# Courtesy https://stackoverflow.com/questions/303200/how-do-i-remove-delete-a-folder-that-is-not-empty\n",
    "# !rm -r ScalarWaveCurvilinear_Playground_Ccodes\n",
    "shutil.rmtree(Ccodesrootdir, ignore_errors=True)\n",
    "# Then create a fresh directory\n",
    "cmd.mkdir(Ccodesrootdir)\n",
    "\n",
    "# Step P3: Create executable output directory:\n",
    "outdir = os.path.join(Ccodesrootdir, \"output\")\n",
    "cmd.mkdir(outdir)\n",
    "\n",
    "# Step 1.a: Enable SIMD-optimized code?\n",
    "#           I.e., generate BSSN and Ricci C code kernels using SIMD-vectorized\n",
    "#           compiler intrinsics, which *greatly improve the code's performance*,\n",
    "#           though at the expense of making the C-code kernels less\n",
    "#           human-readable.\n",
    "#           * Important note in case you wish to modify the BSSN/Ricci kernels\n",
    "#             here by adding expressions containing transcendental functions\n",
    "#             (e.g., certain scalar fields):\n",
    "#           Note that SIMD-based transcendental function intrinsics are not\n",
    "#           supported by the default installation of gcc or clang (you will\n",
    "#           need to use e.g., the SLEEF library from sleef.org, for this\n",
    "#           purpose). The Intel compiler suite does support these intrinsics\n",
    "#           however without the need for external libraries.\n",
    "SIMD_enable = True\n",
    "\n",
    "# Step 1.b: Enable reference metric precomputation.\n",
    "#  WARNING: \"False\" not currently supported.\n",
    "enable_rfm_precompute = True\n",
    "\n",
    "# Step 2: Set some core parameters, including CoordSystem MoL timestepping algorithm,\n",
    "#                                 FD order, floating point precision, and CFL factor:\n",
    "# Choices are: Spherical, SinhSpherical, SinhSphericalv2, Cylindrical, SinhCylindrical,\n",
    "#              SymTP, SinhSymTP\n",
    "CoordSystem     = \"Spherical\"\n",
    "par.set_parval_from_str(\"reference_metric::CoordSystem\", CoordSystem)\n",
    "rfm.reference_metric()\n",
    "\n",
    "# Step 2.a: Set defaults for Coordinate system parameters.\n",
    "#           These are perhaps the most commonly adjusted parameters,\n",
    "#           so we enable modifications at this high level.\n",
    "\n",
    "# domain_size sets the default value for:\n",
    "#   * Spherical's params.RMAX\n",
    "#   * SinhSpherical*'s params.AMAX\n",
    "#   * Cartesians*'s -params.{x,y,z}min & .{x,y,z}max\n",
    "#   * Cylindrical's -params.ZMIN & .{Z,RHO}MAX\n",
    "#   * SinhCylindrical's params.AMPL{RHO,Z}\n",
    "#   * *SymTP's params.AMAX\n",
    "domain_size     = 7.5 # Needed for all coordinate systems.\n",
    "\n",
    "# sinh_width sets the default value for:\n",
    "#   * SinhSpherical's params.SINHW\n",
    "#   * SinhCylindrical's params.SINHW{RHO,Z}\n",
    "#   * SinhSymTP's params.SINHWAA\n",
    "sinh_width      = 0.4 # If Sinh* coordinates chosen\n",
    "\n",
    "# sinhv2_const_dr sets the default value for:\n",
    "#   * SinhSphericalv2's params.const_dr\n",
    "#   * SinhCylindricalv2's params.const_d{rho,z}\n",
    "sinhv2_const_dr = 0.05 # If Sinh*v2 coordinates chosen\n",
    "\n",
    "# SymTP_bScale sets the default value for:\n",
    "#   * SinhSymTP's params.bScale\n",
    "SymTP_bScale    = 0.5 # If SymTP chosen\n",
    "\n",
    "# Step 2.b: Set the order of spatial and temporal derivatives;\n",
    "#           the core data type, and the CFL factor.\n",
    "# RK_method choices include: Euler, \"RK2 Heun\", \"RK2 MP\", \"RK2 Ralston\", RK3, \"RK3 Heun\", \"RK3 Ralston\",\n",
    "#              SSPRK3, RK4, DP5, DP5alt, CK5, DP6, L6, DP8\n",
    "RK_method = \"RK4\"\n",
    "FD_order  = 4           # Finite difference order: even numbers only, starting with 2. 12 is generally unstable\n",
    "REAL      = \"double\"    # Best to use double here.\n",
    "default_CFL_FACTOR= 0.5 # (GETS OVERWRITTEN WHEN EXECUTED.) In pure axisymmetry (symmetry_axes = 2 below) 1.0 works fine. Otherwise 0.5 or lower."
   ]
  },
  {
   "cell_type": "code",
   "execution_count": 2,
   "metadata": {
    "execution": {
     "iopub.execute_input": "2021-03-07T17:28:22.699247Z",
     "iopub.status.busy": "2021-03-07T17:28:22.691709Z",
     "iopub.status.idle": "2021-03-07T17:28:23.477052Z",
     "shell.execute_reply": "2021-03-07T17:28:23.476205Z"
    }
   },
   "outputs": [],
   "source": [
    "# Step 5: Set the finite differencing order to FD_order (set above).\n",
    "par.set_parval_from_str(\"finite_difference::FD_CENTDERIVS_ORDER\", FD_order)\n",
    "\n",
    "# Directory for reference_metric precomputation header files:\n",
    "rfm_precompute_Ccode_outdir = os.path.join(Ccodesrootdir, \"rfm_files/\")\n",
    "if enable_rfm_precompute:\n",
    "    cmd.mkdir(os.path.join(Ccodesrootdir, \"rfm_files/\"))\n",
    "    par.set_parval_from_str(\"reference_metric::rfm_precompute_Ccode_outdir\", rfm_precompute_Ccode_outdir)\n",
    "\n",
    "# Step 6: Copy SIMD/SIMD_intrinsics.h to $Ccodesrootdir/SIMD/SIMD_intrinsics.h\n",
    "if SIMD_enable:\n",
    "    cmd.mkdir(os.path.join(Ccodesrootdir,\"SIMD\"))\n",
    "    shutil.copy(os.path.join(\"SIMD/\")+\"SIMD_intrinsics.h\",os.path.join(Ccodesrootdir,\"SIMD/\"))\n",
    "\n",
    "# Step 7: Enable \"FD functions\". In other words, all finite-difference stencils\n",
    "#         will be output as inlined static functions. This is essential for\n",
    "#         compiling highly complex FD kernels with using certain versions of GCC;\n",
    "#         GCC 10-ish will choke on BSSN FD kernels at high FD order, sometimes\n",
    "#         taking *hours* to compile. Unaffected GCC versions compile these kernels\n",
    "#         in seconds. FD functions do not slow the code performance, but do add\n",
    "#         another header file to the C source tree.\n",
    "# With gcc 7.5.0, FD_functions_enable=True decreases performance by 10%\n",
    "FD_functions_enable = False\n",
    "par.set_parval_from_str(\"finite_difference::FD_functions_enable\", FD_functions_enable)\n",
    "\n",
    "# Step 8: If SIMD_enable, then copy SIMD/SIMD_intrinsics.h to $Ccodesrootdir/SIMD/SIMD_intrinsics.h\n",
    "cmd.mkdir(os.path.join(Ccodesrootdir,\"SIMD\"))\n",
    "if SIMD_enable:\n",
    "    shutil.copy(os.path.join(\"SIMD\", \"SIMD_intrinsics.h\"), os.path.join(Ccodesrootdir, \"SIMD\"))\n",
    "\n",
    "# Step 9: Set the direction=2 (phi) axis to be the symmetry axis; i.e.,\n",
    "#         axis \"2\", corresponding to the i2 direction.\n",
    "#      This sets all spatial derivatives in the phi direction to zero.\n",
    "par.set_parval_from_str(\"indexedexp::symmetry_axes\",\"2\")"
   ]
  },
  {
   "cell_type": "code",
   "execution_count": 3,
   "metadata": {
    "execution": {
     "iopub.execute_input": "2021-03-07T17:28:22.699247Z",
     "iopub.status.busy": "2021-03-07T17:28:22.691709Z",
     "iopub.status.idle": "2021-03-07T17:28:23.477052Z",
     "shell.execute_reply": "2021-03-07T17:28:23.476205Z"
    }
   },
   "outputs": [],
   "source": [
    "# Step 10: Generate Runge-Kutta-based (RK-based) timestepping code.\n",
    "#       As described above the Table of Contents, this is a 3-step process:\n",
    "#       3.A: Evaluate RHSs (RHS_string)\n",
    "#       3.B: Apply boundary conditions (post_RHS_string, pt 1)\n",
    "#       3.C: Enforce det(gammabar) = det(gammahat) constraint (post_RHS_string, pt 2)\n",
    "import MoLtimestepping.MoL_new_way as MoL\n",
    "# from MoLtimestepping.RK_Butcher_Table_Dictionary import Butcher_dict\n",
    "# RK_order  = Butcher_dict[RK_method][1]\n",
    "RHS_string      = \"\"\"\n",
    "Ricci_eval(params, rfmstruct, RK_INPUT_GFS, auxevol_gfs);\n",
    "rhs_eval(params, rfmstruct, auxevol_gfs, RK_INPUT_GFS, RK_OUTPUT_GFS);\"\"\"\n",
    "post_RHS_string = \"\"\"\n",
    "apply_bcs_curvilinear(params, bcstruct, NUM_EVOL_GFS, evol_gf_parity, RK_OUTPUT_GFS);\n",
    "enforce_detgammahat_constraint(params, rfmstruct,                     RK_OUTPUT_GFS);\\n\"\"\"\n",
    "\n",
    "MoL.register_C_functions_and_NRPy_basic_defines(RK_method,\n",
    "        RHS_string=RHS_string, post_RHS_string=post_RHS_string,\n",
    "        enable_rfm=enable_rfm_precompute, enable_curviBCs=True)"
   ]
  },
  {
   "cell_type": "markdown",
   "metadata": {},
   "source": [
    "<a id='ccodegen'></a>\n",
    "\n",
    "# Step 2: Generate C code kernels for BSSN expressions, in parallel if possible \\[Back to [top](#toc)\\]\n",
    "$$\\label{ccodegen}$$\n",
    "\n",
    "In the following code cell, we create a list of Python functions, which each registers a single C code function in `outputC`'s `outC_function_dict` dictionary. These Python functions are defined in \n",
    "\n",
    "1. the [`BSSN.BrillLindquist`](../edit/BSSN/BrillLindquist.py) NRPy+ module, which does the following:\n",
    "    1. Sets up Brill-Lindquist initial data [ADM](https://en.wikipedia.org/wiki/ADM_formalism) quantities in the **Cartesian basis**, as [documented here](Tutorial-ADM_Initial_Data-Brill-Lindquist.ipynb). \n",
    "    1. Converts the ADM **Cartesian quantities** to **BSSN quantities in the desired Curvilinear basis** (set by reference_metric::CoordSystem), as [documented here](Tutorial-ADM_Initial_Data-Converting_ADMCartesian_to_BSSNCurvilinear.ipynb).\n",
    "    1. Sets up the standardized C function for setting all BSSN Curvilinear gridfunctions in a pointwise fashion, as [written here](../edit/BSSN/BSSN_ID_function_string.py), and returns the C function as a Python string.\n",
    "1. the [`BSSN.BSSN_Ccodegen_library`](../edit/BSSN/BSSN_Ccodegen_library.py) NRPy+ module [\\[**tutorial**\\]](Tutorial-BSSN_time_evolution-C_codegen_library.ipynb), which contains Python functions for generating C code from symbolic expressions constructed within the following NRPy+ modules/tutorials:\n",
    "    1. [BSSN/BSSN_constraints.py](../edit/BSSN/BSSN_constraints.py); [\\[**tutorial**\\]](Tutorial-BSSN_constraints.ipynb): Hamiltonian constraint in BSSN curvilinear basis/coordinates\n",
    "    1. [BSSN/BSSN_RHSs.py](../edit/BSSN/BSSN_RHSs.py); [\\[**tutorial**\\]](Tutorial-BSSN_time_evolution-BSSN_RHSs.ipynb): Generates the right-hand sides for the BSSN evolution equations in singular, curvilinear coordinates\n",
    "    1. [BSSN/BSSN_gauge_RHSs.py](../edit/BSSN/BSSN_gauge_RHSs.py); [\\[**tutorial**\\]](Tutorial-BSSN_time_evolution-BSSN_gauge_RHSs.ipynb): Generates the right-hand sides for the BSSN gauge evolution equations in singular, curvilinear coordinates\n",
    "    1. [BSSN/Enforce_Detgammahat_Constraint.py](../edit/BSSN/Enforce_Detgammahat_Constraint.py); [**tutorial**](Tutorial-BSSN_enforcing_determinant_gammabar_equals_gammahat_constraint.ipynb): Generates symbolic expressions for enforcing the $\\det{\\bar{\\gamma}}=\\det{\\hat{\\gamma}}$ constraint\n",
    "\n",
    "\n",
    "Next, from within a `multiprocessing` environment, we then call all the Python C-code generation functions in this list in parallel (if `multiprocessing` is supported). This is quite useful, as these functions take several seconds to complete.\n",
    "\n",
    "Within each `multiprocessing` process, the current NRPy+ environment is cloned, and a new function is registered to the `outC_function_dict` dictionary. Thus when each process completes, it contains a unique NRPy+ environment, with only its function registered. We address this by saving each process' NRPy+ environment and sending it back in a common binary format known as a `pickle`, using NRPy+'s [`pickling`](../edit/pickling.py) module. The environments are combined in an unpickling such that all functions exist within the same `outC_function_dict` dictionary.\n",
    "\n",
    "To make the current environment fully consistent, we call `reference_metric.py` to register all its associated C functions (stored in globals) and contributions to `NRPy_basic_defines.h`."
   ]
  },
  {
   "cell_type": "code",
   "execution_count": 4,
   "metadata": {
    "execution": {
     "iopub.execute_input": "2021-03-07T17:28:28.173100Z",
     "iopub.status.busy": "2021-03-07T17:28:28.172204Z",
     "iopub.status.idle": "2021-03-07T17:29:26.259689Z",
     "shell.execute_reply": "2021-03-07T17:29:26.258974Z"
    }
   },
   "outputs": [
    {
     "name": "stdout",
     "output_type": "stream",
     "text": [
      "Generating symbolic expressions for 3-Ricci tensor (Spherical coords)...\n",
      "Generating symbolic expressions for BSSN constraints (Spherical coords)...\n",
      "Generating symbolic expressions for BSSN_RHSs (Spherical coords)...\n",
      "Generating C code for Enforcing det(gammabar)=det(gammahat) constraint (Spherical coords)...\n",
      "Finished generating C code for Enforcing det(gammabar)=det(gammahat) constraint (Spherical coords) in 0.0 seconds.\n",
      "Finished generating symbolic expressions for 3-Ricci tensor (Spherical coords) in 0.3 seconds. Next up: C codegen...\n",
      "Generating C code for 3-Ricci tensor (Spherical coords)...\n",
      "Finished generating symbolic expressions for BSSN constraints (Spherical coords) in 0.5 seconds. Next up: C codegen...\n",
      "Generating C code for BSSN constraints (Spherical coords)...\n",
      "Finished generating symbolic expressions for BSSN_RHSs (Spherical coords) in 0.9 seconds. Next up: C codegen...\n",
      "Generating C code for BSSN_RHSs (Spherical coords)...\n",
      "Finished generating C code for BSSN constraints (Spherical coords) in 1.1 seconds.\n",
      "Finished generating C code for BSSN_RHSs (Spherical coords) in 7.2 seconds.\n",
      "Finished generating C code for 3-Ricci tensor (Spherical coords) in 10.4 seconds.\n"
     ]
    }
   ],
   "source": [
    "# Step 2: Generate C code kernels for BSSN expressions, in parallel if possible;\n",
    "import BSSN.BSSN_Ccodegen_library as BCL\n",
    "import BSSN.BrillLindquist as bl\n",
    "# Step 2.a: Create a list of functions we wish to evaluate in parallel (if possible)\n",
    "# Create lists for all BSSN functions\n",
    "BSSN_funcs = [bl.BrillLindquist]\n",
    "BSSN_funcs.append(BCL.add_rhs_eval_to_Cfunction_dict)\n",
    "BSSN_funcs.append(BCL.add_Ricci_eval_to_Cfunction_dict)\n",
    "BSSN_funcs.append(BCL.add_BSSN_constraints_to_Cfunction_dict)\n",
    "BSSN_funcs.append(BCL.add_enforce_detgammahat_constraint_to_Cfunction_dict)\n",
    "\n",
    "# Step 2.b: Define master functions for parallelization.\n",
    "#           Note that lambdifying this doesn't work in Python 3\n",
    "def master_func(arg):\n",
    "    if BSSN_funcs[arg] == bl.BrillLindquist:\n",
    "        ret = BSSN_funcs[arg](include_NRPy_basic_defines_and_pickle=True)\n",
    "    else:\n",
    "        if enable_rfm_precompute:\n",
    "            # We use rfm_precompute for all BSSN functions:\n",
    "            par.set_parval_from_str(\"reference_metric::enable_rfm_precompute\", \"True\")\n",
    "            rfm.reference_metric()\n",
    "\n",
    "        if BSSN_funcs[arg] == BCL.add_BSSN_constraints_to_Cfunction_dict:\n",
    "            ret = BSSN_funcs[arg](includes=[\"NRPy_basic_defines.h\"],\n",
    "                                  rel_path_to_Cparams=os.path.join(\".\"), output_H_only=True)\n",
    "        else:\n",
    "            ret = BSSN_funcs[arg](includes=[\"NRPy_basic_defines.h\"],\n",
    "                                  rel_path_to_Cparams=os.path.join(\".\"))\n",
    "\n",
    "        if enable_rfm_precompute:\n",
    "            par.set_parval_from_str(\"reference_metric::enable_rfm_precompute\", \"False\")\n",
    "            rfm.ref_metric__hatted_quantities()\n",
    "    return ret\n",
    "\n",
    "\n",
    "NRPyEnvVars = []\n",
    "raised_exception = False\n",
    "try:\n",
    "    if os.name == 'nt':\n",
    "        # It's a mess to get working in Windows, so we don't bother. :/\n",
    "        #  https://medium.com/@grvsinghal/speed-up-your-python-code-using-multiprocessing-on-windows-and-jupyter-or-ipython-2714b49d6fac\n",
    "        raise Exception(\"Parallel codegen currently not available in certain environments, e.g., Windows\")\n",
    "\n",
    "    # Step 2.d: Import the multiprocessing module.\n",
    "    import multiprocessing\n",
    "\n",
    "    # Step 2.e: Evaluate list of functions in parallel if possible;\n",
    "    #           otherwise fallback to serial evaluation:\n",
    "    pool = multiprocessing.Pool()\n",
    "    NRPyEnvVars.append(pool.map(master_func, range(len(BSSN_funcs))))\n",
    "    pool.terminate()\n",
    "    pool.join()\n",
    "except:\n",
    "    print(\"FAILED PARALLEL CODEGEN!\")\n",
    "    NRPyEnvVars = [] # Reset, as pickling/unpickling unnecessary for serial codegen (see next line)\n",
    "\n",
    "    # Steps 2.d-e, alternate: As fallback, evaluate functions in serial.\n",
    "    #       This will happen on Android and Windows systems\n",
    "    for i, func in enumerate(BSSN_funcs):\n",
    "        master_func(i)\n",
    "    raised_exception = True\n",
    "\n",
    "if not raised_exception:\n",
    "    unpickle_NRPy_env(NRPyEnvVars)\n",
    "\n",
    "# Step 2.f Output functions for computing all finite-difference stencils\n",
    "if FD_functions_enable and len(pickled_outC_func_dict)>0:\n",
    "    # First unpickle pickled_outC_func_dict\n",
    "    outCfunc_dict = {}\n",
    "    for WhichFunc in pickled_outC_func_dict[0]:\n",
    "        i=0\n",
    "        num_elements = pickle.loads(WhichFunc[i]); i+=1\n",
    "        for lst in range(num_elements):\n",
    "            funcname = pickle.loads(WhichFunc[i+0])\n",
    "            funcbody = pickle.loads(WhichFunc[i+1]) ; i+=2\n",
    "            outCfunc_dict[funcname] = funcbody\n",
    "    # Then store the unpickled outCfunc_dict to outputC's outC_function_dict\n",
    "    for key, item in outCfunc_dict.items():\n",
    "        outC_function_dict[key] = item\n",
    "if FD_functions_enable:\n",
    "    # Finally generate finite_difference_functions.h\n",
    "    fin.output_finite_difference_functions_h(path=Ccodesrootdir)"
   ]
  },
  {
   "cell_type": "markdown",
   "metadata": {},
   "source": [
    "<a id='rfm_ccodegen'></a>\n",
    "\n",
    "## Step 2.a: Generate C code kernels for reference metric \\[Back to [top](#toc)\\]\n",
    "$$\\label{rfm_ccodegen}$$\n",
    "\n",
    "In the [reference_metric](../edit/reference_metric.py) NRPy+ module, `register_C_functions_and_NRPy_basic_defines()` registers the following C functions to `outC_Cfunction_dict`:\n",
    "\n",
    "1. `find_timestep()`: Finds the minimum spacing between adjacent gridpoints on our numerical grid $\\min(ds_i)$, and sets the timestep according to the [CFL](https://en.wikipedia.org/w/index.php?title=Courant%E2%80%93Friedrichs%E2%80%93Lewy_condition&oldid=806430673) condition: $\\Delta t \\le \\frac{\\min(ds_i)}{c}$, where $c$ is the wavespeed, and $ds_i = h_i \\Delta x^i$ is the proper distance between neighboring gridpoints in the $i$th direction (in 3D, there are 3 directions), $h_i$ is the $i$th reference metric scale factor, and $\\Delta x^i$ is the uniform grid spacing in the $i$th direction.\n",
    "1. `xx_to_Cart()`: Input = uniformly sampled coordinate xx0,xx1,xx2 (e.g., r,theta,phi in Spherical coordinates). Output = Cartesian coordinate (x,y,z).\n",
    "1. `set_Nxx_dxx_invdx_params__and__xx()`: Sets `Nxx{0,1,2}`, `Nxx_plus_2NGHOSTS{0,1,2}`, `dxx{0,1,2}`, and `invdx{0,1,2}`; and defines `xx[3][]`.\n",
    "1. `Cart_to_xx_and_nearest_i0i1i2()`: Input = Cartesian coordinate (x,y,z). Output = uniformly sampled coordinate xx0,xx1,xx2 (e.g., r,theta,phi in Spherical coordinates), as well as corresponding grid index `i0,i1,i2`."
   ]
  },
  {
   "cell_type": "code",
   "execution_count": 5,
   "metadata": {
    "execution": {
     "iopub.execute_input": "2021-03-07T17:28:23.485225Z",
     "iopub.status.busy": "2021-03-07T17:28:23.484409Z",
     "iopub.status.idle": "2021-03-07T17:28:23.487492Z",
     "shell.execute_reply": "2021-03-07T17:28:23.486952Z"
    }
   },
   "outputs": [],
   "source": [
    "# Generate & register C function set_Nxx_dxx_invdx_params__and__xx()\n",
    "# Generate & register C function xx_to_Cart() for\n",
    "#               (the mapping from xx->Cartesian) for the chosen\n",
    "#               CoordSystem:\n",
    "# Generate & register the find_timestep() function\n",
    "\n",
    "# Sets reference_metric globals: NRPy_basic_defines_str, rfm_struct__malloc, rfm_struct__define, rfm_struct__freemem\n",
    "if enable_rfm_precompute:\n",
    "    par.set_parval_from_str(\"reference_metric::rfm_precompute_Ccode_outdir\", rfm_precompute_Ccode_outdir)\n",
    "    par.set_parval_from_str(\"reference_metric::enable_rfm_precompute\", \"True\")\n",
    "    par.set_parval_from_str(\"reference_metric::rfm_precompute_to_Cfunctions_and_NRPy_basic_defines\", \"True\")\n",
    "    rfm.reference_metric()\n",
    "\n",
    "rfm.register_C_functions_and_NRPy_basic_defines(enable_rfm_precompute=enable_rfm_precompute,\n",
    "                                                use_unit_wavespeed_for_find_timestep=True)\n",
    "\n",
    "if enable_rfm_precompute:\n",
    "    par.set_parval_from_str(\"reference_metric::enable_rfm_precompute\", \"False\")\n",
    "    rfm.ref_metric__hatted_quantities()"
   ]
  },
  {
   "cell_type": "markdown",
   "metadata": {},
   "source": [
    "<a id='cparams_rfm_and_domainsize'></a>\n",
    "\n",
    "# Step 3: Set `free_parameters.h`; also output C codes needed for declaring and setting Cparameters  \\[Back to [top](#toc)\\]\n",
    "$$\\label{cparams_rfm_and_domainsize}$$\n",
    "\n",
    "First we output `free_parameters.h`, which sets initial data parameters, as well as grid domain & reference metric parameters, applying `domain_size` and `sinh_width`/`SymTP_bScale` (if applicable) as set above\n",
    "\n",
    "Then, based on declared NRPy+ Cparameters, we generate `declare_Cparameters_struct.h`, `set_Cparameters_default.h`, and `set_Cparameters[-SIMD].h`."
   ]
  },
  {
   "cell_type": "code",
   "execution_count": 6,
   "metadata": {
    "execution": {
     "iopub.execute_input": "2021-03-07T17:29:26.267199Z",
     "iopub.status.busy": "2021-03-07T17:29:26.266248Z",
     "iopub.status.idle": "2021-03-07T17:29:26.405004Z",
     "shell.execute_reply": "2021-03-07T17:29:26.404359Z"
    }
   },
   "outputs": [],
   "source": [
    "# Step 3.e.i: Set free_parameters.h\n",
    "with open(os.path.join(Ccodesrootdir,\"free_parameters.h\"),\"w\") as file:\n",
    "    file.write(\"\"\"\n",
    "// Set free-parameter values.\n",
    "// Set the default CFL Factor. Can be overwritten at command line.\n",
    "REAL CFL_FACTOR = \"\"\"+str(default_CFL_FACTOR)+r\"\"\";\n",
    "\n",
    "// Set free-parameter values for BSSN evolution:\n",
    "params.eta = 1.0;\n",
    "\n",
    "// Set free parameters for the (Brill-Lindquist) initial data\n",
    "params.BH1_posn_x = 0.0; params.BH1_posn_y = 0.0; params.BH1_posn_z =+0.5;\n",
    "params.BH2_posn_x = 0.0; params.BH2_posn_y = 0.0; params.BH2_posn_z =-0.5;\n",
    "params.BH1_mass = 0.5; params.BH2_mass = 0.5;\n",
    "\"\"\")\n",
    "\n",
    "# Append to $Ccodesrootdir/free_parameters.h reference metric parameters based on generic\n",
    "#    domain_size,sinh_width,sinhv2_const_dr,SymTP_bScale,\n",
    "#    parameters set above.\n",
    "rfm.out_default_free_parameters_for_rfm(os.path.join(Ccodesrootdir,\"free_parameters.h\"),\n",
    "                                        domain_size,sinh_width,sinhv2_const_dr,SymTP_bScale)"
   ]
  },
  {
   "cell_type": "code",
   "execution_count": 7,
   "metadata": {
    "execution": {
     "iopub.execute_input": "2021-03-07T17:29:26.267199Z",
     "iopub.status.busy": "2021-03-07T17:29:26.266248Z",
     "iopub.status.idle": "2021-03-07T17:29:26.405004Z",
     "shell.execute_reply": "2021-03-07T17:29:26.404359Z"
    }
   },
   "outputs": [],
   "source": [
    "# Step 3.e.ii: Output C codes needed for declaring and setting Cparameters:\n",
    "#   Generate declare_Cparameters_struct.h, set_Cparameters_default.h, and set_Cparameters[-SIMD].h\n",
    "par.generate_Cparameters_Ccodes(os.path.join(Ccodesrootdir))"
   ]
  },
  {
   "cell_type": "markdown",
   "metadata": {},
   "source": [
    "<a id='bc_functs'></a>\n",
    "\n",
    "# Step 4: Set up boundary condition functions for chosen singular, curvilinear coordinate system \\[Back to [top](#toc)\\]\n",
    "$$\\label{bc_functs}$$\n",
    "\n",
    "Next apply singular, curvilinear coordinate boundary conditions [as documented in the corresponding NRPy+ tutorial notebook](Tutorial-Start_to_Finish-Curvilinear_BCs_new_way.ipynb)"
   ]
  },
  {
   "cell_type": "code",
   "execution_count": 8,
   "metadata": {
    "execution": {
     "iopub.execute_input": "2021-03-07T17:29:26.410971Z",
     "iopub.status.busy": "2021-03-07T17:29:26.409887Z",
     "iopub.status.idle": "2021-03-07T17:29:26.646133Z",
     "shell.execute_reply": "2021-03-07T17:29:26.645571Z"
    }
   },
   "outputs": [
    {
     "name": "stdout",
     "output_type": "stream",
     "text": [
      "Evolved gridfunction \"aDD00\" has parity type 4.\n",
      "Evolved gridfunction \"aDD01\" has parity type 5.\n",
      "Evolved gridfunction \"aDD02\" has parity type 6.\n",
      "Evolved gridfunction \"aDD11\" has parity type 7.\n",
      "Evolved gridfunction \"aDD12\" has parity type 8.\n",
      "Evolved gridfunction \"aDD22\" has parity type 9.\n",
      "Evolved gridfunction \"alpha\" has parity type 0.\n",
      "Evolved gridfunction \"betU0\" has parity type 1.\n",
      "Evolved gridfunction \"betU1\" has parity type 2.\n",
      "Evolved gridfunction \"betU2\" has parity type 3.\n",
      "Evolved gridfunction \"cf\" has parity type 0.\n",
      "Evolved gridfunction \"hDD00\" has parity type 4.\n",
      "Evolved gridfunction \"hDD01\" has parity type 5.\n",
      "Evolved gridfunction \"hDD02\" has parity type 6.\n",
      "Evolved gridfunction \"hDD11\" has parity type 7.\n",
      "Evolved gridfunction \"hDD12\" has parity type 8.\n",
      "Evolved gridfunction \"hDD22\" has parity type 9.\n",
      "Evolved gridfunction \"lambdaU0\" has parity type 1.\n",
      "Evolved gridfunction \"lambdaU1\" has parity type 2.\n",
      "Evolved gridfunction \"lambdaU2\" has parity type 3.\n",
      "Evolved gridfunction \"trK\" has parity type 0.\n",
      "Evolved gridfunction \"vetU0\" has parity type 1.\n",
      "Evolved gridfunction \"vetU1\" has parity type 2.\n",
      "Evolved gridfunction \"vetU2\" has parity type 3.\n",
      "Auxiliary gridfunction \"H\" has parity type 0.\n",
      "AuxEvol gridfunction \"RbarDD00\" has parity type 4.\n",
      "AuxEvol gridfunction \"RbarDD01\" has parity type 5.\n",
      "AuxEvol gridfunction \"RbarDD02\" has parity type 6.\n",
      "AuxEvol gridfunction \"RbarDD11\" has parity type 7.\n",
      "AuxEvol gridfunction \"RbarDD12\" has parity type 8.\n",
      "AuxEvol gridfunction \"RbarDD22\" has parity type 9.\n"
     ]
    }
   ],
   "source": [
    "import CurviBoundaryConditions.CurviBoundaryConditions_new_way as CBC\n",
    "CBC.CurviBoundaryConditions_register_C_functions_and_NRPy_basic_defines()"
   ]
  },
  {
   "cell_type": "markdown",
   "metadata": {},
   "source": [
    "<a id='mainc'></a>\n",
    "\n",
    "# Step 5: The C code `main()` function for `BrillLindquist_Playground` \\[Back to [top](#toc)\\]\n",
    "$$\\label{mainc}$$"
   ]
  },
  {
   "cell_type": "code",
   "execution_count": 9,
   "metadata": {
    "execution": {
     "iopub.execute_input": "2021-03-07T17:29:26.663499Z",
     "iopub.status.busy": "2021-03-07T17:29:26.662574Z",
     "iopub.status.idle": "2021-03-07T17:29:26.665783Z",
     "shell.execute_reply": "2021-03-07T17:29:26.666258Z"
    }
   },
   "outputs": [],
   "source": [
    "def add_to_Cfunction_dict_main__BrillLindquist_Playground():\n",
    "    includes = [\"NRPy_basic_defines.h\", \"NRPy_function_prototypes.h\", \"time.h\"]\n",
    "    desc = \"\"\"\n",
    "// main() function:\n",
    "// Step 0: Read command-line input, set up grid structure, allocate memory for gridfunctions, set up coordinates\n",
    "// Step 1: Set up initial data to an exact solution\n",
    "// Step 2: Start the timer, for keeping track of how fast the simulation is progressing.\n",
    "// Step 3: Integrate the initial data forward in time using the chosen RK-like Method of\n",
    "//         Lines timestepping algorithm, and output periodic simulation diagnostics\n",
    "// Step 3.a: Output 2D data file periodically, for visualization\n",
    "// Step 3.b: Step forward one timestep (t -> t+dt) in time using\n",
    "//           chosen RK-like MoL timestepping algorithm\n",
    "// Step 3.c: If t=t_final, output conformal factor & Hamiltonian\n",
    "//           constraint violation to 2D data file\n",
    "// Step 3.d: Progress indicator printing to stderr\n",
    "// Step 4: Free all allocated memory\n",
    "\"\"\"\n",
    "    c_type = \"int\"\n",
    "    name = \"main\"\n",
    "    params = \"int argc, const char *argv[]\"\n",
    "    body = r\"\"\"\n",
    "  paramstruct params;\n",
    "#include \"set_Cparameters_default.h\"\n",
    "\n",
    "  // Step 0a: Set free parameters, overwriting Cparameters defaults\n",
    "  //          by hand or with command-line input, as desired.\n",
    "#include \"free_parameters.h\"\n",
    "\n",
    "  // Step 0b: Read command-line input, error out if nonconformant\n",
    "  if((argc != 4 && argc != 5) || atoi(argv[1]) < NGHOSTS || atoi(argv[2]) < NGHOSTS || atoi(argv[3]) < 2 /* FIXME; allow for axisymmetric sims */) {\n",
    "    fprintf(stderr,\"Error: Expected three command-line arguments: ./BrillLindquist_Playground Nx0 Nx1 Nx2,\\n\");\n",
    "    fprintf(stderr,\"where Nx[0,1,2] is the number of grid points in the 0, 1, and 2 directions.\\n\");\n",
    "    fprintf(stderr,\"Nx[] MUST BE larger than NGHOSTS (= %d)\\n\",NGHOSTS);\n",
    "    exit(1);\n",
    "  }\n",
    "  if(argc == 5) {\n",
    "    CFL_FACTOR = strtod(argv[4],NULL);\n",
    "    if(CFL_FACTOR > 0.5 && atoi(argv[3])!=2) {\n",
    "      fprintf(stderr,\"WARNING: CFL_FACTOR was set to %e, which is > 0.5.\\n\",CFL_FACTOR);\n",
    "      fprintf(stderr,\"         This will generally only be stable if the simulation is purely axisymmetric\\n\");\n",
    "      fprintf(stderr,\"         However, Nx2 was set to %d>2, which implies a non-axisymmetric simulation\\n\",atoi(argv[3]));\n",
    "    }\n",
    "  }\n",
    "  // Step 0c: Set up numerical grid structure, first in space...\n",
    "  const int Nxx[3] = { atoi(argv[1]), atoi(argv[2]), atoi(argv[3]) };\n",
    "  if(Nxx[0]%2 != 0 || Nxx[1]%2 != 0 || Nxx[2]%2 != 0) {\n",
    "    fprintf(stderr,\"Error: Cannot guarantee a proper cell-centered grid if number of grid cells not set to even number.\\n\");\n",
    "    fprintf(stderr,\"       For example, in case of angular directions, proper symmetry zones will not exist.\\n\");\n",
    "    exit(1);\n",
    "  }\n",
    "\n",
    "  // Step 0d: Uniform coordinate grids are stored to *xx[3]\n",
    "  REAL *xx[3];\n",
    "  // Step 0d.i: Set bcstruct\n",
    "  bc_struct bcstruct;\n",
    "  {\n",
    "    int EigenCoord = 1;\n",
    "    // Step 0d.ii: Call set_Nxx_dxx_invdx_params__and__xx(), which sets\n",
    "    //             params Nxx,Nxx_plus_2NGHOSTS,dxx,invdx, and xx[] for the\n",
    "    //             chosen Eigen-CoordSystem.\n",
    "    set_Nxx_dxx_invdx_params__and__xx(EigenCoord, Nxx, &params, xx);\n",
    "    // Step 0d.iii: Set Nxx_plus_2NGHOSTS_tot\n",
    "#include \"set_Cparameters-nopointer.h\"\n",
    "    const int Nxx_plus_2NGHOSTS_tot = Nxx_plus_2NGHOSTS0*Nxx_plus_2NGHOSTS1*Nxx_plus_2NGHOSTS2;\n",
    "    // Step 0e: Find ghostzone mappings; set up bcstruct\n",
    "    driver_bcstruct(&params, &bcstruct, xx);\n",
    "    // Step 0e.i: Free allocated space for xx[][] array\n",
    "    for(int i=0;i<3;i++) free(xx[i]);\n",
    "  }\n",
    "\n",
    "  // Step 0f: Call set_Nxx_dxx_invdx_params__and__xx(), which sets\n",
    "  //          params Nxx,Nxx_plus_2NGHOSTS,dxx,invdx, and xx[] for the\n",
    "  //          chosen (non-Eigen) CoordSystem.\n",
    "  int EigenCoord = 0;\n",
    "  set_Nxx_dxx_invdx_params__and__xx(EigenCoord, Nxx, &params, xx);\n",
    "\n",
    "  // Step 0g: Set all C parameters \"blah\" for params.blah, including\n",
    "  //          Nxx_plus_2NGHOSTS0 = params.Nxx_plus_2NGHOSTS0, etc.\n",
    "#include \"set_Cparameters-nopointer.h\"\n",
    "  const int Nxx_plus_2NGHOSTS_tot = Nxx_plus_2NGHOSTS0*Nxx_plus_2NGHOSTS1*Nxx_plus_2NGHOSTS2;\n",
    "\n",
    "  // Step 0h: Time coordinate parameters\n",
    "  const REAL t_final =  domain_size; /* Final time is set so that at t=t_final,\n",
    "                                      * data at the origin have not been corrupted\n",
    "                                      * by the approximate outer boundary condition */\n",
    "\n",
    "  // Step 0i: Set timestep based on smallest proper distance between gridpoints and CFL factor\n",
    "  REAL dt = find_timestep(&params, xx, CFL_FACTOR);\n",
    "  //fprintf(stderr,\"# Timestep set to = %e\\n\",(double)dt);\n",
    "  int N_final = (int)(t_final / dt + 0.5); // The number of points in time.\n",
    "  // Add 0.5 to account for C rounding down\n",
    "  // typecasts to integers.\n",
    "  int output_every_N = (int)((REAL)N_final/800.0);\n",
    "  if(output_every_N == 0) output_every_N = 1;\n",
    "\n",
    "  // Step 0j: Error out if the number of auxiliary gridfunctions outnumber evolved gridfunctions.\n",
    "  //              This is a limitation of the RK method. You are always welcome to declare & allocate\n",
    "  //              additional gridfunctions by hand.\n",
    "  if(NUM_AUX_GFS > NUM_EVOL_GFS) {\n",
    "    fprintf(stderr,\"Error: NUM_AUX_GFS > NUM_EVOL_GFS. Either reduce the number of auxiliary gridfunctions,\\n\");\n",
    "    fprintf(stderr,\"       or allocate (malloc) by hand storage for *diagnostic_output_gfs. \\n\");\n",
    "    exit(1);\n",
    "  }\n",
    "\n",
    "  // Step 0k: Declare struct for gridfunctions and allocate memory for y_n_gfs gridfunctions\n",
    "  MoL_gridfunctions_struct gridfuncs;\n",
    "  MoL_malloc_y_n_gfs(&params, &gridfuncs);\n",
    "\n",
    "  // Step 0l: Set up precomputed reference metric arrays\n",
    "  // Step 0l.i: Allocate space for precomputed reference metric arrays.\n",
    "  rfm_struct rfmstruct;\n",
    "  rfm_precompute_rfmstruct_malloc(&params, &rfmstruct);\n",
    "\n",
    "  // Step 0l.ii: Define precomputed reference metric arrays.\n",
    "  rfm_precompute_rfmstruct_define(&params, xx, &rfmstruct);\n",
    "\n",
    "  // Step 1: Set up initial data to an exact solution\n",
    "  initial_data(&params, xx, gridfuncs.y_n_gfs);\n",
    "\n",
    "  // Step 1a: Allocate memory for non-y_n_gfs gridfunctions\n",
    "  MoL_malloc_non_y_n_gfs(&params, &gridfuncs);\n",
    "  REAL *restrict auxevol_gfs = (REAL *)malloc(sizeof(REAL) * NUM_AUXEVOL_GFS * Nxx_plus_2NGHOSTS_tot);\n",
    "\n",
    "  // Step 1b: Apply boundary conditions, as initial data\n",
    "  //          are sometimes ill-defined in ghost zones.\n",
    "  //          E.g., spherical initial data might not be\n",
    "  //          properly defined at points where r=-1.\n",
    "  apply_bcs_curvilinear(&params, &bcstruct, NUM_EVOL_GFS,evol_gf_parity, gridfuncs.y_n_gfs);\n",
    "  enforce_detgammahat_constraint(&params, &rfmstruct, gridfuncs.y_n_gfs);\n",
    "\n",
    "  // Step 2: Start the timer, for keeping track of how fast the simulation is progressing.\n",
    "#ifdef __linux__ // Use high-precision timer in Linux.\n",
    "  struct timespec start, end;\n",
    "  clock_gettime(CLOCK_REALTIME, &start);\n",
    "#else     // Resort to low-resolution, standards-compliant timer in non-Linux OSs\n",
    "  // http://www.cplusplus.com/reference/ctime/time/\n",
    "  time_t start_timer,end_timer;\n",
    "  time(&start_timer); // Resolution of one second...\n",
    "#endif\n",
    "\n",
    "  // Step 3: Integrate the initial data forward in time using the chosen RK-like Method of\n",
    "  //         Lines timestepping algorithm, and output periodic simulation diagnostics\n",
    "  for(int n=0;n<=N_final;n++) { // Main loop to progress forward in time.\n",
    "\n",
    "    // Step 3.a: Output 2D data file periodically, for visualization\n",
    "    if(n%100 == 0) {\n",
    "      // Evaluate BSSN constraints (currently only Hamiltonian constraint violation computed).\n",
    "      Ricci_eval(&params, &rfmstruct, gridfuncs.y_n_gfs, gridfuncs.auxevol_gfs);  // <- depends on Ricci.\n",
    "      BSSN_constraints(&params, &rfmstruct, gridfuncs.y_n_gfs, gridfuncs.auxevol_gfs, gridfuncs.diagnostic_output_gfs);\n",
    "\n",
    "      char filename[100];\n",
    "      sprintf(filename,\"out%d-%08d.txt\",Nxx[0],n);\n",
    "      FILE *out2D = fopen(filename, \"w\");\n",
    "      LOOP_REGION(NGHOSTS,Nxx_plus_2NGHOSTS0-NGHOSTS,\n",
    "                  NGHOSTS,Nxx_plus_2NGHOSTS1-NGHOSTS,\n",
    "                  NGHOSTS,Nxx_plus_2NGHOSTS2-NGHOSTS) {\n",
    "        const int idx = IDX3S(i0,i1,i2);\n",
    "        REAL xx0 = xx[0][i0];\n",
    "        REAL xx1 = xx[1][i1];\n",
    "        REAL xx2 = xx[2][i2];\n",
    "        REAL xCart[3];\n",
    "        xx_to_Cart(&params,xx,i0,i1,i2,xCart);\n",
    "        fprintf(out2D,\"%e %e %e %e\\n\",\n",
    "                xCart[1],xCart[2],\n",
    "                gridfuncs.y_n_gfs[IDX4ptS(CFGF,idx)],log10(fabs(gridfuncs.diagnostic_output_gfs[IDX4ptS(HGF,idx)])));\n",
    "      }\n",
    "      fclose(out2D);\n",
    "    }\n",
    "\n",
    "    // Step 3: Evolve BSSN initial data forward in time using Method of Lines with RK4 algorithm,\n",
    "    //         applying quadratic extrapolation outer boundary conditions.\n",
    "    // Step 3.b: Step forward one timestep (t -> t+dt) in time using\n",
    "    //           chosen RK-like MoL timestepping algorithm\n",
    "    MoL_step_forward_in_time(&params, &rfmstruct, &bcstruct, &gridfuncs, dt);\n",
    "\n",
    "    // Step 3.c: If t=t_final, output conformal factor & Hamiltonian\n",
    "    //           constraint violation to 2D data file\n",
    "    if(n==N_final-1) {\n",
    "      // Evaluate BSSN constraints (currently only Hamiltonian constraint violation computed).\n",
    "      Ricci_eval(&params, &rfmstruct, gridfuncs.y_n_gfs, gridfuncs.auxevol_gfs);  // <- depends on Ricci.\n",
    "      BSSN_constraints(&params, &rfmstruct, gridfuncs.y_n_gfs, gridfuncs.auxevol_gfs, gridfuncs.diagnostic_output_gfs);\n",
    "      char filename[100];\n",
    "      sprintf(filename,\"out%d.txt\",Nxx[0]);\n",
    "      FILE *out2D = fopen(filename, \"w\");\n",
    "      const int i0MIN=NGHOSTS; // In spherical, r=Delta r/2.\n",
    "      const int i1mid=Nxx_plus_2NGHOSTS1/2;\n",
    "      const int i2mid=Nxx_plus_2NGHOSTS2/2;\n",
    "      LOOP_REGION(NGHOSTS,Nxx_plus_2NGHOSTS0-NGHOSTS,\n",
    "                  NGHOSTS,Nxx_plus_2NGHOSTS1-NGHOSTS,\n",
    "                  NGHOSTS,Nxx_plus_2NGHOSTS2-NGHOSTS) {\n",
    "        REAL xx0 = xx[0][i0];\n",
    "        REAL xx1 = xx[1][i1];\n",
    "        REAL xx2 = xx[2][i2];\n",
    "        REAL xCart[3];\n",
    "        xx_to_Cart(&params,xx,i0,i1,i2,xCart);\n",
    "        int idx = IDX3S(i0,i1,i2);\n",
    "        fprintf(out2D,\"%e %e %e %e\\n\",xCart[1],xCart[2], gridfuncs.y_n_gfs[IDX4ptS(CFGF,idx)],\n",
    "                log10(fabs(gridfuncs.diagnostic_output_gfs[IDX4ptS(HGF,idx)])));\n",
    "      }\n",
    "      fclose(out2D);\n",
    "    }\n",
    "    // Step 3.d: Progress indicator printing to stderr\n",
    "\n",
    "    // Step 3.d.i: Measure average time per iteration\n",
    "#ifdef __linux__ // Use high-precision timer in Linux.\n",
    "    clock_gettime(CLOCK_REALTIME, &end);\n",
    "    const long long unsigned int time_in_ns = 1000000000L * (end.tv_sec - start.tv_sec) + end.tv_nsec - start.tv_nsec;\n",
    "#else     // Resort to low-resolution, standards-compliant timer in non-Linux OSs\n",
    "    time(&end_timer); // Resolution of one second...\n",
    "    REAL time_in_ns = difftime(end_timer,start_timer)*1.0e9+0.5; // Round up to avoid divide-by-zero.\n",
    "#endif\n",
    "    const REAL s_per_iteration_avg = ((REAL)time_in_ns / (REAL)n) / 1.0e9;\n",
    "\n",
    "    const int iterations_remaining = N_final - n;\n",
    "    const REAL time_remaining_in_mins = s_per_iteration_avg * (REAL)iterations_remaining / 60.0;\n",
    "\n",
    "    const REAL num_RHS_pt_evals = (REAL)(Nxx[0]*Nxx[1]*Nxx[2]) * 4.0 * (REAL)n; // 4 RHS evals per gridpoint for RK4\n",
    "    const REAL RHS_pt_evals_per_sec = num_RHS_pt_evals / ((REAL)time_in_ns / 1.0e9);\n",
    "\n",
    "    // Step 3.d.ii: Output simulation progress to stderr\n",
    "    if(n % 10 == 0) {\n",
    "      fprintf(stderr,\"%c[2K\", 27); // Clear the line\n",
    "      fprintf(stderr,\"It: %d t=%.2f dt=%.2e | %.1f%%; ETA %.0f s | t/h %.2f | gp/s %.2e\\r\",  // \\r is carriage return, move cursor to the beginning of the line\n",
    "              n, n * (double)dt, (double)dt, (double)(100.0 * (REAL)n / (REAL)N_final),\n",
    "              (double)time_remaining_in_mins*60, (double)(dt * 3600.0 / s_per_iteration_avg), (double)RHS_pt_evals_per_sec);\n",
    "      fflush(stderr); // Flush the stderr buffer\n",
    "    } // End progress indicator if(n % 10 == 0)\n",
    "  } // End main loop to progress forward in time.\n",
    "  fprintf(stderr,\"\\n\"); // Clear the final line of output from progress indicator.\n",
    "\n",
    "  // Step 4: Free all allocated memory\n",
    "  rfm_precompute_rfmstruct_freemem(&params, &rfmstruct);\n",
    "  freemem_bcstruct(&params, &bcstruct);\n",
    "  MoL_free_memory_y_n_gfs(&params, &gridfuncs);\n",
    "  MoL_free_memory_non_y_n_gfs(&params, &gridfuncs);\n",
    "  free(auxevol_gfs);\n",
    "  for(int i=0;i<3;i++) free(xx[i]);\n",
    "\n",
    "  return 0;\n",
    "\"\"\"\n",
    "    add_to_Cfunction_dict(\n",
    "        includes=includes,\n",
    "        desc=desc,\n",
    "        c_type=c_type, name=name, params=params,\n",
    "        body=body,\n",
    "        rel_path_to_Cparams=os.path.join(\".\"), enableCparameters=False)"
   ]
  },
  {
   "cell_type": "markdown",
   "metadata": {},
   "source": [
    "<a id='compileexec'></a>\n",
    "\n",
    "# Step 6: Compile generated C codes & perform the black hole collision calculation \\[Back to [top](#toc)\\]\n",
    "$$\\label{compileexec}$$\n",
    "\n",
    "First we register remaining C functions and contributions to `NRPy_basic_defines.h`, then we output `NRPy_basic_defines.h` and `NRPy_function_prototypes.h`."
   ]
  },
  {
   "cell_type": "code",
   "execution_count": 10,
   "metadata": {},
   "outputs": [],
   "source": [
    "add_to_Cfunction_dict_main__BrillLindquist_Playground()\n",
    "\n",
    "import outputC as outC\n",
    "outC.register_C_functions_and_NRPy_basic_defines()  # #define M_PI,  etc.\n",
    "gri.register_C_functions_and_NRPy_basic_defines()  # #define IDX3S(),  etc.\n",
    "fin.register_C_functions_and_NRPy_basic_defines(NGHOSTS_account_for_onezone_upwind=False)  # #define NGHOSTS, etc.\n",
    "\n",
    "# Output functions for computing all finite-difference stencils.\n",
    "#   Must be called after defining all functions depending on FD stencils.\n",
    "if FD_functions_enable:\n",
    "    fin.output_finite_difference_functions_h(path=Ccodesrootdir)\n",
    "\n",
    "# Call this last: Set up NRPy_basic_defines.h and NRPy_function_prototypes.h.\n",
    "outC.construct_NRPy_basic_defines_h(Ccodesrootdir, SIMD_enable=SIMD_enable)\n",
    "outC.construct_NRPy_function_prototypes_h(Ccodesrootdir)"
   ]
  },
  {
   "cell_type": "markdown",
   "metadata": {},
   "source": [
    "Finally, we output all the C codes in `outC_function_dict` to files in the directory `Ccodesrootdir`, generate a `Makefile`, and compile the project using a parallel `make` command. If the `make` command fails, a backup serial compilation script is run.\n",
    "\n",
    "To aid in the cross-platform-compatible (with Windows, MacOS, & Linux) compilation and execution, we make use of `cmdline_helper` [(**Tutorial**)](Tutorial-cmdline_helper.ipynb)."
   ]
  },
  {
   "cell_type": "code",
   "execution_count": 11,
   "metadata": {},
   "outputs": [
    {
     "name": "stdout",
     "output_type": "stream",
     "text": [
      "(EXEC): Executing `make -j34`...\n",
      "(BENCH): Finished executing in 2.8063933849334717 seconds.\n",
      "Finished compilation.\n",
      "(EXEC): Executing `taskset -c 0,1,2,3,4,5,6,7,8,9,10,11,12,13,14,15 ./BrillLindquist_Playground 72 12 2 1.0`...\n",
      "\u001b[2KIt: 550 t=7.50 dt=1.36e-02 | 100.0%; ETA 0 s | t/h 32911.67 | gp/s 4.63e+06\n",
      "(BENCH): Finished executing in 1.003690481185913 seconds.\n",
      "(EXEC): Executing `taskset -c 0,1,2,3,4,5,6,7,8,9,10,11,12,13,14,15 ./BrillLindquist_Playground 96 16 2 1.0`...\n",
      "\u001b[2KIt: 970 t=7.44 dt=7.67e-03 | 99.2%; ETA 0 s | t/h 10982.91 | gp/s 4.89e+06\n",
      "(BENCH): Finished executing in 2.606584310531616 seconds.\n"
     ]
    }
   ],
   "source": [
    "import cmdline_helper as cmd\n",
    "cmd.new_C_compile(Ccodesrootdir, os.path.join(\"output\", \"BrillLindquist_Playground\"),\n",
    "                  uses_free_parameters_h=True, compiler_opt_option=\"fast\") # fastdebug or debug also supported\n",
    "\n",
    "# Change to output directory\n",
    "os.chdir(os.path.join(Ccodesrootdir, \"output\"))\n",
    "# Clean up existing output files\n",
    "cmd.delete_existing_files(\"out*.txt\")\n",
    "cmd.delete_existing_files(\"out*.png\")\n",
    "# Run executable with CFL_FACTOR = 1.0, which is allowed since\n",
    "#   simulation is axisymmetric and all phi derivs are set to zero.\n",
    "CFL_FACTOR=1.0\n",
    "cmd.Execute(\"BrillLindquist_Playground\", \"72 12 2 \"+str(CFL_FACTOR))\n",
    "cmd.Execute(\"BrillLindquist_Playground\", \"96 16 2 \"+str(CFL_FACTOR))\n",
    "os.chdir(os.path.join(\"..\", \"..\"))"
   ]
  },
  {
   "cell_type": "markdown",
   "metadata": {},
   "source": [
    "<a id='visualize'></a>\n",
    "\n",
    "# Step 7: Visualize the output! \\[Back to [top](#toc)\\]\n",
    "$$\\label{visualize}$$ \n",
    "\n",
    "In this section we will generate a movie, plotting the conformal factor of these initial data on a 2D grid, such that darker colors imply stronger gravitational fields. Hence, we see the two black holes initially centered at $z/M=\\pm 0.5$, where $M$ is an arbitrary mass scale (conventionally the [ADM mass](https://en.wikipedia.org/w/index.php?title=ADM_formalism&oldid=846335453) is chosen), and our formulation of Einstein's equations adopt $G=c=1$ [geometrized units](https://en.wikipedia.org/w/index.php?title=Geometrized_unit_system&oldid=861682626)."
   ]
  },
  {
   "cell_type": "markdown",
   "metadata": {},
   "source": [
    "<a id='installdownload'></a>\n",
    "\n",
    "## Step 7.a: Install `scipy` and download `ffmpeg` if they are not yet installed/downloaded \\[Back to [top](#toc)\\]\n",
    "$$\\label{installdownload}$$ \n",
    "\n",
    "Note that if you are not running this within `mybinder`, but on a Windows system, `ffmpeg` must be installed using a separate package (on [this site](http://ffmpeg.org/)), or if running Jupyter within Anaconda, use the command: `conda install -c conda-forge ffmpeg`."
   ]
  },
  {
   "cell_type": "code",
   "execution_count": 12,
   "metadata": {
    "execution": {
     "iopub.execute_input": "2021-03-07T17:29:50.468632Z",
     "iopub.status.busy": "2021-03-07T17:29:50.467521Z",
     "iopub.status.idle": "2021-03-07T17:29:51.531388Z",
     "shell.execute_reply": "2021-03-07T17:29:51.532076Z"
    },
    "scrolled": false
   },
   "outputs": [],
   "source": [
    "!pip install scipy > /dev/null\n",
    "\n",
    "check_for_ffmpeg = !which ffmpeg >/dev/null && echo $?\n",
    "if check_for_ffmpeg != ['0']:\n",
    "    print(\"Couldn't find ffmpeg, so I'll download it.\")\n",
    "    # Courtesy https://johnvansickle.com/ffmpeg/\n",
    "    !wget http://astro.phys.wvu.edu/zetienne/ffmpeg-static-amd64-johnvansickle.tar.xz\n",
    "    !tar Jxf ffmpeg-static-amd64-johnvansickle.tar.xz\n",
    "    print(\"Copying ffmpeg to ~/.local/bin/. Assumes ~/.local/bin is in the PATH.\")\n",
    "    !mkdir ~/.local/bin/\n",
    "    !cp ffmpeg-static-amd64-johnvansickle/ffmpeg ~/.local/bin/\n",
    "    print(\"If this doesn't work, then install ffmpeg yourself. It should work fine on mybinder.\")"
   ]
  },
  {
   "cell_type": "markdown",
   "metadata": {},
   "source": [
    "<a id='genimages'></a>\n",
    "\n",
    "## Step 7.b: Generate images for visualization animation \\[Back to [top](#toc)\\]\n",
    "$$\\label{genimages}$$ \n",
    "\n",
    "Here we loop through the data files output by the executable compiled and run in [the previous step](#mainc), generating a [png](https://en.wikipedia.org/wiki/Portable_Network_Graphics) image for each data file.\n",
    "\n",
    "**Special thanks to Terrence Pierre Jacques. His work with the first versions of these scripts greatly contributed to the scripts as they exist below.**"
   ]
  },
  {
   "cell_type": "code",
   "execution_count": 13,
   "metadata": {
    "execution": {
     "iopub.execute_input": "2021-03-07T17:29:51.547373Z",
     "iopub.status.busy": "2021-03-07T17:29:51.546665Z",
     "iopub.status.idle": "2021-03-07T17:29:56.626427Z",
     "shell.execute_reply": "2021-03-07T17:29:56.626944Z"
    }
   },
   "outputs": [
    {
     "name": "stdout",
     "output_type": "stream",
     "text": [
      "\u001b[2KProcessing file BSSN_Two_BHs_Collide_Ccodes_new_way/output/out96-00000900.txt\r"
     ]
    }
   ],
   "source": [
    "## VISUALIZATION ANIMATION, PART 1: Generate PNGs, one per frame of movie ##\n",
    "\n",
    "import numpy as np\n",
    "from scipy.interpolate import griddata\n",
    "import matplotlib.pyplot as plt\n",
    "from matplotlib.pyplot import savefig\n",
    "from IPython.display import HTML\n",
    "import matplotlib.image as mgimg\n",
    "\n",
    "import glob\n",
    "import sys\n",
    "from matplotlib import animation\n",
    "\n",
    "globby = glob.glob(os.path.join(outdir,'out96-00*.txt'))\n",
    "file_list = []\n",
    "for x in sorted(globby):\n",
    "    file_list.append(x)\n",
    "\n",
    "bound=1.4\n",
    "pl_xmin = -bound\n",
    "pl_xmax = +bound\n",
    "pl_ymin = -bound\n",
    "pl_ymax = +bound\n",
    "\n",
    "for filename in file_list:\n",
    "    fig = plt.figure()\n",
    "    x,y,cf,Ham = np.loadtxt(filename).T #Transposed for easier unpacking\n",
    "\n",
    "    plotquantity = cf\n",
    "    plotdescription = \"Numerical Soln.\"\n",
    "    plt.title(\"Black Hole Head-on Collision (conf factor)\")\n",
    "    plt.xlabel(\"y/M\")\n",
    "    plt.ylabel(\"z/M\")\n",
    "\n",
    "    grid_x, grid_y = np.mgrid[pl_xmin:pl_xmax:300j, pl_ymin:pl_ymax:300j]\n",
    "    points = np.zeros((len(x), 2))\n",
    "    for i in range(len(x)):\n",
    "        # Zach says: No idea why x and y get flipped...\n",
    "        points[i][0] = y[i]\n",
    "        points[i][1] = x[i]\n",
    "\n",
    "    grid = griddata(points, plotquantity, (grid_x, grid_y), method='nearest')\n",
    "    gridcub = griddata(points, plotquantity, (grid_x, grid_y), method='cubic')\n",
    "    im = plt.imshow(gridcub, extent=(pl_xmin,pl_xmax, pl_ymin,pl_ymax))\n",
    "    ax = plt.colorbar()\n",
    "    ax.set_label(plotdescription)\n",
    "    savefig(os.path.join(filename+\".png\"),dpi=150)\n",
    "    plt.close(fig)\n",
    "    sys.stdout.write(\"%c[2K\" % 27)\n",
    "    sys.stdout.write(\"Processing file \"+filename+\"\\r\")\n",
    "    sys.stdout.flush()"
   ]
  },
  {
   "cell_type": "markdown",
   "metadata": {},
   "source": [
    "<a id='genvideo'></a>\n",
    "\n",
    "## Step 7.c: Generate visualization animation \\[Back to [top](#toc)\\]\n",
    "$$\\label{genvideo}$$ \n",
    "\n",
    "In the following step, [ffmpeg](http://ffmpeg.org) is used to generate an [mp4](https://en.wikipedia.org/wiki/MPEG-4) video file, which can be played directly from this Jupyter notebook."
   ]
  },
  {
   "cell_type": "code",
   "execution_count": 14,
   "metadata": {
    "execution": {
     "iopub.execute_input": "2021-03-07T17:29:56.760379Z",
     "iopub.status.busy": "2021-03-07T17:29:56.719430Z",
     "iopub.status.idle": "2021-03-07T17:29:58.227976Z",
     "shell.execute_reply": "2021-03-07T17:29:58.227374Z"
    }
   },
   "outputs": [],
   "source": [
    "## VISUALIZATION ANIMATION, PART 2: Combine PNGs to generate movie ##\n",
    "\n",
    "# https://stackoverflow.com/questions/14908576/how-to-remove-frame-from-matplotlib-pyplot-figure-vs-matplotlib-figure-frame\n",
    "# https://stackoverflow.com/questions/23176161/animating-pngs-in-matplotlib-using-artistanimation\n",
    "\n",
    "fig = plt.figure(frameon=False)\n",
    "ax = fig.add_axes([0, 0, 1, 1])\n",
    "ax.axis('off')\n",
    "\n",
    "myimages = []\n",
    "\n",
    "for i in range(len(file_list)):\n",
    "    img = mgimg.imread(file_list[i]+\".png\")\n",
    "    imgplot = plt.imshow(img)\n",
    "    myimages.append([imgplot])\n",
    "\n",
    "ani = animation.ArtistAnimation(fig, myimages, interval=100,  repeat_delay=1000)\n",
    "plt.close()\n",
    "ani.save(os.path.join(outdir,'BH_Head-on_Collision.mp4'), fps=5,dpi=150)"
   ]
  },
  {
   "cell_type": "code",
   "execution_count": 15,
   "metadata": {
    "execution": {
     "iopub.execute_input": "2021-03-07T17:29:58.232056Z",
     "iopub.status.busy": "2021-03-07T17:29:58.231397Z",
     "iopub.status.idle": "2021-03-07T17:29:58.234033Z",
     "shell.execute_reply": "2021-03-07T17:29:58.234592Z"
    }
   },
   "outputs": [],
   "source": [
    "## VISUALIZATION ANIMATION, PART 3: Display movie as embedded HTML5 (see next cell) ##\n",
    "\n",
    "# https://stackoverflow.com/questions/18019477/how-can-i-play-a-local-video-in-my-ipython-notebook"
   ]
  },
  {
   "cell_type": "code",
   "execution_count": 16,
   "metadata": {
    "execution": {
     "iopub.execute_input": "2021-03-07T17:29:58.242636Z",
     "iopub.status.busy": "2021-03-07T17:29:58.241878Z",
     "iopub.status.idle": "2021-03-07T17:29:58.245510Z",
     "shell.execute_reply": "2021-03-07T17:29:58.244994Z"
    },
    "scrolled": true
   },
   "outputs": [
    {
     "data": {
      "text/html": [
       "\n",
       "<video width=\"480\" height=\"360\" controls>\n",
       "  <source src=\"BSSN_Two_BHs_Collide_Ccodes_new_way/output/BH_Head-on_Collision.mp4\" type=\"video/mp4\">\n",
       "</video>\n"
      ],
      "text/plain": [
       "<IPython.core.display.HTML object>"
      ]
     },
     "execution_count": 16,
     "metadata": {},
     "output_type": "execute_result"
    }
   ],
   "source": [
    "# Embed video based on suggestion:\n",
    "#  https://stackoverflow.com/questions/39900173/jupyter-notebook-html-cell-magic-with-python-variable\n",
    "HTML(\"\"\"\n",
    "<video width=\"480\" height=\"360\" controls>\n",
    "  <source src=\\\"\"\"\"+os.path.join(outdir,\"BH_Head-on_Collision.mp4\")+\"\"\"\\\" type=\"video/mp4\">\n",
    "</video>\n",
    "\"\"\")"
   ]
  },
  {
   "cell_type": "markdown",
   "metadata": {},
   "source": [
    "<a id='convergence'></a>\n",
    "\n",
    "# Step 8: Plot the numerical error, and confirm that it converges to zero with increasing numerical resolution (sampling) \\[Back to [top](#toc)\\]\n",
    "$$\\label{convergence}$$"
   ]
  },
  {
   "cell_type": "code",
   "execution_count": 17,
   "metadata": {
    "execution": {
     "iopub.execute_input": "2021-03-07T17:29:58.276133Z",
     "iopub.status.busy": "2021-03-07T17:29:58.254573Z",
     "iopub.status.idle": "2021-03-07T17:29:58.722544Z",
     "shell.execute_reply": "2021-03-07T17:29:58.722013Z"
    },
    "scrolled": true
   },
   "outputs": [
    {
     "data": {
      "image/png": "[encoded data removed]",
      "text/plain": [
       "<Figure size 432x288 with 2 Axes>"
      ]
     },
     "metadata": {
      "needs_background": "light"
     },
     "output_type": "display_data"
    }
   ],
   "source": [
    "x96,y96,valuesCF96,valuesHam96 = np.loadtxt(os.path.join(outdir,'out96.txt')).T #Transposed for easier unpacking\n",
    "\n",
    "pl_xmin = -2.5\n",
    "pl_xmax = +2.5\n",
    "pl_ymin = -2.5\n",
    "pl_ymax = +2.5\n",
    "\n",
    "grid_x, grid_y = np.mgrid[pl_xmin:pl_xmax:100j, pl_ymin:pl_ymax:100j]\n",
    "points96 = np.zeros((len(x96), 2))\n",
    "for i in range(len(x96)):\n",
    "    points96[i][0] = x96[i]\n",
    "    points96[i][1] = y96[i]\n",
    "\n",
    "grid96 = griddata(points96, valuesCF96, (grid_x, grid_y), method='nearest')\n",
    "grid96cub = griddata(points96, valuesCF96, (grid_x, grid_y), method='cubic')\n",
    "\n",
    "grid96 = griddata(points96, valuesHam96, (grid_x, grid_y), method='nearest')\n",
    "grid96cub = griddata(points96, valuesHam96, (grid_x, grid_y), method='cubic')\n",
    "\n",
    "# fig, ax = plt.subplots()\n",
    "\n",
    "plt.clf()\n",
    "plt.title(\"96x16 Num. Err.: log_{10}|Ham|\")\n",
    "plt.xlabel(\"x/M\")\n",
    "plt.ylabel(\"z/M\")\n",
    "\n",
    "fig96cub = plt.imshow(grid96cub.T, extent=(pl_xmin,pl_xmax, pl_ymin,pl_ymax))\n",
    "cb = plt.colorbar(fig96cub)"
   ]
  },
  {
   "cell_type": "code",
   "execution_count": 18,
   "metadata": {
    "execution": {
     "iopub.execute_input": "2021-03-07T17:29:58.747552Z",
     "iopub.status.busy": "2021-03-07T17:29:58.746925Z",
     "iopub.status.idle": "2021-03-07T17:29:58.966287Z",
     "shell.execute_reply": "2021-03-07T17:29:58.966766Z"
    },
    "scrolled": false
   },
   "outputs": [
    {
     "data": {
      "text/plain": [
       "<Figure size 432x288 with 0 Axes>"
      ]
     },
     "metadata": {},
     "output_type": "display_data"
    },
    {
     "data": {
      "image/png": "[encoded data removed]",
      "text/plain": [
       "<Figure size 432x288 with 1 Axes>"
      ]
     },
     "metadata": {
      "needs_background": "light"
     },
     "output_type": "display_data"
    }
   ],
   "source": [
    "x72,y72,valuesCF72,valuesHam72 = np.loadtxt(os.path.join(outdir,'out72.txt')).T #Transposed for easier unpacking\n",
    "points72 = np.zeros((len(x72), 2))\n",
    "for i in range(len(x72)):\n",
    "    points72[i][0] = x72[i]\n",
    "    points72[i][1] = y72[i]\n",
    "\n",
    "grid72 = griddata(points72, valuesHam72, (grid_x, grid_y), method='nearest')\n",
    "\n",
    "griddiff_72_minus_96 = np.zeros((100,100))\n",
    "griddiff_72_minus_96_1darray = np.zeros(100*100)\n",
    "gridx_1darray_yeq0 = np.zeros(100)\n",
    "grid72_1darray_yeq0 = np.zeros(100)\n",
    "grid96_1darray_yeq0 = np.zeros(100)\n",
    "count = 0\n",
    "for i in range(100):\n",
    "    for j in range(100):\n",
    "        griddiff_72_minus_96[i][j] = grid72[i][j] - grid96[i][j]\n",
    "        griddiff_72_minus_96_1darray[count] = griddiff_72_minus_96[i][j]\n",
    "        if j==49:\n",
    "            gridx_1darray_yeq0[i] = grid_x[i][j]\n",
    "            grid72_1darray_yeq0[i] = grid72[i][j] + np.log10((72./96.)**4)\n",
    "            grid96_1darray_yeq0[i] = grid96[i][j]\n",
    "        count = count + 1\n",
    "\n",
    "plt.clf()\n",
    "fig, ax = plt.subplots()\n",
    "plt.title(\"4th-order Convergence, at t/M=7.5 (post-merger; horiz at x/M=+/-1)\")\n",
    "plt.xlabel(\"x/M\")\n",
    "plt.ylabel(\"log10(Relative error)\")\n",
    "\n",
    "ax.plot(gridx_1darray_yeq0, grid96_1darray_yeq0, 'k-', label='Nr=96')\n",
    "ax.plot(gridx_1darray_yeq0, grid72_1darray_yeq0, 'k--', label='Nr=72, mult by (72/96)^4')\n",
    "ax.set_ylim([-8.5,0.5])\n",
    "\n",
    "legend = ax.legend(loc='lower right', shadow=True, fontsize='x-large')\n",
    "legend.get_frame().set_facecolor('C1')\n",
    "plt.show()"
   ]
  },
  {
   "cell_type": "markdown",
   "metadata": {},
   "source": [
    "<a id='latex_pdf_output'></a>\n",
    "\n",
    "# Step 9: Output this notebook to $\\LaTeX$-formatted PDF file \\[Back to [top](#toc)\\]\n",
    "$$\\label{latex_pdf_output}$$\n",
    "\n",
    "The following code cell converts this Jupyter notebook into a proper, clickable $\\LaTeX$-formatted PDF file. After the cell is successfully run, the generated PDF may be found in the root NRPy+ tutorial directory, with filename\n",
    "[Tutorial-Start_to_Finish-BSSNCurvilinear-Two_BHs_Collide_new_way.pdf](Tutorial-Start_to_Finish-BSSNCurvilinear-Two_BHs_Collide_new_way.pdf) (Note that clicking on this link may not work; you may need to open the PDF file through another means.)"
   ]
  },
  {
   "cell_type": "code",
   "execution_count": 19,
   "metadata": {
    "execution": {
     "iopub.execute_input": "2021-03-07T17:29:58.971437Z",
     "iopub.status.busy": "2021-03-07T17:29:58.970705Z",
     "iopub.status.idle": "2021-03-07T17:30:04.091527Z",
     "shell.execute_reply": "2021-03-07T17:30:04.092219Z"
    }
   },
   "outputs": [
    {
     "name": "stdout",
     "output_type": "stream",
     "text": [
      "Created Tutorial-Start_to_Finish-BSSNCurvilinear-\n",
      "    Two_BHs_Collide_new_way.tex, and compiled LaTeX file to PDF file\n",
      "    Tutorial-Start_to_Finish-BSSNCurvilinear-Two_BHs_Collide_new_way.pdf\n"
     ]
    }
   ],
   "source": [
    "import cmdline_helper as cmd    # NRPy+: Multi-platform Python command-line interface\n",
    "cmd.output_Jupyter_notebook_to_LaTeXed_PDF(\"Tutorial-Start_to_Finish-BSSNCurvilinear-Two_BHs_Collide_new_way\")"
   ]
  }
 ],
 "metadata": {
  "kernelspec": {
   "display_name": "Python 3 (ipykernel)",
   "language": "python",
   "name": "python3"
  },
  "language_info": {
   "codemirror_mode": {
    "name": "ipython",
    "version": 3
   },
   "file_extension": ".py",
   "mimetype": "text/x-python",
   "name": "python",
   "nbconvert_exporter": "python",
   "pygments_lexer": "ipython3",
   "version": "3.10.0rc2"
  }
 },
 "nbformat": 4,
 "nbformat_minor": 2
}
