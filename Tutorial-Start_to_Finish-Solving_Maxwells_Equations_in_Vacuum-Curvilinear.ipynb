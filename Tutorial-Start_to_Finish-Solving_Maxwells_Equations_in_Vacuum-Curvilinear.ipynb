{
 "cells": [
  {
   "cell_type": "markdown",
   "metadata": {},
   "source": [
    "<script async src=\"https://www.googletagmanager.com/gtag/js?id=UA-59152712-8\"></script>\n",
    "<script>\n",
    "  window.dataLayer = window.dataLayer || [];\n",
    "  function gtag(){dataLayer.push(arguments);}\n",
    "  gtag('js', new Date());\n",
    "\n",
    "  gtag('config', 'UA-59152712-8');\n",
    "</script>\n",
    "\n",
    "# Start-to-Finish Example: Evolving Maxwell's Equations with Toriodal Dipole Field Initial Data, in Flat Spacetime and Curvilinear Coordinates\n",
    "\n",
    "## Following the work of [Knapp, Walker & Baumgarte (2002)](https://arxiv.org/abs/gr-qc/0201051), we numerically implement the second version of Maxwell’s equations - System II (BSSN - like) in curvilinear coordinates.\n",
    "\n",
    "## Author: Terrence Pierre Jacques and Zachariah Etienne\n",
    "### Formatting improvements courtesy Brandon Clark\n",
    "\n",
    "**Notebook Status:** <font color = green><b> Validated </b></font>\n",
    "\n",
    "**Validation Notes:** This module has been validated to exhibit convergence to the exact solution for the electric field $E^i$ and vector potential $A^i$ at the expected order, *after a short numerical evolution of the initial data* (see [plots at bottom](#convergence)).\n",
    "\n",
    "### NRPy+ Source Code for this module: \n",
    "* [Maxwell/InitialData.py](../edit/Maxwell/InitialData.py); [\\[**tutorial**\\]](Tutorial-VacuumMaxwell_InitialData.ipynb): Purely toriodal dipole field initial data; sets all electromagnetic variables in the Cartesian basis\n",
    "* [Maxwell/VacuumMaxwell_Flat_Evol_Curvilinear.py](../edit/Maxwell/VacuumMaxwell_Flat_Evol_Cartesian.py); [\\[**tutorial**\\]](Tutorial-Tutorial-VacuumMaxwell_Curvilinear_RHS-Rescaling.ipynb): Generates the right-hand sides for Maxwell's equations in curvilinear coordinates\n",
    "\n",
    "## Introduction:\n",
    "Here we use NRPy+ to generate the C source code necessary to set up initial data for a purely toriodal dipole field, as defined in [Knapp, Walker & Baumgarte (2002)](https://arxiv.org/abs/gr-qc/0201051). We then evolve the RHSs of Maxwell's equations using the [Method of Lines](https://reference.wolfram.com/language/tutorial/NDSolveMethodOfLines.html) time integration based on an [explicit Runge-Kutta fourth-order scheme](https://en.wikipedia.org/wiki/Runge%E2%80%93Kutta_methods) (RK4 is chosen below, but multiple options exist). \n",
    "\n",
    "The entire algorithm is outlined as follows, with links to the relevant NRPy+ tutorial notebooks listed at each step:\n",
    "\n",
    "1. Allocate memory for gridfunctions, including temporary storage for the Method of Lines time integration\n",
    "    * [**NRPy+ tutorial on Method of Lines algorithm**](Tutorial-Method_of_Lines-C_Code_Generation.ipynb).\n",
    "1. Set gridfunction values to initial data \n",
    "    * [**NRPy+ tutorial on purely toriodal dipole field initial data**](Tutorial-VacuumMaxwell_InitialData.ipynb)\n",
    "1. Next, integrate the initial data forward in time using the Method of Lines coupled to a Runge-Kutta explicit timestepping algorithm:\n",
    "    1. At the start of each iteration in time, output the divergence constraint violation \n",
    "        * [**NRPy+ tutorial on Maxwell's equations constraints**](Tutorial-VacuumMaxwell_Curvilinear_RHSs.ipynb)\n",
    "    1. At each RK time substep, do the following:\n",
    "        1. Evaluate RHS expressions \n",
    "            * [**NRPy+ tutorial on Maxwell's equations right-hand sides**](Tutorial-VacuumMaxwell_Curvilinear_RHSs.ipynb)\n",
    "        1. Apply Sommerfeld boundary conditions in curvilinear coordinates\n",
    "            * [**NRPy+ tutorial on setting up Sommerfeld boundary conditions**](Tutorial-SommerfeldBoundaryCondition.ipynb)        \n",
    "1. Repeat above steps at two numerical resolutions to confirm convergence to zero."
   ]
  },
  {
   "cell_type": "markdown",
   "metadata": {},
   "source": [
    "<a id='toc'></a>\n",
    "\n",
    "# Table of Contents\n",
    "$$\\label{toc}$$\n",
    "\n",
    "This notebook is organized as follows\n",
    "\n",
    "1. [Step 1](#initializenrpy): Set core NRPy+ parameters for numerical grids and reference metric\n",
    "    1. [Step 1.a](#cfl) Output needed C code for finding the minimum proper distance between grid points, needed for [CFL](https://en.wikipedia.org/w/index.php?title=Courant%E2%80%93Friedrichs%E2%80%93Lewy_condition&oldid=806430673)-limited timestep\n",
    "1. [Step 2](#mw): Generate symbolic expressions and output C code for evolving Maxwell's equations\n",
    "    1. [Step 2.a](#mwid): Generate symbolic expressions for toroidal dipole field initial data\n",
    "    1. [Step 2.b](#mwevol): Generate symbolic expressions for evolution equations\n",
    "    1. [Step 2.c](#mwcon): Generate symbolic expressions for constraint equations\n",
    "    1. [Step 2.d](#mwcart): Generate symbolic expressions for converting $A^i$ and $E^i$ to the Cartesian basis\n",
    "    1. [Step 2.e](#mwccode): Output C codes for initial data and evolution equations\n",
    "    1. [Step 2.f](#mwccode_con): Output C code for constraint equations\n",
    "    1. [Step 2.g](#mwccode_cart): Output C code for converting $A^i$ and $E^i$ to Cartesian coordinates\n",
    "    1. [Step 2.h](#mwccode_xzloop): Output C code for printing 2D data\n",
    "    1. [Step 2.i](#cparams_rfm_and_domainsize): Output C codes needed for declaring and setting Cparameters; also set `free_parameters.h`\n",
    "1. [Step 3](#bc_functs): Set up Sommerfeld boundary condition functions\n",
    "1. [Step 4](#mainc): `Maxwell_Playground.c`: The Main C Code\n",
    "1. [Step 5](#compileexec): Compile generated C codes & perform simulation of the propagating toriodal electromagnetic field\n",
    "1. [Step 6](#visualize): Visualize the output!\n",
    "    1. [Step 6.a](#installdownload): Install `scipy` and download `ffmpeg` if they are not yet installed/downloaded\n",
    "    1. [Step 6.b](#genimages): Generate images for visualization animation\n",
    "    1. [Step 6.c](#genvideo): Generate visualization animation\n",
    "1. [Step 7](#convergence): Plot the numerical error, and confirm that it converges to zero with increasing numerical resolution (sampling)\n",
    "1. [Step 8](#div_e): Comparison of Divergence Constrain Violation\n",
    "1. [Step 9](#latex_pdf_output): Output this notebook to $\\LaTeX$-formatted PDF file"
   ]
  },
  {
   "cell_type": "markdown",
   "metadata": {},
   "source": [
    "<a id='initializenrpy'></a>\n",
    "\n",
    "# Step 1: Set core NRPy+ parameters for numerical grids and reference metric \\[Back to [top](#toc)\\]\n",
    "$$\\label{initializenrpy}$$"
   ]
  },
  {
   "cell_type": "code",
   "execution_count": 1,
   "metadata": {
    "execution": {
     "iopub.execute_input": "2021-03-07T17:34:04.474158Z",
     "iopub.status.busy": "2021-03-07T17:34:04.473339Z",
     "iopub.status.idle": "2021-03-07T17:34:06.032539Z",
     "shell.execute_reply": "2021-03-07T17:34:06.033038Z"
    }
   },
   "outputs": [
    {
     "data": {
      "text/plain": [
       "'MaxwellEvolCurvi_Playground_Ccodes/SIMD/SIMD_intrinsics.h'"
      ]
     },
     "execution_count": 1,
     "metadata": {},
     "output_type": "execute_result"
    }
   ],
   "source": [
    "# Step P1: Import needed NRPy+ core modules:\n",
    "from outputC import outputC,lhrh,outCfunction # NRPy+: Core C code output module\n",
    "import finite_difference as fin  # NRPy+: Finite difference C code generation module\n",
    "import NRPy_param_funcs as par   # NRPy+: Parameter interface\n",
    "import grid as gri               # NRPy+: Functions having to do with numerical grids\n",
    "import indexedexp as ixp         # NRPy+: Symbolic indexed expression (e.g., tensors, vectors, etc.) support\n",
    "import reference_metric as rfm   # NRPy+: Reference metric support\n",
    "import cmdline_helper as cmd     # NRPy+: Multi-platform Python command-line interface\n",
    "import shutil, os, sys           # Standard Python modules for multiplatform OS-level functions, benchmarking\n",
    "\n",
    "# Step P2: Create C code output directory:\n",
    "Ccodesdir = os.path.join(\"MaxwellEvolCurvi_Playground_Ccodes/\")\n",
    "# First remove C code output directory if it exists\n",
    "# Courtesy https://stackoverflow.com/questions/303200/how-do-i-remove-delete-a-folder-that-is-not-empty\n",
    "shutil.rmtree(Ccodesdir, ignore_errors=True)\n",
    "# Then create a fresh directory\n",
    "cmd.mkdir(Ccodesdir)\n",
    "\n",
    "# Step P3: Create executable output directory:\n",
    "outdir = os.path.join(Ccodesdir,\"output/\")\n",
    "cmd.mkdir(outdir)\n",
    "\n",
    "# Step 1: Set the spatial dimension parameter\n",
    "#         to three (BSSN is a 3+1 decomposition\n",
    "#         of Einstein's equations), and then read\n",
    "#         the parameter as DIM.\n",
    "par.set_parval_from_str(\"grid::DIM\",3)\n",
    "DIM = par.parval_from_str(\"grid::DIM\")\n",
    "\n",
    "# Step 2: Set some core parameters, including CoordSystem MoL BoundaryCondition timestepping algorithm,\n",
    "#                                 FD order, floating point precision, and CFL factor:\n",
    "# Choices are: Spherical, SinhSpherical, SinhSphericalv2, Cylindrical, SinhCylindrical,\n",
    "#              SymTP, SinhSymTP\n",
    "CoordSystem     = \"SinhCylindrical\"\n",
    "\n",
    "# Step  2.a: Set boundary conditions\n",
    "# Current choices are QuadraticExtrapolation (quadratic polynomial extrapolation) or Sommerfeld\n",
    "BoundaryCondition = \"Sommerfeld\"\n",
    "\n",
    "# Step 2.b: Set defaults for Coordinate system parameters.\n",
    "#           These are perhaps the most commonly adjusted parameters,\n",
    "#           so we enable modifications at this high level.\n",
    "\n",
    "# domain_size sets the default value for:\n",
    "#   * Spherical's params.RMAX\n",
    "#   * SinhSpherical*'s params.AMAX\n",
    "#   * Cartesians*'s -params.{x,y,z}min & .{x,y,z}max\n",
    "#   * Cylindrical's -params.ZMIN & .{Z,RHO}MAX\n",
    "#   * SinhCylindrical's params.AMPL{RHO,Z}\n",
    "#   * *SymTP's params.AMAX\n",
    "domain_size     = 10.0 # Needed for all coordinate systems.\n",
    "\n",
    "# sinh_width sets the default value for:\n",
    "#   * SinhSpherical's params.SINHW\n",
    "#   * SinhCylindrical's params.SINHW{RHO,Z}\n",
    "#   * SinhSymTP's params.SINHWAA\n",
    "sinh_width      = 0.4 # If Sinh* coordinates chosen\n",
    "\n",
    "# sinhv2_const_dr sets the default value for:\n",
    "#   * SinhSphericalv2's params.const_dr\n",
    "#   * SinhCylindricalv2's params.const_d{rho,z}\n",
    "sinhv2_const_dr = 0.05 # If Sinh*v2 coordinates chosen\n",
    "\n",
    "# SymTP_bScale sets the default value for:\n",
    "#   * SinhSymTP's params.bScale\n",
    "SymTP_bScale    = 0.5 # If SymTP chosen\n",
    "\n",
    "# Step 2.c: Set the order of spatial and temporal derivatives;\n",
    "#           the core data type, and the CFL factor.\n",
    "# RK_method choices include: Euler, \"RK2 Heun\", \"RK2 MP\", \"RK2 Ralston\", RK3, \"RK3 Heun\", \"RK3 Ralston\",\n",
    "#              SSPRK3, RK4, DP5, DP5alt, CK5, DP6, L6, DP8\n",
    "RK_method = \"RK4\"\n",
    "FD_order  = 4        # Finite difference order: even numbers only, starting with 2. 12 is generally unstable\n",
    "REAL      = \"double\" # Best to use double here.\n",
    "default_CFL_FACTOR= 0.5      # (GETS OVERWRITTEN WHEN EXECUTED.) In pure axisymmetry (symmetry_axes = 2 below) 1.0 works fine. Otherwise 0.5 or lower.\n",
    "\n",
    "# Step 3: Generate Runge-Kutta-based (RK-based) timestepping code.\n",
    "#       3.A: Evaluate RHSs (RHS_string)\n",
    "#       3.B: Apply boundary conditions (RHS_string)\n",
    "import MoLtimestepping.C_Code_Generation as MoL\n",
    "from MoLtimestepping.RK_Butcher_Table_Dictionary import Butcher_dict\n",
    "RK_order  = Butcher_dict[RK_method][1]\n",
    "cmd.mkdir(os.path.join(Ccodesdir,\"MoLtimestepping/\"))\n",
    "\n",
    "RHS_string = \"rhs_eval(&rfmstruct, &params, RK_INPUT_GFS, RK_OUTPUT_GFS);\"\n",
    "\n",
    "if BoundaryCondition == \"QuadraticExtrapolation\":\n",
    "    # Extrapolation BCs are applied to the evolved gridfunctions themselves after the MoL update\n",
    "    post_RHS_string = \"apply_bcs_curvilinear(&params, &bcstruct, NUM_EVOL_GFS, evol_gf_parity, RK_OUTPUT_GFS);\"\n",
    "elif BoundaryCondition == \"Sommerfeld\":\n",
    "    # Sommerfeld BCs are applied to the gridfunction RHSs directly\n",
    "    RHS_string += \"\\n apply_bcs_sommerfeld(&params, xx, &bcstruct, NUM_EVOL_GFS, evol_gf_parity, RK_INPUT_GFS, RK_OUTPUT_GFS);\"\n",
    "    post_RHS_string = \"\"\n",
    "else:\n",
    "    print(\"Invalid choice of boundary condition\")\n",
    "    sys.exit(1)\n",
    "\n",
    "MoL.MoL_C_Code_Generation(RK_method, RHS_string = RHS_string, post_RHS_string = post_RHS_string,\n",
    "                          outdir = os.path.join(Ccodesdir,\"MoLtimestepping/\"))\n",
    "\n",
    "\n",
    "# Step 4: Set the coordinate system for the numerical grid\n",
    "par.set_parval_from_str(\"reference_metric::CoordSystem\",CoordSystem)\n",
    "rfm.reference_metric()\n",
    "\n",
    "# Step 5: Set the finite differencing order to 4.\n",
    "par.set_parval_from_str(\"finite_difference::FD_CENTDERIVS_ORDER\",FD_order)\n",
    "\n",
    "# Step 6: Copy SIMD/SIMD_intrinsics.h to $Ccodesdir/SIMD/SIMD_intrinsics.h\n",
    "cmd.mkdir(os.path.join(Ccodesdir,\"SIMD\"))\n",
    "shutil.copy(os.path.join(\"SIMD/\")+\"SIMD_intrinsics.h\",os.path.join(Ccodesdir,\"SIMD/\"))\n",
    "# par.set_parval_from_str(\"indexedexp::symmetry_axes\",\"2\")"
   ]
  },
  {
   "cell_type": "markdown",
   "metadata": {},
   "source": [
    "<a id='cfl'></a>\n",
    "\n",
    "## Step 1.a: Output needed C code for finding the minimum proper distance between grid points, needed for [CFL](https://en.wikipedia.org/w/index.php?title=Courant%E2%80%93Friedrichs%E2%80%93Lewy_condition&oldid=806430673)-limited timestep \\[Back to [top](#toc)\\]\n",
    "$$\\label{cfl}$$\n",
    "\n",
    "In order for our explicit-timestepping numerical solution to Maxwell's equations to be stable, it must satisfy the [CFL](https://en.wikipedia.org/w/index.php?title=Courant%E2%80%93Friedrichs%E2%80%93Lewy_condition&oldid=806430673) condition:\n",
    "$$\n",
    "\\Delta t \\le \\frac{\\min(ds_i)}{c},\n",
    "$$\n",
    "where $c$ is the wavespeed, and\n",
    "$$ds_i = h_i \\Delta x^i$$ \n",
    "is the proper distance between neighboring gridpoints in the $i$th direction (in 3D, there are 3 directions), $h_i$ is the $i$th reference metric scale factor, and $\\Delta x^i$ is the uniform grid spacing in the $i$th direction:"
   ]
  },
  {
   "cell_type": "code",
   "execution_count": 2,
   "metadata": {
    "execution": {
     "iopub.execute_input": "2021-03-07T17:34:06.061760Z",
     "iopub.status.busy": "2021-03-07T17:34:06.051393Z",
     "iopub.status.idle": "2021-03-07T17:34:06.073679Z",
     "shell.execute_reply": "2021-03-07T17:34:06.073001Z"
    }
   },
   "outputs": [],
   "source": [
    "# Output the find_timestep() function to a C file.\n",
    "rfm.out_timestep_func_to_file(os.path.join(Ccodesdir,\"find_timestep.h\"))"
   ]
  },
  {
   "cell_type": "markdown",
   "metadata": {},
   "source": [
    "<a id='mw'></a>\n",
    "\n",
    "# Step 2: Generate symbolic expressions and output C code for evolving Maxwell's equations \\[Back to [top](#toc)\\]\n",
    "$$\\label{mw}$$\n",
    "\n",
    "Here we read in the symbolic expressions from the NRPy+ [InitialData](../edit/Maxwell/InitialData.py) and [Maxwell/VacuumMaxwell_Flat_Evol_Curvilinear_rescaled](../edit/Maxwell/VacuumMaxwell_Flat_Evol_Curvilinear_rescaled.py) modules to define the initial data, evolution equations, and constraint equations.\n",
    "\n",
    "<a id='mwid'></a>\n",
    "\n",
    "## Step 2.a: Generate symbolic expressions for toroidal dipole field initial data \\[Back to [top](#toc)\\]\n",
    "$$\\label{mwid}$$\n",
    "\n",
    "\n",
    "\n",
    "Here we use the NRPy+ [InitialData](../edit/Maxwell/InitialData.py) module, described in [this tutorial](Tutorial-VacuumMaxwell_InitialData.ipynb), to write initial data to the grid functions for both systems.\n",
    "\n",
    "We define the rescaled quantities $a^i$ and $e^i$ in terms of $A^i$ and $E^i$ in curvilinear coordinates within the NRPy+ [InitialData](../edit/Maxwell/InitialData.py) module (see [this tutorial](Tutorial-VacuumMaxwell_formulation_Curvilinear.ipynb) for more detail);\n",
    "\n",
    "\\begin{align}\n",
    "a^i &= \\frac{A^i}{\\text{ReU}[i]},\\\\ \\\\\n",
    "e^i &= \\frac{E^i}{\\text{ReU}[i]}.\n",
    "\\end{align}"
   ]
  },
  {
   "cell_type": "code",
   "execution_count": 3,
   "metadata": {
    "execution": {
     "iopub.execute_input": "2021-03-07T17:34:06.082034Z",
     "iopub.status.busy": "2021-03-07T17:34:06.081401Z",
     "iopub.status.idle": "2021-03-07T17:34:09.832394Z",
     "shell.execute_reply": "2021-03-07T17:34:09.831887Z"
    }
   },
   "outputs": [
    {
     "name": "stdout",
     "output_type": "stream",
     "text": [
      "Currently using System_II initial data\n"
     ]
    }
   ],
   "source": [
    "import Maxwell.InitialData as mwid\n",
    "\n",
    "# Set which system to use, which are defined in Maxwell/InitialData.py\n",
    "par.set_parval_from_str(\"Maxwell.InitialData::System_to_use\",\"System_II\")\n",
    "\n",
    "mwid.InitialData()\n",
    "aidU = ixp.zerorank1()\n",
    "eidU = ixp.zerorank1()\n",
    "for i in range(DIM):\n",
    "    aidU[i] = mwid.AidU[i]/rfm.ReU[i]\n",
    "    eidU[i] = mwid.EidU[i]/rfm.ReU[i]\n",
    "\n",
    "Maxwell_ID_SymbExpressions = [\\\n",
    "                 lhrh(lhs=\"*AU0_exact\",rhs=aidU[0]),\\\n",
    "                 lhrh(lhs=\"*AU1_exact\",rhs=aidU[1]),\\\n",
    "                 lhrh(lhs=\"*AU2_exact\",rhs=aidU[2]),\\\n",
    "                 lhrh(lhs=\"*EU0_exact\",rhs=eidU[0]),\\\n",
    "                 lhrh(lhs=\"*EU1_exact\",rhs=eidU[1]),\\\n",
    "                 lhrh(lhs=\"*EU2_exact\",rhs=eidU[2]),\\\n",
    "                 lhrh(lhs=\"*PSI_exact\",rhs=mwid.psi_ID),\\\n",
    "                 lhrh(lhs=\"*GAMMA_exact\",rhs=mwid.Gamma_ID)]\n",
    "\n",
    "Maxwell_ID_CcodeKernel = fin.FD_outputC(\"returnstring\", Maxwell_ID_SymbExpressions)\n"
   ]
  },
  {
   "cell_type": "markdown",
   "metadata": {},
   "source": [
    "<a id='mwevol'></a>\n",
    "\n",
    "## Step 2.b: Generate symbolic expressions for evolution equations \\[Back to [top](#toc)\\]\n",
    "$$\\label{mwevol}$$\n",
    "\n",
    "Here we use the NRPy+ [Maxwell/VacuumMaxwell_Flat_Evol_Curvilinear_rescaled](../edit/Maxwell/VacuumMaxwell_Flat_Evol_Curvilinear_rescaled.py) module, described in [this tutorial](Tutorial-VacuumMaxwell_Curvilinear_RHSs.ipynb), to ascribe the evolution equations to the grid functions."
   ]
  },
  {
   "cell_type": "code",
   "execution_count": 4,
   "metadata": {
    "execution": {
     "iopub.execute_input": "2021-03-07T17:34:09.841679Z",
     "iopub.status.busy": "2021-03-07T17:34:09.841026Z",
     "iopub.status.idle": "2021-03-07T17:34:12.481425Z",
     "shell.execute_reply": "2021-03-07T17:34:12.480888Z"
    }
   },
   "outputs": [],
   "source": [
    "import Maxwell.VacuumMaxwell_Flat_Evol_Curvilinear_rescaled as rhs\n",
    "\n",
    "# Set which system to use, which are defined in Maxwell/InitialData.py\n",
    "par.set_parval_from_str(\"Maxwell.InitialData::System_to_use\",\"System_II\")\n",
    "\n",
    "cmd.mkdir(os.path.join(Ccodesdir,\"rfm_files/\"))\n",
    "par.set_parval_from_str(\"reference_metric::enable_rfm_precompute\",\"True\")\n",
    "par.set_parval_from_str(\"reference_metric::rfm_precompute_Ccode_outdir\",os.path.join(Ccodesdir,\"rfm_files/\"))\n",
    "\n",
    "rhs.VacuumMaxwellRHSs_rescaled()\n",
    "\n",
    "Maxwell_RHSs_SymbExpressions =  [\\\n",
    "                  lhrh(lhs=gri.gfaccess(\"rhs_gfs\",\"aU0\"),rhs=rhs.arhsU[0]),\\\n",
    "                  lhrh(lhs=gri.gfaccess(\"rhs_gfs\",\"aU1\"),rhs=rhs.arhsU[1]),\\\n",
    "                  lhrh(lhs=gri.gfaccess(\"rhs_gfs\",\"aU2\"),rhs=rhs.arhsU[2]),\\\n",
    "                  lhrh(lhs=gri.gfaccess(\"rhs_gfs\",\"eU0\"),rhs=rhs.erhsU[0]),\\\n",
    "                  lhrh(lhs=gri.gfaccess(\"rhs_gfs\",\"eU1\"),rhs=rhs.erhsU[1]),\\\n",
    "                  lhrh(lhs=gri.gfaccess(\"rhs_gfs\",\"eU2\"),rhs=rhs.erhsU[2]),\\\n",
    "                  lhrh(lhs=gri.gfaccess(\"rhs_gfs\",\"psi\"),rhs=rhs.psi_rhs),\\\n",
    "                  lhrh(lhs=gri.gfaccess(\"rhs_gfs\",\"Gamma\"),rhs=rhs.Gamma_rhs)]\n",
    "\n",
    "par.set_parval_from_str(\"reference_metric::enable_rfm_precompute\",\"False\") # Reset to False to disable rfm_precompute.\n",
    "rfm.ref_metric__hatted_quantities()\n",
    "\n",
    "Maxwell_RHSs_string = fin.FD_outputC(\"returnstring\",\n",
    "                          Maxwell_RHSs_SymbExpressions,\n",
    "                          params=\"SIMD_enable=True\").replace(\"IDX4\",\"IDX4S\")\n"
   ]
  },
  {
   "cell_type": "markdown",
   "metadata": {},
   "source": [
    "<a id='mwcon'></a>\n",
    "\n",
    "## Step 2.c: Generate symbolic expressions for constraint equations \\[Back to [top](#toc)\\]\n",
    "$$\\label{mwcon}$$\n",
    "\n",
    "We now use the NRPy+ [Maxwell/VacuumMaxwell_Flat_Evol_Curvilinear_rescaled](../edit/Maxwell/VacuumMaxwell_Flat_Evol_Curvilinear_rescaled.py) module, described in [this tutorial](Tutorial-VacuumMaxwell_Curvilinear_RHSs.ipynb), to ascribe the constraint equations."
   ]
  },
  {
   "cell_type": "code",
   "execution_count": 5,
   "metadata": {
    "execution": {
     "iopub.execute_input": "2021-03-07T17:34:12.556074Z",
     "iopub.status.busy": "2021-03-07T17:34:12.520081Z",
     "iopub.status.idle": "2021-03-07T17:34:12.643990Z",
     "shell.execute_reply": "2021-03-07T17:34:12.643369Z"
    }
   },
   "outputs": [],
   "source": [
    "C = gri.register_gridfunctions(\"AUX\", \"C\")\n",
    "G = gri.register_gridfunctions(\"AUX\", \"G\")\n",
    "\n",
    "Constraints_string = fin.FD_outputC(\"returnstring\",\n",
    "                                [lhrh(lhs=gri.gfaccess(\"aux_gfs\", \"C\"), rhs=rhs.C),\n",
    "                                 lhrh(lhs=gri.gfaccess(\"aux_gfs\", \"G\"), rhs=rhs.G)],\n",
    "                                params=\"outCverbose=False\").replace(\"IDX4\",\"IDX4S\")"
   ]
  },
  {
   "cell_type": "markdown",
   "metadata": {},
   "source": [
    "<a id='mwcart'></a>\n",
    "\n",
    "## Step 2.d: Generate symbolic expressions for converting $A^i$ and $E^i$ to the Cartesian basis \\[Back to [top](#toc)\\]\n",
    "$$\\label{mwcart}$$\n",
    "\n",
    "We now use the NRPy+ [Maxwell/VacuumMaxwell_Flat_Evol_Curvilinear_rescaled](../edit/Maxwell/VacuumMaxwell_Flat_Evol_Curvilinear_rescaled.py) module, described in [this tutorial](Tutorial-VacuumMaxwell_Curvilinear_RHSs.ipynb), to ascribe the coordinate conversion, to make our convergence tests slightly easier."
   ]
  },
  {
   "cell_type": "code",
   "execution_count": 6,
   "metadata": {
    "execution": {
     "iopub.execute_input": "2021-03-07T17:34:12.718387Z",
     "iopub.status.busy": "2021-03-07T17:34:12.682391Z",
     "iopub.status.idle": "2021-03-07T17:34:12.755701Z",
     "shell.execute_reply": "2021-03-07T17:34:12.755180Z"
    }
   },
   "outputs": [],
   "source": [
    "AUCart = ixp.register_gridfunctions_for_single_rank1(\"AUX\", \"AUCart\")\n",
    "EUCart = ixp.register_gridfunctions_for_single_rank1(\"AUX\", \"EUCart\")\n",
    "\n",
    "Cartesian_Vectors_string = fin.FD_outputC(\"returnstring\",\n",
    "                        [lhrh(lhs=gri.gfaccess(\"aux_gfs\", \"AUCart0\"), rhs=rhs.AU_Cart[0]),\n",
    "                         lhrh(lhs=gri.gfaccess(\"aux_gfs\", \"AUCart1\"), rhs=rhs.AU_Cart[1]),\n",
    "                         lhrh(lhs=gri.gfaccess(\"aux_gfs\", \"AUCart2\"), rhs=rhs.AU_Cart[2]),\n",
    "                         lhrh(lhs=gri.gfaccess(\"aux_gfs\", \"EUCart0\"), rhs=rhs.EU_Cart[0]),\n",
    "                         lhrh(lhs=gri.gfaccess(\"aux_gfs\", \"EUCart1\"), rhs=rhs.EU_Cart[1]),\n",
    "                         lhrh(lhs=gri.gfaccess(\"aux_gfs\", \"EUCart2\"), rhs=rhs.EU_Cart[2])],\n",
    "                        params=\"outCverbose=False\").replace(\"IDX4\",\"IDX4S\")"
   ]
  },
  {
   "cell_type": "markdown",
   "metadata": {},
   "source": [
    "<a id='mwccode'></a>\n",
    "\n",
    "## Step 2.e: Output C codes for initial data and evolution equations \\[Back to [top](#toc)\\]\n",
    "$$\\label{mwccode}$$\n",
    "\n",
    "Next we write the C codes for the initial data and evolution equations to files, to be used later by our main C code."
   ]
  },
  {
   "cell_type": "code",
   "execution_count": 7,
   "metadata": {
    "execution": {
     "iopub.execute_input": "2021-03-07T17:34:12.763732Z",
     "iopub.status.busy": "2021-03-07T17:34:12.763046Z",
     "iopub.status.idle": "2021-03-07T17:34:12.819391Z",
     "shell.execute_reply": "2021-03-07T17:34:12.818705Z"
    }
   },
   "outputs": [
    {
     "name": "stdout",
     "output_type": "stream",
     "text": [
      "Output C function exact_solution_single_point() to file MaxwellEvolCurvi_Playground_Ccodes/exact_solution_single_point.h\n",
      "Output C function exact_solution_all_points() to file MaxwellEvolCurvi_Playground_Ccodes/exact_solution_all_points.h\n",
      "Output C function rhs_eval() to file MaxwellEvolCurvi_Playground_Ccodes/rhs_eval.h\n"
     ]
    }
   ],
   "source": [
    "# Step 11: Generate all needed C functions\n",
    "Part_P1_body = Maxwell_ID_CcodeKernel\n",
    "desc=\"Part P1: Declare the function for the exact solution at a single point. time==0 corresponds to the initial data.\"\n",
    "name=\"exact_solution_single_point\"\n",
    "outCfunction(\n",
    "    outfile  = os.path.join(Ccodesdir,name+\".h\"), desc=desc, name=name,\n",
    "    params   =\"const REAL xx0,const REAL xx1,const REAL xx2,const paramstruct *restrict params,\\\n",
    "                                        REAL *EU0_exact, \\\n",
    "                                        REAL *EU1_exact, \\\n",
    "                                        REAL *EU2_exact, \\\n",
    "                                        REAL *AU0_exact, \\\n",
    "                                        REAL *AU1_exact, \\\n",
    "                                        REAL *AU2_exact, \\\n",
    "                                        REAL *PSI_exact,\\\n",
    "                                        REAL *GAMMA_exact\",\n",
    "    body     = Part_P1_body,\n",
    "    loopopts = \"\")\n",
    "\n",
    "desc=\"Part P2: Declare the function for the exact solution at all points. time==0 corresponds to the initial data.\"\n",
    "name=\"exact_solution_all_points\"\n",
    "outCfunction(\n",
    "    outfile  = os.path.join(Ccodesdir,name+\".h\"), desc=desc, name=name,\n",
    "    params   =\"const paramstruct *restrict params,REAL *restrict xx[3], REAL *restrict in_gfs\",\n",
    "    body     =\"\"\"\n",
    "REAL xx0 = xx[0][i0]; REAL xx1 = xx[1][i1]; REAL xx2 = xx[2][i2];\n",
    "exact_solution_single_point(xx0,xx1,xx2,params,&in_gfs[IDX4S(EU0GF,i0,i1,i2)],\n",
    "                                               &in_gfs[IDX4S(EU1GF,i0,i1,i2)],\n",
    "                                               &in_gfs[IDX4S(EU2GF,i0,i1,i2)],\n",
    "                                               &in_gfs[IDX4S(AU0GF,i0,i1,i2)],\n",
    "                                               &in_gfs[IDX4S(AU1GF,i0,i1,i2)],\n",
    "                                               &in_gfs[IDX4S(AU2GF,i0,i1,i2)],\n",
    "                                               &in_gfs[IDX4S(PSIGF,i0,i1,i2)],\n",
    "                                               &in_gfs[IDX4S(GAMMAGF,i0,i1,i2)]);\"\"\",\n",
    "    loopopts = \"AllPoints\")\n",
    "\n",
    "Part_P3_body = Maxwell_RHSs_string\n",
    "\n",
    "desc=\"Part P3: Declare the function to evaluate the RHSs of Maxwell's equations\"\n",
    "name=\"rhs_eval\"\n",
    "outCfunction(\n",
    "    outfile  = os.path.join(Ccodesdir,name+\".h\"), desc=desc, name=name,\n",
    "    params   =\"\"\"rfm_struct *restrict rfmstruct,const paramstruct *restrict params,\n",
    "                 const REAL *restrict in_gfs, REAL *restrict rhs_gfs\"\"\",\n",
    "    body     =Part_P3_body,\n",
    "    loopopts = \"InteriorPoints,EnableSIMD,Enable_rfm_precompute\")"
   ]
  },
  {
   "cell_type": "markdown",
   "metadata": {},
   "source": [
    "<a id='mwccode_con'></a>\n",
    "\n",
    "## Step 2.f: Output C code for constraint equations \\[Back to [top](#toc)\\]\n",
    "$$\\label{mwccode_con}$$\n",
    "\n",
    "Finally output the C code for evaluating the divergence constraint, described in [this tutorial](Tutorial-VacuumMaxwell_Curvilinear_RHSs.ipynb). In the absence of numerical error, this constraint should evaluate to zero, but due to numerical (typically truncation and roundoff) error it does not. We will therefore measure the divergence constraint violation to gauge the accuracy of our simulation, and ultimately determine whether errors are dominated by numerical finite differencing (truncation) error as expected. Specifically, we take the L2 norm of the constraint violation, via\n",
    "\n",
    "\\begin{align}\n",
    "    \\lVert C \\rVert^2 &= \\frac{\\int C^2 d\\mathcal{V}}{\\int d\\mathcal{V}}.\n",
    "\\end{align}\n",
    "\n",
    "Numerically approximating this integral, in spherical coordinates for example, then gives us\n",
    "    \n",
    "\\begin{align}\n",
    "    \\lVert C \\rVert^2   &= \\frac{\\sum C^2 r^2 \\sin^2 (\\theta) dr d\\theta d\\phi}{\\sum r^2 \\sin^2 (\\theta) dr d\\theta d\\phi}, \\\\ \\\\\n",
    "    &= \\frac{\\sum C^2 r^2 \\sin^2 (\\theta)}{\\sum r^2 \\sin^2 (\\theta) } , \\\\  \\\\\n",
    "    &= \\frac{\\sum C^2 \\ \\sqrt{\\text{det} \\ \\hat{\\gamma}}}{\\sum \\sqrt{\\text{det} \\ \\hat{\\gamma}}},\n",
    "\\end{align}\n",
    "\n",
    "where $\\hat{\\gamma}$ is the reference metric. Thus, along with the C code to calculate the constraints, we also print out the code required to evaluate $\\sqrt{\\text{det} \\ \\hat{\\gamma}}$ at any given point."
   ]
  },
  {
   "cell_type": "code",
   "execution_count": 8,
   "metadata": {
    "execution": {
     "iopub.execute_input": "2021-03-07T17:34:12.849138Z",
     "iopub.status.busy": "2021-03-07T17:34:12.825278Z",
     "iopub.status.idle": "2021-03-07T17:34:12.852485Z",
     "shell.execute_reply": "2021-03-07T17:34:12.852981Z"
    }
   },
   "outputs": [
    {
     "name": "stdout",
     "output_type": "stream",
     "text": [
      "Output C function Constraints() to file MaxwellEvolCurvi_Playground_Ccodes/Constraints.h\n",
      "Output C function diagnostic_integrand() to file MaxwellEvolCurvi_Playground_Ccodes/diagnostic_integrand.h\n"
     ]
    }
   ],
   "source": [
    "# Set up the C function for the calculating the constraints\n",
    "Part_P4_body = Constraints_string\n",
    "desc=\"Evaluate the constraints\"\n",
    "name=\"Constraints\"\n",
    "outCfunction(\n",
    "    outfile  = os.path.join(Ccodesdir,name+\".h\"), desc=desc, name=name,\n",
    "    params   = \"\"\"rfm_struct *restrict rfmstruct,const paramstruct *restrict params,\n",
    "                  REAL *restrict in_gfs, REAL *restrict aux_gfs\"\"\",\n",
    "    body     = Part_P4_body,\n",
    "    loopopts = \"InteriorPoints,Enable_rfm_precompute\")\n",
    "\n",
    "# intgrand to be used to calculate the L2 norm of the constraint\n",
    "diagnostic_integrand_body = outputC(rfm.detgammahat,\"*detg\",filename='returnstring',\n",
    "                                    params=\"includebraces=False\")\n",
    "desc=\"Evaluate the volume element at a specific point\"\n",
    "name=\"diagnostic_integrand\"\n",
    "outCfunction(\n",
    "    outfile  = os.path.join(Ccodesdir,name+\".h\"), desc=desc, name=name,\n",
    "    params   =\"const REAL xx0,const REAL xx1,const REAL xx2,const paramstruct *restrict params, REAL *restrict detg\",\n",
    "    body     = diagnostic_integrand_body,\n",
    "    loopopts = \"\")\n"
   ]
  },
  {
   "cell_type": "markdown",
   "metadata": {},
   "source": [
    "<a id='mwccode_cart'></a>\n",
    "\n",
    "## Step 2.g: Output C code for converting $A^i$ and $E^i$ to Cartesian coordinates \\[Back to [top](#toc)\\]\n",
    "$$\\label{mwccode_cart}$$\n",
    "\n",
    "Here we write the C code for the coordinate transformation to Cartesian coordinates."
   ]
  },
  {
   "cell_type": "code",
   "execution_count": 9,
   "metadata": {
    "execution": {
     "iopub.execute_input": "2021-03-07T17:34:12.859632Z",
     "iopub.status.busy": "2021-03-07T17:34:12.858326Z",
     "iopub.status.idle": "2021-03-07T17:34:12.861930Z",
     "shell.execute_reply": "2021-03-07T17:34:12.862508Z"
    }
   },
   "outputs": [
    {
     "name": "stdout",
     "output_type": "stream",
     "text": [
      "Output C function Cartesian_basis() to file MaxwellEvolCurvi_Playground_Ccodes/Cartesian_basis.h\n"
     ]
    }
   ],
   "source": [
    "desc=\"Convert EU and AU to Cartesian basis\"\n",
    "name=\"Cartesian_basis\"\n",
    "outCfunction(\n",
    "    outfile  = os.path.join(Ccodesdir,name+\".h\"), desc=desc, name=name,\n",
    "    params   = \"\"\"rfm_struct *restrict rfmstruct,const paramstruct *restrict params, REAL *restrict xx[3],\n",
    "                  REAL *restrict in_gfs, REAL *restrict aux_gfs\"\"\",\n",
    "    body     = \"REAL xx0 = xx[0][i0]; REAL xx1 = xx[1][i1]; REAL xx2 = xx[2][i2];\\n\"+Cartesian_Vectors_string,\n",
    "    loopopts = \"AllPoints, Enable_rfm_precompute\")"
   ]
  },
  {
   "cell_type": "markdown",
   "metadata": {},
   "source": [
    "<a id='mwccode_xzloop'></a>\n",
    "\n",
    "## Step 2.h: Output C code for printing 2D data \\[Back to [top](#toc)\\]\n",
    "$$\\label{mwccode_xzloop}$$\n",
    "\n",
    "Here we output the neccesary C code to print out a 2D slice of the data in the xz-plane, using the `xz_loop` macro"
   ]
  },
  {
   "cell_type": "code",
   "execution_count": 10,
   "metadata": {
    "execution": {
     "iopub.execute_input": "2021-03-07T17:34:12.869133Z",
     "iopub.status.busy": "2021-03-07T17:34:12.868475Z",
     "iopub.status.idle": "2021-03-07T17:34:12.870873Z",
     "shell.execute_reply": "2021-03-07T17:34:12.871346Z"
    }
   },
   "outputs": [],
   "source": [
    "def xz_loop(CoordSystem):\n",
    "    ret = \"\"\"// xz-plane output for \"\"\" + CoordSystem + r\"\"\" coordinates:\n",
    "#define LOOP_XZ_PLANE(ii, jj, kk) \\\n",
    "\"\"\"\n",
    "    if \"Spherical\" in CoordSystem or  \"SymTP\" in CoordSystem:\n",
    "        ret += r\"\"\"for (int i2 = 0; i2 < Nxx_plus_2NGHOSTS2; i2++) \\\n",
    "  if(i2 == NGHOSTS || i2 == Nxx_plus_2NGHOSTS2/2) \\\n",
    "    for (int i1 = 0; i1 < Nxx_plus_2NGHOSTS1; i1++) \\\n",
    "      for (int i0 = 0; i0 < Nxx_plus_2NGHOSTS0; i0++)\n",
    "\"\"\"\n",
    "    elif \"Cylindrical\" in CoordSystem:\n",
    "        ret += r\"\"\"for (int i2 = 0; i2 < Nxx_plus_2NGHOSTS2; i2++) \\\n",
    "  for (int i1 = 0; i1 < Nxx_plus_2NGHOSTS1; i1++) \\\n",
    "    if(i1 == NGHOSTS || i1 == Nxx_plus_2NGHOSTS1/2) \\\n",
    "      for (int i0 = 0; i0 < Nxx_plus_2NGHOSTS0; i0++)\n",
    "\"\"\"\n",
    "    elif \"Cartesian\" in CoordSystem:\n",
    "        ret += r\"\"\"for (int i2 = 0; i2 < Nxx_plus_2NGHOSTS2; i2++) \\\n",
    "  for (int i1 = Nxx_plus_2NGHOSTS1/2; i1 < Nxx_plus_2NGHOSTS1/2+1; i1++) \\\n",
    "    for (int i0 = 0; i0 < Nxx_plus_2NGHOSTS0; i0++)\n",
    "\"\"\"\n",
    "    return ret\n",
    "\n",
    "with open(os.path.join(Ccodesdir,\"xz_loop.h\"),\"w\") as file:\n",
    "    file.write(xz_loop(CoordSystem))"
   ]
  },
  {
   "cell_type": "markdown",
   "metadata": {},
   "source": [
    "<a id='cparams_rfm_and_domainsize'></a>\n",
    "\n",
    "## Step 2.i: Output C codes needed for declaring and setting Cparameters; also set `free_parameters.h` \\[Back to [top](#toc)\\]\n",
    "$$\\label{cparams_rfm_and_domainsize}$$\n",
    "\n",
    "Based on declared NRPy+ Cparameters, first we generate `declare_Cparameters_struct.h`, `set_Cparameters_default.h`, and `set_Cparameters[-SIMD].h`.\n",
    "\n",
    "Then we output `free_parameters.h`, which sets initial data parameters, as well as grid domain & reference metric parameters, applying `domain_size` and `sinh_width`/`SymTP_bScale` (if applicable) as set above"
   ]
  },
  {
   "cell_type": "code",
   "execution_count": 11,
   "metadata": {
    "execution": {
     "iopub.execute_input": "2021-03-07T17:34:12.878909Z",
     "iopub.status.busy": "2021-03-07T17:34:12.878068Z",
     "iopub.status.idle": "2021-03-07T17:34:13.390733Z",
     "shell.execute_reply": "2021-03-07T17:34:13.390081Z"
    }
   },
   "outputs": [],
   "source": [
    "# Generate declare_Cparameters_struct.h, set_Cparameters_default.h, and set_Cparameters[-SIMD].h\n",
    "par.generate_Cparameters_Ccodes(os.path.join(Ccodesdir))\n",
    "\n",
    "# Set free_parameters.h\n",
    "with open(os.path.join(Ccodesdir,\"free_parameters.h\"),\"w\") as file:\n",
    "    file.write(\"\"\"\n",
    "// Set free-parameter values.\n",
    "params.time = 0.0; // Initial simulation time time corresponds to exact solution at time=0.\n",
    "params.amp = 1.0;\n",
    "params.lam = 1.0;\n",
    "params.wavespeed = 1.0;\\n\"\"\")\n",
    "\n",
    "# Append to $Ccodesdir/free_parameters.h reference metric parameters based on generic\n",
    "#    domain_size,sinh_width,sinhv2_const_dr,SymTP_bScale,\n",
    "#    parameters set above.\n",
    "rfm.out_default_free_parameters_for_rfm(os.path.join(Ccodesdir,\"free_parameters.h\"),\n",
    "                                        domain_size,sinh_width,sinhv2_const_dr,SymTP_bScale)\n",
    "\n",
    "# Generate set_Nxx_dxx_invdx_params__and__xx.h:\n",
    "rfm.set_Nxx_dxx_invdx_params__and__xx_h(Ccodesdir, grid_centering=\"cell\")\n",
    "\n",
    "# Generate xx_to_Cart.h, which contains xx_to_Cart() for\n",
    "#  (the mapping from xx->Cartesian) for the chosen CoordSystem:\n",
    "rfm.xx_to_Cart_h(\"xx_to_Cart\",\"./set_Cparameters.h\",os.path.join(Ccodesdir,\"xx_to_Cart.h\"))\n",
    "\n",
    "# Step 3.d.v: Generate declare_Cparameters_struct.h, set_Cparameters_default.h, and set_Cparameters[-SIMD].h\n",
    "par.generate_Cparameters_Ccodes(os.path.join(Ccodesdir))"
   ]
  },
  {
   "cell_type": "markdown",
   "metadata": {},
   "source": [
    "<a id='bc_functs'></a>\n",
    "\n",
    "# Step 3: Set up Sommerfeld boundary condition for Cartesian coordinate system \\[Back to [top](#toc)\\]\n",
    "$$\\label{bc_functs}$$\n",
    "\n",
    "Next we output the C code necessary to implement the Sommerfeld boundary condition in Cartesian coordinates, [as documented in the corresponding NRPy+ tutorial notebook](Tutorial-SommerfeldBoundaryCondition.ipynb)"
   ]
  },
  {
   "cell_type": "code",
   "execution_count": 12,
   "metadata": {
    "execution": {
     "iopub.execute_input": "2021-03-07T17:34:13.397412Z",
     "iopub.status.busy": "2021-03-07T17:34:13.396285Z",
     "iopub.status.idle": "2021-03-07T17:34:14.726685Z",
     "shell.execute_reply": "2021-03-07T17:34:14.725986Z"
    }
   },
   "outputs": [
    {
     "name": "stdout",
     "output_type": "stream",
     "text": [
      "Wrote to file \"MaxwellEvolCurvi_Playground_Ccodes/boundary_conditions/parity_conditions_symbolic_dot_products.h\"\n",
      "Evolved parity: ( Gamma:0, aU0:1, aU1:2, aU2:3, eU0:1, eU1:2, eU2:3, psi:0\n",
      "    )\n",
      "Auxiliary parity: ( AUCart0:1, AUCart1:2, AUCart2:3, C:0, EUCart0:1,\n",
      "    EUCart1:2, EUCart2:3, G:0 )\n",
      "\n",
      "Wrote to file \"MaxwellEvolCurvi_Playground_Ccodes/boundary_conditions/EigenCoord_Cart_to_xx.h\"\n",
      "\n",
      "Successfully generated Sommerfeld boundary condition C code\n"
     ]
    }
   ],
   "source": [
    "import CurviBoundaryConditions.CurviBoundaryConditions as cbcs\n",
    "cbcs.Set_up_CurviBoundaryConditions(os.path.join(Ccodesdir,\"boundary_conditions/\"),\n",
    "                                   Cparamspath=os.path.join(\"../\"),\n",
    "                                   BoundaryCondition=BoundaryCondition)\n",
    "\n",
    "if BoundaryCondition == \"Sommerfeld\":\n",
    "    bcs = cbcs.sommerfeld_boundary_condition_class(fd_order=4,\n",
    "                                             vars_radial_falloff_power_default=3,\n",
    "                                             vars_speed_default=1.,\n",
    "                                             vars_at_inf_default=0.)\n",
    "    bcs.write_sommerfeld_file(Ccodesdir)"
   ]
  },
  {
   "cell_type": "markdown",
   "metadata": {},
   "source": [
    "<a id='mainc'></a>\n",
    "\n",
    "# Step 4: `Maxwell_Playground.c`: The Main C Code \\[Back to [top](#toc)\\]\n",
    "$$\\label{mainc}$$"
   ]
  },
  {
   "cell_type": "code",
   "execution_count": 13,
   "metadata": {
    "execution": {
     "iopub.execute_input": "2021-03-07T17:34:14.732148Z",
     "iopub.status.busy": "2021-03-07T17:34:14.731479Z",
     "iopub.status.idle": "2021-03-07T17:34:14.734080Z",
     "shell.execute_reply": "2021-03-07T17:34:14.734667Z"
    }
   },
   "outputs": [],
   "source": [
    "# Part P0: Define REAL, set the number of ghost cells NGHOSTS (from NRPy+'s FD_CENTDERIVS_ORDER),\n",
    "#          and set the CFL_FACTOR (which can be overwritten at the command line)\n",
    "\n",
    "with open(os.path.join(Ccodesdir,\"Maxwell_Playground_REAL__NGHOSTS__CFL_FACTOR.h\"), \"w\") as file:\n",
    "    file.write(\"\"\"\n",
    "// Part P0.a: Set the number of ghost cells, from NRPy+'s FD_CENTDERIVS_ORDER\n",
    "#define NGHOSTS \"\"\"+str(int(FD_order/2)+1)+\"\"\"\n",
    "// Part P0.b: Set the numerical precision (REAL) to double, ensuring all floating point\n",
    "//            numbers are stored to at least ~16 significant digits\n",
    "#define REAL \"\"\"+REAL+\"\"\"\n",
    "// Part P0.c: Set the CFL Factor. Can be overwritten at command line.\n",
    "REAL CFL_FACTOR = \"\"\"+str(default_CFL_FACTOR)+\";\")"
   ]
  },
  {
   "cell_type": "code",
   "execution_count": 14,
   "metadata": {
    "execution": {
     "iopub.execute_input": "2021-03-07T17:34:14.744490Z",
     "iopub.status.busy": "2021-03-07T17:34:14.743584Z",
     "iopub.status.idle": "2021-03-07T17:34:14.746672Z",
     "shell.execute_reply": "2021-03-07T17:34:14.747153Z"
    }
   },
   "outputs": [
    {
     "name": "stdout",
     "output_type": "stream",
     "text": [
      "Writing MaxwellEvolCurvi_Playground_Ccodes//Maxwell_Playground.c\n"
     ]
    }
   ],
   "source": [
    "%%writefile $Ccodesdir/Maxwell_Playground.c\n",
    "\n",
    "// Step P0: Define REAL and NGHOSTS; and declare CFL_FACTOR. This header is generated in NRPy+.\n",
    "#include \"Maxwell_Playground_REAL__NGHOSTS__CFL_FACTOR.h\"\n",
    "\n",
    "#include \"rfm_files/rfm_struct__declare.h\"\n",
    "\n",
    "#include \"declare_Cparameters_struct.h\"\n",
    "\n",
    "// All SIMD intrinsics used in SIMD-enabled C code loops are defined here:\n",
    "#include \"SIMD/SIMD_intrinsics.h\"\n",
    "\n",
    "// Step P1: Import needed header files\n",
    "#include \"stdio.h\"\n",
    "#include \"stdlib.h\"\n",
    "#include \"math.h\"\n",
    "#include \"time.h\"\n",
    "#include \"stdint.h\" // Needed for Windows GCC 6.x compatibility\n",
    "#ifndef M_PI\n",
    "#define M_PI 3.141592653589793238462643383279502884L\n",
    "#endif\n",
    "#ifndef M_SQRT1_2\n",
    "#define M_SQRT1_2 0.707106781186547524400844362104849039L\n",
    "#endif\n",
    "\n",
    "// Step P2: Declare the IDX4S(gf,i,j,k) macro, which enables us to store 4-dimensions of\n",
    "//           data in a 1D array. In this case, consecutive values of \"i\"\n",
    "//           (all other indices held to a fixed value) are consecutive in memory, where\n",
    "//           consecutive values of \"j\" (fixing all other indices) are separated by\n",
    "//           Nxx_plus_2NGHOSTS0 elements in memory. Similarly, consecutive values of\n",
    "//           \"k\" are separated by Nxx_plus_2NGHOSTS0*Nxx_plus_2NGHOSTS1 in memory, etc.\n",
    "#define IDX4S(g,i,j,k) \\\n",
    "( (i) + Nxx_plus_2NGHOSTS0 * ( (j) + Nxx_plus_2NGHOSTS1 * ( (k) + Nxx_plus_2NGHOSTS2 * (g) ) ) )\n",
    "#define IDX4ptS(g,idx) ( (idx) + (Nxx_plus_2NGHOSTS0*Nxx_plus_2NGHOSTS1*Nxx_plus_2NGHOSTS2) * (g) )\n",
    "#define IDX3S(i,j,k) ( (i) + Nxx_plus_2NGHOSTS0 * ( (j) + Nxx_plus_2NGHOSTS1 * ( (k) ) ) )\n",
    "#define LOOP_REGION(i0min,i0max, i1min,i1max, i2min,i2max) \\\n",
    "  for(int i2=i2min;i2<i2max;i2++) for(int i1=i1min;i1<i1max;i1++) for(int i0=i0min;i0<i0max;i0++)\n",
    "#define LOOP_ALL_GFS_GPS(ii) _Pragma(\"omp parallel for\") \\\n",
    "  for(int (ii)=0;(ii)<Nxx_plus_2NGHOSTS_tot*NUM_EVOL_GFS;(ii)++)\n",
    "\n",
    "// Step P3: Set UUGF and VVGF macros, as well as xx_to_Cart()\n",
    "#include \"boundary_conditions/gridfunction_defines.h\"\n",
    "\n",
    "// Step P4: Defines set_Nxx_dxx_invdx_params__and__xx(const int EigenCoord, const int Nxx[3],\n",
    "//                                       paramstruct *restrict params, REAL *restrict xx[3]),\n",
    "//          which sets params Nxx,Nxx_plus_2NGHOSTS,dxx,invdx, and xx[] for\n",
    "//          the chosen Eigen-CoordSystem if EigenCoord==1, or\n",
    "//          CoordSystem if EigenCoord==0.\n",
    "#include \"set_Nxx_dxx_invdx_params__and__xx.h\"\n",
    "\n",
    "// Step P5: Include basic functions needed to impose curvilinear\n",
    "//          parity and boundary conditions.\n",
    "#include \"boundary_conditions/CurviBC_include_Cfunctions.h\"\n",
    "\n",
    "// Step P6: Find the CFL-constrained timestep\n",
    "#include \"find_timestep.h\"\n",
    "\n",
    "// Part P7: Declare the function for the exact solution at a single point. time==0 corresponds to the initial data.\n",
    "#include \"exact_solution_single_point.h\"\n",
    "\n",
    "// Part P8: Declare the function for the exact solution at all points. time==0 corresponds to the initial data.\n",
    "#include \"exact_solution_all_points.h\"\n",
    "\n",
    "// Step P9: Declare function for evaluating constraints (diagnostic)\n",
    "#include \"Constraints.h\"\n",
    "\n",
    "// Step P10: Declare rhs_eval function, which evaluates the RHSs of Maxwells equations\n",
    "#include \"rhs_eval.h\"\n",
    "\n",
    "// Step P11: Declare function to calculate det gamma_hat, used in calculating the L2 norm\n",
    "#include \"diagnostic_integrand.h\"\n",
    "\n",
    "// Step P12: Declare function to transform to the Cartesian basis\n",
    "#include \"Cartesian_basis.h\"\n",
    "\n",
    "// Step P13: Declare macro to print out data along the xz-plane\n",
    "#include \"xz_loop.h\"\n",
    "\n",
    "// main() function:\n",
    "// Step 0: Read command-line input, set up grid structure, allocate memory for gridfunctions, set up coordinates\n",
    "// Step 1: Set up initial data to an exact solution\n",
    "// Step 2: Start the timer, for keeping track of how fast the simulation is progressing.\n",
    "// Step 3: Integrate the initial data forward in time using the chosen RK-like Method of\n",
    "//         Lines timestepping algorithm, and output periodic simulation diagnostics\n",
    "// Step 3.a: Output 2D data file periodically, for visualization\n",
    "// Step 3.b: Step forward one timestep (t -> t+dt) in time using\n",
    "//           chosen RK-like MoL timestepping algorithm\n",
    "// Step 3.c: If t=t_final, output x and y components of evolution variables and the\n",
    "//           constraint violation to 2D data file\n",
    "// Step 3.d: Progress indicator printing to stderr\n",
    "// Step 4: Free all allocated memory\n",
    "int main(int argc, const char *argv[]) {\n",
    "    paramstruct params;\n",
    "#include \"set_Cparameters_default.h\"\n",
    "\n",
    "    // Define xx_to_Cart(const paramstruct *restrict params,\n",
    "    //                     REAL *restrict xx[3],\n",
    "    //                     const int i0,const int i1,const int i2,\n",
    "    //                     REAL xCart[3]),\n",
    "    //           which maps xx->Cartesian via\n",
    "    //    {xx[0][i0],xx[1][i1],xx[2][i2]}->{xCart[0],xCart[1],xCart[2]}\n",
    "    // Note that xx_to_Cart is declared inline, so it must be #include'd here since we call\n",
    "    //  it from the main() function.\n",
    "#include \"xx_to_Cart.h\"\n",
    "\n",
    "    // Step 0a: Read command-line input, error out if nonconformant\n",
    "    if((argc != 5 && argc != 6) || atoi(argv[1]) < NGHOSTS || atoi(argv[2]) < NGHOSTS || atoi(argv[3]) < 2 /* FIXME; allow for axisymmetric sims */) {\n",
    "        fprintf(stderr,\"Error: Expected three command-line arguments: ./Maxwell_Playground Nx0 Nx1 Nx2,\\n\");\n",
    "        fprintf(stderr,\"where Nx[0,1,2] is the number of grid points in the 0, 1, and 2 directions.\\n\");\n",
    "        fprintf(stderr,\"Nx[] MUST BE larger than NGHOSTS (= %d)\\n\",NGHOSTS);\n",
    "        exit(1);\n",
    "    }\n",
    "    if(argc == 5) {\n",
    "        CFL_FACTOR = strtod(argv[5],NULL);\n",
    "        if(CFL_FACTOR > 0.5 && atoi(argv[3])!=2) {\n",
    "            fprintf(stderr,\"WARNING: CFL_FACTOR was set to %e, which is > 0.5.\\n\",CFL_FACTOR);\n",
    "            fprintf(stderr,\"         This will generally only be stable if the simulation is purely axisymmetric\\n\");\n",
    "            fprintf(stderr,\"         However, Nx2 was set to %d>2, which implies a non-axisymmetric simulation\\n\",atoi(argv[3]));\n",
    "        }\n",
    "    }\n",
    "    // Step 0b: Set up numerical grid structure, first in space...\n",
    "    const int Nxx[3] = { atoi(argv[1]), atoi(argv[2]), atoi(argv[3]) };\n",
    "    if(Nxx[0]%2 != 0 || Nxx[1]%2 != 0 || Nxx[2]%2 != 0) {\n",
    "        fprintf(stderr,\"Error: Cannot guarantee a proper cell-centered grid if number of grid cells not set to even number.\\n\");\n",
    "        fprintf(stderr,\"       For example, in case of angular directions, proper symmetry zones will not exist.\\n\");\n",
    "        exit(1);\n",
    "    }\n",
    "\n",
    "    // Step 0c: Set free parameters, overwriting Cparameters defaults\n",
    "    //          by hand or with command-line input, as desired.\n",
    "#include \"free_parameters.h\"\n",
    "\n",
    "   // Step 0d: Uniform coordinate grids are stored to *xx[3]\n",
    "    REAL *xx[3];\n",
    "    // Step 0d.i: Set bcstruct\n",
    "    bc_struct bcstruct;\n",
    "    {\n",
    "        int EigenCoord = 1;\n",
    "        // Step 0d.ii: Call set_Nxx_dxx_invdx_params__and__xx(), which sets\n",
    "        //             params Nxx,Nxx_plus_2NGHOSTS,dxx,invdx, and xx[] for the\n",
    "        //             chosen Eigen-CoordSystem.\n",
    "        set_Nxx_dxx_invdx_params__and__xx(EigenCoord, Nxx, &params, xx);\n",
    "        // Step 0d.iii: Set Nxx_plus_2NGHOSTS_tot\n",
    "#include \"set_Cparameters-nopointer.h\"\n",
    "        const int Nxx_plus_2NGHOSTS_tot = Nxx_plus_2NGHOSTS0*Nxx_plus_2NGHOSTS1*Nxx_plus_2NGHOSTS2;\n",
    "        // Step 0e: Find ghostzone mappings; set up bcstruct\n",
    "#include \"boundary_conditions/driver_bcstruct.h\"\n",
    "        // Step 0e.i: Free allocated space for xx[][] array\n",
    "        for(int i=0;i<3;i++) free(xx[i]);\n",
    "    }\n",
    "\n",
    "    // Step 0f: Call set_Nxx_dxx_invdx_params__and__xx(), which sets\n",
    "    //          params Nxx,Nxx_plus_2NGHOSTS,dxx,invdx, and xx[] for the\n",
    "    //          chosen (non-Eigen) CoordSystem.\n",
    "    int EigenCoord = 0;\n",
    "    set_Nxx_dxx_invdx_params__and__xx(EigenCoord, Nxx, &params, xx);\n",
    "\n",
    "    // Step 0g: Set all C parameters \"blah\" for params.blah, including\n",
    "    //          Nxx_plus_2NGHOSTS0 = params.Nxx_plus_2NGHOSTS0, etc.\n",
    "#include \"set_Cparameters-nopointer.h\"\n",
    "    const int Nxx_plus_2NGHOSTS_tot = Nxx_plus_2NGHOSTS0*Nxx_plus_2NGHOSTS1*Nxx_plus_2NGHOSTS2;\n",
    "\n",
    "    // Step 0h: Time coordinate parameters\n",
    "    const REAL t_final = strtod(argv[4],NULL);\n",
    "\n",
    "    // Step 0i: Set timestep based on smallest proper distance between gridpoints and CFL factor\n",
    "    REAL dt = find_timestep(&params, xx);\n",
    "    //fprintf(stderr,\"# Timestep set to = %e\\n\",(double)dt);\n",
    "    int N_final = (int)(t_final / dt + 0.5); // The number of points in time.\n",
    "                                             // Add 0.5 to account for C rounding down\n",
    "                                             // typecasts to integers.\n",
    "    int output_every_N = (int)((REAL)N_final/800.0);\n",
    "    if(output_every_N == 0) output_every_N = 1;\n",
    "\n",
    "    // Step 0j: Error out if the number of auxiliary gridfunctions outnumber evolved gridfunctions.\n",
    "    //              This is a limitation of the RK method. You are always welcome to declare & allocate\n",
    "    //              additional gridfunctions by hand.\n",
    "    if(NUM_AUX_GFS > NUM_EVOL_GFS) {\n",
    "        fprintf(stderr,\"Error: NUM_AUX_GFS > NUM_EVOL_GFS. Either reduce the number of auxiliary gridfunctions,\\n\");\n",
    "        fprintf(stderr,\"       or allocate (malloc) by hand storage for *diagnostic_output_gfs. \\n\");\n",
    "        exit(1);\n",
    "    }\n",
    "\n",
    "    // Step 0k: Allocate memory for gridfunctions\n",
    "#include \"MoLtimestepping/RK_Allocate_Memory.h\"\n",
    "    REAL *restrict y_0_gfs = (REAL *)malloc(sizeof(REAL) * NUM_EVOL_GFS * Nxx_plus_2NGHOSTS_tot);\n",
    "    REAL *restrict diagnostic_output_gfs_0 = (REAL *)malloc(sizeof(REAL) * NUM_AUX_GFS * Nxx_plus_2NGHOSTS_tot);\n",
    "\n",
    "    // Step 0l: Set up precomputed reference metric arrays\n",
    "    // Step 0l.i: Allocate space for precomputed reference metric arrays.\n",
    "#include \"rfm_files/rfm_struct__malloc.h\"\n",
    "\n",
    "    // Step 0l.ii: Define precomputed reference metric arrays.\n",
    "    {\n",
    "    #include \"set_Cparameters-nopointer.h\"\n",
    "    #include \"rfm_files/rfm_struct__define.h\"\n",
    "    }\n",
    "\n",
    "    LOOP_ALL_GFS_GPS(i) {\n",
    "     y_n_gfs[i] = 0.0/0.0;\n",
    "}\n",
    "\n",
    "    // Step 1: Set up initial data to be exact solution at time=0:\n",
    "    params.time = 0.0;\n",
    "    exact_solution_all_points(&params, xx, y_n_gfs);\n",
    "\n",
    "    // Step 2: Start the timer, for keeping track of how fast the simulation is progressing.\n",
    "#ifdef __linux__ // Use high-precision timer in Linux.\n",
    "    struct timespec start, end;\n",
    "    clock_gettime(CLOCK_REALTIME, &start);\n",
    "#else     // Resort to low-resolution, standards-compliant timer in non-Linux OSs\n",
    "    // http://www.cplusplus.com/reference/ctime/time/\n",
    "    time_t start_timer,end_timer;\n",
    "    time(&start_timer); // Resolution of one second...\n",
    "#endif\n",
    "\n",
    "    // Step 3: Integrate the initial data forward in time using the chosen RK-like Method of\n",
    "    //         Lines timestepping algorithm, and output periodic simulation diagnostics\n",
    "    for(int n=0;n<=N_final+1;n++) { // Main loop to progress forward in time.\n",
    "\n",
    "       // At each timestep, set Constraints to NaN in the grid interior\n",
    "        LOOP_REGION(NGHOSTS,NGHOSTS+Nxx0,\n",
    "                    NGHOSTS,NGHOSTS+Nxx1,\n",
    "                    NGHOSTS,NGHOSTS+Nxx2) {\n",
    "                    const int idx = IDX3S(i0,i1,i2);\n",
    "                    diagnostic_output_gfs[IDX4ptS(CGF,idx)] = 0.0/0.0;\n",
    "            }\n",
    "\n",
    "        // Step 3.a: Output 2D data file periodically, for visualization\n",
    "        params.time = ((REAL)n)*dt;\n",
    "        // Evaluate Divergence constraint violation\n",
    "        Constraints(&rfmstruct, &params, y_n_gfs, diagnostic_output_gfs);\n",
    "        // log_L2_Norm = log10( sqrt[Integral( [numerical - exact]^2 * dV)] )\n",
    "        REAL L2Norm_sum_C = 0.;\n",
    "        int sum = 0;\n",
    "        LOOP_REGION(NGHOSTS,NGHOSTS+Nxx0,\n",
    "                    NGHOSTS,NGHOSTS+Nxx1,\n",
    "                    NGHOSTS,NGHOSTS+Nxx2) {\n",
    "            const int idx = IDX3S(i0,i1,i2);\n",
    "            double C = (double)diagnostic_output_gfs[IDX4ptS(CGF,idx)];\n",
    "            REAL xx0 = xx[0][i0];\n",
    "            REAL xx1 = xx[1][i1];\n",
    "            REAL xx2 = xx[2][i2];\n",
    "            REAL detghat; diagnostic_integrand(xx0, xx1, xx2, &params, &detghat);\n",
    "            L2Norm_sum_C += C*C*sqrt(detghat);\n",
    "            sum = sum + sqrt(detghat);\n",
    "        }\n",
    "        REAL L2Norm_C = sqrt(L2Norm_sum_C/(sum));\n",
    "        printf(\"%e %.15e\\n\",params.time, L2Norm_C);\n",
    "\n",
    "    // Step 3.a: Output 2D data file periodically, for visualization\n",
    "       if(n%20 == 0) {\n",
    "            exact_solution_all_points(&params, xx, y_0_gfs);\n",
    "            Cartesian_basis(&rfmstruct, &params, xx, y_n_gfs, diagnostic_output_gfs);\n",
    "            Cartesian_basis(&rfmstruct, &params, xx, y_0_gfs, diagnostic_output_gfs_0);\n",
    "            char filename[100];\n",
    "            sprintf(filename,\"out%d-%08d.txt\",Nxx[0],n);\n",
    "            FILE *out2D = fopen(filename, \"w\");\n",
    "            LOOP_XZ_PLANE(ii, jj, kk){\n",
    "            REAL xCart[3];\n",
    "            xx_to_Cart(&params,xx,i0,i1,i2,xCart);\n",
    "            int idx = IDX3S(i0,i1,i2);\n",
    "            REAL Ex_num  = (double)diagnostic_output_gfs[IDX4ptS(EUCART0GF,idx)];\n",
    "            REAL Ey_num  = (double)diagnostic_output_gfs[IDX4ptS(EUCART1GF,idx)];\n",
    "            REAL Ax_num  = (double)diagnostic_output_gfs[IDX4ptS(AUCART0GF,idx)];\n",
    "            REAL Ay_num  = (double)diagnostic_output_gfs[IDX4ptS(AUCART1GF,idx)];\n",
    "            double C = (double)diagnostic_output_gfs[IDX4ptS(CGF,idx)];\n",
    "\n",
    "            fprintf(out2D,\"%e %e %e %.15e %.15e %.15e %.15e %.15e\\n\", params.time,\n",
    "                    xCart[0],xCart[2], Ex_num, Ey_num, Ax_num, Ay_num, C);\n",
    "       }\n",
    "        fclose(out2D);\n",
    "    }\n",
    "\n",
    "      if(n==N_final-1) {\n",
    "            exact_solution_all_points(&params, xx, y_0_gfs);\n",
    "            Cartesian_basis(&rfmstruct, &params, xx, y_n_gfs, diagnostic_output_gfs);\n",
    "            Cartesian_basis(&rfmstruct, &params, xx, y_0_gfs, diagnostic_output_gfs_0);\n",
    "            char filename[100];\n",
    "            sprintf(filename,\"out%d.txt\",Nxx[0]);\n",
    "            FILE *out2D = fopen(filename, \"w\");\n",
    "            LOOP_XZ_PLANE(ii, jj, kk){\n",
    "            REAL xCart[3];\n",
    "            xx_to_Cart(&params,xx,i0,i1,i2,xCart);\n",
    "            int idx = IDX3S(i0,i1,i2);\n",
    "            REAL Ex_num  = (double)diagnostic_output_gfs[IDX4ptS(EUCART0GF,idx)];\n",
    "            REAL Ey_num  = (double)diagnostic_output_gfs[IDX4ptS(EUCART1GF,idx)];\n",
    "\n",
    "            REAL Ax_num  = (double)diagnostic_output_gfs[IDX4ptS(AUCART0GF,idx)];\n",
    "            REAL Ay_num  = (double)diagnostic_output_gfs[IDX4ptS(AUCART1GF,idx)];\n",
    "\n",
    "            REAL Ex_exact  = (double)diagnostic_output_gfs_0[IDX4ptS(EUCART0GF,idx)];\n",
    "            REAL Ey_exact  = (double)diagnostic_output_gfs_0[IDX4ptS(EUCART1GF,idx)];\n",
    "\n",
    "            REAL Ax_exact  = (double)diagnostic_output_gfs_0[IDX4ptS(AUCART0GF,idx)];\n",
    "            REAL Ay_exact  = (double)diagnostic_output_gfs_0[IDX4ptS(AUCART1GF,idx)];\n",
    "\n",
    "            REAL Ex__E_rel = log10(fabs(Ex_num - Ex_exact));\n",
    "            REAL Ey__E_rel = log10(fabs(Ey_num - Ey_exact));\n",
    "            REAL Ax__E_rel = log10(fabs(Ax_num - Ax_exact));\n",
    "            REAL Ay__E_rel = log10(fabs(Ay_num - Ay_exact));\n",
    "\n",
    "            fprintf(out2D,\"%e %e %.15e %.15e %.15e %.15e\\n\",xCart[0],xCart[2],\n",
    "                     Ex__E_rel, Ey__E_rel, Ax__E_rel, Ay__E_rel);\n",
    "       }\n",
    "        fclose(out2D);\n",
    "    }\n",
    "        // Step 3.b: Step forward one timestep (t -> t+dt) in time using\n",
    "        //           chosen RK-like MoL timestepping algorithm\n",
    "#include \"MoLtimestepping/RK_MoL.h\"\n",
    "\n",
    "\n",
    "        // Step 3.d: Progress indicator printing to stderr\n",
    "\n",
    "        // Step 3.d.i: Measure average time per iteration\n",
    "#ifdef __linux__ // Use high-precision timer in Linux.\n",
    "        clock_gettime(CLOCK_REALTIME, &end);\n",
    "        const long long unsigned int time_in_ns = 1000000000L * (end.tv_sec - start.tv_sec) + end.tv_nsec - start.tv_nsec;\n",
    "#else     // Resort to low-resolution, standards-compliant timer in non-Linux OSs\n",
    "        time(&end_timer); // Resolution of one second...\n",
    "        REAL time_in_ns = difftime(end_timer,start_timer)*1.0e9+0.5; // Round up to avoid divide-by-zero.\n",
    "#endif\n",
    "        const REAL s_per_iteration_avg = ((REAL)time_in_ns / (REAL)n) / 1.0e9;\n",
    "\n",
    "        const int iterations_remaining = N_final - n;\n",
    "        const REAL time_remaining_in_mins = s_per_iteration_avg * (REAL)iterations_remaining / 60.0;\n",
    "\n",
    "        const REAL num_RHS_pt_evals = (REAL)(Nxx[0]*Nxx[1]*Nxx[2]) * 4.0 * (REAL)n; // 4 RHS evals per gridpoint for RK4\n",
    "        const REAL RHS_pt_evals_per_sec = num_RHS_pt_evals / ((REAL)time_in_ns / 1.0e9);\n",
    "\n",
    "        // Step 3.d.ii: Output simulation progress to stderr\n",
    "        if(n % 10 == 0) {\n",
    "            fprintf(stderr,\"%c[2K\", 27); // Clear the line\n",
    "            fprintf(stderr,\"It: %d t=%.2f dt=%.2e | %.1f%%; ETA %.0f s | t/h %.2f | gp/s %.2e\\r\",  // \\r is carriage return, move cursor to the beginning of the line\n",
    "                   n, n * (double)dt, (double)dt, (double)(100.0 * (REAL)n / (REAL)N_final),\n",
    "                   (double)time_remaining_in_mins*60, (double)(dt * 3600.0 / s_per_iteration_avg), (double)RHS_pt_evals_per_sec);\n",
    "            fflush(stderr); // Flush the stderr buffer\n",
    "        } // End progress indicator if(n % 10 == 0)\n",
    "\n",
    "    } // End main loop to progress forward in time.\n",
    "    fprintf(stderr,\"\\n\"); // Clear the final line of output from progress indicator.\n",
    "\n",
    "    // Step 4: Free all allocated memory\n",
    "#include \"rfm_files/rfm_struct__freemem.h\"\n",
    "#include \"boundary_conditions/bcstruct_freemem.h\"\n",
    "#include \"MoLtimestepping/RK_Free_Memory.h\"\n",
    "    free(y_0_gfs);\n",
    "    free(diagnostic_output_gfs_0);\n",
    "    for(int i=0;i<3;i++) free(xx[i]);\n",
    "\n",
    "    return 0;\n",
    "}"
   ]
  },
  {
   "cell_type": "markdown",
   "metadata": {},
   "source": [
    "<a id='compileexec'></a>\n",
    "\n",
    "# Step 5: Compile generated C codes & perform simulation of the propagating toriodal electromagnetic field \\[Back to [top](#toc)\\]\n",
    "$$\\label{compileexec}$$\n",
    "\n",
    "To aid in the cross-platform-compatible (with Windows, MacOS, & Linux) compilation and execution, we make use of `cmdline_helper` [(**Tutorial**)](Tutorial-cmdline_helper.ipynb)."
   ]
  },
  {
   "cell_type": "code",
   "execution_count": 15,
   "metadata": {
    "execution": {
     "iopub.execute_input": "2021-03-07T17:34:14.755657Z",
     "iopub.status.busy": "2021-03-07T17:34:14.751745Z",
     "iopub.status.idle": "2021-03-07T17:34:17.393145Z",
     "shell.execute_reply": "2021-03-07T17:34:17.393878Z"
    }
   },
   "outputs": [
    {
     "name": "stdout",
     "output_type": "stream",
     "text": [
      "Compiling executable...\n",
      "(EXEC): Executing `gcc -Ofast -fopenmp -march=native -funroll-loops MaxwellEvolCurvi_Playground_Ccodes/Maxwell_Playground.c -o MaxwellEvolCurvi_Playground_Ccodes/output/Maxwell_Playground -lm`...\n",
      "(BENCH): Finished executing in 2.6228747367858887 seconds.\n",
      "Finished compilation.\n"
     ]
    }
   ],
   "source": [
    "import cmdline_helper as cmd\n",
    "CFL_FACTOR=0.5\n",
    "cmd.C_compile(os.path.join(Ccodesdir,\"Maxwell_Playground.c\"),\n",
    "              os.path.join(outdir,\"Maxwell_Playground\"),compile_mode=\"optimized\")"
   ]
  },
  {
   "cell_type": "code",
   "execution_count": 16,
   "metadata": {
    "execution": {
     "iopub.execute_input": "2021-03-07T17:34:17.399455Z",
     "iopub.status.busy": "2021-03-07T17:34:17.398650Z",
     "iopub.status.idle": "2021-03-07T17:34:17.401076Z",
     "shell.execute_reply": "2021-03-07T17:34:17.401683Z"
    }
   },
   "outputs": [],
   "source": [
    "# Change to output directory\n",
    "os.chdir(outdir)"
   ]
  },
  {
   "cell_type": "code",
   "execution_count": 17,
   "metadata": {
    "execution": {
     "iopub.execute_input": "2021-03-07T17:34:17.409456Z",
     "iopub.status.busy": "2021-03-07T17:34:17.408459Z",
     "iopub.status.idle": "2021-03-07T17:34:17.433838Z",
     "shell.execute_reply": "2021-03-07T17:34:17.432263Z"
    }
   },
   "outputs": [],
   "source": [
    "# Clean up existing output files\n",
    "cmd.delete_existing_files(\"out*.txt\")\n",
    "cmd.delete_existing_files(\"out*.png\")\n",
    "cmd.delete_existing_files(\"out-*resolution.txt\")"
   ]
  },
  {
   "cell_type": "code",
   "execution_count": 18,
   "metadata": {
    "execution": {
     "iopub.execute_input": "2021-03-07T17:34:17.447207Z",
     "iopub.status.busy": "2021-03-07T17:34:17.443557Z",
     "iopub.status.idle": "2021-03-07T17:34:37.970554Z",
     "shell.execute_reply": "2021-03-07T17:34:37.971210Z"
    }
   },
   "outputs": [
    {
     "name": "stdout",
     "output_type": "stream",
     "text": [
      "(EXEC): Executing `taskset -c 0,1 ./Maxwell_Playground 50 4 100 5.0 0.5`...\n",
      "\u001b[2KIt: 150 t=4.87 dt=3.25e-02 | 97.4%; ETA 0 s | t/h 3716.51 | gp/s 2.54e+06\n",
      "(BENCH): Finished executing in 5.029432535171509 seconds.\n",
      "(EXEC): Executing `taskset -c 0,1 ./Maxwell_Playground 80 4 160 5.0 0.5`...\n",
      "\u001b[2KIt: 240 t=4.87 dt=2.03e-02 | 97.6%; ETA 0 s | t/h 1187.81 | gp/s 3.33e+06\n",
      "(BENCH): Finished executing in 15.460987091064453 seconds.\n"
     ]
    }
   ],
   "source": [
    "# Set tme to end simulation\n",
    "t_final = str(0.5*domain_size) + ' '\n",
    "\n",
    "# Run executables\n",
    "if 'Spherical' in CoordSystem  or 'SymTP' in CoordSystem:\n",
    "    cmd.Execute(\"Maxwell_Playground\", \"64 48 4 \"+t_final+str(CFL_FACTOR), \"out-lowresolution.txt\")\n",
    "    cmd.Execute(\"Maxwell_Playground\", \"96 72 4 \"+t_final+str(CFL_FACTOR), \"out-medresolution.txt\")\n",
    "    Nxx0_low = '64'\n",
    "    Nxx0_med = '96'\n",
    "\n",
    "elif 'Cylindrical' in CoordSystem:\n",
    "    cmd.Execute(\"Maxwell_Playground\", \"50 4 100 \"+t_final+str(CFL_FACTOR), \"out-lowresolution.txt\")\n",
    "    cmd.Execute(\"Maxwell_Playground\", \"80 4 160 \"+t_final+str(CFL_FACTOR), \"out-medresolution.txt\")\n",
    "    Nxx0_low = '50'\n",
    "    Nxx0_med = '80'\n",
    "\n",
    "else:\n",
    "    # Cartesian\n",
    "    cmd.Execute(\"Maxwell_Playground\", \"64 64 64 \"+t_final+str(CFL_FACTOR), \"out-lowresolution.txt\")\n",
    "    cmd.Execute(\"Maxwell_Playground\", \"128 128 128 \"+t_final+str(CFL_FACTOR), \"out-medresolution.txt\")\n",
    "    Nxx0_low = '64'\n",
    "    Nxx0_med = '128'"
   ]
  },
  {
   "cell_type": "code",
   "execution_count": 19,
   "metadata": {
    "execution": {
     "iopub.execute_input": "2021-03-07T17:34:37.978524Z",
     "iopub.status.busy": "2021-03-07T17:34:37.977342Z",
     "iopub.status.idle": "2021-03-07T17:34:37.981637Z",
     "shell.execute_reply": "2021-03-07T17:34:37.982290Z"
    },
    "scrolled": true
   },
   "outputs": [
    {
     "name": "stdout",
     "output_type": "stream",
     "text": [
      "Finished this code cell.\n"
     ]
    }
   ],
   "source": [
    "# Return to root directory\n",
    "os.chdir(os.path.join(\"../../\"))\n",
    "\n",
    "print(\"Finished this code cell.\")"
   ]
  },
  {
   "cell_type": "markdown",
   "metadata": {},
   "source": [
    "<a id='visualize'></a>\n",
    "\n",
    "# Step 6: Visualize the output! \\[Back to [top](#toc)\\]\n",
    "$$\\label{visualize}$$ \n",
    "\n",
    "In this section we will generate a movie, plotting the x component of the electric field on a 2D grid.."
   ]
  },
  {
   "cell_type": "markdown",
   "metadata": {},
   "source": [
    "<a id='installdownload'></a>\n",
    "\n",
    "## Step 6.a: Install `scipy` and download `ffmpeg` if they are not yet installed/downloaded \\[Back to [top](#toc)\\]\n",
    "$$\\label{installdownload}$$ \n",
    "\n",
    "Note that if you are not running this within `mybinder`, but on a Windows system, `ffmpeg` must be installed using a separate package (on [this site](http://ffmpeg.org/)), or if running Jupyter within Anaconda, use the command: `conda install -c conda-forge ffmpeg`."
   ]
  },
  {
   "cell_type": "code",
   "execution_count": 20,
   "metadata": {
    "execution": {
     "iopub.execute_input": "2021-03-07T17:34:37.999005Z",
     "iopub.status.busy": "2021-03-07T17:34:37.995612Z",
     "iopub.status.idle": "2021-03-07T17:34:39.070269Z",
     "shell.execute_reply": "2021-03-07T17:34:39.070863Z"
    }
   },
   "outputs": [],
   "source": [
    "!pip install scipy > /dev/null\n",
    "\n",
    "check_for_ffmpeg = !which ffmpeg >/dev/null && echo $?\n",
    "if check_for_ffmpeg != ['0']:\n",
    "    print(\"Couldn't find ffmpeg, so I'll download it.\")\n",
    "    # Courtesy https://johnvansickle.com/ffmpeg/\n",
    "    !wget http://astro.phys.wvu.edu/zetienne/ffmpeg-static-amd64-johnvansickle.tar.xz\n",
    "    !tar Jxf ffmpeg-static-amd64-johnvansickle.tar.xz\n",
    "    print(\"Copying ffmpeg to ~/.local/bin/. Assumes ~/.local/bin is in the PATH.\")\n",
    "    !mkdir ~/.local/bin/\n",
    "    !cp ffmpeg-static-amd64-johnvansickle/ffmpeg ~/.local/bin/\n",
    "    print(\"If this doesn't work, then install ffmpeg yourself. It should work fine on mybinder.\")"
   ]
  },
  {
   "cell_type": "markdown",
   "metadata": {},
   "source": [
    "<a id='genimages'></a>\n",
    "\n",
    "## Step 6.b: Generate images for visualization animation \\[Back to [top](#toc)\\]\n",
    "$$\\label{genimages}$$ \n",
    "\n",
    "Here we loop through the data files output by the executable compiled and run in [the previous step](#mainc), generating a [png](https://en.wikipedia.org/wiki/Portable_Network_Graphics) image for each data file.\n",
    "\n",
    "**Special thanks to Terrence Pierre Jacques. His work with the first versions of these scripts greatly contributed to the scripts as they exist below.**"
   ]
  },
  {
   "cell_type": "code",
   "execution_count": 21,
   "metadata": {
    "execution": {
     "iopub.execute_input": "2021-03-07T17:34:39.089267Z",
     "iopub.status.busy": "2021-03-07T17:34:39.084949Z",
     "iopub.status.idle": "2021-03-07T17:34:56.412655Z",
     "shell.execute_reply": "2021-03-07T17:34:56.412172Z"
    }
   },
   "outputs": [
    {
     "name": "stdout",
     "output_type": "stream",
     "text": [
      "\u001b[2KProcessing file MaxwellEvolCurvi_Playground_Ccodes/output/out80-00000240.txt\r"
     ]
    }
   ],
   "source": [
    "## VISUALIZATION ANIMATION, PART 1: Generate PNGs, one per frame of movie ##\n",
    "\n",
    "import numpy as np\n",
    "from scipy.interpolate import griddata\n",
    "import matplotlib.pyplot as plt\n",
    "from matplotlib.pyplot import savefig\n",
    "from IPython.display import HTML\n",
    "import matplotlib.image as mgimg\n",
    "\n",
    "import glob\n",
    "import sys\n",
    "from matplotlib import animation\n",
    "\n",
    "globby = glob.glob(os.path.join(outdir,'out'+Nxx0_med+'-00*.txt'))\n",
    "file_list = []\n",
    "for x in sorted(globby):\n",
    "    file_list.append(x)\n",
    "\n",
    "bound = domain_size/2.0\n",
    "pl_xmin = -bound\n",
    "pl_xmax = +bound\n",
    "pl_zmin = -bound\n",
    "pl_zmax = +bound\n",
    "\n",
    "for filename in file_list:\n",
    "    fig = plt.figure()\n",
    "    t, x, z, Ex, Ey, Ax, Ay, C = np.loadtxt(filename).T #Transposed for easier unpacking\n",
    "\n",
    "    plotquantity = Ex\n",
    "    time = np.round(t[0], decimals=3)\n",
    "    plotdescription = \"Numerical Soln.\"\n",
    "    plt.title(r\"$E_x$ at $t$ = \"+str(time))\n",
    "    plt.xlabel(\"x\")\n",
    "    plt.ylabel(\"z\")\n",
    "\n",
    "    grid_x, grid_z = np.mgrid[pl_xmin:pl_xmax:200j, pl_zmin:pl_zmax:200j]\n",
    "    points = np.zeros((len(x), 2))\n",
    "    for i in range(len(x)):\n",
    "        # Zach says: No idea why x and y get flipped...\n",
    "        points[i][0] = x[i]\n",
    "        points[i][1] = z[i]\n",
    "\n",
    "    grid = griddata(points, plotquantity, (grid_x, grid_z), method='nearest')\n",
    "    gridcub = griddata(points, plotquantity, (grid_x, grid_z), method='cubic')\n",
    "    im = plt.imshow(gridcub, extent=(pl_xmin,pl_xmax, pl_zmin,pl_zmax))\n",
    "    ax = plt.colorbar()\n",
    "    plt.clim(-3,3)\n",
    "    ax.set_label(plotdescription)\n",
    "    savefig(os.path.join(filename+\".png\"),dpi=150)\n",
    "    plt.close(fig)\n",
    "    sys.stdout.write(\"%c[2K\" % 27)\n",
    "    sys.stdout.write(\"Processing file \"+filename+\"\\r\")\n",
    "    sys.stdout.flush()"
   ]
  },
  {
   "cell_type": "markdown",
   "metadata": {},
   "source": [
    "<a id='genvideo'></a>\n",
    "\n",
    "## Step 6.c: Generate visualization animation \\[Back to [top](#toc)\\]\n",
    "$$\\label{genvideo}$$ \n",
    "\n",
    "In the following step, [ffmpeg](http://ffmpeg.org) is used to generate an [mp4](https://en.wikipedia.org/wiki/MPEG-4) video file, which can be played directly from this Jupyter notebook."
   ]
  },
  {
   "cell_type": "code",
   "execution_count": 22,
   "metadata": {
    "execution": {
     "iopub.execute_input": "2021-03-07T17:34:56.426734Z",
     "iopub.status.busy": "2021-03-07T17:34:56.424366Z",
     "iopub.status.idle": "2021-03-07T17:34:58.295285Z",
     "shell.execute_reply": "2021-03-07T17:34:58.295739Z"
    }
   },
   "outputs": [],
   "source": [
    "## VISUALIZATION ANIMATION, PART 2: Combine PNGs to generate movie ##\n",
    "\n",
    "# https://stackoverflow.com/questions/14908576/how-to-remove-frame-from-matplotlib-pyplot-figure-vs-matplotlib-figure-frame\n",
    "# https://stackoverflow.com/questions/23176161/animating-pngs-in-matplotlib-using-artistanimation\n",
    "\n",
    "fig = plt.figure(frameon=False)\n",
    "ax = fig.add_axes([0, 0, 1, 1])\n",
    "ax.axis('off')\n",
    "\n",
    "myimages = []\n",
    "\n",
    "for i in range(len(file_list)):\n",
    "    img = mgimg.imread(file_list[i]+\".png\")\n",
    "    imgplot = plt.imshow(img)\n",
    "    myimages.append([imgplot])\n",
    "\n",
    "ani = animation.ArtistAnimation(fig, myimages, interval=100,  repeat_delay=1000)\n",
    "plt.close()\n",
    "ani.save(os.path.join(outdir,'Maxwell_ToroidalDipole.mp4'), fps=5,dpi=150)"
   ]
  },
  {
   "cell_type": "code",
   "execution_count": 23,
   "metadata": {
    "execution": {
     "iopub.execute_input": "2021-03-07T17:34:58.300541Z",
     "iopub.status.busy": "2021-03-07T17:34:58.299423Z",
     "iopub.status.idle": "2021-03-07T17:34:58.302565Z",
     "shell.execute_reply": "2021-03-07T17:34:58.301969Z"
    }
   },
   "outputs": [],
   "source": [
    "## VISUALIZATION ANIMATION, PART 3: Display movie as embedded HTML5 (see next cell) ##\n",
    "\n",
    "# https://stackoverflow.com/questions/18019477/how-can-i-play-a-local-video-in-my-ipython-notebook"
   ]
  },
  {
   "cell_type": "code",
   "execution_count": 24,
   "metadata": {
    "execution": {
     "iopub.execute_input": "2021-03-07T17:34:58.309202Z",
     "iopub.status.busy": "2021-03-07T17:34:58.308331Z",
     "iopub.status.idle": "2021-03-07T17:34:58.311679Z",
     "shell.execute_reply": "2021-03-07T17:34:58.312147Z"
    }
   },
   "outputs": [
    {
     "data": {
      "text/html": [
       "\n",
       "<video width=\"480\" height=\"360\" controls>\n",
       "  <source src=\"MaxwellEvolCurvi_Playground_Ccodes/output/Maxwell_ToroidalDipole.mp4\" type=\"video/mp4\">\n",
       "</video>\n"
      ],
      "text/plain": [
       "<IPython.core.display.HTML object>"
      ]
     },
     "execution_count": 1,
     "metadata": {},
     "output_type": "execute_result"
    }
   ],
   "source": [
    "# Embed video based on suggestion:\n",
    "#  https://stackoverflow.com/questions/39900173/jupyter-notebook-html-cell-magic-with-python-variable\n",
    "HTML(\"\"\"\n",
    "<video width=\"480\" height=\"360\" controls>\n",
    "  <source src=\\\"\"\"\"+os.path.join(outdir,\"Maxwell_ToroidalDipole.mp4\")+\"\"\"\\\" type=\"video/mp4\">\n",
    "</video>\n",
    "\"\"\")"
   ]
  },
  {
   "cell_type": "markdown",
   "metadata": {},
   "source": [
    "<a id='convergence'></a>\n",
    "\n",
    "# Step 7: Plot the numerical error, and confirm that it converges to zero with increasing numerical resolution (sampling) \\[Back to [top](#toc)\\]\n",
    "$$\\label{convergence}$$"
   ]
  },
  {
   "cell_type": "code",
   "execution_count": 25,
   "metadata": {
    "execution": {
     "iopub.execute_input": "2021-03-07T17:34:58.450088Z",
     "iopub.status.busy": "2021-03-07T17:34:58.320562Z",
     "iopub.status.idle": "2021-03-07T17:34:59.609450Z",
     "shell.execute_reply": "2021-03-07T17:34:59.609922Z"
    }
   },
   "outputs": [
    {
     "data": {
      "image/png": "[encoded data removed]",
      "text/plain": [
       "<Figure size 432x288 with 2 Axes>"
      ]
     },
     "metadata": {
      "needs_background": "light"
     },
     "output_type": "display_data"
    }
   ],
   "source": [
    "x_med, z_med, Ex__E_rel_med, Ey__E_rel_med, Ax__E_rel_med, Ay__E_rel_med = np.loadtxt(os.path.join(outdir,'out'+Nxx0_med+'.txt')).T #Transposed for easier unpacking\n",
    "\n",
    "pl_xmin = -domain_size/2.\n",
    "pl_xmax = +domain_size/2.\n",
    "pl_ymin = -domain_size/2.\n",
    "pl_ymax = +domain_size/2.\n",
    "\n",
    "grid_x, grid_z = np.mgrid[pl_xmin:pl_xmax:100j, pl_ymin:pl_ymax:100j]\n",
    "points_med = np.zeros((len(x_med), 2))\n",
    "for i in range(len(x_med)):\n",
    "    points_med[i][0] = x_med[i]\n",
    "    points_med[i][1] = z_med[i]\n",
    "\n",
    "grid_med = griddata(points_med, Ex__E_rel_med, (grid_x, grid_z), method='nearest')\n",
    "grid_medcub = griddata(points_med, Ex__E_rel_med, (grid_x, grid_z), method='cubic')\n",
    "\n",
    "plt.clf()\n",
    "plt.title(r\"Nxx0=\"+Nxx0_med+\" Num. Err.: $\\log_{10}|Ex|$ at $t$ = \"+t_final)\n",
    "plt.xlabel(\"x\")\n",
    "plt.ylabel(\"z\")\n",
    "\n",
    "fig_medcub = plt.imshow(grid_medcub.T, extent=(pl_xmin,pl_xmax, pl_ymin,pl_ymax))\n",
    "cb = plt.colorbar(fig_medcub)"
   ]
  },
  {
   "cell_type": "code",
   "execution_count": 26,
   "metadata": {
    "execution": {
     "iopub.execute_input": "2021-03-07T17:34:59.738713Z",
     "iopub.status.busy": "2021-03-07T17:34:59.695897Z",
     "iopub.status.idle": "2021-03-07T17:34:59.947184Z",
     "shell.execute_reply": "2021-03-07T17:34:59.947702Z"
    }
   },
   "outputs": [
    {
     "data": {
      "image/png": "[encoded data removed]",
      "text/plain": [
       "<Figure size 432x288 with 1 Axes>"
      ]
     },
     "metadata": {
      "needs_background": "light"
     },
     "output_type": "display_data"
    }
   ],
   "source": [
    "x_low,z_low, EU0__E_rel_low, EU1__E_rel_low, AU0__E_rel_low, AU1__E_rel_low = np.loadtxt(os.path.join(outdir,'out'+Nxx0_low+'.txt')).T #Transposed for easier unpacking\n",
    "\n",
    "points_low = np.zeros((len(x_low), 2))\n",
    "for i in range(len(x_low)):\n",
    "    points_low[i][0] = x_low[i]\n",
    "    points_low[i][1] = z_low[i]\n",
    "\n",
    "grid_low = griddata(points_low, EU0__E_rel_low, (grid_x, grid_z), method='nearest')\n",
    "\n",
    "griddiff__low_minus__med = np.zeros((100,100))\n",
    "griddiff__low_minus__med_1darray = np.zeros(100*100)\n",
    "gridx_1darray_yeq0 = np.zeros(100)\n",
    "grid_low_1darray_yeq0 = np.zeros(100)\n",
    "grid_med_1darray_yeq0 = np.zeros(100)\n",
    "count = 0\n",
    "for i in range(100):\n",
    "    for j in range(100):\n",
    "        griddiff__low_minus__med[i][j] = grid_low[i][j] - grid_med[i][j]\n",
    "        griddiff__low_minus__med_1darray[count] = griddiff__low_minus__med[i][j]\n",
    "        if j==49:\n",
    "            gridx_1darray_yeq0[i] = grid_x[i][j]\n",
    "            grid_low_1darray_yeq0[i] = grid_low[i][j] + np.log10((float(Nxx0_low)/float(Nxx0_med))**4)\n",
    "            grid_med_1darray_yeq0[i] = grid_med[i][j]\n",
    "        count = count + 1\n",
    "\n",
    "fig, ax = plt.subplots()\n",
    "plt.title(r\"4th-order Convergence of $E_x$ at t = \"+t_final)\n",
    "plt.xlabel(\"x\")\n",
    "plt.ylabel(\"log10(Absolute error)\")\n",
    "\n",
    "ax.plot(gridx_1darray_yeq0, grid_med_1darray_yeq0, 'k-', label='Nr = '+Nxx0_med)\n",
    "ax.plot(gridx_1darray_yeq0, grid_low_1darray_yeq0, 'k--', label='Nr = '+Nxx0_low+', mult. by ('+Nxx0_low+'/'+Nxx0_med+')^4')\n",
    "# ax.set_ylim([-8.5,0.5])\n",
    "\n",
    "legend = ax.legend(loc='lower right', shadow=True, fontsize='x-large')\n",
    "legend.get_frame().set_facecolor('C1')\n",
    "plt.show()"
   ]
  },
  {
   "cell_type": "markdown",
   "metadata": {},
   "source": [
    "<a id='div_e'></a>\n",
    "\n",
    "# Step 8: Comparison Divergence Constrain Violation  \\[Back to [top](#toc)\\]\n",
    "$$\\label{div_e}$$\n",
    "\n",
    "Here we calculate the violation quantity\n",
    "\n",
    "$$\n",
    "\\mathcal{C} \\equiv \\nabla^i E_i,\n",
    "$$\n",
    "\n",
    "at each point on our grid (excluding the ghost zones) then calculate the normalized L2 norm over the entire volume via\n",
    "\n",
    "\\begin{align}\n",
    "    \\lVert C \\rVert &= \\left( \\frac{\\int C^2 d\\mathcal{V}}{\\int d\\mathcal{V}} \\right)^{1/2}.\n",
    "\\end{align}"
   ]
  },
  {
   "cell_type": "code",
   "execution_count": 27,
   "metadata": {
    "execution": {
     "iopub.execute_input": "2021-03-07T17:34:59.961965Z",
     "iopub.status.busy": "2021-03-07T17:34:59.955167Z",
     "iopub.status.idle": "2021-03-07T17:35:00.250153Z",
     "shell.execute_reply": "2021-03-07T17:35:00.250683Z"
    }
   },
   "outputs": [
    {
     "data": {
      "image/png": "[encoded data removed]",
      "text/plain": [
       "<Figure size 432x288 with 1 Axes>"
      ]
     },
     "metadata": {
      "needs_background": "light"
     },
     "output_type": "display_data"
    }
   ],
   "source": [
    "# Plotting the constraint violation\n",
    "nrpy_div_low = np.loadtxt(os.path.join(outdir,'out-lowresolution.txt')).T\n",
    "nrpy_div_med = np.loadtxt(os.path.join(outdir,'out-medresolution.txt')).T\n",
    "\n",
    "plt.plot(nrpy_div_low[0]/domain_size, (nrpy_div_low[1]), 'k-',label='Nxx0 = '+Nxx0_low)\n",
    "plt.plot(nrpy_div_med[0]/domain_size, (nrpy_div_med[1]), 'k--',label='Nxx0 = '+Nxx0_med)\n",
    "\n",
    "plt.yscale('log')\n",
    "plt.xlabel('Light Crossing Times')\n",
    "plt.ylabel('||C||')\n",
    "# plt.xlim(0,2.2)\n",
    "# plt.ylim(1e-4, 1e-5)\n",
    "plt.title('L2 Norm of the Divergence of E - '+par.parval_from_str(\"reference_metric::CoordSystem\")+' Coordinates')\n",
    "plt.legend(loc='center right')\n",
    "plt.show()"
   ]
  },
  {
   "cell_type": "markdown",
   "metadata": {},
   "source": [
    "<a id='latex_pdf_output'></a>\n",
    "\n",
    "# Step 9: Output this notebook to $\\LaTeX$-formatted PDF file \\[Back to [top](#toc)\\]\n",
    "$$\\label{latex_pdf_output}$$\n",
    "\n",
    "The following code cell converts this Jupyter notebook into a proper, clickable $\\LaTeX$-formatted PDF file. After the cell is successfully run, the generated PDF may be found in the root NRPy+ tutorial directory, with filename\n",
    "[Tutorial-Start_to_Finish-Solving_Maxwells_Equations_in_Vacuum-Curvilinear.pdf](Tutorial-Start_to_Finish-Solving_Maxwells_Equations_in_Vacuum-Curvilinear.pdf) (Note that clicking on this link may not work; you may need to open the PDF file through another means.)"
   ]
  },
  {
   "cell_type": "code",
   "execution_count": 28,
   "metadata": {
    "execution": {
     "iopub.execute_input": "2021-03-07T17:35:00.255386Z",
     "iopub.status.busy": "2021-03-07T17:35:00.254713Z",
     "iopub.status.idle": "2021-03-07T17:35:06.245659Z",
     "shell.execute_reply": "2021-03-07T17:35:06.246461Z"
    }
   },
   "outputs": [
    {
     "name": "stdout",
     "output_type": "stream",
     "text": [
      "Created Tutorial-Start_to_Finish-Solving_Maxwells_Equations_in_Vacuum-\n",
      "    Curvilinear.tex, and compiled LaTeX file to PDF file Tutorial-\n",
      "    Start_to_Finish-Solving_Maxwells_Equations_in_Vacuum-Curvilinear.pdf\n"
     ]
    }
   ],
   "source": [
    "import cmdline_helper as cmd    # NRPy+: Multi-platform Python command-line interface\n",
    "cmd.output_Jupyter_notebook_to_LaTeXed_PDF(\"Tutorial-Start_to_Finish-Solving_Maxwells_Equations_in_Vacuum-Curvilinear\")"
   ]
  }
 ],
 "metadata": {
  "kernelspec": {
   "display_name": "Python 3",
   "language": "python",
   "name": "python3"
  },
  "language_info": {
   "codemirror_mode": {
    "name": "ipython",
    "version": 3
   },
   "file_extension": ".py",
   "mimetype": "text/x-python",
   "name": "python",
   "nbconvert_exporter": "python",
   "pygments_lexer": "ipython3",
   "version": "3.8.2"
  }
 },
 "nbformat": 4,
 "nbformat_minor": 2
}
