{
 "cells": [
  {
   "cell_type": "markdown",
   "metadata": {},
   "source": [
    "<script async src=\"https://www.googletagmanager.com/gtag/js?id=UA-59152712-8\"></script>\n",
    "<script>\n",
    "  window.dataLayer = window.dataLayer || [];\n",
    "  function gtag(){dataLayer.push(arguments);}\n",
    "  gtag('js', new Date());\n",
    "\n",
    "  gtag('config', 'UA-59152712-8');\n",
    "</script>\n",
    "\n",
    "# </title> Symbolic Tensor ([Quaternion](https://en.wikipedia.org/wiki/Quaternion)) Rotation\n",
    "\n",
    "## </courtesy_remarks> Author: Ken Sible\n",
    "\n",
    "## </brief_abstract> The following module demonstrates symbolic vector or tensor rotation using SymPy.\n",
    "\n",
    "### </list_source_code> NRPy+ Source Code for this module:\n",
    "1. [tensor_rotation.py](../edit/tensor_rotation.py); [\\[**tutorial**\\]](Tutorial-Symbolic_Tensor_Rotation.ipynb) </description_here> The tensor_rotation.py script will perform symbolic tensor rotation using the following function: rotate(tensor, axis, angle). "
   ]
  },
  {
   "cell_type": "markdown",
   "metadata": {},
   "source": [
    "<a id='toc'></a>\n",
    "\n",
    "# Table of Contents\n",
    "$$\\label{toc}$$\n",
    "\n",
    "0. [Preliminaries](#prelim): Derivation of quaternion rotation from matrix rotation (using [linear algebra](https://en.wikipedia.org/wiki/Linear_algebra) and [ring theory](https://en.wikipedia.org/wiki/Ring_theory))\n",
    "1. [Step 1](#algorithm): Discussion of the tensor rotation algorithm (using the [SymPy](https://www.sympy.org) package for symbolic manipulation) </header_section>\n",
    "1. [Step 2](#validation) Validation and demonstration of the tensor rotation algorithm (including [common subexpression elimination](https://en.wikipedia.org/wiki/Common_subexpression_elimination))\n",
    "1. [Step 3](#latex_pdf_output): Output this notebook to $\\LaTeX$-formatted PDF file"
   ]
  },
  {
   "cell_type": "markdown",
   "metadata": {},
   "source": [
    "<a id='prelim'></a>\n",
    "\n",
    "# Preliminaries: Quaternion Rotation \\[Back to [top](#toc)\\]\n",
    "$$\\label{prelim}$$ \n",
    "Let $\\vec{v}$ denote a vector in $\\mathbb{R}^2$. We recall from linear algebra that $\\vec{v}$ rotated about an angle $\\theta$ from the x-axis, denoted $\\vec{v}'$, has the following matrix formula\n",
    "\n",
    "$$\\vec{v}'=\\begin{bmatrix}\\cos\\theta & -\\sin\\theta \\\\ \\sin\\theta & \\cos\\theta \\end{bmatrix}\\vec{v}.$$\n",
    "\n",
    "Let $z=a+bi\\in\\mathbb{C}$ for some $a,b\\in\\mathbb{R}$. Consider the corresponding (or [isomorphic](https://en.wikipedia.org/wiki/Isomorphism)) vector $\\vec{z}=(a,b)\\in\\mathbb{R}^2$. We observe from the rotation formula that $\\vec{v}'=a(\\cos\\theta,\\sin\\theta)+b(-\\sin\\theta,\\cos\\theta)$ after expanding the matrix product. Let $w=c+di\\in\\mathbb{C}$ for some $c,d\\in\\mathbb{R}$. We recall the definition of the complex product as $zw=(ac-bd)+i(ad+bc)$ where $i^2=-1$. Hence, $z'=(a+bi)(\\cos\\theta+i\\sin\\theta)=(a+bi)e^{i\\theta}$ after comparing the rotated vector $\\vec{v}'$ with the complex product as defined above. Therefore, the following compact formula arises for vector rotation (given the stated isomorphism between $\\mathbb{C}$ and $\\mathbb{R}^2$):\n",
    "\n",
    "$$z'=e^{i\\theta}z.$$\n",
    "\n",
    "However, for vector rotation in three-dimensional space ($\\mathbb{R}^3$), we curiously require a four-dimensional, non-commutative extension of complex numbers. The following discussion will provide an overview of these quaternions and their relation to vector rotation, but for a more detailed overview see [[quaternion.pdf]](http://graphics.stanford.edu/courses/cs348a-17-winter/Papers/quaternion.pdf).\n",
    "\n",
    "$$\\mathcal{H}=\\{a+bi+cj+dk:a,b,c,d\\in\\mathbb{R}\\text{ and }i^2=j^2=k^2=ijk=-1\\}$$\n",
    "\n",
    "Consider the special case of rotating a vector $\\vec{v}\\in\\mathbb{R}^3$ through an angle $\\theta$ about a normalized rotation axis $\\vec{n}$ perpendicular to the vector $\\vec{v}$. We usually decompose a quaternion into a scalar and vector component whenever performing vector rotation, such as decomposing $q=a+bi+cj+dk$ into $q=(a,\\vec{w})$ where $\\vec{w}=(b,c,d)$. For future convience, we define the following useful quaternions for vector rotation: $v=(0,\\vec{v})$, $v'=(0,\\vec{v}')$, and $n=(0,\\vec{n})$. From the fundemental quaternion identity $i^2=j^2=k^2=ijk=-1$, we could derive quaternion multiplication (known as the Hamilton product). Let $q$ and $q'$ denote quaternions. If they have zero scalar component, then their product is $qq'=(-\\vec{q}\\cdot\\vec{q}',\\vec{q}\\times\\vec{q}')$, after some straightforward verification. Hence, $nv=(0,\\vec{n}\\times\\vec{v})$ since $\\vec{n}$ and $\\vec{v}$ are orthogonal (perpendicular). We observe that the projection of the rotated vector $\\vec{v}'$ onto $\\vec{v}$ is $\\cos\\theta\\,\\vec{v}$ and the projection of $\\vec{v}'$ onto $\\vec{n}\\times\\vec{v}$ is $\\sin\\theta\\,(\\vec{n}\\times\\vec{v})$, and hence $\\vec{v}'=\\cos\\theta\\,\\vec{v}+\\sin\\theta\\,(\\vec{n}\\times\\vec{v})$. We define the quaternion exponential as $e^{n\\theta}=\\cos\\theta+n\\sin\\theta$, analogous to the complex exponential. Finally, we arrive at the three-dimensional vector rotation formula after comparing the rotated vector $\\vec{v}'$ with the Hamilton product:\n",
    "\n",
    "$$v'=v(\\cos\\theta+n\\sin\\theta)=e^{n\\theta}v$$\n",
    "\n",
    "The tensor rotation algorithm defined by the function rotate(tensor, axis, angle) in tensor_rotation.py (see the following code cell) does vector and tensor rotation in $\\mathbb{R}^3$ about an arbitrary rotation axis (not necessarily perpendicular to the vector or tensor). For the arbitrary rotation previously described, we define the rotation quaternion as $q=e^{n(\\theta/2)}$ and the conjugate of $q$ as $q^*=e^{-n(\\theta/2)}$. Furthermore, the arbitrary vector rotation formula is $v'=qvq^*$ and the arbitrary tensor rotation formula is $\\mathbf{M}'=(q(q\\mathbf{M}q^*)^Tq^*)^T$ where the quaternion-matrix product is defined as column-wise quaternion multiplication [(source)](https://people.dsv.su.se/~miko1432/rb/Rotations%20of%20Tensors%20using%20Quaternions%20v0.3.pdf)."
   ]
  },
  {
   "cell_type": "markdown",
   "metadata": {},
   "source": [
    "<a id='algorithm'></a>\n",
    "\n",
    "# Step 1: The Tensor Rotation Algorithm \\[Back to [top](#toc)\\]\n",
    "$$\\label{algorithm}$$"
   ]
  },
  {
   "cell_type": "code",
   "execution_count": 1,
   "metadata": {},
   "outputs": [],
   "source": [
    "from sympy import Quaternion as quat\n",
    "from sympy import Matrix\n",
    "from sympy.functions import transpose\n",
    "\n",
    "def rotate(tensor, axis, angle):\n",
    "    # Quaternion-Matrix Multiplication\n",
    "    def mul(*args):\n",
    "        if isinstance(args[0], list):\n",
    "            q, M = args[1], args[0]\n",
    "            for i, col in enumerate(M):\n",
    "                M[i] = col * q\n",
    "        else:\n",
    "            q, M = args[0], args[1]\n",
    "            for i, col in enumerate(M):\n",
    "                M[i] = q * col\n",
    "        return M\n",
    "    # Rotation Quaternion (Axis, Angle)\n",
    "    q = quat.from_axis_angle(axis, angle)\n",
    "    if isinstance(tensor[0], list):\n",
    "        tensor = Matrix(tensor)\n",
    "        if tensor.shape != (3, 3):\n",
    "            raise Exception('Invalid Matrix Dimension')\n",
    "        # Rotation Formula: M' = (q.(q.M.q*)^T.q*)^T\n",
    "        M = [quat(0, *tensor[:, i]) for i in range(tensor.shape[1])]\n",
    "        M = mul(q, mul(M, q.conjugate()))\n",
    "        for i in range(tensor.shape[1]):\n",
    "            tensor[:, i] = [M[i].b, M[i].c, M[i].d]\n",
    "        M = [quat(0, *tensor[i, :]) for i in range(tensor.shape[0])]\n",
    "        M = mul(q, mul(M, q.conjugate()))\n",
    "        for i in range(tensor.shape[0]):\n",
    "            tensor[i, :] = [[M[i].b, M[i].c, M[i].d]]\n",
    "        return tensor.tolist()\n",
    "    else:\n",
    "        if len(tensor) != 3:\n",
    "            raise Exception('Invalid Vector Length')\n",
    "        # Rotation Formula: v' = q.v.q*\n",
    "        tensor = q * quat(0, *tensor) * q.conjugate()\n",
    "        return [tensor.b, tensor.c, tensor.d]\n",
    "    raise Exception('Invalid Tensor Type: Matrix or Vector')"
   ]
  },
  {
   "cell_type": "markdown",
   "metadata": {},
   "source": [
    "<a id='validation'></a>\n",
    "\n",
    "# Step 2: Validation and Demonstration \\[Back to [top](#toc)\\]\n",
    "$$\\label{validation}$$"
   ]
  },
  {
   "cell_type": "markdown",
   "metadata": {},
   "source": [
    "We recall that any three-dimensional rotation can be expressed as the composition of a rotation about each coordinate axis (see [rotation theorem](https://en.wikipedia.org/wiki/Euler%27s_rotation_theorem)). Therefore, we validate our rotation algorithm using only rotations about each Cartesian axis rather than about an arbitrary axis in three-dimensional space. Consider the following vector $\\vec{v}$ and matrix $\\mathbf{M}$ defined below using SymPy."
   ]
  },
  {
   "cell_type": "code",
   "execution_count": 2,
   "metadata": {},
   "outputs": [
    {
     "data": {
      "text/latex": [
       "$\\displaystyle \\left[\\begin{matrix}1\\\\0\\\\1\\end{matrix}\\right]$"
      ],
      "text/plain": [
       "Matrix([\n",
       "[1],\n",
       "[0],\n",
       "[1]])"
      ]
     },
     "metadata": {},
     "output_type": "display_data"
    },
    {
     "data": {
      "text/latex": [
       "$\\displaystyle \\left[\\begin{matrix}1 & 2 & 1\\\\0 & 1 & 0\\\\2 & 1 & 2\\end{matrix}\\right]$"
      ],
      "text/plain": [
       "Matrix([\n",
       "[1, 2, 1],\n",
       "[0, 1, 0],\n",
       "[2, 1, 2]])"
      ]
     },
     "metadata": {},
     "output_type": "display_data"
    }
   ],
   "source": [
    "from sympy.matrices import rot_axis1, rot_axis2, rot_axis3\n",
    "from sympy import pi\n",
    "\n",
    "v, angle = [1, 0, 1], pi/2\n",
    "M = [[1, 2, 1], [0, 1, 0], [2, 1, 2]]\n",
    "display(Matrix(v), Matrix(M))"
   ]
  },
  {
   "cell_type": "markdown",
   "metadata": {},
   "source": [
    "We further recall that for any rotation matrix $\\mathbf{R}$ and vector $\\vec{v}$, the rotated vector $\\vec{v}'$ has the formula $\\vec{v}'=\\mathbf{R}\\vec{v}$ and the rotated matrix $\\mathbf{M}'$ has the formula $\\mathbf{M}'=\\mathbf{R}\\mathbf{M}\\mathbf{R}^T$, where $\\mathbf{R}^T$ is the transpose of $\\mathbf{R}$, since rotation matrices are orthogonal, meaning that $R^{-1}=R^T$ (inverse and transpose are equivalent)."
   ]
  },
  {
   "cell_type": "code",
   "execution_count": 3,
   "metadata": {},
   "outputs": [
    {
     "data": {
      "text/latex": [
       "$\\displaystyle \\left[\\begin{matrix}1\\\\-1\\\\0\\end{matrix}\\right]$"
      ],
      "text/plain": [
       "Matrix([\n",
       "[ 1],\n",
       "[-1],\n",
       "[ 0]])"
      ]
     },
     "metadata": {},
     "output_type": "display_data"
    },
    {
     "data": {
      "text/latex": [
       "$\\displaystyle \\left[\\begin{matrix}1 & -1 & 2\\\\-2 & 2 & -1\\\\0 & 0 & 1\\end{matrix}\\right]$"
      ],
      "text/plain": [
       "Matrix([\n",
       "[ 1, -1,  2],\n",
       "[-2,  2, -1],\n",
       "[ 0,  0,  1]])"
      ]
     },
     "metadata": {},
     "output_type": "display_data"
    }
   ],
   "source": [
    "# vector rotation about x-axis\n",
    "expected = rot_axis1(-angle) * Matrix(v)\n",
    "recieved = Matrix(rotate(v, [1, 0, 0], angle))\n",
    "assert expected == recieved; display(recieved)\n",
    "\n",
    "# matrix rotation about x-axis\n",
    "expected = rot_axis1(-angle) * Matrix(M) * transpose(rot_axis1(-angle))\n",
    "recieved = Matrix(rotate(M, [1, 0, 0], angle))\n",
    "assert expected == recieved; display(recieved)"
   ]
  },
  {
   "cell_type": "code",
   "execution_count": 4,
   "metadata": {},
   "outputs": [
    {
     "data": {
      "text/latex": [
       "$\\displaystyle \\left[\\begin{matrix}1\\\\0\\\\-1\\end{matrix}\\right]$"
      ],
      "text/plain": [
       "Matrix([\n",
       "[ 1],\n",
       "[ 0],\n",
       "[-1]])"
      ]
     },
     "metadata": {},
     "output_type": "display_data"
    },
    {
     "data": {
      "text/latex": [
       "$\\displaystyle \\left[\\begin{matrix}2 & 1 & -2\\\\0 & 1 & 0\\\\-1 & -2 & 1\\end{matrix}\\right]$"
      ],
      "text/plain": [
       "Matrix([\n",
       "[ 2,  1, -2],\n",
       "[ 0,  1,  0],\n",
       "[-1, -2,  1]])"
      ]
     },
     "metadata": {},
     "output_type": "display_data"
    }
   ],
   "source": [
    "# vector rotation about y-axis\n",
    "expected = rot_axis2(-angle) * Matrix(v)\n",
    "recieved = Matrix(rotate(v, [0, 1, 0], angle))\n",
    "assert expected == recieved; display(recieved)\n",
    "\n",
    "# matrix rotation about y-axis\n",
    "expected = rot_axis2(-angle) * Matrix(M) * transpose(rot_axis2(-angle))\n",
    "recieved = Matrix(rotate(M, [0, 1, 0], angle))\n",
    "assert expected == recieved; display(recieved)"
   ]
  },
  {
   "cell_type": "code",
   "execution_count": 5,
   "metadata": {},
   "outputs": [
    {
     "data": {
      "text/latex": [
       "$\\displaystyle \\left[\\begin{matrix}0\\\\1\\\\1\\end{matrix}\\right]$"
      ],
      "text/plain": [
       "Matrix([\n",
       "[0],\n",
       "[1],\n",
       "[1]])"
      ]
     },
     "metadata": {},
     "output_type": "display_data"
    },
    {
     "data": {
      "text/latex": [
       "$\\displaystyle \\left[\\begin{matrix}1 & 0 & 0\\\\-2 & 1 & 1\\\\-1 & 2 & 2\\end{matrix}\\right]$"
      ],
      "text/plain": [
       "Matrix([\n",
       "[ 1, 0, 0],\n",
       "[-2, 1, 1],\n",
       "[-1, 2, 2]])"
      ]
     },
     "metadata": {},
     "output_type": "display_data"
    }
   ],
   "source": [
    "# vector rotation about z-axis\n",
    "expected = rot_axis3(-angle) * Matrix(v)\n",
    "recieved = Matrix(rotate(v, [0, 0, 1], angle))\n",
    "assert expected == recieved; display(recieved)\n",
    "\n",
    "# matrix rotation about z-axis\n",
    "expected = rot_axis3(-angle) * Matrix(M) * transpose(rot_axis3(-angle))\n",
    "recieved = Matrix(rotate(M, [0, 0, 1], angle))\n",
    "assert expected == recieved; display(recieved)"
   ]
  },
  {
   "cell_type": "markdown",
   "metadata": {},
   "source": [
    "The rotation algorithm does support symbolic rotation using SymPy, as demonstrated below on the 4-vector $v^\\mu$ and the second rank, symmetric tensor $h^{\\mu\\nu}$. We remark that applying a rotation to the tensor $h^{\\mu\\nu}$ and following that rotation by the inverse rotation does preserve the index symmetry, as demonstrated."
   ]
  },
  {
   "cell_type": "code",
   "execution_count": 6,
   "metadata": {},
   "outputs": [
    {
     "data": {
      "text/latex": [
       "$\\displaystyle \\left[\\begin{matrix}vU_{0}\\\\- vU_{2}\\\\vU_{1}\\end{matrix}\\right]$"
      ],
      "text/plain": [
       "Matrix([\n",
       "[ vU0],\n",
       "[-vU2],\n",
       "[ vU1]])"
      ]
     },
     "metadata": {},
     "output_type": "display_data"
    },
    {
     "data": {
      "text/latex": [
       "$\\displaystyle \\left[\\begin{matrix}hUU_{00} & - hUU_{02} & hUU_{01}\\\\- hUU_{02} & hUU_{22} & - hUU_{12}\\\\hUU_{01} & - hUU_{12} & hUU_{11}\\end{matrix}\\right]$"
      ],
      "text/plain": [
       "Matrix([\n",
       "[ hUU00, -hUU02,  hUU01],\n",
       "[-hUU02,  hUU22, -hUU12],\n",
       "[ hUU01, -hUU12,  hUU11]])"
      ]
     },
     "metadata": {},
     "output_type": "display_data"
    }
   ],
   "source": [
    "import indexedexp as ixp\n",
    "from sympy import simplify\n",
    "\n",
    "vU  = ixp.declarerank1(\"vU\")\n",
    "hUU = ixp.declarerank2(\"hUU\", \"sym01\")\n",
    "\n",
    "expected = rot_axis1(-angle) * Matrix(vU)\n",
    "recieved = simplify(Matrix(rotate(vU, [1, 0, 0], angle)))\n",
    "assert expected == recieved; display(recieved)\n",
    "\n",
    "expected = rot_axis1(-angle) * Matrix(hUU) * transpose(rot_axis1(-angle))\n",
    "recieved = simplify(Matrix(rotate(hUU, [1, 0, 0], angle)))\n",
    "assert expected == recieved; display(recieved)"
   ]
  },
  {
   "cell_type": "code",
   "execution_count": 7,
   "metadata": {},
   "outputs": [
    {
     "data": {
      "text/latex": [
       "$\\displaystyle \\left[\\begin{matrix}hUU_{00} & hUU_{01} & hUU_{02}\\\\hUU_{01} & hUU_{11} & hUU_{12}\\\\hUU_{02} & hUU_{12} & hUU_{22}\\end{matrix}\\right]$"
      ],
      "text/plain": [
       "Matrix([\n",
       "[hUU00, hUU01, hUU02],\n",
       "[hUU01, hUU11, hUU12],\n",
       "[hUU02, hUU12, hUU22]])"
      ]
     },
     "metadata": {},
     "output_type": "display_data"
    }
   ],
   "source": [
    "rot_hUU = rotate(hUU, [1, 0, 0], angle)\n",
    "inv_hUU = rotate(rot_hUU, [1, 0, 0], -angle)\n",
    "expected = Matrix(hUU)\n",
    "# warning: may take some time to simplify matrix\n",
    "recieved = simplify(Matrix(inv_hUU))\n",
    "assert expected == recieved; display(recieved)"
   ]
  },
  {
   "cell_type": "markdown",
   "metadata": {},
   "source": [
    "If the rotation algorithm is given a symbol for the rotation angle, then the resulting expression will support common subexpression elimination."
   ]
  },
  {
   "cell_type": "code",
   "execution_count": 8,
   "metadata": {},
   "outputs": [
    {
     "data": {
      "text/latex": [
       "$\\displaystyle \\left[\\begin{matrix}x_{2} \\left(x_{5} + x_{6}\\right) - x_{4} \\left(- x_{5} - x_{6}\\right) & x_{1} x_{10} - x_{3} x_{9} & x_{1} x_{9} + x_{10} x_{3}\\\\x_{2} \\left(- x_{12} + x_{14}\\right) - x_{4} \\left(x_{12} - x_{14}\\right) & x_{1} x_{24} - x_{23} x_{3} & x_{1} x_{23} + x_{24} x_{3}\\\\x_{2} \\left(x_{25} + x_{26}\\right) - x_{4} \\left(- x_{25} - x_{26}\\right) & x_{1} x_{30} - x_{29} x_{3} & x_{1} x_{29} + x_{3} x_{30}\\end{matrix}\\right]$"
      ],
      "text/plain": [
       "Matrix([\n",
       "[    x2*(x5 + x6) - x4*(-x5 - x6),  x1*x10 - x3*x9,  x1*x9 + x10*x3],\n",
       "[x2*(-x12 + x14) - x4*(x12 - x14), x1*x24 - x23*x3, x1*x23 + x24*x3],\n",
       "[x2*(x25 + x26) - x4*(-x25 - x26), x1*x30 - x29*x3, x1*x29 + x3*x30]])"
      ]
     },
     "metadata": {},
     "output_type": "display_data"
    }
   ],
   "source": [
    "from sympy.abc import x\n",
    "rot_hUU = Matrix(rotate(hUU, [1, 0, 0], x))\n",
    "from sympy import cse\n",
    "display(cse(rot_hUU)[1][0])"
   ]
  },
  {
   "cell_type": "markdown",
   "metadata": {},
   "source": [
    "<a id='latex_pdf_output'></a>\n",
    "\n",
    "# Step 3: Output this notebook to $\\LaTeX$-formatted PDF file \\[Back to [top](#toc)\\]\n",
    "$$\\label{latex_pdf_output}$$\n",
    "\n",
    "The following code cell converts this Jupyter notebook into a proper, clickable $\\LaTeX$-formatted PDF file. After the cell is successfully run, the generated PDF may be found in the root NRPy+ tutorial directory, with filename\n",
    "[Tutorial-Symbolic_Tensor_Rotation.pdf](Tutorial-Symbolic_Tensor_Rotation.pdf) (Note that clicking on this link may not work; you may need to open the PDF file through another means.)"
   ]
  },
  {
   "cell_type": "code",
   "execution_count": 9,
   "metadata": {},
   "outputs": [
    {
     "name": "stdout",
     "output_type": "stream",
     "text": [
      "This is pdfTeX, Version 3.14159265-2.6-1.40.18 (TeX Live 2017/Debian) (preloaded format=pdflatex)\n",
      " restricted \\write18 enabled.\n",
      "entering extended mode\n",
      "This is pdfTeX, Version 3.14159265-2.6-1.40.18 (TeX Live 2017/Debian) (preloaded format=pdflatex)\n",
      " restricted \\write18 enabled.\n",
      "entering extended mode\n",
      "This is pdfTeX, Version 3.14159265-2.6-1.40.18 (TeX Live 2017/Debian) (preloaded format=pdflatex)\n",
      " restricted \\write18 enabled.\n",
      "entering extended mode\n"
     ]
    }
   ],
   "source": [
    "!jupyter nbconvert --to latex --template latex_nrpy_style.tplx --log-level='WARN' Tutorial-Symbolic_Tensor_Rotation.ipynb\n",
    "!pdflatex -interaction=batchmode Tutorial-Symbolic_Tensor_Rotation.tex\n",
    "!pdflatex -interaction=batchmode Tutorial-Symbolic_Tensor_Rotation.tex\n",
    "!pdflatex -interaction=batchmode Tutorial-Symbolic_Tensor_Rotation.tex\n",
    "!rm -f Tut*.out Tut*.aux Tut*.log"
   ]
  }
 ],
 "metadata": {
  "file_extension": ".py",
  "kernelspec": {
   "display_name": "Python 3",
   "language": "python",
   "name": "python3"
  },
  "language_info": {
   "codemirror_mode": {
    "name": "ipython",
    "version": 3
   },
   "file_extension": ".py",
   "mimetype": "text/x-python",
   "name": "python",
   "nbconvert_exporter": "python",
   "pygments_lexer": "ipython3",
   "version": "3.8.2"
  },
  "mimetype": "text/x-python",
  "name": "python",
  "npconvert_exporter": "python",
  "pygments_lexer": "ipython3",
  "version": 3
 },
 "nbformat": 4,
 "nbformat_minor": 2
}
