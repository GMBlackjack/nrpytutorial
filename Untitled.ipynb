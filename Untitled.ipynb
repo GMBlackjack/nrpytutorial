{
 "cells": [
  {
   "cell_type": "code",
   "execution_count": 1,
   "id": "spanish-reporter",
   "metadata": {},
   "outputs": [],
   "source": [
    "from functional import flatten, product\n",
    "\n",
    "def enum_list(total, multiset):\n",
    "    count = len(multiset)\n",
    "    i = 0\n",
    "    for combination in product(*multiset, repeat=count):\n",
    "        cost = sum(combination)\n",
    "        if cost <= total:\n",
    "            print('%s = %s' % (' + '.join(str(i) for i in combination), cost))\n",
    "        i += 1\n",
    "    print('\\n>>', i)"
   ]
  },
  {
   "cell_type": "code",
   "execution_count": 2,
   "id": "temporal-asthma",
   "metadata": {},
   "outputs": [
    {
     "name": "stdout",
     "output_type": "stream",
     "text": [
      "2 + 1 + 2 + 3 = 8\n",
      "2 + 1 + 2 + 5 = 10\n",
      "2 + 2 + 2 + 3 = 9\n",
      "2 + 3 + 2 + 3 = 10\n",
      "4 + 1 + 2 + 3 = 10\n",
      "\n",
      ">> 12\n"
     ]
    }
   ],
   "source": [
    "enum_list(10, [\n",
    "    [2, 4],\n",
    "    [1, 2, 3],\n",
    "    [2],\n",
    "    [3, 5]\n",
    "])"
   ]
  },
  {
   "cell_type": "code",
   "execution_count": 3,
   "id": "trying-being",
   "metadata": {},
   "outputs": [],
   "source": [
    "from functional import flatten, product\n",
    "\n",
    "def enum_list(total, multiset):\n",
    "    leading, condition = 4, False\n",
    "    i = 0\n",
    "    for a in multiset[0]:\n",
    "        if a > multiset[0][0] and leading > 1:\n",
    "            leading = 1\n",
    "        for b in multiset[1]:\n",
    "            if b > multiset[1][0] and leading > 2:\n",
    "                leading = 2\n",
    "            for c in multiset[2]:\n",
    "                if c > multiset[2][0] and leading > 3:\n",
    "                    leading = 3\n",
    "                for d in multiset[3]:\n",
    "                    if d > multiset[3][0] and leading > 4:\n",
    "                        leading = 4\n",
    "                    i += 1\n",
    "                    cost = a + b + c + d\n",
    "                    if cost <= total:\n",
    "                        print('%s = %s' % (' + '.join(str(i) for i in (a, b, c, d)), cost))\n",
    "                    else:\n",
    "                        condition = True\n",
    "                    if condition:\n",
    "                        if leading == 4:\n",
    "                            condition = False\n",
    "                            continue\n",
    "                        else: break\n",
    "                if condition:\n",
    "                    if leading == 3:\n",
    "                        condition = False\n",
    "                        continue\n",
    "                    else: break\n",
    "            if condition:\n",
    "                if leading == 2:\n",
    "                    condition = False\n",
    "                    continue\n",
    "                else: break\n",
    "        if condition:\n",
    "            if leading == 1:\n",
    "                condition = False\n",
    "                continue\n",
    "            else: break\n",
    "    print('\\n>>', i)"
   ]
  },
  {
   "cell_type": "code",
   "execution_count": 4,
   "id": "consistent-integrity",
   "metadata": {},
   "outputs": [
    {
     "name": "stdout",
     "output_type": "stream",
     "text": [
      "2 + 1 + 2 + 3 = 8\n",
      "2 + 1 + 2 + 5 = 10\n",
      "2 + 2 + 2 + 3 = 9\n",
      "2 + 3 + 2 + 3 = 10\n",
      "4 + 1 + 2 + 3 = 10\n",
      "\n",
      ">> 8\n"
     ]
    }
   ],
   "source": [
    "enum_list(10, [\n",
    "    [2, 4],\n",
    "    [1, 2, 3],\n",
    "    [2],\n",
    "    [3, 5]\n",
    "])"
   ]
  }
 ],
 "metadata": {
  "kernelspec": {
   "display_name": "Python 3",
   "language": "python",
   "name": "python3"
  },
  "language_info": {
   "codemirror_mode": {
    "name": "ipython",
    "version": 3
   },
   "file_extension": ".py",
   "mimetype": "text/x-python",
   "name": "python",
   "nbconvert_exporter": "python",
   "pygments_lexer": "ipython3",
   "version": "3.8.5"
  }
 },
 "nbformat": 4,
 "nbformat_minor": 5
}
