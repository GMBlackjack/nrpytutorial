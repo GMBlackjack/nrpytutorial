{
 "cells": [
  {
   "cell_type": "markdown",
   "metadata": {},
   "source": [
    "<script async src=\"https://www.googletagmanager.com/gtag/js?id=UA-59152712-8\"></script>\n",
    "<script>\n",
    "  window.dataLayer = window.dataLayer || [];\n",
    "  function gtag(){dataLayer.push(arguments);}\n",
    "  gtag('js', new Date());\n",
    "\n",
    "  gtag('config', 'UA-59152712-8');\n",
    "</script>\n",
    "\n",
    "# Start-to-Finish Example: Unit Testing `GiRaFFE_NRPy`: Interpolating Metric Face-Values\n",
    "\n",
    "## Author: Patrick Nelson\n",
    "\n",
    "## This module Validates the `FCVAL` routine for `GiRaFFE`.\n",
    "\n",
    "**Notebook Status:** <font color='green'><b>Validated</b></font>\n",
    "\n",
    "**Validation Notes:** This module will validate the routines in [Tutorial-GiRaFFE_NRPy-Metric_Face_Values](Tutorial-GiRaFFE_NRPy-Metric_Face_Values.ipynb).\n",
    "\n",
    "### NRPy+ Source Code for this module: \n",
    "* [GiRaFFE_NRPy/GiRaFFE_NRPy_Metric_Face_Values.py](../../edit/in_progress/GiRaFFE_NRPy/GiRaFFE_NRPy_Metric_Face_Values.py) [\\[**tutorial**\\]](Tutorial-GiRaFFE_NRPy-FCVAL.ipynb) Generates the C code to interpolate gridfunctions to cell faces.\n",
    "\n",
    "## Introduction:\n",
    "\n",
    "This notebook validates the code that will interpolate the metric gridfunctions on cell faces. These values, along with the reconstruction of primitive variables on the faces, are necessary for the Riemann solvers to compute the fluxes through the cell faces.\n",
    "\n",
    "It is, in general, good coding practice to unit test functions individually to verify that they produce the expected and intended output. We will generate test data with arbitrarily-chosen analytic functions and calculate gridfunctions at the cell centers on a small numerical grid. We will then compute the values on the cell faces in two ways: first, with our interpolator, then second, we will shift the grid and compute them analytically. Then, we will rerun the function at a finer resolution. Finally, we will compare the results of the two runs to show fourth-order convergence.\n",
    "\n",
    "When this notebook is run, the difference between the approximate and exact metric gridfunctions will be output to text files that can be found in the same directory as this notebook. These will be read in in [Step 3](#convergence), and used there to confirm convergence order of the algorithm. "
   ]
  },
  {
   "cell_type": "markdown",
   "metadata": {},
   "source": [
    "<a id='toc'></a>\n",
    "\n",
    "# Table of Contents\n",
    "$$\\label{toc}$$\n",
    "\n",
    "This notebook is organized as follows\n",
    "\n",
    "1. [Step 1](#setup): Set up core functions and parameters for unit testing the FCVAL algorithm\n",
    "    1. [Step 1.a](#expressions) Write expressions for the metric gridfunctions\n",
    "    1. [Step 1.b](#ccodekernels) Generate C functions to calculate the gridfunctions\n",
    "    1. [Step 1.c](#free_parameters) Set free parameters in the code\n",
    "1. [Step 2](#mainc): `FCVAL_unit_test.c`: The Main C Code\n",
    "    1. [Step 2.a](#compile_run): Compile and run the code\n",
    "1. [Step 3](#convergence): Code validation: Verify that relative error in numerical solution converges to zero at the expected order\n",
    "1. [Step 4](#latex_pdf_output): Output this notebook to $\\LaTeX$-formatted PDF file"
   ]
  },
  {
   "cell_type": "markdown",
   "metadata": {},
   "source": [
    "<a id='setup'></a>\n",
    "\n",
    "# Step 1: Set up core functions and parameters for unit testing the FCVAL algorithm \\[Back to [top](#toc)\\]\n",
    "$$\\label{setup}$$\n",
    "\n",
    "We'll start by appending the relevant paths to `sys.path` so that we can access sympy modules in other places. Then, we'll import NRPy+ core functionality and set up a directory in which to carry out our test. "
   ]
  },
  {
   "cell_type": "code",
   "execution_count": 1,
   "metadata": {
    "execution": {
     "iopub.execute_input": "2022-11-24T14:15:45.535194Z",
     "iopub.status.busy": "2022-11-24T14:15:45.535086Z",
     "iopub.status.idle": "2022-11-24T14:15:45.717624Z",
     "shell.execute_reply": "2022-11-24T14:15:45.717211Z"
    }
   },
   "outputs": [],
   "source": [
    "import os, sys, shutil         # Standard Python modules for multiplatform OS-level functions\n",
    "# First, we'll add the parent directory to the list of directories Python will check for modules.\n",
    "nrpy_dir_path = os.path.join(\"..\")\n",
    "if nrpy_dir_path not in sys.path:\n",
    "    sys.path.append(nrpy_dir_path)\n",
    "nrpy_dir_path = os.path.join(\"..\",\"..\")\n",
    "if nrpy_dir_path not in sys.path:\n",
    "    sys.path.append(nrpy_dir_path)\n",
    "\n",
    "from outputC import outCfunction, lhrh # NRPy+: Core C code output module\n",
    "import sympy as sp               # SymPy: The Python computer algebra package upon which NRPy+ depends\n",
    "import finite_difference as fin  # NRPy+: Finite difference C code generation module\n",
    "import NRPy_param_funcs as par   # NRPy+: Parameter interface\n",
    "import grid as gri               # NRPy+: Functions having to do with numerical grids\n",
    "import indexedexp as ixp         # NRPy+: Symbolic indexed expression (e.g., tensors, vectors, etc.) support\n",
    "import reference_metric as rfm   # NRPy+: Reference metric support\n",
    "import cmdline_helper as cmd     # NRPy+: Multi-platform Python command-line interface\n",
    "\n",
    "Ccodesdir = \"Start-to-Finish-UnitTests/Metric_Face_Values_UnitTest/\"\n",
    "\n",
    "# First remove C code output directory if it exists\n",
    "# Courtesy https://stackoverflow.com/questions/303200/how-do-i-remove-delete-a-folder-that-is-not-empty\n",
    "shutil.rmtree(Ccodesdir, ignore_errors=True)\n",
    "# Then create a fresh directory\n",
    "cmd.mkdir(Ccodesdir)\n",
    "\n",
    "outdir = os.path.join(Ccodesdir,\"output/\")\n",
    "cmd.mkdir(outdir)\n",
    "\n",
    "subdir = \"FCVAL\"\n",
    "cmd.mkdir(os.path.join(Ccodesdir,subdir))\n",
    "\n",
    "thismodule = \"Start_to_Finish_UnitTest-GiRaFFE_NRPy-Metric_Face_Values\"\n",
    "\n",
    "# Set the finite-differencing order to 2\n",
    "par.set_parval_from_str(\"finite_difference::FD_CENTDERIVS_ORDER\", 2)\n"
   ]
  },
  {
   "cell_type": "markdown",
   "metadata": {},
   "source": [
    "<a id='expressions'></a>\n",
    "\n",
    "## Step 1.a: Write expressions for the metric gridfunctions \\[Back to [top](#toc)\\]\n",
    "$$\\label{expressions}$$\n",
    "\n",
    "First we register the metric gridfunctions as such."
   ]
  },
  {
   "cell_type": "code",
   "execution_count": 2,
   "metadata": {
    "execution": {
     "iopub.execute_input": "2022-11-24T14:15:45.719514Z",
     "iopub.status.busy": "2022-11-24T14:15:45.719427Z",
     "iopub.status.idle": "2022-11-24T14:15:45.722396Z",
     "shell.execute_reply": "2022-11-24T14:15:45.722105Z"
    }
   },
   "outputs": [],
   "source": [
    "gammaDD = ixp.register_gridfunctions_for_single_rank2(\"AUXEVOL\",\"gammaDD\",\"sym01\",DIM=3)\n",
    "betaU = ixp.register_gridfunctions_for_single_rank1(\"AUXEVOL\",\"betaU\",DIM=3)\n",
    "alpha = gri.register_gridfunctions(\"AUXEVOL\",\"alpha\")"
   ]
  },
  {
   "cell_type": "markdown",
   "metadata": {},
   "source": [
    "Now, we'll fill these gridfunctions with data, choosing smooth arbitrary functions to generate unphysical test data *for the purposes of numerical testing*.\n",
    "\n",
    "We'll need to set ten gridfunctions, so expressions are being pulled from several previously written unit tests.\n",
    "\n",
    "First let's fill the 3-metric with data of the following functional form:\n",
    "\n",
    "\\begin{align}\n",
    "\\gamma_{xx} &= ax^3 + by^3 + cz^3 + dy^2 + ez^2 + f \\\\\n",
    "\\gamma_{yy} &= gx^3 + hy^3 + lz^3 + mx^2 + nz^2 + p \\\\\n",
    "\\gamma_{zz} &= px^3 + qy^3 + rz^3 + sx^2 + ty^2 + u. \\\\\n",
    "\\gamma_{xy} &= a \\exp\\left(-\\left((x-b)^2+(y-c)^2+(z-d)^2\\right)\\right) \\\\\n",
    "\\gamma_{xz} &= f \\exp\\left(-\\left((x-g)^2+(y-h)^2+(z-l)^2\\right)\\right) \\\\\n",
    "\\gamma_{yz} &= m \\exp\\left(-\\left((x-n)^2+(y-o)^2+(z-p)^2\\right)\\right), \\\\\n",
    "\\end{align}"
   ]
  },
  {
   "cell_type": "code",
   "execution_count": 3,
   "metadata": {
    "execution": {
     "iopub.execute_input": "2022-11-24T14:15:45.724035Z",
     "iopub.status.busy": "2022-11-24T14:15:45.723958Z",
     "iopub.status.idle": "2022-11-24T14:15:45.784401Z",
     "shell.execute_reply": "2022-11-24T14:15:45.784005Z"
    }
   },
   "outputs": [],
   "source": [
    "a,b,c,d,e,f,g,h,l,m,n,o,p,q,r,s,t,u = par.Cparameters(\"REAL\",thismodule,[\"a\",\"b\",\"c\",\"d\",\n",
    "                         \"e\",\"f\",\"g\",\"h\",\"l\",\"m\",\"n\",\"o\",\"p\",\"q\",\"r\",\"s\",\"t\",\"u\"],1e300)\n",
    "\n",
    "M_PI  = par.Cparameters(\"#define\",thismodule,[\"M_PI\"], \"\")\n",
    "\n",
    "par.set_parval_from_str(\"reference_metric::CoordSystem\",\"Cartesian\")\n",
    "rfm.reference_metric()\n",
    "x = rfm.xx_to_Cart[0]\n",
    "y = rfm.xx_to_Cart[1]\n",
    "z = rfm.xx_to_Cart[2]\n",
    "\n",
    "gammaDD[0][0] = a*x**3 + b*y**3 + c*z**3 + d*y**2 + e*z**2 + f\n",
    "gammaDD[1][1] = g*x**3 + h*y**3 + l*z**3 + m*x**2 + n*z**2 + o\n",
    "gammaDD[2][2] = p*x**3 + q*y**3 + r*z**3 + s*x**2 + t*y**2 + u\n",
    "gammaDD[0][1] = a * sp.exp(-((x-b)**2 + (y-c)**2 + (z-d)**2))\n",
    "gammaDD[0][2] = f * sp.exp(-((x-g)**2 + (y-h)**2 + (z-l)**2))\n",
    "gammaDD[1][2] = m * sp.exp(-((x-n)**2 + (y-o)**2 + (z-p)**2))"
   ]
  },
  {
   "cell_type": "markdown",
   "metadata": {},
   "source": [
    "Next we'll fill the lapse and shift with data of the following form:\n",
    "\n",
    "\\begin{align}\n",
    "\\beta^x &= \\frac{2}{\\pi} \\arctan(ax + by + cz) \\\\\n",
    "\\beta^y &= \\frac{2}{\\pi} \\arctan(bx + cy + az) \\\\\n",
    "\\beta^z &= \\frac{2}{\\pi} \\arctan(cx + ay + bz) \\\\\n",
    "\\alpha &= 1 - \\frac{1}{2+x^2+y^2+z^2} \\\\\n",
    "\\end{align}"
   ]
  },
  {
   "cell_type": "code",
   "execution_count": 4,
   "metadata": {
    "execution": {
     "iopub.execute_input": "2022-11-24T14:15:45.786149Z",
     "iopub.status.busy": "2022-11-24T14:15:45.786068Z",
     "iopub.status.idle": "2022-11-24T14:15:45.795297Z",
     "shell.execute_reply": "2022-11-24T14:15:45.794999Z"
    }
   },
   "outputs": [],
   "source": [
    "betaU[0] = (sp.sympify(2)/M_PI) * sp.atan(a*x + b*y + c*z)\n",
    "betaU[1] = (sp.sympify(2)/M_PI) * sp.atan(b*x + c*y + a*z)\n",
    "betaU[2] = (sp.sympify(2)/M_PI) * sp.atan(c*x + a*y + b*z)\n",
    "\n",
    "alpha = sp.sympify(1) - sp.sympify(1) / (sp.sympify(2) + x**2 + y**2 + z**2)"
   ]
  },
  {
   "cell_type": "markdown",
   "metadata": {},
   "source": [
    "<a id='ccodekernels'></a>\n",
    "\n",
    "## Step 1.b: Generate C functions to calculate the gridfunctions \\[Back to [top](#toc)\\]\n",
    "$$\\label{ccodekernels}$$\n",
    "\n",
    "Here, we will use the NRPy+ function `outCfunction()` to generate C code that will calculate our metric gridfunctions over an entire grid. We will also call the function to generate the function we are testing. "
   ]
  },
  {
   "cell_type": "code",
   "execution_count": 5,
   "metadata": {
    "execution": {
     "iopub.execute_input": "2022-11-24T14:15:45.797067Z",
     "iopub.status.busy": "2022-11-24T14:15:45.796930Z",
     "iopub.status.idle": "2022-11-24T14:15:45.916429Z",
     "shell.execute_reply": "2022-11-24T14:15:45.916159Z"
    }
   },
   "outputs": [
    {
     "name": "stdout",
     "output_type": "stream",
     "text": [
      "Output C function calculate_metric_gfs() to file Start-to-Finish-UnitTests/Metric_Face_Values_UnitTest/calculate_metric_gfs.h\n"
     ]
    }
   ],
   "source": [
    "metric_gfs_to_print = [\\\n",
    "                       lhrh(lhs=gri.gfaccess(\"aux_gfs\",\"gammaDD00\"),rhs=gammaDD[0][0]),\\\n",
    "                       lhrh(lhs=gri.gfaccess(\"aux_gfs\",\"gammaDD01\"),rhs=gammaDD[0][1]),\\\n",
    "                       lhrh(lhs=gri.gfaccess(\"aux_gfs\",\"gammaDD02\"),rhs=gammaDD[0][2]),\\\n",
    "                       lhrh(lhs=gri.gfaccess(\"aux_gfs\",\"gammaDD11\"),rhs=gammaDD[1][1]),\\\n",
    "                       lhrh(lhs=gri.gfaccess(\"aux_gfs\",\"gammaDD12\"),rhs=gammaDD[1][2]),\\\n",
    "                       lhrh(lhs=gri.gfaccess(\"aux_gfs\",\"gammaDD22\"),rhs=gammaDD[2][2]),\\\n",
    "                       lhrh(lhs=gri.gfaccess(\"aux_gfs\",\"betaU0\"),rhs=betaU[0]),\\\n",
    "                       lhrh(lhs=gri.gfaccess(\"aux_gfs\",\"betaU1\"),rhs=betaU[1]),\\\n",
    "                       lhrh(lhs=gri.gfaccess(\"aux_gfs\",\"betaU2\"),rhs=betaU[2]),\\\n",
    "                       lhrh(lhs=gri.gfaccess(\"aux_gfs\",\"alpha\"),rhs=alpha),\\\n",
    "                      ]\n",
    "\n",
    "desc = \"Calculate the metric gridfunctions\"\n",
    "name = \"calculate_metric_gfs\"\n",
    "outCfunction(\n",
    "    outfile  = os.path.join(Ccodesdir,name+\".h\"), desc=desc, name=name,\n",
    "    params   =\"const paramstruct *restrict params,REAL *restrict xx[3],REAL *restrict auxevol_gfs\",\n",
    "    body     = fin.FD_outputC(\"returnstring\",metric_gfs_to_print,params=\"outCverbose=False\"),\n",
    "    loopopts=\"AllPoints,Read_xxs\")\n",
    "\n",
    "import GiRaFFE_NRPy.GiRaFFE_NRPy_Metric_Face_Values as FCVAL\n",
    "FCVAL.GiRaFFE_NRPy_FCVAL(os.path.join(Ccodesdir,subdir))"
   ]
  },
  {
   "cell_type": "markdown",
   "metadata": {},
   "source": [
    "<a id='free_parameters'></a>\n",
    "\n",
    "## Step 1.c: Set free parameters in the code \\[Back to [top](#toc)\\]\n",
    "$$\\label{free_parameters}$$\n",
    "\n",
    "We also need to create the files that interact with NRPy's C parameter interface. "
   ]
  },
  {
   "cell_type": "code",
   "execution_count": 6,
   "metadata": {
    "execution": {
     "iopub.execute_input": "2022-11-24T14:15:45.938560Z",
     "iopub.status.busy": "2022-11-24T14:15:45.938450Z",
     "iopub.status.idle": "2022-11-24T14:15:45.941616Z",
     "shell.execute_reply": "2022-11-24T14:15:45.941418Z"
    }
   },
   "outputs": [],
   "source": [
    "# Step 3.d.i: Generate declare_Cparameters_struct.h, set_Cparameters_default.h, and set_Cparameters[-SIMD].h\n",
    "# par.generate_Cparameters_Ccodes(os.path.join(out_dir))\n",
    "\n",
    "# Step 3.d.ii: Set free_parameters.h\n",
    "with open(os.path.join(Ccodesdir,\"free_parameters.h\"),\"w\") as file:\n",
    "    file.write(\"\"\"\n",
    "// Override parameter defaults with values based on command line arguments and NGHOSTS.\n",
    "params.Nxx0 = atoi(argv[1]);\n",
    "params.Nxx1 = atoi(argv[2]);\n",
    "params.Nxx2 = atoi(argv[3]);\n",
    "params.Nxx_plus_2NGHOSTS0 = params.Nxx0 + 2*NGHOSTS;\n",
    "params.Nxx_plus_2NGHOSTS1 = params.Nxx1 + 2*NGHOSTS;\n",
    "params.Nxx_plus_2NGHOSTS2 = params.Nxx2 + 2*NGHOSTS;\n",
    "// Step 0d: Set up space and time coordinates\n",
    "// Step 0d.i: Declare \\Delta x^i=dxx{0,1,2} and invdxx{0,1,2}, as well as xxmin[3] and xxmax[3]:\n",
    "const REAL xxmin[3] = {-1.0,-1.0,-1.0};\n",
    "const REAL xxmax[3] = { 1.0, 1.0, 1.0};\n",
    "\n",
    "params.dxx0 = (xxmax[0] - xxmin[0]) / ((REAL)params.Nxx0);\n",
    "params.dxx1 = (xxmax[1] - xxmin[1]) / ((REAL)params.Nxx1);\n",
    "params.dxx2 = (xxmax[2] - xxmin[2]) / ((REAL)params.Nxx2);\n",
    "printf(\"dxx0,dxx1,dxx2 = %.5e,%.5e,%.5e\\\\n\",params.dxx0,params.dxx1,params.dxx2);\n",
    "params.invdx0 = 1.0 / params.dxx0;\n",
    "params.invdx1 = 1.0 / params.dxx1;\n",
    "params.invdx2 = 1.0 / params.dxx2;\n",
    "\\n\"\"\")\n",
    "\n",
    "# Generates declare_Cparameters_struct.h, set_Cparameters_default.h, and set_Cparameters[-SIMD].h\n",
    "import deprecated_NRPy_param_funcs as evil_par\n",
    "evil_par.generate_Cparameters_Ccodes(os.path.join(Ccodesdir))"
   ]
  },
  {
   "cell_type": "markdown",
   "metadata": {},
   "source": [
    "<a id='mainc'></a>\n",
    "\n",
    "# Step 2: `FCVAL_unit_test.c`: The Main C Code \\[Back to [top](#toc)\\]\n",
    "$$\\label{mainc}$$\n",
    "\n",
    "`interpolate_metric_gfs_to_cell_faces()` may be found inside [GiRaFFE_NRPy/GiRaFFE_NRPy_Metric_Face_Values.py](../../edit/in_progress/GiRaFFE_NRPy/GiRaFFE_NRPy_Metric_Face_Values.py) [\\[**tutorial**\\]](Tutorial-GiRaFFE_NRPy-FCVAL.ipynb)."
   ]
  },
  {
   "cell_type": "code",
   "execution_count": 7,
   "metadata": {
    "execution": {
     "iopub.execute_input": "2022-11-24T14:15:45.942919Z",
     "iopub.status.busy": "2022-11-24T14:15:45.942850Z",
     "iopub.status.idle": "2022-11-24T14:15:45.946095Z",
     "shell.execute_reply": "2022-11-24T14:15:45.945896Z"
    }
   },
   "outputs": [
    {
     "name": "stdout",
     "output_type": "stream",
     "text": [
      "Writing Start-to-Finish-UnitTests/Metric_Face_Values_UnitTest//FCVAL_unit_test.c\n"
     ]
    }
   ],
   "source": [
    "%%writefile $Ccodesdir/FCVAL_unit_test.c\n",
    "// These are common packages that we are likely to need.\n",
    "#include \"stdio.h\"\n",
    "#include \"stdlib.h\"\n",
    "#include \"math.h\"\n",
    "#include \"string.h\" // Needed for strncmp, etc.\n",
    "#include \"stdint.h\" // Needed for Windows GCC 6.x compatibility\n",
    "#include <time.h>   // Needed to set a random seed.\n",
    "\n",
    "#define REAL double\n",
    "#include \"declare_Cparameters_struct.h\"\n",
    "\n",
    "const int NGHOSTS = 3;\n",
    "\n",
    "REAL a,b,c,d,e,f,g,h,l,m,n,o,p,q,r,s,t,u;\n",
    "\n",
    "// Standard NRPy+ memory access:\n",
    "#define IDX4S(g,i,j,k) \\\n",
    "( (i) + Nxx_plus_2NGHOSTS0 * ( (j) + Nxx_plus_2NGHOSTS1 * ( (k) + Nxx_plus_2NGHOSTS2 * (g) ) ) )\n",
    "\n",
    "const int kronecker_delta[4][3] = { { 0,0,0 },\n",
    "                                    { 1,0,0 },\n",
    "                                    { 0,1,0 },\n",
    "                                    { 0,0,1 } };\n",
    "\n",
    "// Give gridfunctions their names:\n",
    "#define GAMMADD00GF 0\n",
    "#define GAMMADD01GF 1\n",
    "#define GAMMADD02GF 2\n",
    "#define GAMMADD11GF 3\n",
    "#define GAMMADD12GF 4\n",
    "#define GAMMADD22GF 5\n",
    "#define BETAU0GF 6\n",
    "#define BETAU1GF 7\n",
    "#define BETAU2GF 8\n",
    "#define ALPHAGF 9\n",
    "#define GAMMA_FACEDD00GF 10\n",
    "#define GAMMA_FACEDD01GF 11\n",
    "#define GAMMA_FACEDD02GF 12\n",
    "#define GAMMA_FACEDD11GF 13\n",
    "#define GAMMA_FACEDD12GF 14\n",
    "#define GAMMA_FACEDD22GF 15\n",
    "#define BETA_FACEU0GF 16\n",
    "#define BETA_FACEU1GF 17\n",
    "#define BETA_FACEU2GF 18\n",
    "#define ALPHA_FACEGF 19\n",
    "#define GAMMAUU00GF 20\n",
    "#define GAMMAUU01GF 21\n",
    "#define GAMMAUU02GF 22\n",
    "#define GAMMAUU11GF 23\n",
    "#define GAMMAUU12GF 24\n",
    "#define GAMMAUU22GF 25\n",
    "#define GAMMA_FACEUU00GF 26\n",
    "#define GAMMA_FACEUU01GF 27\n",
    "#define GAMMA_FACEUU02GF 28\n",
    "#define GAMMA_FACEUU11GF 29\n",
    "#define GAMMA_FACEUU12GF 30\n",
    "#define GAMMA_FACEUU22GF 31\n",
    "#define NUM_AUXEVOL_GFS 32\n",
    "\n",
    "#include \"calculate_metric_gfs.h\"\n",
    "#include \"FCVAL/interpolate_metric_gfs_to_cell_faces.h\"\n",
    "\n",
    "int main(int argc, const char *argv[]) {\n",
    "    paramstruct params;\n",
    "#include \"set_Cparameters_default.h\"\n",
    "\n",
    "    // Step 0c: Set free parameters, overwriting Cparameters defaults\n",
    "    //          by hand or with command-line input, as desired.\n",
    "#include \"free_parameters.h\"\n",
    "#include \"set_Cparameters-nopointer.h\"\n",
    "\n",
    "    // Step 0e: Set up cell-centered Cartesian coordinate grids\n",
    "    REAL *xx[3];\n",
    "    xx[0] = (REAL *)malloc(sizeof(REAL)*Nxx_plus_2NGHOSTS0);\n",
    "    xx[1] = (REAL *)malloc(sizeof(REAL)*Nxx_plus_2NGHOSTS1);\n",
    "    xx[2] = (REAL *)malloc(sizeof(REAL)*Nxx_plus_2NGHOSTS2);\n",
    "    for(int j=0;j<Nxx_plus_2NGHOSTS0;j++) xx[0][j] = xxmin[0] + (j-NGHOSTS)*dxx0;\n",
    "    for(int j=0;j<Nxx_plus_2NGHOSTS1;j++) xx[1][j] = xxmin[1] + (j-NGHOSTS)*dxx1;\n",
    "    for(int j=0;j<Nxx_plus_2NGHOSTS2;j++) xx[2][j] = xxmin[2] + (j-NGHOSTS)*dxx2;\n",
    "\n",
    "    //for(int i=0;i<Nxx_plus_2NGHOSTS0;i++) printf(\"xx[0][%d] = %.15e\\n\",i,xx[0][i]);\n",
    "\n",
    "    // This is the array to which we'll write the NRPy+ variables.\n",
    "    REAL *auxevol_gfs  = (REAL *)malloc(sizeof(REAL) * NUM_AUXEVOL_GFS * Nxx_plus_2NGHOSTS2 * Nxx_plus_2NGHOSTS1 * Nxx_plus_2NGHOSTS0);\n",
    "    // And another for exact data:\n",
    "    REAL *auxevol_exact_gfs  = (REAL *)malloc(sizeof(REAL) * NUM_AUXEVOL_GFS * Nxx_plus_2NGHOSTS2 * Nxx_plus_2NGHOSTS1 * Nxx_plus_2NGHOSTS0);\n",
    "\n",
    "    // Generate some random coefficients. Leave the random seed on its default for consistency between trials.\n",
    "    a = (double)(rand()%20)/5.0;\n",
    "    f = (double)(rand()%20)/5.0;\n",
    "    m = (double)(rand()%20)/5.0;\n",
    "    b = (double)(rand()%10-5)/100.0;\n",
    "    c = (double)(rand()%10-5)/100.0;\n",
    "    d = (double)(rand()%10-5)/100.0;\n",
    "    g = (double)(rand()%10-5)/100.0;\n",
    "    h = (double)(rand()%10-5)/100.0;\n",
    "    l = (double)(rand()%10-5)/100.0;\n",
    "    n = (double)(rand()%10-5)/100.0;\n",
    "    o = (double)(rand()%10-5)/100.0;\n",
    "    p = (double)(rand()%10-5)/100.0;\n",
    "\n",
    "    // First, calculate the test data on our grid:\n",
    "    calculate_metric_gfs(&params,xx,auxevol_gfs);\n",
    "    // Now, run our function:\n",
    "    int flux_dirn = 0;\n",
    "    interpolate_metric_gfs_to_cell_faces(&params,auxevol_gfs,flux_dirn+1);\n",
    "    // For comparison, shift the grid half a gridpoint, then calculate the test data again.\n",
    "    REAL dxx[3] = {dxx0,dxx1,dxx2};\n",
    "    REAL Nxxp2NG[3] = {Nxx_plus_2NGHOSTS0,Nxx_plus_2NGHOSTS1,Nxx_plus_2NGHOSTS2};\n",
    "    for(int i=0;i<Nxxp2NG[flux_dirn];i++) {\n",
    "        xx[flux_dirn][i] -= dxx[flux_dirn]/2.0;\n",
    "    }\n",
    "    calculate_metric_gfs(&params,xx,auxevol_exact_gfs);\n",
    "\n",
    "    char filename[100];\n",
    "    sprintf(filename,\"out%d-numer.txt\",Nxx0);\n",
    "    FILE *out2D = fopen(filename, \"w\");\n",
    "    for(int i2=0;i2<Nxx_plus_2NGHOSTS2;i2++) for(int i1=0;i1<Nxx_plus_2NGHOSTS1;i1++) for(int i0=0;i0<Nxx_plus_2NGHOSTS0;i0++) {\n",
    "        // We print the difference between approximate and exact numbers.\n",
    "        fprintf(out2D,\"%.16e\\t %e %e %e\\n\",\n",
    "                auxevol_gfs[IDX4S(BETA_FACEU0GF,i0,i1,i2)]-auxevol_exact_gfs[IDX4S(BETAU0GF,i0,i1,i2)],\n",
    "                xx[0][i0],xx[1][i1],xx[2][i2]\n",
    "                );\n",
    "    }\n",
    "    fclose(out2D);\n",
    "}"
   ]
  },
  {
   "cell_type": "markdown",
   "metadata": {},
   "source": [
    "<a id='compile_run'></a>\n",
    "\n",
    "## Step 2.a: Compile and run the code \\[Back to [top](#toc)\\]\n",
    "$$\\label{compile_run}$$\n",
    "\n",
    "Now that we have our file, we can compile it and run the executable."
   ]
  },
  {
   "cell_type": "code",
   "execution_count": 8,
   "metadata": {
    "execution": {
     "iopub.execute_input": "2022-11-24T14:15:45.947330Z",
     "iopub.status.busy": "2022-11-24T14:15:45.947220Z",
     "iopub.status.idle": "2022-11-24T14:15:46.601016Z",
     "shell.execute_reply": "2022-11-24T14:15:46.600612Z"
    }
   },
   "outputs": [
    {
     "name": "stdout",
     "output_type": "stream",
     "text": [
      "Now compiling, should take ~2 seconds...\n",
      "\n",
      "Compiling executable...\n",
      "(EXEC): Executing `gcc -std=gnu99 -Ofast -fopenmp -march=native -funroll-loops Start-to-Finish-UnitTests/Metric_Face_Values_UnitTest/FCVAL_unit_test.c -o Start-to-Finish-UnitTests/Metric_Face_Values_UnitTest/output/FCVAL_unit_test -lm`...\n",
      "(BENCH): Finished executing in 0.2 seconds.\n",
      "Finished compilation.\n",
      "Finished in 0.20373010635375977 seconds.\n",
      "\n",
      "\n",
      "Now running...\n",
      "\n",
      "(EXEC): Executing `taskset -c 0,1,2,3,4,5,6,7,8,9,10,11,12,13,14,15 ./FCVAL_unit_test 10 10 10`...\n",
      "(BENCH): Finished executing in 0.2 seconds.\n",
      "(EXEC): Executing `taskset -c 0,1,2,3,4,5,6,7,8,9,10,11,12,13,14,15 ./FCVAL_unit_test 20 20 20`...\n",
      "(BENCH): Finished executing in 0.2 seconds.\n",
      "Finished in 0.44692564010620117 seconds.\n",
      "\n",
      "\n"
     ]
    }
   ],
   "source": [
    "import time\n",
    "\n",
    "print(\"Now compiling, should take ~2 seconds...\\n\")\n",
    "start = time.time()\n",
    "cmd.C_compile(os.path.join(Ccodesdir,\"FCVAL_unit_test.c\"), os.path.join(outdir,\"FCVAL_unit_test\"))\n",
    "end = time.time()\n",
    "print(\"Finished in \"+str(end-start)+\" seconds.\\n\\n\")\n",
    "\n",
    "# Change to output directory\n",
    "os.chdir(outdir)\n",
    "\n",
    "print(\"Now running...\\n\")\n",
    "start = time.time()\n",
    "cmd.Execute(os.path.join(\"FCVAL_unit_test\"), \"10 10 10\",\"out.txt\")\n",
    "# To do a convergence test, we'll also need a second grid with twice the resolution.\n",
    "cmd.Execute(os.path.join(\"FCVAL_unit_test\"), \"20 20 20\",\"out.txt\")\n",
    "end = time.time()\n",
    "print(\"Finished in \"+str(end-start)+\" seconds.\\n\\n\")\n"
   ]
  },
  {
   "cell_type": "markdown",
   "metadata": {},
   "source": [
    "<a id='convergence'></a>\n",
    "\n",
    "# Step 3: Code validation: Verify that relative error in numerical solution converges to zero at the expected order \\[Back to [top](#toc)\\]\n",
    "$$\\label{convergence}$$\n",
    "\n",
    "Here, we import the data at two resolutions and wrote to text files. This data consists of the absolute error of a metric gridfunction at each in the grid. We'll plot a portion of this data along the axis at the lower resolution along with that same data at the higher resolution scaled to demonstrate that this error converges to 0 at the expected rate. Since our algorithm uses a third-order polynomial, we expect fourth-order convergence here."
   ]
  },
  {
   "cell_type": "code",
   "execution_count": 9,
   "metadata": {
    "execution": {
     "iopub.execute_input": "2022-11-24T14:15:46.602966Z",
     "iopub.status.busy": "2022-11-24T14:15:46.602848Z",
     "iopub.status.idle": "2022-11-24T14:15:46.995750Z",
     "shell.execute_reply": "2022-11-24T14:15:46.995429Z"
    }
   },
   "outputs": [
    {
     "data": {
      "image/png": "[encoded data removed]",
      "text/plain": [
       "<Figure size 432x288 with 1 Axes>"
      ]
     },
     "metadata": {
      "needs_background": "light"
     },
     "output_type": "display_data"
    }
   ],
   "source": [
    "import numpy as np\n",
    "import matplotlib.pyplot as plt\n",
    "\n",
    "plt.rcParams.update({'font.size': 12})\n",
    "\n",
    "Data1 = np.loadtxt(\"out10-numer.txt\")\n",
    "Data2 = np.loadtxt(\"out20-numer.txt\")\n",
    "\n",
    "def IDX4(i,j,k,Nxx_plus_2NGHOSTS0,Nxx_plus_2NGHOSTS1,Nxx_plus_2NGHOSTS2):\n",
    "    return (i) + Nxx_plus_2NGHOSTS0 * ( (j) + Nxx_plus_2NGHOSTS1 * ( (k) + Nxx_plus_2NGHOSTS2 * (0) ) )\n",
    "\n",
    "x1 = np.zeros(10)\n",
    "a1 = np.zeros(10)\n",
    "for i in range(10):\n",
    "    x1[i] = Data1[IDX4(i+3,8,8,16,16,16),1]\n",
    "    a1[i] = Data1[IDX4(i+3,8,8,16,16,16),0]\n",
    "x2 = np.zeros(20)\n",
    "a2 = np.zeros(20)\n",
    "for i in range(20):\n",
    "    x2[i] = Data2[IDX4(i+3,13,13,26,26,26),1]\n",
    "    a2[i] = Data2[IDX4(i+3,13,13,26,26,26),0]\n",
    "\n",
    "plt.figure()\n",
    "a = plt.plot(x1,a1,'.',label=\"dx\")\n",
    "b = plt.plot(x2,a2*(2**4),label=\"dx/2, times (20/10)^4\")\n",
    "plt.legend()\n",
    "plt.xlabel(\"x\")\n",
    "plt.ylabel(\"E_rel\")\n",
    "plt.title('Convergence test: betaU0 Rel. Error')\n",
    "plt.show()\n",
    "\n",
    "convergence_satisfactory = np.log2(a1/a2[0:-1:2])>3\n",
    "if not convergence_satisfactory.all():\n",
    "    sys.exit(1)"
   ]
  },
  {
   "cell_type": "markdown",
   "metadata": {},
   "source": [
    "<a id='latex_pdf_output'></a>\n",
    "\n",
    "# Step 4: Output this notebook to $\\LaTeX$-formatted PDF file \\[Back to [top](#toc)\\]\n",
    "$$\\label{latex_pdf_output}$$\n",
    "\n",
    "The following code cell converts this Jupyter notebook into a proper, clickable $\\LaTeX$-formatted PDF file. After the cell is successfully run, the generated PDF may be found in the root NRPy+ tutorial directory, with filename\n",
    "[Tutorial-Start_to_Finish_UnitTest-GiRaFFE_NRPy-Metric_Face_Values.pdf](Tutorial-Start_to_Finish_UnitTest-GiRaFFE_NRPy-Metric_Face_Values.pdf) (Note that clicking on this link may not work; you may need to open the PDF file through another means.)"
   ]
  },
  {
   "cell_type": "code",
   "execution_count": 10,
   "metadata": {
    "execution": {
     "iopub.execute_input": "2022-11-24T14:15:46.997169Z",
     "iopub.status.busy": "2022-11-24T14:15:46.997084Z",
     "iopub.status.idle": "2022-11-24T14:15:50.011457Z",
     "shell.execute_reply": "2022-11-24T14:15:50.011086Z"
    }
   },
   "outputs": [
    {
     "name": "stdout",
     "output_type": "stream",
     "text": [
      "Created Tutorial-Start_to_Finish_UnitTest-GiRaFFE_NRPy-\n",
      "    Metric_Face_Values.tex, and compiled LaTeX file to PDF file Tutorial-\n",
      "    Start_to_Finish_UnitTest-GiRaFFE_NRPy-Metric_Face_Values.pdf\n"
     ]
    }
   ],
   "source": [
    "import cmdline_helper as cmd    # NRPy+: Multi-platform Python command-line interface\n",
    "\n",
    "# Change to NRPy directory\n",
    "os.chdir(\"../../../\")\n",
    "\n",
    "cmd.output_Jupyter_notebook_to_LaTeXed_PDF(\"Tutorial-Start_to_Finish_UnitTest-GiRaFFE_NRPy-Metric_Face_Values\")"
   ]
  }
 ],
 "metadata": {
  "kernelspec": {
   "display_name": "Python 3 (ipykernel)",
   "language": "python",
   "name": "python3"
  },
  "language_info": {
   "codemirror_mode": {
    "name": "ipython",
    "version": 3
   },
   "file_extension": ".py",
   "mimetype": "text/x-python",
   "name": "python",
   "nbconvert_exporter": "python",
   "pygments_lexer": "ipython3",
   "version": "3.10.4"
  }
 },
 "nbformat": 4,
 "nbformat_minor": 2
}
