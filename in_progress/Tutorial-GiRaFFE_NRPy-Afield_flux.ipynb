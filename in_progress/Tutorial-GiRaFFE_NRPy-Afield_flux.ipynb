{
 "cells": [
  {
   "cell_type": "markdown",
   "metadata": {},
   "source": [
    "# `GiRaFFE_NRPy`: Solving the Induction Equation\n",
    "\n",
    "## Author: Patrick Nelson\n",
    "\n",
    "Our goal in this module is to write the code necessary to solve the induction equation \n",
    "$$\n",
    "\\partial_t A_i = \\underbrace{\\epsilon_{ijk} v^j B^k}_{\\rm No\\ Gauge\\ terms} - \\underbrace{\\partial_i \\left(\\alpha \\Phi - \\beta^j A_j \\right)}_{\\rm Gauge\\ terms}\n",
    "$$\n"
   ]
  },
  {
   "cell_type": "markdown",
   "metadata": {},
   "source": [
    "Since we are not using staggered grids, we can greatly simplify this algorithm with respect to the version used in the original `GiRaFFE`. We turn to T&oacute;th's [paper](https://www.sciencedirect.com/science/article/pii/S0021999100965197?via%3Dihub), Eqs. 30 and 31, and a 3D version of the same algorithm in **TODO: RIT paper**. \n",
    "\n",
    "Consider the electric field $E_i = \\epsilon_{ijk} v^j B^k$ (this relation assumes the ideal MHD limit, which is also assumed in FFE). \n",
    "\n",
    "Consider the point $i,j,k$. Let components of tensors be indicated with braces, i.e. the $i^{\\rm th}$ component of the electric field at point $i,j,k$ will be written as $\\left(E_{\\{i\\}}\\right)_{i,j,k}$. Then\n",
    "\\begin{align}\n",
    "\\left(E_{\\{1\\}}\\right)_{i,j,k} = \\frac{1}{4}(v^{\\{2\\}})B^{\\{3\\}})_{i,j-\\tfrac{1}{2},k} &+ \\frac{1}{4}(v^{\\{2\\}})B^{\\{3\\}})_{i,j+\\tfrac{1}{2},k}\\\\\n",
    "- \\frac{1}{4}(v^{\\{3\\}})B^{\\{2\\}})_{i,j,k-\\tfrac{1}{2}} &- \\frac{1}{4}(v^{\\{3\\}})B^{\\{2\\}})_{i,j,k+\\tfrac{1}{2}}\n",
    "\\end{align}\n",
    "\n",
    "The other components follow via a cyclic permutation of the indices. Note a potential complication here: When we are calculating $i^{\\rm th}$ component of the electric field, we are concerned with the reconstructed quantities in the $j^{\\rm th}$ and $k^{\\rm th}$ directions. This means that it will be sensible to do something similar to what we do with the A2B module and think first about the directions in which a stencil goes, and *then* the terms that involve it. \n",
    "\n",
    "In this case, we will compute the face-value products of $v^i$ and $B^i$ in, say, the 0th direction **TODO: rectify off-by-one above**. Then, we will compute the parts of components of the electric field that depend on those: the 1st and 2nd direction."
   ]
  },
  {
   "cell_type": "markdown",
   "metadata": {},
   "source": [
    "An outline of a general finite-volume method is as follows, with the current step in bold:\n",
    "1. The Reconstruction Step - Piecewise Parabolic Method\n",
    "    1. Within each cell, fit to a function that conserves the volume in that cell using information from the neighboring cells\n",
    "        * For PPM, we will naturally use parabolas\n",
    "    1. Use that fit to define the state at the left and right interface of each cell\n",
    "    1. Apply a slope limiter to mitigate Gibbs phenomenon\n",
    "1. Interpolate the value of the metric gridfunctions on the cell faces\n",
    "1. **Solving the Riemann Problem - Harten, Lax, (This notebook, $E_i$ only)**\n",
    "    1. **Use the left and right reconstructed states to calculate the unique state at boundary**\n",
    "\n",
    "We will assume in this notebook that the reconstructed velocities and magnetic fields are available on cell faces as input. We will also assume that the metric gridfunctions have been interpolated on the metric faces. \n",
    "\n",
    "Solving the Riemann problem, then, consists of two substeps: First, we compute the flux through each face of the cell. Then, we add the average of these fluxes to the right-hand side of the evolution equation for the vector potential. "
   ]
  },
  {
   "cell_type": "markdown",
   "metadata": {},
   "source": [
    "<a id='toc'></a>\n",
    "\n",
    "# Table of Contents\n",
    "$$\\label{toc}$$\n",
    "\n",
    "This notebook is organized as follows:\n",
    "\n",
    "1. [Step 1](#prelim): Preliminaries\n",
    "1. [Step 2](#b_i_flux): Computing the Magnetic Flux\n",
    "    1. [Step 2.a](#hydro_speed): GRFFE characteristic wave speeds\n",
    "    1. [Step 2.b](#fluxes): Compute the HLLE fluxes\n",
    "1. [Step 3](#code_validation): Code Validation against `GiRaFFE_NRPy.Induction_Equation` NRPy+ Module\n",
    "1. [Step 4](#latex_pdf_output): Output this notebook to $\\LaTeX$-formatted PDF file"
   ]
  },
  {
   "cell_type": "markdown",
   "metadata": {},
   "source": [
    "<a id='prelim'></a>\n",
    "\n",
    "# Step 1: Preliminaries \\[Back to [top](#toc)\\]\n",
    "$$\\label{prelim}$$\n",
    "\n",
    "We begin by importing the NRPy+ core functionality. We also import the Levi-Civita symbol, the GRHD module, and the GRFFE module."
   ]
  },
  {
   "cell_type": "code",
   "execution_count": 1,
   "metadata": {},
   "outputs": [],
   "source": [
    "# Step 0: Add NRPy's directory to the path\n",
    "# https://stackoverflow.com/questions/16780014/import-file-from-parent-directory\n",
    "import os,sys\n",
    "nrpy_dir_path = os.path.join(\"..\")\n",
    "if nrpy_dir_path not in sys.path:\n",
    "    sys.path.append(nrpy_dir_path)\n",
    "\n",
    "from outputC import *            # NRPy+: Core C code output module\n",
    "import finite_difference as fin  # NRPy+: Finite difference C code generation module\n",
    "import NRPy_param_funcs as par   # NRPy+: Parameter interface\n",
    "import grid as gri               # NRPy+: Functions having to do with numerical grids\n",
    "import loop as lp                # NRPy+: Generate C code loops\n",
    "import indexedexp as ixp         # NRPy+: Symbolic indexed expression (e.g., tensors, vectors, etc.) support\n",
    "import reference_metric as rfm   # NRPy+: Reference metric support\n",
    "import cmdline_helper as cmd     # NRPy+: Multi-platform Python command-line interface\n",
    "import shutil, os, sys           # Standard Python modules for multiplatform OS-level functions\n",
    "\n",
    "thismodule = \"GiRaFFE_NRPy-Afield_flux\"\n",
    "\n",
    "import GRHD.equations as GRHD\n",
    "import GRFFE.equations as GRFFE\n",
    "\n",
    "# Import the Levi-Civita symbol and build the corresponding tensor.\n",
    "# We already have a handy function to define the Levi-Civita symbol in WeylScalars\n",
    "import WeylScal4NRPy.WeylScalars_Cartesian as weyl\n"
   ]
  },
  {
   "cell_type": "markdown",
   "metadata": {},
   "source": [
    "<a id='b_i_flux'></a>\n",
    "\n",
    "# Step 2: Computing the Magnetic Flux \\[Back to [top](#toc)\\]\n",
    "$$\\label{b_i_flux}$$\n",
    "\n",
    "<a id='hydro_speed'></a>\n",
    "\n",
    "## Step 2.a: GRFFE characteristic wave speeds \\[Back to [top](#toc)\\]\n",
    "$$\\label{hydro_speed}$$\n",
    "\n",
    "This function is identical to the one done by Stilde_flux. See [that tutorial](Tutorial-GiRaFFE_NRPy-Stilde-flux.ipynb#hydro_speed) for further information on the derivation."
   ]
  },
  {
   "cell_type": "code",
   "execution_count": 2,
   "metadata": {},
   "outputs": [],
   "source": [
    "# We'll write this as a function so that we can calculate the expressions on-demand for any choice of i\n",
    "def find_cp_cm(lapse,shifti,gammaUUii):\n",
    "    # Inputs:  u0,vi,lapse,shift,gammadet,gupii\n",
    "    # Outputs: cplus,cminus \n",
    "    \n",
    "    # a = 1/(alpha^2)\n",
    "    a = sp.sympify(1)/(lapse*lapse)\n",
    "    # b = 2 beta^i / alpha^2\n",
    "    b = sp.sympify(2) * shifti /(lapse*lapse)\n",
    "    # c = -g^{ii} + (beta^i)^2 / alpha^2\n",
    "    c = - gammaUUii + shifti*shifti/(lapse*lapse)\n",
    "    \n",
    "    # Now, we are free to solve the quadratic equation as usual. We take care to avoid passing a\n",
    "    # negative value to the sqrt function.\n",
    "    detm = b*b - sp.sympify(4)*a*c\n",
    "\n",
    "    import Min_Max_and_Piecewise_Expressions as noif\n",
    "    detm = sp.sqrt(noif.max_noif(sp.sympify(0),detm))\n",
    "    global cplus,cminus\n",
    "    cplus  = sp.Rational(1,2)*(-b/a + detm/a)\n",
    "    cminus = sp.Rational(1,2)*(-b/a - detm/a)\n"
   ]
  },
  {
   "cell_type": "markdown",
   "metadata": {},
   "source": [
    "This function is identical to the one done by Stilde_flux. For more information, see [here](Tutorial-GiRaFFE_NRPy-Stilde-flux.ipynb#fluxes)."
   ]
  },
  {
   "cell_type": "code",
   "execution_count": 3,
   "metadata": {},
   "outputs": [],
   "source": [
    "# We'll write this as a function, and call it within HLLE_solver, below.\n",
    "def find_cmax_cmin(flux_dirn,gamma_faceDD,beta_faceU,alpha_face):\n",
    "    # Inputs:  flux direction flux_dirn, Inverse metric gamma_faceUU, shift beta_faceU,\n",
    "    #          lapse alpha_face, metric determinant gammadet_face\n",
    "    # Outputs: maximum and minimum characteristic speeds cmax and cmin\n",
    "    # First, we need to find the characteristic speeds on each face\n",
    "    gamma_faceUU,unusedgammaDET = ixp.generic_matrix_inverter3x3(gamma_faceDD)\n",
    "    find_cp_cm(alpha_face,beta_faceU[flux_dirn],gamma_faceUU[flux_dirn][flux_dirn])\n",
    "    cpr = cplus\n",
    "    cmr = cminus\n",
    "    find_cp_cm(alpha_face,beta_faceU[flux_dirn],gamma_faceUU[flux_dirn][flux_dirn])\n",
    "    cpl = cplus\n",
    "    cml = cminus\n",
    "    \n",
    "    # The following algorithms have been verified with random floats:\n",
    "    \n",
    "    global cmax,cmin\n",
    "    # Now, we need to set cmax to the larger of cpr,cpl, and 0\n",
    "    \n",
    "    import Min_Max_and_Piecewise_Expressions as noif\n",
    "    cmax = noif.max_noif(noif.max_noif(cpr,cpl),sp.sympify(0))\n",
    "    \n",
    "    # And then, set cmin to the smaller of cmr,cml, and 0\n",
    "    cmin = -noif.min_noif(noif.min_noif(cmr,cml),sp.sympify(0))\n"
   ]
  },
  {
   "cell_type": "markdown",
   "metadata": {},
   "source": [
    "<a id='fluxes'></a>\n",
    "\n",
    "## Step 2.b: Compute the HLLE fluxes \\[Back to [top](#toc)\\]\n",
    "$$\\label{fluxes}$$\n",
    "\n",
    "See GRHydro paper for equations (TBA)**TODO**\n",
    "\n",
    "Here, we we calculate the flux and state vectors for the electric field.\n",
    "The flux vector in the $i^{\\rm th}$ direction is given as \n",
    "$$\n",
    "F(U) = \\epsilon_{ijk} v^j B^k,\n",
    "$$\n",
    "where $\\epsilon_{ijk} = [ijk]\\sqrt{\\gamma}$, $[ijk]$ is the Levi-Civita symbol, $\\gamma$ is the determinant of the three-metric, and $v^j = \\alpha \\bar{v^j} - \\beta^j$ is the drift velocity; the state vector in the $i^{\\rm th}$ direction is $U = B^i$.\n"
   ]
  },
  {
   "cell_type": "code",
   "execution_count": 4,
   "metadata": {},
   "outputs": [],
   "source": [
    "def calculate_flux_and_state_for_Induction(flux_dirn, gammaDD,betaU,alpha,ValenciavU,BU):\n",
    "    GRHD.compute_sqrtgammaDET(gammaDD)\n",
    "    # Here, we import the Levi-Civita tensor and compute the tensor with lower indices\n",
    "    LeviCivitaDDD = weyl.define_LeviCivitaSymbol_rank3()\n",
    "    for i in range(3):\n",
    "        for j in range(3):\n",
    "            for k in range(3):\n",
    "                LCijk = LeviCivitaDDD[i][j][k]\n",
    "                LeviCivitaDDD[i][j][k] = LCijk * GRHD.sqrtgammaDET\n",
    "\n",
    "    global U,F\n",
    "    # Flux F = \\epsilon_{ijk} v^j B^k\n",
    "    F = sp.sympify(0)\n",
    "    for j in range(3):\n",
    "        for k in range(3):\n",
    "            F += LeviCivitaDDD[flux_dirn][j][k] * (alpha*ValenciavU[j]-betaU[j]) * BU[k]\n",
    "    # U = B^i\n",
    "    U = BU[flux_dirn]\n"
   ]
  },
  {
   "cell_type": "markdown",
   "metadata": {},
   "source": [
    "Now, we write a standard HLLE solver based on eq. 3.15 in [the HLLE paper](https://epubs.siam.org/doi/pdf/10.1137/1025002),\n",
    "$$\n",
    "F^{\\rm HLL} = \\frac{c_{\\rm min} F_{\\rm R} + c_{\\rm max} F_{\\rm L} - c_{\\rm min} c_{\\rm max} (U_{\\rm R}-U_{\\rm L})}{c_{\\rm min} + c_{\\rm max}}\n",
    "$$"
   ]
  },
  {
   "cell_type": "code",
   "execution_count": 5,
   "metadata": {},
   "outputs": [],
   "source": [
    "def HLLE_solver(cmax, cmin, Fr, Fl, Ur, Ul): \n",
    "    # This solves the Riemann problem for the flux of E_i in one direction\n",
    "    \n",
    "    # F^HLL = (c_\\min f_R + c_\\max f_L - c_\\min c_\\max ( st_j_r - st_j_l )) / (c_\\min + c_\\max)\n",
    "    return (cmin*Fr + cmax*Fl - cmin*cmax*(Ur-Ul) )/(cmax + cmin)"
   ]
  },
  {
   "cell_type": "markdown",
   "metadata": {},
   "source": [
    "Here, we will use the function we just wrote to calculate the flux through a face. We will pass the reconstructed Valencia 3-velocity and magnetic field on either side of an interface to this function (designated as the \"left\" and \"right\" sides) along with the value of the 3-metric, shift vector, and lapse function on the interface. However, unlike when we used this method to calculate the flux term, the RHS of each component of $A_i$ does not depend on all three of the flux directions. Instead, the flux of one component of the $E_i$ field depends on flux through the faces in the other two directions. This will require us to write C code later to handle this.\n",
    "\n",
    "Note that we allow the user to declare their own gridfunctions if they wish, and default to declaring basic symbols if they are not provided."
   ]
  },
  {
   "cell_type": "code",
   "execution_count": 6,
   "metadata": {},
   "outputs": [],
   "source": [
    "def calculate_E_i_flux(inputs_provided=True,alpha_face=None,gamma_faceDD=None,beta_faceU=None,\\\n",
    "                       Valenciav_rU=None,B_rU=None,Valenciav_lU=None,B_lU=None):\n",
    "    if not inputs_provided:\n",
    "        # declare all variables\n",
    "        alpha_face = sp.symbols(alpha_face)\n",
    "        beta_faceU = ixp.declarerank1(\"beta_faceU\")\n",
    "        gamma_faceDD = ixp.declarerank2(\"gamma_faceDD\",\"sym01\")\n",
    "        Valenciav_rU = ixp.declarerank1(\"Valenciav_rU\")\n",
    "        B_rU = ixp.declarerank1(\"B_rU\")\n",
    "        Valenciav_lU = ixp.declarerank1(\"Valenciav_lU\")\n",
    "        B_lU = ixp.declarerank1(\"B_lU\")\n",
    "    global E_fluxD\n",
    "    E_fluxD = ixp.zerorank1()\n",
    "    for flux_dirn in range(3):\n",
    "        find_cmax_cmin(flux_dirn,gamma_faceDD,beta_faceU,alpha_face)\n",
    "        calculate_flux_and_state_for_Induction(flux_dirn, gamma_faceDD,beta_faceU,alpha_face,\\\n",
    "                                               Valenciav_rU,B_rU)\n",
    "        Fr = F\n",
    "        Ur = U\n",
    "        calculate_flux_and_state_for_Induction(flux_dirn, gamma_faceDD,beta_faceU,alpha_face,\\\n",
    "                                               Valenciav_lU,B_lU)\n",
    "        Fl = F\n",
    "        Ul = U\n",
    "        E_fluxD[flux_dirn] += HLLE_solver(cmax, cmin, Fr, Fl, Ur, Ul)\n"
   ]
  },
  {
   "cell_type": "markdown",
   "metadata": {},
   "source": [
    "Note that as currently written above, this code is written in a way that more resembles the algorithm described in T&oacute;th's paper and the original `GiRaFFE`. Thus, we have found the flux through each face in our grid. Note that, for a given cell, the vector `E_fluxD` only describes three faces. By convention, these are the faces in the negative direction for each coordinate. The faces in the positive direction can thus be found by incrementing the appropriate index. With these values calculated, the next step would be to add the appropriate quantities to the right-hand side of $A_i$. However, with this need to use values stored at different indices, we will need to handwrite that portion of the code, which will be done elsewhere. "
   ]
  },
  {
   "cell_type": "markdown",
   "metadata": {},
   "source": [
    "<a id='code_validation'></a>\n",
    "\n",
    "# Step 3:  Code Validation against `GiRaFFE_NRPy.Induction_Equation` NRPy+ Module \\[Back to [top](#toc)\\]\n",
    "$$\\label{code_validation}$$\n",
    "\n",
    "\n",
    "Here, as a code validation check, we verify agreement in the SymPy expressions for the $\\texttt{GiRaFFE}$ evolution equations and auxiliary quantities we intend to use between\n",
    "1. this tutorial and \n",
    "2. the NRPy+ [GiRaFFE_NRPy.Induction_Equation](../../edit/in_progress/GiRaFFE_NRPy/Induction_Equation.py) module.\n",
    "\n",
    "Below are the gridfunction registrations we will need for testing. We will pass these to the above functions to self-validate the module that corresponds with this tutorial."
   ]
  },
  {
   "cell_type": "code",
   "execution_count": 7,
   "metadata": {},
   "outputs": [
    {
     "name": "stdout",
     "output_type": "stream",
     "text": [
      "ALL TESTS PASSED!\n"
     ]
    }
   ],
   "source": [
    "all_passed=True\n",
    "def comp_func(expr1,expr2,basename,prefixname2=\"C2P_P2C.\"):\n",
    "    if str(expr1-expr2)!=\"0\":\n",
    "        print(basename+\" - \"+prefixname2+basename+\" = \"+ str(expr1-expr2))\n",
    "        all_passed=False\n",
    "\n",
    "def gfnm(basename,idx1,idx2=None,idx3=None):\n",
    "    if idx2==None:\n",
    "        return basename+\"[\"+str(idx1)+\"]\"\n",
    "    if idx3==None:\n",
    "        return basename+\"[\"+str(idx1)+\"][\"+str(idx2)+\"]\"\n",
    "    return basename+\"[\"+str(idx1)+\"][\"+str(idx2)+\"][\"+str(idx3)+\"]\"\n",
    "\n",
    "# These are the standard gridfunctions we've used before.\n",
    "#ValenciavU = ixp.register_gridfunctions_for_single_rank1(\"AUXEVOL\",\"ValenciavU\",DIM=3)\n",
    "#gammaDD = ixp.register_gridfunctions_for_single_rank2(\"AUXEVOL\",\"gammaDD\",\"sym01\")\n",
    "#betaU = ixp.register_gridfunctions_for_single_rank1(\"AUXEVOL\",\"betaU\")\n",
    "#alpha = gri.register_gridfunctions(\"AUXEVOL\",[\"alpha\"])\n",
    "#AD = ixp.register_gridfunctions_for_single_rank1(\"EVOL\",\"AD\",DIM=3)\n",
    "#BU = ixp.register_gridfunctions_for_single_rank1(\"AUXEVOL\",\"BU\",DIM=3)\n",
    "\n",
    "# We will pass values of the gridfunction on the cell faces into the function. This requires us\n",
    "# to declare them as C parameters in NRPy+. We will denote this with the _face infix/suffix.\n",
    "alpha_face = gri.register_gridfunctions(\"AUXEVOL\",\"alpha_face\")\n",
    "gamma_faceDD = ixp.register_gridfunctions_for_single_rank2(\"AUXEVOL\",\"gamma_faceDD\",\"sym01\")\n",
    "beta_faceU = ixp.register_gridfunctions_for_single_rank1(\"AUXEVOL\",\"beta_faceU\")\n",
    "\n",
    "# We'll need some more gridfunctions, now, to represent the reconstructions of BU and ValenciavU\n",
    "# on the right and left faces\n",
    "Valenciav_rU = ixp.register_gridfunctions_for_single_rank1(\"AUXEVOL\",\"Valenciav_rU\",DIM=3)\n",
    "B_rU = ixp.register_gridfunctions_for_single_rank1(\"AUXEVOL\",\"B_rU\",DIM=3)\n",
    "Valenciav_lU = ixp.register_gridfunctions_for_single_rank1(\"AUXEVOL\",\"Valenciav_lU\",DIM=3)\n",
    "B_lU = ixp.register_gridfunctions_for_single_rank1(\"AUXEVOL\",\"B_lU\",DIM=3)\n",
    "\n",
    "import GiRaFFE_NRPy.Afield_flux as Af\n",
    "\n",
    "expr_list = []\n",
    "exprcheck_list = []\n",
    "namecheck_list = []\n",
    "\n",
    "calculate_E_i_flux(True,alpha_face,gamma_faceDD,beta_faceU,\\\n",
    "                   Valenciav_rU,B_rU,Valenciav_lU,B_lU)\n",
    "Af.calculate_E_i_flux(True,alpha_face,gamma_faceDD,beta_faceU,\\\n",
    "                      Valenciav_rU,B_rU,Valenciav_lU,B_lU)\n",
    "\n",
    "for flux_dirn in range(3):\n",
    "    namecheck_list.extend([gfnm(\"E_fluxD\",flux_dirn)])\n",
    "    exprcheck_list.extend([Af.E_fluxD[flux_dirn]])\n",
    "    expr_list.extend([E_fluxD[flux_dirn]])\n",
    "\n",
    "for mom_comp in range(len(expr_list)):\n",
    "    comp_func(expr_list[mom_comp],exprcheck_list[mom_comp],namecheck_list[mom_comp])\n",
    "\n",
    "import sys\n",
    "if all_passed:\n",
    "    print(\"ALL TESTS PASSED!\")\n",
    "else:\n",
    "    print(\"ERROR: AT LEAST ONE TEST DID NOT PASS\")\n",
    "    sys.exit(1)\n"
   ]
  },
  {
   "cell_type": "markdown",
   "metadata": {},
   "source": [
    "<a id='latex_pdf_output'></a>\n",
    "\n",
    "# Step 4: Output this notebook to $\\LaTeX$-formatted PDF file \\[Back to [top](#toc)\\]\n",
    "$$\\label{latex_pdf_output}$$\n",
    "\n",
    "The following code cell converts this Jupyter notebook into a proper, clickable $\\LaTeX$-formatted PDF file. After the cell is successfully run, the generated PDF may be found in the root NRPy+ tutorial directory, with filename\n",
    "[Tutorial-GiRaFFE_NRPy-Induction_Equation.pdf](Tutorial-GiRaFFE_NRPy-Induction_Equation.pdf) (Note that clicking on this link may not work; you may need to open the PDF file through another means.)"
   ]
  },
  {
   "cell_type": "code",
   "execution_count": 8,
   "metadata": {},
   "outputs": [
    {
     "name": "stdout",
     "output_type": "stream",
     "text": [
      "This is pdfTeX, Version 3.14159265-2.6-1.40.18 (TeX Live 2017/Debian) (preloaded format=pdflatex)\n",
      " restricted \\write18 enabled.\n",
      "entering extended mode\n",
      "This is pdfTeX, Version 3.14159265-2.6-1.40.18 (TeX Live 2017/Debian) (preloaded format=pdflatex)\n",
      " restricted \\write18 enabled.\n",
      "entering extended mode\n",
      "This is pdfTeX, Version 3.14159265-2.6-1.40.18 (TeX Live 2017/Debian) (preloaded format=pdflatex)\n",
      " restricted \\write18 enabled.\n",
      "entering extended mode\n"
     ]
    }
   ],
   "source": [
    "!jupyter nbconvert --to latex --template latex_nrpy_style.tplx --log-level='WARN' Tutorial-GiRaFFE_NRPy-Afield_flux.ipynb\n",
    "!pdflatex -interaction=batchmode Tutorial-GiRaFFE_NRPy-Afield_flux.tex\n",
    "!pdflatex -interaction=batchmode Tutorial-GiRaFFE_NRPy-Afield_flux.tex\n",
    "!pdflatex -interaction=batchmode Tutorial-GiRaFFE_NRPy-Afield_flux.tex\n",
    "!rm -f Tut*.out Tut*.aux Tut*.log"
   ]
  }
 ],
 "metadata": {
  "kernelspec": {
   "display_name": "Python 3",
   "language": "python",
   "name": "python3"
  },
  "language_info": {
   "codemirror_mode": {
    "name": "ipython",
    "version": 3
   },
   "file_extension": ".py",
   "mimetype": "text/x-python",
   "name": "python",
   "nbconvert_exporter": "python",
   "pygments_lexer": "ipython3",
   "version": "3.8.0"
  }
 },
 "nbformat": 4,
 "nbformat_minor": 2
}
