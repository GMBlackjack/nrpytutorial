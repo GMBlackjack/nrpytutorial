{
 "cells": [
  {
   "cell_type": "markdown",
   "metadata": {},
   "source": [
    "# `GiRaFFE_NRPy`: Basic Equations\n",
    "\n",
    "## Authors: Patrick Nelson &\n",
    "\n",
    "In this tutorial, we will introduce the basic GRFFE equations that we will wish to solve. \n",
    "\n",
    "In GiRaFFE, we choose the vector potential $A_i$, the densitized Poynting flux $\\tilde{S}_i$, and $\\psi^6 \\Phi$ as our conservative, evolved variables. They evolve according to the following equations:\n",
    "\\begin{align}\n",
    "\\partial_t \\tilde{S}_i + \\partial_j \\left( \\alpha \\sqrt{\\gamma} T^j_{{\\rm EM} i} \\right) &= \\frac{1}{2} \\alpha \\sqrt{\\gamma} T^{\\mu \\nu}_{\\rm EM} \\partial_i g_{\\mu \\nu} \\\\\n",
    "\\partial_t [\\sqrt{\\gamma} \\Phi] &= -\\partial_j (\\alpha\\sqrt{\\gamma}A^j - \\beta^j [\\sqrt{\\gamma} \\Phi]) - \\xi \\alpha [\\sqrt{\\gamma} \\Phi] \\\\\n",
    "\\partial_t A_i &= \\epsilon_{ijk} v^j B^k - \\partial_i (\\alpha \\Phi - \\beta^j A_j) \\\\\n",
    "\\end{align}\n",
    "\n",
    "We also use the Valencia three-velocity $\\bar{v}^i$ and the magnetic field $B^i$ as primitives, which can be defined in terms of the conservative variables:\n",
    "\\begin{align}\n",
    "B^i &= \\epsilon^{ijk} \\partial_j A_k \\\\\n",
    "\\bar{v}^i &= 4 \\pi \\frac{\\gamma^{ij} {\\tilde S}_j}{\\sqrt{\\gamma} B^2} \\\\\n",
    "\\end{align}"
   ]
  },
  {
   "cell_type": "code",
   "execution_count": null,
   "metadata": {},
   "outputs": [],
   "source": []
  }
 ],
 "metadata": {
  "kernelspec": {
   "display_name": "Python 3",
   "language": "python",
   "name": "python3"
  },
  "language_info": {
   "codemirror_mode": {
    "name": "ipython",
    "version": 3
   },
   "file_extension": ".py",
   "mimetype": "text/x-python",
   "name": "python",
   "nbconvert_exporter": "python",
   "pygments_lexer": "ipython3",
   "version": "3.8.2"
  }
 },
 "nbformat": 4,
 "nbformat_minor": 2
}
