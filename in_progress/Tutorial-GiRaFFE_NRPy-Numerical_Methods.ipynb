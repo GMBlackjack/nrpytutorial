{
 "cells": [
  {
   "cell_type": "markdown",
   "metadata": {},
   "source": [
    "# `GiRaFFE_NRPy`: Numerical Methods\n",
    "\n",
    "## Authors: Patrick Nelson &\n",
    "\n",
    "In this module, we will introduce the numerical methods with which we will solve the GRFFE equations.\n",
    "\n",
    "The contributions from flux terms to the right-hand sides of the conservation equations is found using PPM reconstruction and HLLE approximate Riemann solvers. The other right-hand side terms, as well as the magnetic field from the vector potential, are calculated with sipmle"
   ]
  },
  {
   "cell_type": "code",
   "execution_count": null,
   "metadata": {},
   "outputs": [],
   "source": []
  }
 ],
 "metadata": {
  "kernelspec": {
   "display_name": "Python 3",
   "language": "python",
   "name": "python3"
  },
  "language_info": {
   "codemirror_mode": {
    "name": "ipython",
    "version": 3
   },
   "file_extension": ".py",
   "mimetype": "text/x-python",
   "name": "python",
   "nbconvert_exporter": "python",
   "pygments_lexer": "ipython3",
   "version": "3.8.2"
  }
 },
 "nbformat": 4,
 "nbformat_minor": 2
}
