{
 "cells": [
  {
   "cell_type": "markdown",
   "metadata": {},
   "source": [
    "<script async src=\"https://www.googletagmanager.com/gtag/js?id=UA-59152712-8\"></script>\n",
    "<script>\n",
    "  window.dataLayer = window.dataLayer || [];\n",
    "  function gtag(){dataLayer.push(arguments);}\n",
    "  gtag('js', new Date());\n",
    "\n",
    "  gtag('config', 'UA-59152712-8');\n",
    "</script>\n",
    "\n",
    "# `GiRaFFE_NRPy`: Source Terms\n",
    "\n",
    "## Author: Patrick Nelson\n",
    "\n",
    "<a id='intro'></a>\n",
    "\n",
    "**Notebook Status:** <font color=green><b> Validated </b></font>\n",
    "\n",
    "**Validation Notes:** This code produces the expected results for generated functions.\n",
    "\n",
    "## This module presents the functionality of [GiRaFFE_NRPy_Source_Terms.py](../../edit/in_progress/GiRaFFE_NRPy/GiRaFFE_NRPy_Source_Terms.py).\n",
    "\n",
    "## Introduction: \n",
    "This writes and documents the C code that `GiRaFFE_NRPy` uses to compute the source terms for the right-hand sides of the evolution equations for the unstaggered prescription.\n",
    "\n",
    "The equations themselves are already coded up in other functions; however, for the $\\tilde{S}_i$ source term, we will need derivatives of the metric. It will be most efficient and accurate to take them using the interpolated metric values that we will have calculated anyway; however, we will need to write our derivatives in a nonstandard way within NRPy+ in order to take advantage of this, writing our own code for memory access."
   ]
  },
  {
   "cell_type": "markdown",
   "metadata": {},
   "source": [
    "<a id='toc'></a>\n",
    "\n",
    "# Table of Contents\n",
    "$$\\label{toc}$$\n",
    "\n",
    "This notebook is organized as follows\n",
    "\n",
    "1. [Step 1](#stilde_source): The $\\tilde{S}_i$ source term\n",
    "1. [Step 3](#code_validation): Code Validation against original C code\n",
    "1. [Step 4](#latex_pdf_output): Output this notebook to $\\LaTeX$-formatted PDF file"
   ]
  },
  {
   "cell_type": "code",
   "execution_count": 1,
   "metadata": {},
   "outputs": [],
   "source": [
    "# Step 0: Add NRPy's directory to the path\n",
    "# https://stackoverflow.com/questions/16780014/import-file-from-parent-directory\n",
    "import os,sys\n",
    "nrpy_dir_path = os.path.join(\"..\")\n",
    "if nrpy_dir_path not in sys.path:\n",
    "    sys.path.append(nrpy_dir_path)\n",
    "\n",
    "import cmdline_helper as cmd\n",
    "outdir = os.path.join(\"GiRaFFE_NRPy/GiRaFFE_Ccode_validation/RHSs/\")\n",
    "cmd.mkdir(outdir)"
   ]
  },
  {
   "cell_type": "markdown",
   "metadata": {},
   "source": [
    "<a id='stilde_source'></a>\n",
    "\n",
    "## Step 1: The $\\tilde{S}_i$ source term \\[Back to [top](#toc)\\]\n",
    "$$\\label{stilde_source}$$\n",
    "\n",
    "We start in the usual way - import the modules we need. We will also import the Levi-Civita symbol from `indexedexp.py` and use it to set the Levi-Civita tensor $\\epsilon^{ijk} = [ijk]/\\sqrt{\\gamma}$."
   ]
  },
  {
   "cell_type": "code",
   "execution_count": 5,
   "metadata": {},
   "outputs": [
    {
     "ename": "NameError",
     "evalue": "name 'gammaDD' is not defined",
     "output_type": "error",
     "traceback": [
      "\u001b[1;31m---------------------------------------------------------------------------\u001b[0m",
      "\u001b[1;31mNameError\u001b[0m                                 Traceback (most recent call last)",
      "\u001b[1;32m<ipython-input-5-eb9ad656deee>\u001b[0m in \u001b[0;36m<module>\u001b[1;34m\u001b[0m\n\u001b[0;32m     81\u001b[0m \u001b[1;31m# We need to rerun a few of these functions with the reset lists to make sure these functions\u001b[0m\u001b[1;33m\u001b[0m\u001b[1;33m\u001b[0m\u001b[1;33m\u001b[0m\u001b[0m\n\u001b[0;32m     82\u001b[0m \u001b[1;31m# don't cheat by using analytic expressions\u001b[0m\u001b[1;33m\u001b[0m\u001b[1;33m\u001b[0m\u001b[1;33m\u001b[0m\u001b[0m\n\u001b[1;32m---> 83\u001b[1;33m \u001b[0mGRHD\u001b[0m\u001b[1;33m.\u001b[0m\u001b[0mcompute_sqrtgammaDET\u001b[0m\u001b[1;33m(\u001b[0m\u001b[0mgammaDD\u001b[0m\u001b[1;33m)\u001b[0m\u001b[1;33m\u001b[0m\u001b[1;33m\u001b[0m\u001b[0m\n\u001b[0m\u001b[0;32m     84\u001b[0m \u001b[0mGRHD\u001b[0m\u001b[1;33m.\u001b[0m\u001b[0mu4U_in_terms_of_ValenciavU__rescale_ValenciavU_by_applying_speed_limit\u001b[0m\u001b[1;33m(\u001b[0m\u001b[0malpha\u001b[0m\u001b[1;33m,\u001b[0m \u001b[0mbetaU\u001b[0m\u001b[1;33m,\u001b[0m \u001b[0mgammaDD\u001b[0m\u001b[1;33m,\u001b[0m \u001b[0mValenciavU\u001b[0m\u001b[1;33m)\u001b[0m\u001b[1;33m\u001b[0m\u001b[1;33m\u001b[0m\u001b[0m\n\u001b[0;32m     85\u001b[0m \u001b[0mGRFFE\u001b[0m\u001b[1;33m.\u001b[0m\u001b[0mcompute_smallb4U\u001b[0m\u001b[1;33m(\u001b[0m\u001b[0mgammaDD\u001b[0m\u001b[1;33m,\u001b[0m \u001b[0mbetaU\u001b[0m\u001b[1;33m,\u001b[0m \u001b[0malpha\u001b[0m\u001b[1;33m,\u001b[0m \u001b[0mGRHD\u001b[0m\u001b[1;33m.\u001b[0m\u001b[0mu4U_ito_ValenciavU\u001b[0m\u001b[1;33m,\u001b[0m \u001b[0mBU\u001b[0m\u001b[1;33m,\u001b[0m \u001b[0msqrt4pi\u001b[0m\u001b[1;33m)\u001b[0m\u001b[1;33m\u001b[0m\u001b[1;33m\u001b[0m\u001b[0m\n",
      "\u001b[1;31mNameError\u001b[0m: name 'gammaDD' is not defined"
     ]
    }
   ],
   "source": [
    "# Step 1: The StildeD RHS *source* term\n",
    "from outputC import outCfunction, lhrh # NRPy+: Core C code output module\n",
    "import finite_difference as fin  # NRPy+: Finite difference C code generation module\n",
    "import NRPy_param_funcs as par   # NRPy+: Parameter interface\n",
    "import grid as gri               # NRPy+: Functions having to do with numerical grids\n",
    "import indexedexp as ixp         # NRPy+: Symbolic indexed expression (e.g., tensors, vectors, etc.) support\n",
    "import GRHD.equations as GRHD    # NRPy+: Generate general relativistic hydrodynamics equations\n",
    "\n",
    "thismodule = \"GiRaFFE_NRPy_Source_Terms\"\n",
    "\n",
    "# Declare all the Cparameters we will need\n",
    "metricderivDDD = ixp.declarerank3(\"metricderivDDD\",\"sym01\",DIM=3)\n",
    "shiftderivUD = ixp.declarerank2(\"shiftderivUD\",\"nosym\",DIM=3)\n",
    "lapsederivD = ixp.declarerank1(\"lapsederivD\",DIM=3)\n",
    "\n",
    "general_access = \"\"\"const REAL gammaDD00 = auxevol_gfs[IDX4S(GAMMADD00GF,i0,i1,i2)];\n",
    "const REAL gammaDD01 = auxevol_gfs[IDX4S(GAMMADD01GF,i0,i1,i2)];\n",
    "const REAL gammaDD02 = auxevol_gfs[IDX4S(GAMMADD02GF,i0,i1,i2)];\n",
    "const REAL gammaDD11 = auxevol_gfs[IDX4S(GAMMADD11GF,i0,i1,i2)];\n",
    "const REAL gammaDD12 = auxevol_gfs[IDX4S(GAMMADD12GF,i0,i1,i2)];\n",
    "const REAL gammaDD22 = auxevol_gfs[IDX4S(GAMMADD22GF,i0,i1,i2)];\n",
    "const REAL betaU0 = auxevol_gfs[IDX4S(BETAU0GF,i0,i1,i2)];\n",
    "const REAL betaU1 = auxevol_gfs[IDX4S(BETAU1GF,i0,i1,i2)];\n",
    "const REAL betaU2 = auxevol_gfs[IDX4S(BETAU2GF,i0,i1,i2)];\n",
    "const REAL alpha = auxevol_gfs[IDX4S(ALPHAGF,i0,i1,i2)];\n",
    "const REAL ValenciavU0 = auxevol_gfs[IDX4S(VALENCIAVU0GF,i0,i1,i2)];\n",
    "const REAL ValenciavU1 = auxevol_gfs[IDX4S(VALENCIAVU1GF,i0,i1,i2)];\n",
    "const REAL ValenciavU2 = auxevol_gfs[IDX4S(VALENCIAVU2GF,i0,i1,i2)];\n",
    "const REAL BU0 = auxevol_gfs[IDX4S(BU0GF,i0,i1,i2)];\n",
    "const REAL BU1 = auxevol_gfs[IDX4S(BU1GF,i0,i1,i2)];\n",
    "const REAL BU2 = auxevol_gfs[IDX4S(BU2GF,i0,i1,i2)];\n",
    "\"\"\"\n",
    "\n",
    "def idxp1(dirn):\n",
    "    if dirn==\"0\":\n",
    "        return \"i0+1,i1,i2\"\n",
    "    if dirn==\"1\":\n",
    "        return \"i0,i1+1,i2\"\n",
    "    if dirn==\"2\":\n",
    "        return \"i0,i1,i2+1\"\n",
    "\n",
    "# Next we evaluate needed derivatives of the metric, based on their values at cell faces\n",
    "metric_deriv_access = []\n",
    "for dirn in [\"0\",\"1\",\"2\"]:\n",
    "    metric_deriv_access.append(\"\")\n",
    "    for var in [\"GAMMA_FACEDD00\", \"GAMMA_FACEDD01\", \"GAMMA_FACEDD02\",\n",
    "                \"GAMMA_FACEDD11\", \"GAMMA_FACEDD12\", \"GAMMA_FACEDD22\",\n",
    "                \"BETA_FACEU0\", \"BETA_FACEU1\", \"BETA_FACEU2\",\"ALPHA_FACEGF\"]:\n",
    "        lhsvar = var.lower().replace(\"dd\",\"DD\").replace(\"u\",\"U\").replace(\"_face\",\"\")\n",
    "        # e.g.,\n",
    "        # const REAL gammaDD00dD0 = (auxevol_gfs[IDX4S(GAMMA_FACEDD00GF,i0+1,i1,i2)]-auxevol_gfs[IDX4S(GAMMA_FACEDD00GF,i0,i1,i2)])/dxx0;\n",
    "        metric_deriv_access[dirn] += \"const REAL \"+lhsvar+\"dD\"+dirn+\" = (auxevol_gfs[IDX4S(\"+var+\"GF,\"+idxp1(dirn)+\")]-auxevol_gfs[IDX4S(\"+var+\"GF,i0,i1,i2)])/dxx\"+dirn+\";\\n\"\n",
    "    metric_deriv_access[dirn] += \"REAL Stilde_rhsD\"+dirn+\";\\n\"\n",
    "\n",
    "print(metric_deriv_access[0])\n",
    "\n",
    "write_final_quantity = ixp.zerorank1(DIM=3)\n",
    "write_final_quantity[0] = \"\"\"rhs_gfs[IDX4S(STILDED0GF,i0,i1,i2)] += Stilde_rhsD0;\n",
    "\"\"\"\n",
    "write_final_quantity[1] = \"\"\"rhs_gfs[IDX4S(STILDED1GF,i0,i1,i2)] += Stilde_rhsD1;\n",
    "\"\"\"\n",
    "write_final_quantity[2] = \"\"\"rhs_gfs[IDX4S(STILDED2GF,i0,i1,i2)] += Stilde_rhsD2;\n",
    "\"\"\"\n",
    "\n",
    "# Declare this symbol:\n",
    "sqrt4pi = par.Cparameters(\"REAL\",thismodule,\"sqrt4pi\",\"sqrt(4.0*M_PI)\")\n",
    "\n",
    "def write_out_functions_for_StildeD_source_term(gammaDD)\n",
    "# We need to rerun a few of these functions with the reset lists to make sure these functions\n",
    "# don't cheat by using analytic expressions\n",
    "GRHD.compute_sqrtgammaDET(gammaDD)\n",
    "GRHD.u4U_in_terms_of_ValenciavU__rescale_ValenciavU_by_applying_speed_limit(alpha, betaU, gammaDD, ValenciavU)\n",
    "GRFFE.compute_smallb4U(gammaDD, betaU, alpha, GRHD.u4U_ito_ValenciavU, BU, sqrt4pi)\n",
    "GRFFE.compute_smallbsquared(gammaDD, betaU, alpha, GRFFE.smallb4U)\n",
    "GRFFE.compute_TEM4UU(gammaDD,betaU,alpha, GRFFE.smallb4U, GRFFE.smallbsquared,GRHD.u4U_ito_ValenciavU)\n",
    "GRHD.compute_g4DD_zerotimederiv_dD(gammaDD,betaU,alpha, metricderivDDD,shiftderivUD,lapsederivD)\n",
    "GRHD.compute_S_tilde_source_termD(alpha, GRHD.sqrtgammaDET,GRHD.g4DD_zerotimederiv_dD, GRFFE.TEM4UU)\n",
    "for i in range(3):\n",
    "    desc = \"Adds the source term to StildeD\"+str(i)+\".\"\n",
    "    name = \"calculate_StildeD\"+str(i)+\"_source_term\"\n",
    "    outCfunction(\n",
    "        outfile  = os.path.join(out_dir,subdir,name+\".h\"), desc=desc, name=name,\n",
    "        params   =\"const paramstruct *params,const REAL *auxevol_gfs, REAL *rhs_gfs\",\n",
    "        body     = general_access \\\n",
    "                  +metric_deriv_access[i]\\\n",
    "                  +outputC(GRHD.S_tilde_source_termD[i],\"Stilde_rhsD\"+str(i),\"returnstring\",params=outCparams).replace(\"IDX4\",\"IDX4S\")\\\n",
    "                  +write_final_quantity[i],\n",
    "        loopopts =\"InteriorPoints\",\n",
    "        rel_path_for_Cparams=os.path.join(\"../\"))\n"
   ]
  },
  {
   "cell_type": "markdown",
   "metadata": {},
   "source": [
    "We will now create the structures we need: register the gridfunctions `AD` and `BU`, declare `AD_dD` for $A_{i,j}$ and zero `BU` for $B^i$. Then, we'll build the standard form of `BU` that we will use: $$B^i = \\epsilon^{ijk} A_{k,j}.$$"
   ]
  },
  {
   "cell_type": "markdown",
   "metadata": {},
   "source": [
    "<a id='code_validation'></a>\n",
    "\n",
    "# Step 3: Code Validation against original C code \\[Back to [top](#toc)\\]\n",
    "$$\\label{code_validation}$$\n",
    "\n",
    "To validate the code in this tutorial we check for agreement between the files\n",
    "\n",
    "1. that were written in this tutorial and\n",
    "1. those that are stored in `GiRaFFE_NRPy/GiRaFFE_Ccode_library` or generated by `GiRaFFE_NRPy_A2B.py`\n"
   ]
  },
  {
   "cell_type": "code",
   "execution_count": null,
   "metadata": {
    "scrolled": false
   },
   "outputs": [],
   "source": [
    "gammaDD = ixp.register_gridfunctions_for_single_rank2(\"auxevol\",\"gammaDD\",\"sym01\",DIM=3)\n",
    "# Define the directory that we wish to validate against:\n",
    "valdir = os.path.join(\"GiRaFFE_NRPy/GiRaFFE_Ccode_library/RHSs/\")\n",
    "\n",
    "# import GiRaFFE_NRPy.GiRaFFE_NRPy_A2B as A2B\n",
    "# A2B.GiRaFFE_NRPy_A2B(valdir,gammaDD,AD,BU)\n",
    "\n",
    "# import difflib\n",
    "# import sys\n",
    "\n",
    "# print(\"Printing difference between original C code and this code...\")\n",
    "# # Open the files to compare\n",
    "# file = \"driver_AtoB.h\"\n",
    "\n",
    "# print(\"Checking file \" + file)\n",
    "# with open(os.path.join(valdir,file)) as file1, open(os.path.join(outdir,file)) as file2:\n",
    "#     # Read the lines of each file\n",
    "#     file1_lines = file1.readlines()\n",
    "#     file2_lines = file2.readlines()\n",
    "#     num_diffs = 0\n",
    "#     for line in difflib.unified_diff(file1_lines, file2_lines, fromfile=os.path.join(valdir+file), tofile=os.path.join(outdir+file)):\n",
    "#         sys.stdout.writelines(line)\n",
    "#         num_diffs = num_diffs + 1\n",
    "#     if num_diffs == 0:\n",
    "#         print(\"No difference. TEST PASSED!\")\n",
    "#     else:\n",
    "#         print(\"ERROR: Disagreement found with .py file. See differences above.\")"
   ]
  },
  {
   "cell_type": "markdown",
   "metadata": {},
   "source": [
    "<a id='latex_pdf_output'></a>\n",
    "\n",
    "# Step 4: Output this notebook to $\\LaTeX$-formatted PDF file \\[Back to [top](#toc)\\]\n",
    "$$\\label{latex_pdf_output}$$\n",
    "\n",
    "The following code cell converts this Jupyter notebook into a proper, clickable $\\LaTeX$-formatted PDF file. After the cell is successfully run, the generated PDF may be found in the root NRPy+ tutorial directory, with filename\n",
    "[Tutorial-GiRaFFE_NRPy_C_code_library-A2B](TTutorial-GiRaFFE_NRPy_C_code_library-A2B.pdf) (Note that clicking on this link may not work; you may need to open the PDF file through another means.)"
   ]
  },
  {
   "cell_type": "code",
   "execution_count": null,
   "metadata": {},
   "outputs": [],
   "source": [
    "import cmdline_helper as cmd    # NRPy+: Multi-platform Python command-line interface\n",
    "cmd.output_Jupyter_notebook_to_LaTeXed_PDF(\"Tutorial-GiRaFFE_NRPy-A2B\")"
   ]
  }
 ],
 "metadata": {
  "kernelspec": {
   "display_name": "Python 3",
   "language": "python",
   "name": "python3"
  },
  "language_info": {
   "codemirror_mode": {
    "name": "ipython",
    "version": 3
   },
   "file_extension": ".py",
   "mimetype": "text/x-python",
   "name": "python",
   "nbconvert_exporter": "python",
   "pygments_lexer": "ipython3",
   "version": "3.8.3"
  }
 },
 "nbformat": 4,
 "nbformat_minor": 2
}
