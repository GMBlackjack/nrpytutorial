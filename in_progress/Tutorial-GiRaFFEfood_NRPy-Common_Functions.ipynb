{
 "cells": [
  {
   "cell_type": "markdown",
   "metadata": {},
   "source": [
    "<script async src=\"https://www.googletagmanager.com/gtag/js?id=UA-59152712-8\"></script>\n",
    "<script>\n",
    "  window.dataLayer = window.dataLayer || [];\n",
    "  function gtag(){dataLayer.push(arguments);}\n",
    "  gtag('js', new Date());\n",
    "\n",
    "  gtag('config', 'UA-59152712-8');\n",
    "</script>\n",
    "\n",
    "# Common Functions for `GiRaFFEfood` Initial Data for `GiRaFFE`\n",
    "\n",
    "### NRPy+ Source Code for this module: [GiRaFFEfood_NRPy/GiRaFFEfood_NRPy_Common_Functions.py](../../edit/in_progress/GiRaFFEfood_NRPy/GiRaFFEfood_NRPy_Common_Functions.py)\n",
    "\n",
    "**Notebook Status:** <font color='red'><b> In Progress </b></font>\n",
    "\n",
    "**Validation Notes:** This tutorial notebook has been confirmed to be self-consistent with its corresponding NRPy+ module through the main initial data modules that depend on it.\n",
    "\n",
    "## Introduction: \n",
    "We will need to \"feed\" our giraffe with initial data to evolve. There are several different choices of initial data we can use here; while each represents different physical systems, they all have some steps in common with each other. To avoid code duplication, we will first write several functions that we will use for all of them."
   ]
  },
  {
   "cell_type": "markdown",
   "metadata": {},
   "source": [
    "<a id='toc'></a>\n",
    "\n",
    "# Table of Contents:\n",
    "$$\\label{toc}$$\n",
    "\n",
    "This notebook is organized as follows\n",
    "\n",
    "1. [Step 1](#initializenrpy): Import core NRPy+ modules and set NRPy+ parameters\n",
    "1. [Step 2](#initializenrpy): Compute vector potential from input \n",
    "1. [Step 3](#initializenrpy): Import core NRPy+ modules and set NRPy+ parameters\n",
    "1. [Step 4](#initializenrpy): Import core NRPy+ modules and set NRPy+ parameters\n"
   ]
  },
  {
   "cell_type": "code",
   "execution_count": null,
   "metadata": {},
   "outputs": [],
   "source": []
  },
  {
   "cell_type": "code",
   "execution_count": null,
   "metadata": {},
   "outputs": [],
   "source": [
    "# Step 0: Import the NRPy+ core modules and set the reference metric to Cartesian\n",
    "import NRPy_param_funcs as par\n",
    "import grid as gri               # NRPy+: Functions having to do with numerical grids\n",
    "import indexedexp as ixp\n",
    "import sympy as sp               # SymPy: The Python computer algebra package upon which NRPy+ depends\n",
    "import reference_metric as rfm\n",
    "par.set_parval_from_str(\"reference_metric::CoordSystem\",\"Cartesian\")\n",
    "rfm.reference_metric()\n",
    "\n",
    "# Step 1a: Set commonly used parameters.\n",
    "thismodule = __name__\n"
   ]
  },
  {
   "cell_type": "code",
   "execution_count": null,
   "metadata": {},
   "outputs": [],
   "source": []
  },
  {
   "cell_type": "code",
   "execution_count": null,
   "metadata": {},
   "outputs": [],
   "source": [
    "# Generic function for all 1D tests: Compute Ax,Ay,Az\n",
    "def Axyz_func(Ax_func,Ay_func,Az_func, stagger_enable, **params):\n",
    "    x = rfm.xxCart[0]\n",
    "    y = rfm.xxCart[1]\n",
    "    z = rfm.xxCart[2]\n",
    "    # First Ax\n",
    "    if stagger_enable:\n",
    "        y += sp.Rational(1,2)*gri.dxx[1]\n",
    "        z += sp.Rational(1,2)*gri.dxx[2]\n",
    "    Ax = Ax_func(x,y,z, **params)\n",
    "    # Then Ay\n",
    "    if stagger_enable:\n",
    "        x += sp.Rational(1,2)*gri.dxx[0]\n",
    "        z += sp.Rational(1,2)*gri.dxx[2]\n",
    "    Ay = Ay_func(x,y,z, **params)\n",
    "    # Finally Az\n",
    "    if stagger_enable:\n",
    "        x += sp.Rational(1,2)*gri.dxx[0]\n",
    "        y += sp.Rational(1,2)*gri.dxx[1]\n",
    "    Az = Az_func(x,y,z, **params)\n",
    "\n",
    "    return Ax,Ay,Az"
   ]
  },
  {
   "cell_type": "code",
   "execution_count": null,
   "metadata": {},
   "outputs": [],
   "source": []
  },
  {
   "cell_type": "code",
   "execution_count": null,
   "metadata": {},
   "outputs": [],
   "source": [
    "# Generic function for all 1D tests: Valencia 3-velocity from EU and BU\n",
    "def compute_ValenciavU_from_EU_and_BU(EU, BU, gammaDD=None):\n",
    "    # Now, we calculate v^i = ([ijk] E^j B^k) / B^2,\n",
    "    # where [ijk] is the Levi-Civita symbol and B^2 = \\gamma_{ij} B^i B^j$ is a trivial dot product in flat space.\n",
    "    LeviCivitaSymbolDDD = ixp.LeviCivitaSymbol_dim3_rank3()\n",
    "\n",
    "    B2 = sp.sympify(0)\n",
    "    # In flat spacetime, use the Minkowski metric; otherwise, use the input metric.\n",
    "    if gammaDD==None:\n",
    "        gammaDD = ixp.zerorank2()\n",
    "        for i in range(3):\n",
    "            gammaDD[i][i] = sp.sympify(1)\n",
    "    for i in range(3):\n",
    "        for j in range(3):\n",
    "            B2 += gammaDD[i][j] * BU[i] * BU[j]\n",
    "\n",
    "    ValenciavU = ixp.zerorank1()\n",
    "    for i in range(3):\n",
    "        for j in range(3):\n",
    "            for k in range(3):\n",
    "                ValenciavU[i] += LeviCivitaSymbolDDD[i][j][k] * EU[j] * BU[k] / B2\n",
    "\n",
    "    return ValenciavU"
   ]
  },
  {
   "cell_type": "code",
   "execution_count": null,
   "metadata": {},
   "outputs": [],
   "source": []
  },
  {
   "cell_type": "code",
   "execution_count": null,
   "metadata": {},
   "outputs": [],
   "source": [
    "# def GiRaFFEfood_NRPy_1D_tests(ID_type = \"DegenAlfvenWave\", stagger_enable = False):\n",
    "#     global AD, ValenciaVU\n",
    "#     AD = ixp.zerorank1()\n",
    "#     if ID_type == \"DegenAlfvenWave\":\n",
    "#         mu_DAW = par.Cparameters(\"REAL\",thismodule,[\"mu_DAW\"], -0.5) # The wave speed\n",
    "#         AD = Axyz_func(Ax_DAW, Ay_DAW, Az_DAW, stagger_enable,\n",
    "#                        gammamu=sp.sympify(1)/sp.sqrt(sp.sympify(1)-mu_AW**2))\n",
    "#         ValenciaVU = ValenciavU_DAW(mu_DAW=mu_DAW, gammamu=gammamu)\n",
    "#     elif ID_type == \"FastWave\":\n",
    "#         AD = Axyz_func(Ax_FW, Ay_FW, Az_FW, stagger_enable)\n",
    "#         ValenciaVU = ValenciavU_FW()"
   ]
  }
 ],
 "metadata": {
  "kernelspec": {
   "display_name": "Python 3",
   "language": "python",
   "name": "python3"
  },
  "language_info": {
   "codemirror_mode": {
    "name": "ipython",
    "version": 3
   },
   "file_extension": ".py",
   "mimetype": "text/x-python",
   "name": "python",
   "nbconvert_exporter": "python",
   "pygments_lexer": "ipython3",
   "version": "3.8.5"
  }
 },
 "nbformat": 4,
 "nbformat_minor": 4
}
