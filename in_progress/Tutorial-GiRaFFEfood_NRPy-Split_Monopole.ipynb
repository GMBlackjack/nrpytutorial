{
 "cells": [
  {
   "cell_type": "markdown",
   "metadata": {},
   "source": [
    "<script async src=\"https://www.googletagmanager.com/gtag/js?id=UA-59152712-8\"></script>\n",
    "<script>\n",
    "  window.dataLayer = window.dataLayer || [];\n",
    "  function gtag(){dataLayer.push(arguments);}\n",
    "  gtag('js', new Date());\n",
    "\n",
    "  gtag('config', 'UA-59152712-8');\n",
    "</script>\n",
    "\n",
    "# Split Monopole `GiRaFFEfood` Initial Data for `GiRaFFE`\n",
    "\n",
    "## Author: Patrick Nelson\n",
    "\n",
    "### NRPy+ Source Code for this module: [GiRaFFEfood_NRPy/GiRaFFEfood_NRPy_Split_Monopole.py](../../edit/in_progress/GiRaFFEfood_NRPy/GiRaFFEfood_NRPy_Split_Monopole.py)\n",
    "\n",
    "**Notebook Status:** <font color='green'><b> In-Progress </b></font>\n",
    "\n",
    "**Validation Notes:** This tutorial notebook has been confirmed to be self-consistent with its corresponding NRPy+ module, as documented [below](#code_validation1). The initial data has validated against the original `GiRaFFE`, as documented [here](Tutorial-Start_to_Finish_UnitTest-GiRaFFEfood_NRPy.ipynb).\n",
    "\n",
    "## Introduction: \n",
    "We need to \"feed\" our giraffe with initial data to evolve. There are several different choices of initial data we can use here; here, we will only be implementing the \"Split Monopole\" initial data, given by Table 3 in [the original paper](https://arxiv.org/pdf/1704.00599.pdf). The vector potential is\n",
    "\\begin{align}\n",
    "A_r &= -\\frac{aC}{8}\\cos\\theta \\left( 1 + \\frac{4M}{r} \\right), \\\\\n",
    "A_\\theta &= 0, \\\\\n",
    "A_\\phi &= M^2 C [1-\\cos \\theta + a^2 f(r) \\cos \\theta \\sin^2 \\theta],\n",
    "\\end{align}\n",
    "and the electric field is\n",
    "\\begin{align}\n",
    "E_r &= -\\frac{C a^3}{8\\alpha M^3} f'(r) \\cos \\theta \\sin^2 \\theta \\\\\n",
    "E_\\theta &= -\\frac{Ca}{8\\alpha}[\\sin \\theta + a^2 f(r) \\sin \\theta (2 \\cos^2 \\theta-\\sin^2 \\theta) ] - \\beta^r \\sqrt{\\gamma} \\frac{a C}{8 r^2}\\left( 1+\\frac{4M}{r}\\right) \\\\\n",
    "E_\\phi &= \\frac{\\beta^r}{\\alpha M} Ca^2 f'(r) \\cos \\theta \\sin^2 \\theta,\n",
    "\\end{align}\n",
    "where\n",
    "\\begin{align}\n",
    "f(r) =& \\ \\frac{r^2(2r-3M)}{8M^3} L \\left(\\frac{2M}{r}\\right) \\\\\n",
    "&+ \\frac{M^2+3Mr-6r^2}{12M^2} \\ln \\frac{r}{2M} \\\\\n",
    "&+ \\frac{11}{72} + \\frac{M}{3r} + \\frac{r}{2M} - \\frac{r^2}{M^2}, \\\\\n",
    "L(x) =& \\ {\\rm Li}(x) + \\frac{1}{2} \\ln x \\ln (1-x).\n",
    "\\end{align}\n",
    "The function $L(x)$ is known as the dilogarithm function, and \n",
    "$$ {\\rm Li}(x) = -\\int_{0}^{1} \\frac{\\ln(1-tx)}{t} dt = \\sum_{k=1}^{\\infty} \\frac{x^k}{k^2}. $$\n",
    "Now, to use this initial data scheme, we need to transform the above into the quantities actually tracked by `GiRaFFE` and HydroBase: $A_i$, $B^i$, $\\tilde{S}_i$, $v^i$, and $\\Phi$. Of these quantities, `GiRaFFEfood` will only set $A_i$, $v^i$, and $\\Phi=0$, then call a separate function to calculate  $\\tilde{S}_i$; `GiRaFFE` itself will call a function to set $B^i$ before the time-evolution begins. This can be done with eqs. 16 and 18, here given in that same order:\n",
    "\\begin{align}\n",
    "v^i &= \\alpha \\frac{\\epsilon^{ijk} E_j B_k}{B^2} -\\beta^i \\\\\n",
    "B^i &= \\frac{[ijk]}{\\sqrt{\\gamma}} \\partial_j A_k \\\\\n",
    "\\end{align}\n",
    "In the simulations, $B^i$ will be calculated numerically from $A_i$; however, it will be useful to analytically calculate $B^i$ to use calculating the initial $v^i$.\n",
    "\n",
    "This module requires the use of the NRPy+ [Shifted Kerr-Schild initial data module](../Tutorial-ADM_Initial_Data-ShiftedKerrSchild.ipynb)"
   ]
  },
  {
   "cell_type": "code",
   "execution_count": null,
   "metadata": {},
   "outputs": [],
   "source": []
  },
  {
   "cell_type": "code",
   "execution_count": null,
   "metadata": {},
   "outputs": [],
   "source": [
    "def Ar_SM(x,y,z, **params):\n"
   ]
  },
  {
   "cell_type": "code",
   "execution_count": null,
   "metadata": {},
   "outputs": [],
   "source": [
    "def Ath_SM(x,y,z, **params):\n"
   ]
  },
  {
   "cell_type": "code",
   "execution_count": null,
   "metadata": {},
   "outputs": [],
   "source": [
    "def Aph_SM(x,y,z, **params):\n"
   ]
  },
  {
   "cell_type": "code",
   "execution_count": null,
   "metadata": {},
   "outputs": [],
   "source": [
    "def ValenciavU_SM(**params):\n"
   ]
  }
 ],
 "metadata": {
  "kernelspec": {
   "display_name": "Python 3",
   "language": "python",
   "name": "python3"
  },
  "language_info": {
   "codemirror_mode": {
    "name": "ipython",
    "version": 3
   },
   "file_extension": ".py",
   "mimetype": "text/x-python",
   "name": "python",
   "nbconvert_exporter": "python",
   "pygments_lexer": "ipython3",
   "version": "3.8.5"
  }
 },
 "nbformat": 4,
 "nbformat_minor": 4
}
