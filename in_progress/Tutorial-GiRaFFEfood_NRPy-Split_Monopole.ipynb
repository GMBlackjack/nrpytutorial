{
 "cells": [
  {
   "cell_type": "markdown",
   "metadata": {},
   "source": [
    "<script async src=\"https://www.googletagmanager.com/gtag/js?id=UA-59152712-8\"></script>\n",
    "<script>\n",
    "  window.dataLayer = window.dataLayer || [];\n",
    "  function gtag(){dataLayer.push(arguments);}\n",
    "  gtag('js', new Date());\n",
    "\n",
    "  gtag('config', 'UA-59152712-8');\n",
    "</script>\n",
    "\n",
    "# Split Monopole `GiRaFFEfood` Initial Data for `GiRaFFE`\n",
    "\n",
    "## Author: Patrick Nelson\n",
    "\n",
    "### NRPy+ Source Code for this module: [GiRaFFEfood_NRPy/GiRaFFEfood_NRPy_Split_Monopole.py](../../edit/in_progress/GiRaFFEfood_NRPy/GiRaFFEfood_NRPy_Split_Monopole.py)\n",
    "\n",
    "**Notebook Status:** <font color='green'><b> In-Progress </b></font>\n",
    "\n",
    "**Validation Notes:** This tutorial notebook has been confirmed to be self-consistent with its corresponding NRPy+ module, as documented [below](#code_validation1). The initial data has validated against the original `GiRaFFE`, as documented [here](Tutorial-Start_to_Finish_UnitTest-GiRaFFEfood_NRPy.ipynb).\n",
    "\n",
    "## Introduction: \n",
    "We need to \"feed\" our giraffe with initial data to evolve. There are several different choices of initial data we can use here; here, we will only be implementing the \"Split Monopole\" initial data, given by Table 3 in [the original paper](https://arxiv.org/pdf/1704.00599.pdf). The vector potential is\n",
    "\\begin{align}\n",
    "A_r &= -\\frac{aC}{8}\\cos\\theta \\left( 1 + \\frac{4M}{r} \\right), \\\\\n",
    "A_\\theta &= 0, \\\\\n",
    "A_\\phi &= M^2 C [1-\\cos \\theta + a^2 f(r) \\cos \\theta \\sin^2 \\theta],\n",
    "\\end{align}\n",
    "and the electric field is\n",
    "\\begin{align}\n",
    "E_r &= -\\frac{C a^3}{8\\alpha M^3} f'(r) \\cos \\theta \\sin^2 \\theta \\\\\n",
    "E_\\theta &= -\\frac{Ca}{8\\alpha}[\\sin \\theta + a^2 f(r) \\sin \\theta (2 \\cos^2 \\theta-\\sin^2 \\theta) ] - \\beta^r \\sqrt{\\gamma} \\frac{a C}{8 r^2}\\left( 1+\\frac{4M}{r}\\right) \\\\\n",
    "E_\\phi &= \\frac{\\beta^r}{\\alpha M} Ca^2 f'(r) \\cos \\theta \\sin^2 \\theta,\n",
    "\\end{align}\n",
    "where\n",
    "\\begin{align}\n",
    "f(r) =& \\ \\frac{r^2(2r-3M)}{8M^3} L \\left(\\frac{2M}{r}\\right) \\\\\n",
    "&+ \\frac{M^2+3Mr-6r^2}{12M^2} \\ln \\frac{r}{2M} \\\\\n",
    "&+ \\frac{11}{72} + \\frac{M}{3r} + \\frac{r}{2M} - \\frac{r^2}{M^2}, \\\\\n",
    "L(x) =& \\ {\\rm Li}_2(x) + \\frac{1}{2} \\ln x \\ln (1-x).\n",
    "\\end{align}\n",
    "The function $L(x)$ is known as the dilogarithm function, and \n",
    "$$ {\\rm Li}_2(x) = -\\int_{0}^{1} \\frac{\\ln(1-tx)}{t} dt = \\sum_{k=1}^{\\infty} \\frac{x^k}{k^2}. $$\n",
    "Now, to use this initial data scheme, we need to transform the above into the quantities actually tracked by `GiRaFFE` and HydroBase: $A_i$, $B^i$, $\\tilde{S}_i$, $v^i$, and $\\Phi$. Of these quantities, `GiRaFFEfood` will only set $A_i$, $v^i$, and $\\Phi=0$, then call a separate function to calculate  $\\tilde{S}_i$; `GiRaFFE` itself will call a function to set $B^i$ before the time-evolution begins. This can be done with eqs. 16 and 18, here given in that same order:\n",
    "\\begin{align}\n",
    "v^i &= \\alpha \\frac{\\epsilon^{ijk} E_j B_k}{B^2} -\\beta^i \\\\\n",
    "B^i &= \\frac{[ijk]}{\\sqrt{\\gamma}} \\partial_j A_k \\\\\n",
    "\\end{align}\n",
    "In the simulations, $B^i$ will be calculated numerically from $A_i$; however, it will be useful to analytically calculate $B^i$ to use calculating the initial $v^i$.\n",
    "\n",
    "This module requires the use of the NRPy+ [Shifted Kerr-Schild initial data module](../Tutorial-ADM_Initial_Data-ShiftedKerrSchild.ipynb)"
   ]
  },
  {
   "cell_type": "code",
   "execution_count": null,
   "metadata": {},
   "outputs": [],
   "source": [
    "# Step 0: Import the NRPy+ core modules and set the reference metric to Cartesian\n",
    "import NRPy_param_funcs as par   # NRPy+: Parameter interface\n",
    "import indexedexp as ixp         # NRPy+: Symbolic indexed expression (e.g., tensors, vectors, etc.) support\n",
    "import sympy as sp               # SymPy: The Python computer algebra package upon which NRPy+ depends\n",
    "# Step 1a: Set commonly used parameters.\n",
    "thismodule = __name__\n"
   ]
  },
  {
   "cell_type": "markdown",
   "metadata": {},
   "source": [
    "\\begin{align}\n",
    "f(r) =& \\ \\frac{r^2(2r-3M)}{8M^3} L \\left(\\frac{2M}{r}\\right) \\\\\n",
    "&+ \\frac{M^2+3Mr-6r^2}{12M^2} \\ln \\frac{r}{2M} \\\\\n",
    "&+ \\frac{11}{72} + \\frac{M}{3r} + \\frac{r}{2M} - \\frac{r^2}{M^2}, \\\\\n",
    "\\end{align}\n",
    "where $L(x) = {\\rm Li}_2 (x) + \\frac{1}{2} \\ln x \\ln (1-x)$ and ${\\rm Li}_2 (x)$ is known as the dilogarithm function. We will use the C library `gsl` to handle this special function. In order to do so, we must tell NRPy+ that `nrpyDilog` will be our code word that means \"use the `gsl` dilogarithm function, `gsl_sf_dilog`\". This is done by simply creating a new sympy function using `Function()` and then adding the name-value pair to the dictionary `custom_functions_for_SymPy_ccode`."
   ]
  },
  {
   "cell_type": "code",
   "execution_count": null,
   "metadata": {},
   "outputs": [],
   "source": [
    "nrpyDilog = sp.Function('nrpyDilog')\n",
    "from outputC import custom_functions_for_SymPy_ccode\n",
    "custom_functions_for_SymPy_ccode[\"nrpyDilog\"] = [\"gsl_sf_dilog\"]\n",
    "\n",
    "def f_of_r(r,M):\n",
    "    x = sp.sympify(2)*M/4\n",
    "    L = nrpyDilog(x) + sp.Rational(1,2)*sp.log(x)*sp.log(sp.sympify(1)-x)\n",
    "    f = r*r*(sp.sympify(2)*r-sp.sympify(3)*M)*sp.Rational(1,8)/(M**3)*L\\\n",
    "       +(M*M+sp.sympify(3)*M*r-sp.sympify(6)*r*r)*sp.Rational(1,12)/(M*M)*sp.log(r*sp.Rational(1,2)/M)\\\n",
    "       +sp.Rational(11,72) + M*sp.Rational(1,3)/r + r*sp.Rational(1,2)/M - r*r/(M*M)"
   ]
  },
  {
   "cell_type": "markdown",
   "metadata": {},
   "source": [
    "We will also need the derivative of $f(r)$:\n",
    "\\begin{align}\n",
    "f'(r) =& \\ \\frac{2r(2r-3M)+2r^2}{8M^3} L \\left(\\frac{2M}{r}\\right) + \\frac{r^2(2r-3M)}{8M^3} L' \\left(\\frac{2M}{r}\\right) \\left( -\\frac{2M}{r^2} \\right) \\\\\n",
    "&+ \\frac{3M-12r}{12M^2} \\ln \\frac{r}{2M} + \\frac{M^2+3Mr-6r^2}{12M^2} \\frac{2M}{r} (2M) \\\\\n",
    "&- \\frac{M}{3r^2} + \\frac{1}{2M} - \\frac{2r}{M^2}. \\\\\n",
    "\\end{align}\n",
    "\n",
    "Because $$\\frac{\\partial {\\rm Li}_2 (x)}{\\partial x} = \\frac{{\\rm Li}_1 (x)}{x} = \\frac{-\\ln (1-x)}{x},$$\n",
    "we know that \n",
    "\\begin{align}\n",
    "L'(x) &= \\frac{-\\ln (1-x)}{x} + \\frac{\\ln (1-x)}{2x} - \\frac{\\ln (x)}{2-2x} \\\\\n",
    "      &= -\\frac{1}{2} \\left( \\frac{\\ln (1-x)}{x} + \\frac{\\ln(x)}{1-x} \\right). \n",
    "\\end{align}\n",
    "We simplify this some.\n",
    "\\begin{align}\n",
    "f'(r) =& \\ \\frac{6r^2-3M}{8M^3} L \\left(\\frac{2M}{r}\\right) - \\frac{2r-3M}{4M^2} L' \\left(\\frac{2M}{r}\\right)\\\\\n",
    "&+ \\frac{3M-12r}{12M^2} \\ln \\frac{r}{2M} + \\frac{M^2+3Mr-6r^2}{3r} \\\\\n",
    "&- \\frac{M}{3r^2} + \\frac{1}{2M} - \\frac{2r}{M^2}. \\\\\n",
    "\\end{align}\n"
   ]
  },
  {
   "cell_type": "code",
   "execution_count": null,
   "metadata": {},
   "outputs": [],
   "source": [
    "def fp_of_r(x,M):\n",
    "    x  = sp.sympify(2)*M/4\n",
    "    L  = nrpyDilog(x) + sp.Rational(1,2)*sp.log(x)*sp.log(sp.sympify(1)-x)\n",
    "    Lp = -sp.Rational(1,2) * (sp.log(sp.sympify(1)-x)/x + sp.log(x)/(sp.sympify(1)-x))\n",
    "    f  = (sp.sympify(6)*r*r-sp.sympify(3)*M)*sp.Rational(1,8)/(M**3) + (sp.sympify(2)*r-sp.sympify(3)*M)*sp.Rational(1,4)/(M*M)*Lp\\\n",
    "        +(sp.sympify(3)*M-12*r)*sp.Rational(1,12)/(M*M)*sp.log(r*sp.Rational(1,2)/M) + (M*M+sp.sympify(3)*M*r-sp.sympify(6)*r*r)*sp.Rational(1,3)/r\\\n",
    "        -M*sp.Rational(1,3)/(r*r) + *sp.Rational(1,2)/M - 2*r/(M*M)"
   ]
  },
  {
   "cell_type": "markdown",
   "metadata": {},
   "source": [
    "\\begin{align}\n",
    "A_r &= -\\frac{aC}{8}\\cos\\theta \\left( 1 + \\frac{4M}{r} \\right), \\\\\n",
    "\\end{align}\n"
   ]
  },
  {
   "cell_type": "code",
   "execution_count": null,
   "metadata": {},
   "outputs": [],
   "source": [
    "def Ar_SM(r,theta,phi, **params):\n",
    "    C = params[\"C\"]\n",
    "    M = params[\"M\"]\n",
    "    return -a*C*sp.Rational(1,8)*sp.cos(theta)*(sp.sympify(1)+sp.sympify(4)*M/r)"
   ]
  },
  {
   "cell_type": "markdown",
   "metadata": {},
   "source": [
    "\\begin{align}\n",
    "A_\\theta &= 0, \\\\\n",
    "\\end{align}\n"
   ]
  },
  {
   "cell_type": "code",
   "execution_count": null,
   "metadata": {},
   "outputs": [],
   "source": [
    "def Ath_SM(r,theta,phi, **params):\n",
    "    return sp.sympify(0)"
   ]
  },
  {
   "cell_type": "markdown",
   "metadata": {},
   "source": [
    "\\begin{align}\n",
    "A_\\phi &= M^2 C [1-\\cos \\theta + a^2 f(r) \\cos \\theta \\sin^2 \\theta],\n",
    "\\end{align}\n"
   ]
  },
  {
   "cell_type": "code",
   "execution_count": null,
   "metadata": {},
   "outputs": [],
   "source": [
    "def Aph_SM(r,theta,phi, **params):\n",
    "    C = params[\"C\"]\n",
    "    M = params[\"M\"]\n",
    "    a = params[\"a\"]\n",
    "    return M*M*C*(2-sp.cos(theta)+a*a*f_of_r(r,M)*sp.cos(theta)*sp.sin(theta)**2)"
   ]
  },
  {
   "cell_type": "markdown",
   "metadata": {},
   "source": [
    "\\begin{align}\n",
    "B^r &= \\frac{C \\alpha M^2}{r^2} + \\frac{C \\alpha a^2 M^2}{2r^4} \\left[ -2\\cos \\theta + \\left(\\frac{r}{M}\\right)^2 (1+3 \\cos 2\\theta) f(r) \\right], \\\\                                                                                  \n",
    "B^\\theta &= - \\frac{C \\alpha a^2}{r^2} \\sin \\theta \\cos \\theta f'(r), \\\\              \n",
    "B^\\phi &= -\\frac{C \\alpha a M}{8r^2} \\left( 1 + \\frac{4M}{r}\\right) .\n",
    "\\end{align}\n",
    "\n",
    "\\begin{align}\n",
    "E_r &= -\\frac{C a^3}{8\\alpha M^3} f'(r) \\cos \\theta \\sin^2 \\theta \\\\\n",
    "E_\\theta &= -\\frac{Ca}{8\\alpha}[\\sin \\theta + a^2 f(r) \\sin \\theta (2 \\cos^2 \\theta-\\sin^2 \\theta) ] - \\beta^r \\sqrt{\\gamma} \\frac{a C}{8 r^2}\\left( 1+\\frac{4M}{r}\\right) \\\\\n",
    "E_\\phi &= \\frac{\\beta^r}{\\alpha M} Ca^2 f'(r) \\cos \\theta \\sin^2 \\theta,\n",
    "\\end{align}\n"
   ]
  },
  {
   "cell_type": "code",
   "execution_count": null,
   "metadata": {},
   "outputs": [],
   "source": [
    "def ValenciavU_SM(r,theta,phi, **params):\n",
    "    C = params[\"C\"]\n",
    "    M = params[\"M\"]\n",
    "    a = params[\"a\"]\n",
    "    alpha = params[\"alpha\"]\n",
    "    betaU = params[\"betaU\"] # Note that this must use a spherical basis!\n",
    "    sqrtgammaDET = params[\"sqrtgammaDET\"]\n",
    "\n",
    "    global BsphU\n",
    "    BsphU = ixp.zerorank1()\n",
    "    BsphU[0] = C*alpha*M*M/(r*r) + \\\n",
    "               C*alpha*a*a*M*M*sp.Rational(1,2)/(r**4)*(-sp.sympify(2)*sp.cos(theta) + (r/M)**2*(sp.sympify(1)*sp.sympify(3)*sp.cos(sp.sympify(2)*theta))*f_of_r(r,M))\n",
    "    BsphU[1] = -C*alpha*a*a/(r*r) * sp.sin(theta)*sp.cos(theta)*fp_of_r(r,M)\n",
    "    BsphU[2] = -C*alpha*a*M*sp.Rational(1,8)/(r*r)*(sp.sympify(1)+sp.sympify(4)*M/r)\n",
    "\n",
    "    EsphU = ixp.zerorank1()\n",
    "    EsphU[0] = -C*a**3/(sp.sympify(8)*alpha*M**3)*fp_of_r(r,M)*sp.cos(theta)*sp.sin(theta)**2\n",
    "    EsphU[1] = -C*a*sp.Rational(1,8)/alpha*(sp.sin(theta) + a*a*f_of_r(r,M)*sp.sin(theta)*(sp.sympify(2)*sp.cos(theta)**2-sp.sin(theta)**2)) - \\\n",
    "               betaU[0]*sqrtgammaDET*a*C*sp.Rational(1,8)/(r*r)*(sp.sympify(1)+sp.sympify(4)*M/r)\n",
    "    EsphU[2] = betaU[0]/(alpha*M)*C*a*a*fp_of_r(r,M)*sp.cos(theta)*sp.sin(theta)**2\n",
    "\n",
    "    EU = change_basis_spherical_to_Cartesian(EsphU)\n",
    "    BU = change_basis_spherical_to_Cartesian(BsphU)\n",
    "\n",
    "    return compute_ValenciavU_from_EU_and_BU(EU, BU)"
   ]
  }
 ],
 "metadata": {
  "kernelspec": {
   "display_name": "Python 3",
   "language": "python",
   "name": "python3"
  },
  "language_info": {
   "codemirror_mode": {
    "name": "ipython",
    "version": 3
   },
   "file_extension": ".py",
   "mimetype": "text/x-python",
   "name": "python",
   "nbconvert_exporter": "python",
   "pygments_lexer": "ipython3",
   "version": "3.8.5"
  }
 },
 "nbformat": 4,
 "nbformat_minor": 4
}
