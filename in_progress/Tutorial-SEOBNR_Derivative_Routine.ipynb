{
 "cells": [
  {
   "cell_type": "markdown",
   "metadata": {},
   "source": [
    "# Symbolic Partial Derivative Routine\n",
    "\n",
    "## Authors: Zach Etienne & Tyler Knowles\n",
    "\n",
    "## This module contains a routine for computing an analytic partial derivative of a mathematical expression.\n",
    "\n",
    "**Notebook Status:** <font color='red'><b> In progress </b></font>\n",
    "\n",
    "**Validation Notes:** The module has been validated by comparing results to finite-difference derivative values in LALSuite.  <font color='red'><b> Add more info later </b></font>\n",
    "\n",
    "<a id='intro'></a>\n",
    "\n",
    "## Introduction\n",
    "$$\\label{intro}$$\n",
    "\n",
    "Motivated by Mathematica being unable to generate readable partial derivatives of the SEOBNRv3 Hamiltonian, we wrote our own partial derivatve routine."
   ]
  },
  {
   "cell_type": "code",
   "execution_count": 1,
   "metadata": {},
   "outputs": [],
   "source": [
    "# Partial derivative routine\n",
    "# Import necessary modules\n",
    "\n",
    "import os,sys                    # Standard Python modules for multiplatform OS-level functions\n",
    "nrpy_dir_path = os.path.join(\"..\")\n",
    "if nrpy_dir_path not in sys.path:\n",
    "    sys.path.append(nrpy_dir_path)\n",
    "\n",
    "from outputC import * #Check what is imported and remove *\n",
    "import sympy as sp\n",
    "\n",
    "bigstring = \"\"\"\n",
    "sigmaKerr0 = s1x + s2x\n",
    "sigmaKerr1 = s1y + s2y\n",
    "sigmaKerr2 = s1z + s2z\n",
    "s1dots1 = s1x*s1x + s1y*s1y + s1z*s1z\n",
    "s2dots2 = s2x*s2x + s2y*s2y + s2z*s2z\n",
    "r2 = x*x + y*y + z*z\n",
    "r = sp.sqrt(r2)\n",
    "u = 1/r\n",
    "tmppx = px - r\n",
    "tmppy = py - r\n",
    "tmppz = pz - r\n",
    "\"\"\""
   ]
  },
  {
   "cell_type": "markdown",
   "metadata": {},
   "source": [
    "<a id='toc'></a>\n",
    "\n",
    "# Table of Contents\n",
    "$$\\label{toc}$$\n",
    "\n",
    "This notebook is organized as follows\n",
    "\n",
    "1. [Step 1:](#step1) Split left- and right-hand sides of expressions\n",
    "1. [Step 2:](#step2)"
   ]
  },
  {
   "cell_type": "markdown",
   "metadata": {},
   "source": [
    "<a id='step1'></a>\n",
    "\n",
    "# Step 1: Split lift- and right-hand sides of expressions \\[Back to [top](#toc)\\]\n",
    "$$\\label{step1}$$\n",
    "\n",
    "We take the input string and split it first by line, then by \"=\".  Doing so "
   ]
  },
  {
   "cell_type": "code",
   "execution_count": 2,
   "metadata": {},
   "outputs": [],
   "source": [
    "# Split bigstring by carriage returns:\n",
    "string_lines = bigstring.splitlines()\n",
    "\n",
    "# Create \"lr\" array, which will store each left-hand side and right-hand side as strings.\n",
    "lr = []\n",
    "# Loop over each line in bigstring\n",
    "for i in range(len(string_lines)):\n",
    "    # Ignore lines with 2 or fewer characters and those starting with #\n",
    "    if len(string_lines[i]) > 2 and string_lines[i][0] != \"#\":\n",
    "        # Split each line by its equals sign.\n",
    "        splitblah = blah[i].split(\"=\")\n",
    "        # Append to the \"lr\" array, removing spaces, \"sp.\" prefixes, and replacing Lambda->Lamb\n",
    "        #       (Lambda is a protected keyword):\n",
    "        #lhs =\n",
    "        lr.append(lhrh(lhs=splitblah[0].replace(\" \",\"\").replace(\"Lambda\",\"Lamb\"),\n",
    "                       rhs=splitblah[1].replace(\" \",\"\").replace(\"sp.\",\"\").replace(\"Lambda\",\"Lamb\")))"
   ]
  },
  {
   "cell_type": "markdown",
   "metadata": {},
   "source": [
    "<a id='step2'></a>\n",
    "\n",
    "# Step 2: Insert title \\[Back to [top](#toc)\\]\n",
    "$$\\label{step2}$$\n",
    "\n",
    "Insert description"
   ]
  },
  {
   "cell_type": "code",
   "execution_count": 3,
   "metadata": {},
   "outputs": [],
   "source": [
    "xx = sp.Symbol('xx')\n",
    "func = []\n",
    "lhss = []\n",
    "rhss = []\n",
    "for i in range(len(lr)):\n",
    "    func.append(sp.sympify(sp.Function(lr[i].lhs)(xx)))\n",
    "#     print(i,lr[i].rhs)\n",
    "    lhss.append(sp.sympify(lr[i].lhs))\n",
    "    rhss.append(sp.sympify(lr[i].rhs))\n",
    "\n",
    "# Next get a list of all the \"free symbols\" in the RHS expressions.\n",
    "full_symbol_list_with_dups = []\n",
    "for i in range(len(lr)):\n",
    "    for var in rhss[i].free_symbols:\n",
    "        full_symbol_list_with_dups.append(var)\n",
    "\n",
    "full_symbol_list = superfast_uniq(full_symbol_list_with_dups)"
   ]
  },
  {
   "cell_type": "markdown",
   "metadata": {},
   "source": [
    "<a id='stepn'></a>\n",
    "\n",
    "# Step n: Insert title \\[Back to [top](#toc)\\]\n",
    "$$\\label{stepn}$$\n",
    "\n",
    "Insert description"
   ]
  },
  {
   "cell_type": "code",
   "execution_count": 4,
   "metadata": {},
   "outputs": [],
   "source": [
    "# Next declare input constants:\n",
    "m1,m2,eta = sp.symbols(\"m1 m2 eta\",real=True)\n",
    "c0k2,c1k2,c0k3,c1k3,c0k4,c1k4,c2k4,c0k5,c1k5,c2k5 = sp.symbols(\"c0k2 c1k2 c0k3 c1k3 c0k4 c1k4 c2k4 c0k5 c1k5 c2k5\",real=True)\n",
    "KK,k5l,b3,bb3,d1,d1v2,dheffSS,dheffSSv2 = sp.symbols(\"KK k5l b3 bb3 d1 d1v2 dheffSS dheffSSv2\",real=True)\n",
    "tortoise,copysignresult = sp.symbols(\"tortoise copysignresult\",real=True)\n",
    "input_constants = [m1,m2,eta,\n",
    "                   c0k2,c1k2,c0k3,c1k3,c0k4,c1k4,c2k4,c0k5,c1k5,c2k5,\n",
    "                   KK,k5l,b3,bb3,d1,d1v2,dheffSS,dheffSSv2,\n",
    "                   tortoise,copysignresult]"
   ]
  },
  {
   "cell_type": "markdown",
   "metadata": {},
   "source": [
    "<a id='stepn'></a>\n",
    "\n",
    "# Step n: Insert title \\[Back to [top](#toc)\\]\n",
    "$$\\label{stepn}$$\n",
    "\n",
    "Insert description"
   ]
  },
  {
   "cell_type": "code",
   "execution_count": 5,
   "metadata": {},
   "outputs": [],
   "source": [
    "# Derivatives of input constants will always be zero, so\n",
    "# print(full_symbol_list)\n",
    "for inputconst in input_constants:\n",
    "    for symbol in full_symbol_list:\n",
    "        if str(symbol) == str(inputconst):\n",
    "            full_symbol_list.remove(symbol)\n",
    "\n",
    "full_function_list = []\n",
    "for symb in full_symbol_list:\n",
    "    func = sp.sympify(sp.Function(str(symb))(xx))\n",
    "    full_function_list.append(func)\n",
    "    for i in range(len(rhss)):\n",
    "        for var in rhss[i].free_symbols:\n",
    "            if str(var) == str(symb):\n",
    "                rhss[i] = rhss[i].subs(var,func)\n",
    "\n",
    "lhss_deriv = []\n",
    "rhss_deriv = []\n",
    "for i in range(len(rhss)):\n",
    "    lhss_deriv.append(sp.sympify(str(lhss[i])+\"prm\"))\n",
    "    newrhs = sp.sympify(str(sp.diff(rhss[i],xx)).replace(\"(xx)\",\"\").replace(\", xx\",\"prm\").replace(\"Derivative\",\"\"))\n",
    "    rhss_deriv.append(newrhs)\n",
    "    #     rhss_deriv.append(sp.diff(rhss[i],xx))"
   ]
  },
  {
   "cell_type": "markdown",
   "metadata": {},
   "source": [
    "<a id='stepn'></a>\n",
    "\n",
    "# Step n: Insert title \\[Back to [top](#toc)\\]\n",
    "$$\\label{stepn}$$\n",
    "\n",
    "Insert description"
   ]
  },
  {
   "cell_type": "code",
   "execution_count": 6,
   "metadata": {},
   "outputs": [],
   "source": [
    "def simplify_deriv(lhss_deriv,rhss_deriv):\n",
    "    lhss_deriv_simp = []\n",
    "    rhss_deriv_simp = []\n",
    "    for i in range(len(rhss_deriv)):\n",
    "        lhss_deriv_simp.append(lhss_deriv[i])\n",
    "        rhss_deriv_simp.append(rhss_deriv[i])\n",
    "    for i in range(len(rhss_deriv_simp)):\n",
    "        if rhss_deriv_simp[i] == 0:\n",
    "            for j in range(i+1,len(rhss_deriv_simp)):\n",
    "                for var in rhss_deriv_simp[j].free_symbols:\n",
    "                    if str(var) == str(lhss_deriv_simp[i]):\n",
    "                        rhss_deriv_simp[j] = rhss_deriv_simp[j].subs(var,0)\n",
    "    zero_elements_to_remove = []\n",
    "    for i in range(len(rhss_deriv_simp)):\n",
    "        if rhss_deriv_simp[i] == sp.sympify(0):\n",
    "            zero_elements_to_remove.append(i)\n",
    "    count = 0\n",
    "    for i in range(len(zero_elements_to_remove)):\n",
    "        del lhss_deriv_simp[zero_elements_to_remove[i]+count]\n",
    "        del rhss_deriv_simp[zero_elements_to_remove[i]+count]\n",
    "        count -= 1\n",
    "    return lhss_deriv_simp,rhss_deriv_simp"
   ]
  },
  {
   "cell_type": "markdown",
   "metadata": {},
   "source": [
    "<a id='stepn'></a>\n",
    "\n",
    "# Step n: Insert title \\[Back to [top](#toc)\\]\n",
    "$$\\label{stepn}$$\n",
    "\n",
    "Insert description"
   ]
  },
  {
   "cell_type": "code",
   "execution_count": 7,
   "metadata": {},
   "outputs": [],
   "source": [
    "lhss_deriv_simp,rhss_deriv_simp = simplify_deriv(lhss_deriv,rhss_deriv)\n",
    "lhss_deriv = lhss_deriv_simp\n",
    "rhss_deriv = rhss_deriv_simp"
   ]
  },
  {
   "cell_type": "markdown",
   "metadata": {},
   "source": [
    "<a id='stepn'></a>\n",
    "\n",
    "# Step n: Insert title \\[Back to [top](#toc)\\]\n",
    "$$\\label{stepn}$$\n",
    "\n",
    "Insert description"
   ]
  },
  {
   "cell_type": "code",
   "execution_count": 8,
   "metadata": {},
   "outputs": [],
   "source": [
    "def deriv_onevar(lhss_deriv,rhss_deriv,\n",
    "                 xprm=0,yprm=0,zprm=0,pxprm=0,pyprm=0,pzprm=0,s1xprm=0,s1yprm=0,s1zprm=0,s2xprm=0,s2yprm=0,s2zprm=0):\n",
    "\n",
    "    lhss_deriv_new = []\n",
    "    rhss_deriv_new = []\n",
    "    for i in range(len(rhss_deriv)):\n",
    "        lhss_deriv_new.append(lhss_deriv[i])\n",
    "        rhss_deriv_new.append(rhss_deriv[i])\n",
    "    for i in range(len(rhss_deriv_new)):\n",
    "        for var in rhss_deriv_new[i].free_symbols:\n",
    "            if str(var)==\"xprm\":\n",
    "                rhss_deriv_new[i] = rhss_deriv_new[i].subs(var,xprm)\n",
    "            elif str(var)==\"yprm\":\n",
    "                rhss_deriv_new[i] = rhss_deriv_new[i].subs(var,yprm)\n",
    "            elif str(var)==\"zprm\":\n",
    "                rhss_deriv_new[i] = rhss_deriv_new[i].subs(var,zprm)\n",
    "            elif str(var)==\"pxprm\":\n",
    "                rhss_deriv_new[i] = rhss_deriv_new[i].subs(var,pxprm)\n",
    "            elif str(var)==\"pyprm\":\n",
    "                rhss_deriv_new[i] = rhss_deriv_new[i].subs(var,pyprm)\n",
    "            elif str(var)==\"pzprm\":\n",
    "                rhss_deriv_new[i] = rhss_deriv_new[i].subs(var,pzprm)\n",
    "            elif str(var)==\"s1xprm\":\n",
    "                rhss_deriv_new[i] = rhss_deriv_new[i].subs(var,s1xprm)\n",
    "            elif str(var)==\"s1yprm\":\n",
    "                rhss_deriv_new[i] = rhss_deriv_new[i].subs(var,s1yprm)\n",
    "            elif str(var)==\"s1zprm\":\n",
    "                rhss_deriv_new[i] = rhss_deriv_new[i].subs(var,s1zprm)\n",
    "            elif str(var)==\"s2xprm\":\n",
    "                rhss_deriv_new[i] = rhss_deriv_new[i].subs(var,s2xprm)\n",
    "            elif str(var)==\"s2yprm\":\n",
    "                rhss_deriv_new[i] = rhss_deriv_new[i].subs(var,s2yprm)\n",
    "            elif str(var)==\"s2zprm\":\n",
    "                rhss_deriv_new[i] = rhss_deriv_new[i].subs(var,s2zprm)\n",
    "    lhss_deriv_simp,rhss_deriv_simp = simplify_deriv(lhss_deriv_new,rhss_deriv_new)\n",
    "    return lhss_deriv_simp,rhss_deriv_simp"
   ]
  },
  {
   "cell_type": "markdown",
   "metadata": {},
   "source": [
    "<a id='stepn'></a>\n",
    "\n",
    "# Step n: Insert title \\[Back to [top](#toc)\\]\n",
    "$$\\label{stepn}$$\n",
    "\n",
    "Insert description"
   ]
  },
  {
   "cell_type": "code",
   "execution_count": 9,
   "metadata": {},
   "outputs": [],
   "source": [
    "lhss_deriv_x,rhss_deriv_x = deriv_onevar(lhss_deriv,rhss_deriv, \\\n",
    "                            xprm=1,yprm=0,zprm=0,pxprm=0,pyprm=0,pzprm=0,s1xprm=0,s1yprm=0,s1zprm=0,s2xprm=0,s2yprm=0,s2zprm=0)\n",
    "lhss_deriv_y,rhss_deriv_y = deriv_onevar(lhss_deriv,rhss_deriv,\n",
    "                            xprm=0,yprm=1,zprm=0,pxprm=0,pyprm=0,pzprm=0,s1xprm=0,s1yprm=0,s1zprm=0,s2xprm=0,s2yprm=0,s2zprm=0)\n",
    "lhss_deriv_z,rhss_deriv_z = deriv_onevar(lhss_deriv,rhss_deriv,\n",
    "                            xprm=0,yprm=0,zprm=1,pxprm=0,pyprm=0,pzprm=0,s1xprm=0,s1yprm=0,s1zprm=0,s2xprm=0,s2yprm=0,s2zprm=0)\n",
    "lhss_deriv_px,rhss_deriv_px = deriv_onevar(lhss_deriv,rhss_deriv,\n",
    "                            xprm=0,yprm=0,zprm=0,pxprm=1,pyprm=0,pzprm=0,s1xprm=0,s1yprm=0,s1zprm=0,s2xprm=0,s2yprm=0,s2zprm=0)\n",
    "lhss_deriv_py,rhss_deriv_py = deriv_onevar(lhss_deriv,rhss_deriv,\n",
    "                            xprm=0,yprm=0,zprm=0,pxprm=0,pyprm=1,pzprm=0,s1xprm=0,s1yprm=0,s1zprm=0,s2xprm=0,s2yprm=0,s2zprm=0)\n",
    "lhss_deriv_pz,rhss_deriv_pz = deriv_onevar(lhss_deriv,rhss_deriv,\n",
    "                            xprm=0,yprm=0,zprm=0,pxprm=0,pyprm=1,pzprm=1,s1xprm=0,s1yprm=0,s1zprm=0,s2xprm=0,s2yprm=0,s2zprm=0)\n",
    "lhss_deriv_s1x,rhss_deriv_s1x = deriv_onevar(lhss_deriv,rhss_deriv,\n",
    "                            xprm=0,yprm=0,zprm=0,pxprm=0,pyprm=0,pzprm=0,s1xprm=1,s1yprm=0,s1zprm=0,s2xprm=0,s2yprm=0,s2zprm=0)\n",
    "lhss_deriv_s1y,rhss_deriv_s1y = deriv_onevar(lhss_deriv,rhss_deriv,\n",
    "                            xprm=0,yprm=0,zprm=0,pxprm=0,pyprm=0,pzprm=0,s1xprm=0,s1yprm=1,s1zprm=0,s2xprm=0,s2yprm=0,s2zprm=0)\n",
    "lhss_deriv_s1z,rhss_deriv_s1z = deriv_onevar(lhss_deriv,rhss_deriv,\n",
    "                            xprm=0,yprm=0,zprm=0,pxprm=0,pyprm=0,pzprm=0,s1xprm=0,s1yprm=0,s1zprm=1,s2xprm=0,s2yprm=0,s2zprm=0)\n",
    "lhss_deriv_s2x,rhss_deriv_s2x = deriv_onevar(lhss_deriv,rhss_deriv,\n",
    "                            xprm=0,yprm=0,zprm=0,pxprm=0,pyprm=0,pzprm=0,s1xprm=0,s1yprm=0,s1zprm=0,s2xprm=1,s2yprm=0,s2zprm=0)\n",
    "lhss_deriv_s2y,rhss_deriv_s2y = deriv_onevar(lhss_deriv,rhss_deriv,\n",
    "                            xprm=0,yprm=0,zprm=0,pxprm=0,pyprm=0,pzprm=0,s1xprm=0,s1yprm=0,s1zprm=0,s2xprm=0,s2yprm=1,s2zprm=0)\n",
    "lhss_deriv_s2z,rhss_deriv_s2z = deriv_onevar(lhss_deriv,rhss_deriv,\n",
    "                            xprm=0,yprm=0,zprm=0,pxprm=0,pyprm=0,pzprm=0,s1xprm=0,s1yprm=0,s1zprm=0,s2xprm=0,s2yprm=0,s2zprm=1)"
   ]
  },
  {
   "cell_type": "code",
   "execution_count": 10,
   "metadata": {},
   "outputs": [],
   "source": [
    "# CSE_results = sp.cse(rhss_deriv_px, sp.numbered_symbols(\"tmp\"), order='canonical')\n",
    "# for commonsubexpression in CSE_results[0]:\n",
    "#     print(\"  \"+str(commonsubexpression[0])+\" = \"+str(commonsubexpression[1]))\n",
    "# for i,result in enumerate(CSE_results[1]):\n",
    "#     print(\"rhss_deriv_px = \"+str(result))\n",
    "\n",
    "#for commonsubexpression in CSE_results[0]:"
   ]
  },
  {
   "cell_type": "markdown",
   "metadata": {},
   "source": [
    "<a id='stepn'></a>\n",
    "\n",
    "# Step n: Insert title \\[Back to [top](#toc)\\]\n",
    "$$\\label{stepn}$$\n",
    "\n",
    "Insert description"
   ]
  },
  {
   "cell_type": "code",
   "execution_count": 11,
   "metadata": {},
   "outputs": [],
   "source": [
    "outstring = \"/* SEOBNR Hamiltonian expression: */\\n\"\n",
    "outstringsp = \"\"\n",
    "outsplhs = []\n",
    "outsprhs = []\n",
    "for i in range(len(lr)):\n",
    "    outstring += outputC(sp.sympify(lr[i].rhs),lr[i].lhs,\"returnstring\",\"outCverbose=False,includebraces=False,CSE_enable=False\")\n",
    "    outstringsp += lr[i].lhs+\" = \"+lr[i].rhs+\"\\n\"\n",
    "    outsplhs.append(sp.sympify(lr[i].lhs))\n",
    "    outsprhs.append(sp.sympify(lr[i].rhs))\n",
    "outstring += \"\\n\\n\\n/* SEOBNR \\partial_x H expression: */\\n\"\n",
    "for i in range(len(lhss_deriv_x)):\n",
    "    outstring += outputC(rhss_deriv_x[i],str(lhss_deriv_x[i]),\"returnstring\",\"outCverbose=False,includebraces=False,CSE_enable=False\")\n",
    "    outstringsp += str(lhss_deriv_x[i])+\" = \"+str(rhss_deriv_x[i])+\"\\n\"\n",
    "    outsplhs.append(lhss_deriv_x[i])\n",
    "    outsprhs.append(rhss_deriv_x[i])"
   ]
  },
  {
   "cell_type": "markdown",
   "metadata": {},
   "source": [
    "<a id='stepn'></a>\n",
    "\n",
    "# Step n: Insert title \\[Back to [top](#toc)\\]\n",
    "$$\\label{stepn}$$\n",
    "\n",
    "Insert description"
   ]
  },
  {
   "cell_type": "code",
   "execution_count": 12,
   "metadata": {},
   "outputs": [],
   "source": [
    "# for i in range(len(outsplhs)):\n",
    "#     for j in range(i+1,len(outsplhs)):\n",
    "#         outsprhs[j] = outsprhs[j].subs(outsplhs[i],outsprhs[i])\n",
    "with open(\"/tmp/sympy_expression.py\",\"w\") as file:\n",
    "    file.write(\"\"\"\n",
    "import sympy as sp\n",
    "from outputC import *\n",
    "\n",
    "m1,m2,x,y,z,px,py,pz,s1x,s1y,s1z,s2x,s2y,s2z,eta = sp.symbols(\"m1 m2 x y z px py pz s1x s1y s1z s2x s2y s2z eta\",real=True)\n",
    "c0k2,c1k2,c0k3,c1k3,c0k4,c1k4,c2k4,c0k5,c1k5,c2k5 = sp.symbols(\"c0k2 c1k2 c0k3 c1k3 c0k4 c1k4 c2k4 c0k5 c1k5 c2k5\",real=True)\n",
    "KK,k5l,b3,bb3,d1,d1v2,dheffSS,dheffSSv2 = sp.symbols(\"KK k5l b3 bb3 d1 d1v2 dheffSS dheffSSv2\",real=True)\n",
    "tortoise,copysignresult = sp.symbols(\"tortoise copysignresult\",real=True)\n",
    "\n",
    "\"\"\")\n",
    "    for i in range(len(lr)):\n",
    "        file.write(lr[i].lhs+\" = \"+\"sp.symbols(\\\"\"+lr[i].lhs+\"\\\")\\n\")\n",
    "    file.write(\"\\n\")\n",
    "    for i in range(len(lhss_deriv_x)):\n",
    "        file.write(str(lhss_deriv_x[i]).replace(\"prm\",\"prm_x\")+\" = \"+str(rhss_deriv_x[i]).replace(\"sqrt(\",\"sp.sqrt(\").replace(\"log(\",\"sp.log(\").replace(\"Abs(\",\"sp.Abs(\").replace(\"prm\",\"prm_x\")+\"\\n\")\n",
    "    for i in range(len(lhss_deriv_y)):\n",
    "        file.write(str(lhss_deriv_y[i]).replace(\"prm\",\"prm_y\")+\" = \"+str(rhss_deriv_y[i]).replace(\"sqrt(\",\"sp.sqrt(\").replace(\"log(\",\"sp.log(\").replace(\"Abs(\",\"sp.Abs(\").replace(\"prm\",\"prm_y\")+\"\\n\")\n",
    "    for i in range(len(lhss_deriv_z)):\n",
    "        file.write(str(lhss_deriv_z[i]).replace(\"prm\",\"prm_z\")+\" = \"+str(rhss_deriv_z[i]).replace(\"sqrt(\",\"sp.sqrt(\").replace(\"log(\",\"sp.log(\").replace(\"Abs(\",\"sp.Abs(\").replace(\"prm\",\"prm_z\")+\"\\n\")\n",
    "\n",
    "    for i in range(len(lhss_deriv_px)):\n",
    "        file.write(str(lhss_deriv_px[i]).replace(\"prm\",\"prm_px\")+\" = \"+str(rhss_deriv_px[i]).replace(\"sqrt(\",\"sp.sqrt(\").replace(\"log(\",\"sp.log(\").replace(\"Abs(\",\"sp.Abs(\").replace(\"prm\",\"prm_px\")+\"\\n\")\n",
    "    for i in range(len(lhss_deriv_py)):\n",
    "        file.write(str(lhss_deriv_py[i]).replace(\"prm\",\"prm_py\")+\" = \"+str(rhss_deriv_py[i]).replace(\"sqrt(\",\"sp.sqrt(\").replace(\"log(\",\"sp.log(\").replace(\"Abs(\",\"sp.Abs(\").replace(\"prm\",\"prm_py\")+\"\\n\")\n",
    "    for i in range(len(lhss_deriv_pz)):\n",
    "        file.write(str(lhss_deriv_pz[i]).replace(\"prm\",\"prm_pz\")+\" = \"+str(rhss_deriv_pz[i]).replace(\"sqrt(\",\"sp.sqrt(\").replace(\"log(\",\"sp.log(\").replace(\"Abs(\",\"sp.Abs(\").replace(\"prm\",\"prm_pz\")+\"\\n\")\n",
    "\n",
    "    for i in range(len(lhss_deriv_s1x)):\n",
    "        file.write(str(lhss_deriv_s1x[i]).replace(\"prm\",\"prm_s1x\")+\" = \"+str(rhss_deriv_s1x[i]).replace(\"sqrt(\",\"sp.sqrt(\").replace(\"log(\",\"sp.log(\").replace(\"Abs(\",\"sp.Abs(\").replace(\"prm\",\"prm_s1x\")+\"\\n\")\n",
    "    for i in range(len(lhss_deriv_s1y)):\n",
    "        file.write(str(lhss_deriv_s1y[i]).replace(\"prm\",\"prm_s1y\")+\" = \"+str(rhss_deriv_s1y[i]).replace(\"sqrt(\",\"sp.sqrt(\").replace(\"log(\",\"sp.log(\").replace(\"Abs(\",\"sp.Abs(\").replace(\"prm\",\"prm_s1y\")+\"\\n\")\n",
    "    for i in range(len(lhss_deriv_s1z)):\n",
    "        file.write(str(lhss_deriv_s1z[i]).replace(\"prm\",\"prm_s1z\")+\" = \"+str(rhss_deriv_s1z[i]).replace(\"sqrt(\",\"sp.sqrt(\").replace(\"log(\",\"sp.log(\").replace(\"Abs(\",\"sp.Abs(\").replace(\"prm\",\"prm_s1z\")+\"\\n\")\n",
    "\n",
    "    for i in range(len(lhss_deriv_s2x)):\n",
    "        file.write(str(lhss_deriv_s2x[i]).replace(\"prm\",\"prm_s2x\")+\" = \"+str(rhss_deriv_s2x[i]).replace(\"sqrt(\",\"sp.sqrt(\").replace(\"log(\",\"sp.log(\").replace(\"Abs(\",\"sp.Abs(\").replace(\"prm\",\"prm_s2x\")+\"\\n\")\n",
    "    for i in range(len(lhss_deriv_s2y)):\n",
    "        file.write(str(lhss_deriv_s2y[i]).replace(\"prm\",\"prm_s2y\")+\" = \"+str(rhss_deriv_s2y[i]).replace(\"sqrt(\",\"sp.sqrt(\").replace(\"log(\",\"sp.log(\").replace(\"Abs(\",\"sp.Abs(\").replace(\"prm\",\"prm_s2y\")+\"\\n\")\n",
    "    for i in range(len(lhss_deriv_s2z)):\n",
    "        file.write(str(lhss_deriv_s2z[i]).replace(\"prm\",\"prm_s2z\")+\" = \"+str(rhss_deriv_s2z[i]).replace(\"sqrt(\",\"sp.sqrt(\").replace(\"log(\",\"sp.log(\").replace(\"Abs(\",\"sp.Abs(\").replace(\"prm\",\"prm_s2z\")+\"\\n\")\n",
    "    file.write(\"\"\"\n",
    "sp.cse(Hrealprm_x)\n",
    "# outputC([Hrealprm_x,Hrealprm_y,Hrealprm_z,Hrealprm_px,Hrealprm_py,Hrealprm_pz,\n",
    "#         Hrealprm_s1x,Hrealprm_s1y,Hrealprm_s1z,Hrealprm_s2x,Hrealprm_s2y,Hrealprm_s2z],\n",
    "#        [\"Hrealprm_x\",\"Hrealprm_y\",\"Hrealprm_z\",\"Hrealprm_px\",\"Hrealprm_py\",\"Hrealprm_pz\",\n",
    "#         \"Hrealprm_s1x\",\"Hrealprm_s1y\",\"Hrealprm_s1z\",\"Hrealprm_s2x\",\"Hrealprm_s2y\",\"Hrealprm_s2z\"],\n",
    "#         \"/tmp/outC.h\",\"outCverbose=False,includebraces=False,SIMD_enable=True\")\n",
    "    \"\"\")"
   ]
  },
  {
   "cell_type": "markdown",
   "metadata": {},
   "source": [
    "<a id='latex_pdf_output'></a>\n",
    "\n",
    "# Step n: Output this notebook to $\\LaTeX$-formatted PDF file \\[Back to [top](#toc)\\]\n",
    "$$\\label{latex_pdf_output}$$\n",
    "\n",
    "The following code cell converts this Jupyter notebook into a proper, clickable $\\LaTeX$-formatted PDF file. After the cell is successfully run, the generated PDF may be found in the root NRPy+ tutorial directory, with filename\n",
    "[Tutorial-SEOBNR_Derivative_Routine.pdf](Tutorial-SEOBNR_Derivative_Routine.pdf) (Note that clicking on this link may not work; you may need to open the PDF file through another means.)"
   ]
  },
  {
   "cell_type": "code",
   "execution_count": 13,
   "metadata": {},
   "outputs": [
    {
     "name": "stdout",
     "output_type": "stream",
     "text": [
      "Notebook output to PDF is only supported on Linux systems, with pdflatex installed.\n"
     ]
    }
   ],
   "source": [
    "import os,sys                    # Standard Python modules for multiplatform OS-level functions\n",
    "nrpy_dir_path = os.path.join(\"..\")\n",
    "if nrpy_dir_path not in sys.path:\n",
    "    sys.path.append(nrpy_dir_path)\n",
    "import cmdline_helper as cmd    # NRPy+: Multi-platform Python command-line interface\n",
    "cmd.output_Jupyter_notebook_to_LaTeXed_PDF(\"NRPyPN_shortcuts\",location_of_template_file=os.path.join(\"..\"))"
   ]
  }
 ],
 "metadata": {
  "kernelspec": {
   "display_name": "Python 3",
   "language": "python",
   "name": "python3"
  },
  "language_info": {
   "codemirror_mode": {
    "name": "ipython",
    "version": 3
   },
   "file_extension": ".py",
   "mimetype": "text/x-python",
   "name": "python",
   "nbconvert_exporter": "python",
   "pygments_lexer": "ipython3",
   "version": "3.5.2"
  }
 },
 "nbformat": 4,
 "nbformat_minor": 2
}
