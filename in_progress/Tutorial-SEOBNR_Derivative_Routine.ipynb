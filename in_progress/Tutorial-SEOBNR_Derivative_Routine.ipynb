{
 "cells": [
  {
   "cell_type": "markdown",
   "metadata": {},
   "source": [
    "# Symbolic Partial Derivative Routine\n",
    "\n",
    "## Authors: Zach Etienne & Tyler Knowles\n",
    "\n",
    "## This module contains a routine for computing an analytic partial derivative of a mathematical expression.\n",
    "\n",
    "**Notebook Status:** <font color='red'><b> In progress </b></font>\n",
    "\n",
    "**Validation Notes:** The module has been validated by comparing results to finite-difference derivative values in LALSuite.  <font color='red'><b> Add more info later </b></font>\n",
    "\n",
    "<a id='intro'></a>\n",
    "\n",
    "## Introduction\n",
    "$$\\label{intro}$$\n",
    "\n",
    "Motivated by Mathematica being unable to generate readable partial derivatives of the SEOBNRv3 Hamiltonian, we wrote our own partial derivatve routine."
   ]
  },
  {
   "cell_type": "code",
   "execution_count": 1,
   "metadata": {},
   "outputs": [],
   "source": [
    "# Partial derivative routine\n",
    "# Import necessary modules\n",
    "\n",
    "import os,sys                    # Standard Python modules for multiplatform OS-level functions\n",
    "nrpy_dir_path = os.path.join(\"..\")\n",
    "if nrpy_dir_path not in sys.path:\n",
    "    sys.path.append(nrpy_dir_path)\n",
    "\n",
    "from outputC import * #Check what is imported and remove *\n",
    "import sympy as sp\n",
    "\n",
    "bigstring = \"\"\"\n",
    "sigmaKerr0 = s1x + s2x\n",
    "sigmaKerr1 = s1y + s2y\n",
    "sigmaKerr2 = s1z + s2z\n",
    "quagsire = eta*eta\n",
    "s1dots1 = s1x*s1x + s1y*s1y + s1z*s1z + quagsire\n",
    "s2dots2 = s2x*s2x + s2y*s2y + s2z*s2z\n",
    "r2 = x*x + y*y + z*z\n",
    "r = sp.sqrt(r2)\n",
    "u = 1/r\n",
    "tmppx = px - r\n",
    "tmppy = py - r\n",
    "tmppz = pz - r\n",
    "\"\"\""
   ]
  },
  {
   "cell_type": "markdown",
   "metadata": {},
   "source": [
    "<a id='toc'></a>\n",
    "\n",
    "# Table of Contents\n",
    "$$\\label{toc}$$\n",
    "\n",
    "This notebook is organized as follows\n",
    "\n",
    "1. [Step 1:](#step1) Split left- and right-hand sides of expressions\n",
    "1. [Step 2:](#step2) Convert left-hand sides to function notation\n",
    "1. [Step 3:](#step3) Produce list of free variables\n",
    "1. [Step 4:](#step4) Declare input constants\n",
    "1. [Step 5:](#step5) Convert free variables to function notation\n",
    "1. [Step 6:](#step6) Differentiate!\n",
    "1. [Step 7:](#step7) Simplify derivative expressions\n",
    "1. [Step 8:](#step8) Differentiate with respect to a specific free variable\n",
    "1. [Step 9:](#step9) Compute derivatives with respect to each free variable\n",
    "1. [Step 10:](#step10) Output result\n",
    "1. [Step 11:](#latex_pdf_output) Output this notebook to $\\LaTeX$-formatted PDF file"
   ]
  },
  {
   "cell_type": "markdown",
   "metadata": {},
   "source": [
    "<a id='step1'></a>\n",
    "\n",
    "# Step 1: Split lift- and right-hand sides of expressions \\[Back to [top](#toc)\\]\n",
    "$$\\label{step1}$$\n",
    "\n",
    "We take the input string and split it first by line (carriage return), then by \"=\".  Doing so allows us to manipulate the right- and left-hand sides appropriately.  We store the left- and right-hand sides in the array $\\texttt{lr}$, which consists of $\\texttt{lhrh}$ arrays with left-hand sides $\\texttt{lhs}$ and right-hand sides $\\texttt{rhs}$.  Note that $\\texttt{Lambda}$ is a protected keyword in Python, so the variable $\\Lambda$ in the Hamiltonian is renamed $\\texttt{Lamb}$."
   ]
  },
  {
   "cell_type": "code",
   "execution_count": 2,
   "metadata": {},
   "outputs": [
    {
     "name": "stdout",
     "output_type": "stream",
     "text": [
      "[lhrh(lhs='sigmaKerr0', rhs='s1x+s2x'), lhrh(lhs='sigmaKerr1', rhs='s1y+s2y'), lhrh(lhs='sigmaKerr2', rhs='s1z+s2z'), lhrh(lhs='quagsire', rhs='eta*eta'), lhrh(lhs='s1dots1', rhs='s1x*s1x+s1y*s1y+s1z*s1z+quagsire'), lhrh(lhs='s2dots2', rhs='s2x*s2x+s2y*s2y+s2z*s2z'), lhrh(lhs='r2', rhs='x*x+y*y+z*z'), lhrh(lhs='r', rhs='sqrt(r2)'), lhrh(lhs='u', rhs='1/r'), lhrh(lhs='tmppx', rhs='px-r'), lhrh(lhs='tmppy', rhs='py-r'), lhrh(lhs='tmppz', rhs='pz-r')]\n"
     ]
    }
   ],
   "source": [
    "# Split bigstring by carriage returns:\n",
    "string_lines = bigstring.splitlines()\n",
    "\n",
    "# Create \"lr\" array, which will store each left-hand side and right-hand side as strings.\n",
    "lr = []\n",
    "# Loop over each line in bigstring\n",
    "for i in range(len(string_lines)):\n",
    "    # Ignore lines with 2 or fewer characters and those starting with #\n",
    "    if len(string_lines[i]) > 2 and string_lines[i][0] != \"#\":\n",
    "        # Split each line by its equals sign.\n",
    "        split_line = string_lines[i].split(\"=\")\n",
    "        # Append to the \"lr\" array, removing spaces, \"sp.\" prefixes, and replacing Lambda->Lamb\n",
    "        #       (Lambda is a protected keyword):\n",
    "        lr.append(lhrh(lhs=split_line[0].replace(\" \",\"\").replace(\"Lambda\",\"Lamb\"),\n",
    "                       rhs=split_line[1].replace(\" \",\"\").replace(\"sp.\",\"\").replace(\"Lambda\",\"Lamb\")))"
   ]
  },
  {
   "cell_type": "markdown",
   "metadata": {},
   "source": [
    "<a id='step2'></a>\n",
    "\n",
    "# Step 2: Convert left-hand sides to function notation \\[Back to [top](#toc)\\]\n",
    "$$\\label{step2}$$\n",
    "\n",
    "In order to compute the partial derivative of each expression, we mark each variable (left-hand side) as a function with argument $\\texttt{xx}$.  We simultaneously split right- and left-hand sides into their own arrays, $\\texttt{fhss}$ and $\\texttt{lhss}$, respectively."
   ]
  },
  {
   "cell_type": "code",
   "execution_count": 3,
   "metadata": {},
   "outputs": [
    {
     "name": "stdout",
     "output_type": "stream",
     "text": [
      "[sigmaKerr0(xx), sigmaKerr1(xx), sigmaKerr2(xx), quagsire(xx), s1dots1(xx), s2dots2(xx), r2(xx), r(xx), u(xx), tmppx(xx), tmppy(xx), tmppz(xx)]\n",
      "[sigmaKerr0, sigmaKerr1, sigmaKerr2, quagsire, s1dots1, s2dots2, r2, r, u, tmppx, tmppy, tmppz]\n",
      "[s1x + s2x, s1y + s2y, s1z + s2z, eta**2, quagsire + s1x**2 + s1y**2 + s1z**2, s2x**2 + s2y**2 + s2z**2, x**2 + y**2 + z**2, sqrt(r2), 1/r, px - r, py - r, pz - r]\n"
     ]
    }
   ],
   "source": [
    "xx = sp.Symbol('xx')\n",
    "func = []\n",
    "lhss = []\n",
    "rhss = []\n",
    "for i in range(len(lr)):\n",
    "    func.append(sp.sympify(sp.Function(lr[i].lhs)(xx)))\n",
    "    lhss.append(sp.sympify(lr[i].lhs))\n",
    "    rhss.append(sp.sympify(lr[i].rhs))"
   ]
  },
  {
   "cell_type": "markdown",
   "metadata": {},
   "source": [
    "<a id='step3'></a>\n",
    "\n",
    "# Step 3: Produce list of free variables \\[Back to [top](#toc)\\]\n",
    "$$\\label{step3}$$\n",
    "\n",
    "By ''free variables'' we mean the symbolic variables names in the right-hand sides.  We first create a list of all such terms, including duplicates, and then strip the duplicates."
   ]
  },
  {
   "cell_type": "code",
   "execution_count": 4,
   "metadata": {},
   "outputs": [
    {
     "name": "stdout",
     "output_type": "stream",
     "text": [
      "[s1x, s2x, s2y, s1y, s1z, s2z, eta, s1z, s1x, s1y, quagsire, s2y, s2x, s2z, y, z, x, r2, r, px, r, r, py, pz, r]\n",
      "[s1x, s2x, s2y, s1y, s1z, s2z, eta, quagsire, y, z, x, r2, r, px, py, pz]\n"
     ]
    }
   ],
   "source": [
    "# Next get a list of all the \"free symbols\" in the RHS expressions.\n",
    "full_symbol_list_with_dups = []\n",
    "for i in range(len(lr)):\n",
    "    for var in rhss[i].free_symbols:\n",
    "        full_symbol_list_with_dups.append(var)\n",
    "\n",
    "full_symbol_list = superfast_uniq(full_symbol_list_with_dups)"
   ]
  },
  {
   "cell_type": "markdown",
   "metadata": {},
   "source": [
    "<a id='step4'></a>\n",
    "\n",
    "# Step 4: Declare input constants \\[Back to [top](#toc)\\]\n",
    "$$\\label{step4}$$\n",
    "\n",
    "We declare the constant values; derivatives with respect to these variables will be set to zero."
   ]
  },
  {
   "cell_type": "code",
   "execution_count": 5,
   "metadata": {},
   "outputs": [],
   "source": [
    "# Declare input constants:\n",
    "m1,m2,eta,tortoise,dSO,dSS = sp.symbols(\"m1 m2 eta tortoise dSO dSS\",real=True)\n",
    "input_constants = [m1,m2,eta,tortoise,dSO,dSS]"
   ]
  },
  {
   "cell_type": "markdown",
   "metadata": {},
   "source": [
    "<a id='step5'></a>\n",
    "\n",
    "# Step 5: Convert free variables to function notation \\[Back to [top](#toc)\\]\n",
    "$$\\label{step5}$$\n",
    "\n",
    "We compare the input constants to free variables and remove constatns from the free variable list.  We then mark the free varibles as functions with argument \\texttt{xx}."
   ]
  },
  {
   "cell_type": "code",
   "execution_count": 6,
   "metadata": {},
   "outputs": [
    {
     "name": "stdout",
     "output_type": "stream",
     "text": [
      "[s1x(xx), s2x(xx), s2y(xx), s1y(xx), s1z(xx), s2z(xx), quagsire(xx), y(xx), z(xx), x(xx), r2(xx), r(xx), px(xx), py(xx), pz(xx)]\n"
     ]
    }
   ],
   "source": [
    "# Remove input constants from symbol list\n",
    "for inputconst in input_constants:\n",
    "    for symbol in full_symbol_list:\n",
    "        if str(symbol) == str(inputconst):\n",
    "            full_symbol_list.remove(symbol)\n",
    "\n",
    "# Mark each free variable as a function with argument xx\n",
    "full_function_list = []\n",
    "for symb in full_symbol_list:\n",
    "    func = sp.sympify(sp.Function(str(symb))(xx))\n",
    "    full_function_list.append(func)\n",
    "    for i in range(len(rhss)):\n",
    "        for var in rhss[i].free_symbols:\n",
    "            if str(var) == str(symb):\n",
    "                rhss[i] = rhss[i].subs(var,func)"
   ]
  },
  {
   "cell_type": "markdown",
   "metadata": {},
   "source": [
    "<a id='step6'></a>\n",
    "\n",
    "# Step 6: Differentiate! \\[Back to [top](#toc)\\]\n",
    "$$\\label{step6}$$\n",
    "\n",
    "Now we differentiate the right-hand expressions!  We use the SymPy $\\texttt{diff}$ command, differentiating with respect to $\\texttt{xx}$.  After so doing, we remove $\\texttt{(xx)}$ and \"Derivative\" (which is output by $\\texttt{diff}$, and use \"prm\" suffix to denote the derivative with respect to $\\texttt{xx}$."
   ]
  },
  {
   "cell_type": "code",
   "execution_count": 7,
   "metadata": {},
   "outputs": [
    {
     "name": "stdout",
     "output_type": "stream",
     "text": [
      "[sigmaKerr0prm, sigmaKerr1prm, sigmaKerr2prm, quagsireprm, s1dots1prm, s2dots2prm, r2prm, rprm, uprm, tmppxprm, tmppyprm, tmppzprm]\n",
      "[s1xprm + s2xprm, s1yprm + s2yprm, s1zprm + s2zprm, 0, quagsireprm + 2*s1x*s1xprm + 2*s1y*s1yprm + 2*s1z*s1zprm, 2*s2x*s2xprm + 2*s2y*s2yprm + 2*s2z*s2zprm, 2*x*xprm + 2*y*yprm + 2*z*zprm, r2prm/(2*sqrt(r2)), -rprm/r**2, pxprm - rprm, pyprm - rprm, pzprm - rprm]\n"
     ]
    }
   ],
   "source": [
    "lhss_deriv = []\n",
    "rhss_deriv = []\n",
    "for i in range(len(rhss)):\n",
    "    lhss_deriv.append(sp.sympify(str(lhss[i])+\"prm\"))\n",
    "    newrhs = sp.sympify(str(sp.diff(rhss[i],xx)).replace(\"(xx)\",\"\").replace(\", xx\",\"prm\").replace(\"Derivative\",\"\"))\n",
    "    rhss_deriv.append(newrhs)"
   ]
  },
  {
   "cell_type": "markdown",
   "metadata": {},
   "source": [
    "<a id='step7'></a>\n",
    "\n",
    "# Step 7: Simplify derivative expressions \\[Back to [top](#toc)\\]\n",
    "$$\\label{step7}$$\n",
    "\n",
    "We declare a function to simply the derivative expressions.  In particular, we want to remove terms equal to zero."
   ]
  },
  {
   "cell_type": "code",
   "execution_count": 8,
   "metadata": {},
   "outputs": [],
   "source": [
    "# Derivative simplification function\n",
    "def simplify_deriv(lhss_deriv,rhss_deriv):\n",
    "    # Copy expressions into another array\n",
    "    lhss_deriv_simp = []\n",
    "    rhss_deriv_simp = []\n",
    "    for i in range(len(rhss_deriv)):\n",
    "        lhss_deriv_simp.append(lhss_deriv[i])\n",
    "        rhss_deriv_simp.append(rhss_deriv[i])\n",
    "    # If a right-hand side is 0, substitute value 0 for the corresponding left-hand side in later terms\n",
    "    for i in range(len(rhss_deriv_simp)):\n",
    "        if rhss_deriv_simp[i] == 0:\n",
    "            for j in range(i+1,len(rhss_deriv_simp)):\n",
    "                for var in rhss_deriv_simp[j].free_symbols:\n",
    "                    if str(var) == str(lhss_deriv_simp[i]):\n",
    "                        rhss_deriv_simp[j] = rhss_deriv_simp[j].subs(var,0)\n",
    "    zero_elements_to_remove = []\n",
    "    # Create array of indices for expressions that are zero\n",
    "    for i in range(len(rhss_deriv_simp)):\n",
    "        if rhss_deriv_simp[i] == sp.sympify(0):\n",
    "            zero_elements_to_remove.append(i)\n",
    "\n",
    "    # When removing terms that are zero, we need to take into account their new index (after each removal)\n",
    "    count = 0\n",
    "    for i in range(len(zero_elements_to_remove)):\n",
    "        del lhss_deriv_simp[zero_elements_to_remove[i]+count]\n",
    "        del rhss_deriv_simp[zero_elements_to_remove[i]+count]\n",
    "        count -= 1\n",
    "    return lhss_deriv_simp,rhss_deriv_simp\n",
    "\n",
    "# Call the simplication function and then copy results\n",
    "lhss_deriv_simp,rhss_deriv_simp = simplify_deriv(lhss_deriv,rhss_deriv)\n",
    "lhss_deriv = lhss_deriv_simp\n",
    "rhss_deriv = rhss_deriv_simp"
   ]
  },
  {
   "cell_type": "markdown",
   "metadata": {},
   "source": [
    "<a id='step8'></a>\n",
    "\n",
    "# Step 8: Differentiate with respect to a specific free variable \\[Back to [top](#toc)\\]\n",
    "$$\\label{step8}$$\n",
    "\n",
    "In [Step 6](#step6) we took a generic derivative of each term, assuming it is a function of the varible $\\textrm{xx}$.  We now define a function that will select a specific free variable for differentiation."
   ]
  },
  {
   "cell_type": "code",
   "execution_count": 10,
   "metadata": {},
   "outputs": [],
   "source": [
    "def deriv_onevar(lhss_deriv,rhss_deriv,xprm=0,yprm=0,zprm=0,pxprm=0,pyprm=0,pzprm=0,\n",
    "                 s1xprm=0,s1yprm=0,s1zprm=0,s2xprm=0,s2yprm=0,s2zprm=0):\n",
    "\n",
    "    # Copy expressions into another array\n",
    "    lhss_deriv_new = []\n",
    "    rhss_deriv_new = []\n",
    "    for i in range(len(rhss_deriv)):\n",
    "        lhss_deriv_new.append(lhss_deriv[i])\n",
    "        rhss_deriv_new.append(rhss_deriv[i])\n",
    "    # For each free symbol, replace it with the desired derivative\n",
    "    for i in range(len(rhss_deriv_new)):\n",
    "        for var in rhss_deriv_new[i].free_symbols:\n",
    "            if str(var)==\"xprm\":\n",
    "                rhss_deriv_new[i] = rhss_deriv_new[i].subs(var,xprm)\n",
    "            elif str(var)==\"yprm\":\n",
    "                rhss_deriv_new[i] = rhss_deriv_new[i].subs(var,yprm)\n",
    "            elif str(var)==\"zprm\":\n",
    "                rhss_deriv_new[i] = rhss_deriv_new[i].subs(var,zprm)\n",
    "            elif str(var)==\"pxprm\":\n",
    "                rhss_deriv_new[i] = rhss_deriv_new[i].subs(var,pxprm)\n",
    "            elif str(var)==\"pyprm\":\n",
    "                rhss_deriv_new[i] = rhss_deriv_new[i].subs(var,pyprm)\n",
    "            elif str(var)==\"pzprm\":\n",
    "                rhss_deriv_new[i] = rhss_deriv_new[i].subs(var,pzprm)\n",
    "            elif str(var)==\"s1xprm\":\n",
    "                rhss_deriv_new[i] = rhss_deriv_new[i].subs(var,s1xprm)\n",
    "            elif str(var)==\"s1yprm\":\n",
    "                rhss_deriv_new[i] = rhss_deriv_new[i].subs(var,s1yprm)\n",
    "            elif str(var)==\"s1zprm\":\n",
    "                rhss_deriv_new[i] = rhss_deriv_new[i].subs(var,s1zprm)\n",
    "            elif str(var)==\"s2xprm\":\n",
    "                rhss_deriv_new[i] = rhss_deriv_new[i].subs(var,s2xprm)\n",
    "            elif str(var)==\"s2yprm\":\n",
    "                rhss_deriv_new[i] = rhss_deriv_new[i].subs(var,s2yprm)\n",
    "            elif str(var)==\"s2zprm\":\n",
    "                rhss_deriv_new[i] = rhss_deriv_new[i].subs(var,s2zprm)\n",
    "    # Simplify derivative expressions again\n",
    "    lhss_deriv_simp,rhss_deriv_simp = simplify_deriv(lhss_deriv_new,rhss_deriv_new)\n",
    "    return lhss_deriv_simp,rhss_deriv_simp"
   ]
  },
  {
   "cell_type": "markdown",
   "metadata": {},
   "source": [
    "<a id='step9'></a>\n",
    "\n",
    "# Step 9: Compute derivatives with respect to each free variable \\[Back to [top](#toc)\\]\n",
    "$$\\label{step9}$$\n",
    "\n",
    "This needs to be made into a loop!"
   ]
  },
  {
   "cell_type": "code",
   "execution_count": 11,
   "metadata": {},
   "outputs": [
    {
     "name": "stdout",
     "output_type": "stream",
     "text": [
      "[0, 1, 2, 3, 4]\n",
      "[0, 1, 2, 3, 4]\n",
      "[0, 1, 2, 3, 4]\n",
      "[0, 1, 2, 3, 4, 5, 6, 7, 9, 10]\n",
      "[0, 1, 2, 3, 4, 5, 6, 7, 8, 10]\n",
      "[0, 1, 2, 3, 4, 5, 6, 7, 8]\n",
      "[1, 2, 4, 5, 6, 7, 8, 9, 10]\n",
      "[0, 2, 4, 5, 6, 7, 8, 9, 10]\n",
      "[0, 1, 4, 5, 6, 7, 8, 9, 10]\n",
      "[1, 2, 3, 5, 6, 7, 8, 9, 10]\n",
      "[0, 2, 3, 5, 6, 7, 8, 9, 10]\n",
      "[0, 1, 3, 5, 6, 7, 8, 9, 10]\n"
     ]
    }
   ],
   "source": [
    "lhss_deriv_x,rhss_deriv_x = deriv_onevar(lhss_deriv,rhss_deriv, xprm=1,yprm=0,zprm=0,pxprm=0,pyprm=0,pzprm=0,\n",
    "                                         s1xprm=0,s1yprm=0,s1zprm=0,s2xprm=0,s2yprm=0,s2zprm=0)\n",
    "lhss_deriv_y,rhss_deriv_y = deriv_onevar(lhss_deriv,rhss_deriv,xprm=0,yprm=1,zprm=0,pxprm=0,pyprm=0,pzprm=0,\n",
    "                                         s1xprm=0,s1yprm=0,s1zprm=0,s2xprm=0,s2yprm=0,s2zprm=0)\n",
    "lhss_deriv_z,rhss_deriv_z = deriv_onevar(lhss_deriv,rhss_deriv,xprm=0,yprm=0,zprm=1,pxprm=0,pyprm=0,pzprm=0,\n",
    "                                         s1xprm=0,s1yprm=0,s1zprm=0,s2xprm=0,s2yprm=0,s2zprm=0)\n",
    "lhss_deriv_px,rhss_deriv_px = deriv_onevar(lhss_deriv,rhss_deriv,xprm=0,yprm=0,zprm=0,pxprm=1,pyprm=0,pzprm=0,\n",
    "                                           s1xprm=0,s1yprm=0,s1zprm=0,s2xprm=0,s2yprm=0,s2zprm=0)\n",
    "lhss_deriv_py,rhss_deriv_py = deriv_onevar(lhss_deriv,rhss_deriv,xprm=0,yprm=0,zprm=0,pxprm=0,pyprm=1,pzprm=0,\n",
    "                                           s1xprm=0,s1yprm=0,s1zprm=0,s2xprm=0,s2yprm=0,s2zprm=0)\n",
    "lhss_deriv_pz,rhss_deriv_pz = deriv_onevar(lhss_deriv,rhss_deriv,xprm=0,yprm=0,zprm=0,pxprm=0,pyprm=1,pzprm=1,\n",
    "                                           s1xprm=0,s1yprm=0,s1zprm=0,s2xprm=0,s2yprm=0,s2zprm=0)\n",
    "lhss_deriv_s1x,rhss_deriv_s1x = deriv_onevar(lhss_deriv,rhss_deriv, xprm=0,yprm=0,zprm=0,pxprm=0,pyprm=0,pzprm=0,\n",
    "                                             s1xprm=1,s1yprm=0,s1zprm=0,s2xprm=0,s2yprm=0,s2zprm=0)\n",
    "lhss_deriv_s1y,rhss_deriv_s1y = deriv_onevar(lhss_deriv,rhss_deriv,xprm=0,yprm=0,zprm=0,pxprm=0,pyprm=0,pzprm=0,\n",
    "                                             s1xprm=0,s1yprm=1,s1zprm=0,s2xprm=0,s2yprm=0,s2zprm=0)\n",
    "lhss_deriv_s1z,rhss_deriv_s1z = deriv_onevar(lhss_deriv,rhss_deriv,xprm=0,yprm=0,zprm=0,pxprm=0,pyprm=0,pzprm=0,\n",
    "                                             s1xprm=0,s1yprm=0,s1zprm=1,s2xprm=0,s2yprm=0,s2zprm=0)\n",
    "lhss_deriv_s2x,rhss_deriv_s2x = deriv_onevar(lhss_deriv,rhss_deriv,xprm=0,yprm=0,zprm=0,pxprm=0,pyprm=0,pzprm=0,\n",
    "                                             s1xprm=0,s1yprm=0,s1zprm=0,s2xprm=1,s2yprm=0,s2zprm=0)\n",
    "lhss_deriv_s2y,rhss_deriv_s2y = deriv_onevar(lhss_deriv,rhss_deriv,xprm=0,yprm=0,zprm=0,pxprm=0,pyprm=0,pzprm=0,\n",
    "                                             s1xprm=0,s1yprm=0,s1zprm=0,s2xprm=0,s2yprm=1,s2zprm=0)\n",
    "lhss_deriv_s2z,rhss_deriv_s2z = deriv_onevar(lhss_deriv,rhss_deriv,xprm=0,yprm=0,zprm=0,pxprm=0,pyprm=0,pzprm=0,\n",
    "                                             s1xprm=0,s1yprm=0,s1zprm=0,s2xprm=0,s2yprm=0,s2zprm=1)"
   ]
  },
  {
   "cell_type": "markdown",
   "metadata": {},
   "source": [
    "<a id='step10'></a>\n",
    "\n",
    "# Step 10: Output result \\[Back to [top](#toc)\\]\n",
    "$$\\label{step10}$$\n",
    "\n",
    "We write the resulting derivatives in C code."
   ]
  },
  {
   "cell_type": "code",
   "execution_count": 19,
   "metadata": {},
   "outputs": [
    {
     "name": "stdout",
     "output_type": "stream",
     "text": [
      "[sigmaKerr0, sigmaKerr1, sigmaKerr2, quagsire, s1dots1, s2dots2, r2, r, u, tmppx, tmppy, tmppz, r2prm, rprm, uprm, tmppxprm, tmppyprm, tmppzprm]\n",
      "[s1x + s2x, s1y + s2y, s1z + s2z, eta**2, quagsire + s1x**2 + s1y**2 + s1z**2, s2x**2 + s2y**2 + s2z**2, x**2 + y**2 + z**2, sqrt(r2), 1/r, px - r, py - r, pz - r, 2*x, r2prm/(2*sqrt(r2)), -rprm/r**2, -rprm, -rprm, -rprm]\n"
     ]
    }
   ],
   "source": [
    "outstring = \"/* SEOBNR Hamiltonian expression: */\\n\"\n",
    "outstringsp = \"\"\n",
    "outsplhs = []\n",
    "outsprhs = []\n",
    "for i in range(len(lr)):\n",
    "    outstring += outputC(sp.sympify(lr[i].rhs),lr[i].lhs,\"returnstring\",\"outCverbose=False,includebraces=False,CSE_enable=False\")\n",
    "    outstringsp += lr[i].lhs+\" = \"+lr[i].rhs+\"\\n\"\n",
    "    outsplhs.append(sp.sympify(lr[i].lhs))\n",
    "    outsprhs.append(sp.sympify(lr[i].rhs))\n",
    "outstring += \"\\n\\n\\n/* SEOBNR \\partial_x H expression: */\\n\"\n",
    "for i in range(len(lhss_deriv_x)):\n",
    "    outstring += outputC(rhss_deriv_x[i],str(lhss_deriv_x[i]),\"returnstring\",\"outCverbose=False,includebraces=False,CSE_enable=False\")\n",
    "    outstringsp += str(lhss_deriv_x[i])+\" = \"+str(rhss_deriv_x[i])+\"\\n\"\n",
    "    outsplhs.append(lhss_deriv_x[i])\n",
    "    outsprhs.append(rhss_deriv_x[i])"
   ]
  },
  {
   "cell_type": "markdown",
   "metadata": {},
   "source": [
    "<a id='latex_pdf_output'></a>\n",
    "\n",
    "# Step 11: Output this notebook to $\\LaTeX$-formatted PDF file \\[Back to [top](#toc)\\]\n",
    "$$\\label{latex_pdf_output}$$\n",
    "\n",
    "The following code cell converts this Jupyter notebook into a proper, clickable $\\LaTeX$-formatted PDF file. After the cell is successfully run, the generated PDF may be found in the root NRPy+ tutorial directory, with filename\n",
    "[Tutorial-SEOBNR_Derivative_Routine.pdf](Tutorial-SEOBNR_Derivative_Routine.pdf) (Note that clicking on this link may not work; you may need to open the PDF file through another means.)"
   ]
  },
  {
   "cell_type": "code",
   "execution_count": 15,
   "metadata": {},
   "outputs": [
    {
     "name": "stdout",
     "output_type": "stream",
     "text": [
      "Notebook output to PDF is only supported on Linux systems, with pdflatex installed.\n"
     ]
    }
   ],
   "source": [
    "import os,sys                    # Standard Python modules for multiplatform OS-level functions\n",
    "nrpy_dir_path = os.path.join(\"..\")\n",
    "if nrpy_dir_path not in sys.path:\n",
    "    sys.path.append(nrpy_dir_path)\n",
    "import cmdline_helper as cmd    # NRPy+: Multi-platform Python command-line interface\n",
    "cmd.output_Jupyter_notebook_to_LaTeXed_PDF(\"NRPyPN_shortcuts\",location_of_template_file=os.path.join(\"..\"))"
   ]
  }
 ],
 "metadata": {
  "kernelspec": {
   "display_name": "Python 3",
   "language": "python",
   "name": "python3"
  },
  "language_info": {
   "codemirror_mode": {
    "name": "ipython",
    "version": 3
   },
   "file_extension": ".py",
   "mimetype": "text/x-python",
   "name": "python",
   "nbconvert_exporter": "python",
   "pygments_lexer": "ipython3",
   "version": "3.5.2"
  }
 },
 "nbformat": 4,
 "nbformat_minor": 2
}
