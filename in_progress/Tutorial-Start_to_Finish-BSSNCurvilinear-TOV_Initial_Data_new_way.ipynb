{
 "cells": [
  {
   "cell_type": "markdown",
   "metadata": {},
   "source": [
    "<script async src=\"https://www.googletagmanager.com/gtag/js?id=UA-59152712-8\"></script>\n",
    "<script>\n",
    "  window.dataLayer = window.dataLayer || [];\n",
    "  function gtag(){dataLayer.push(arguments);}\n",
    "  gtag('js', new Date());\n",
    "\n",
    "  gtag('config', 'UA-59152712-8');\n",
    "</script>\n",
    "\n",
    "# Start-to-Finish Example: Setting up Polytropic [TOV](https://en.wikipedia.org/wiki/Tolman%E2%80%93Oppenheimer%E2%80%93Volkoff_equation) Initial Data, in Curvilinear Coordinates\n",
    "\n",
    "## Authors: Zach Etienne, Phil Chang, and Leo Werneck\n",
    "### Formatting improvements courtesy Brandon Clark\n",
    "\n",
    "## This module sets up initial data for a TOV star in *spherical, isotropic coordinates*, using the *Numerical* ADM Spherical to BSSN Curvilinear initial data module (numerical = BSSN $\\lambda^i$'s are computed using finite-difference derivatives instead of exact expressions).\n",
    "\n",
    "**Notebook Status:** <font color='green'><b> Validated </b></font>\n",
    "\n",
    "**Validation Notes:** This module has been validated to exhibit convergence to zero of the Hamiltonian constraint violation at the expected order to the exact solution (see [plots](#convergence) at bottom). Note that convergence at the surface of the star will be lower order due to the sharp drop to zero in $T^{\\mu\\nu}$.</font>\n",
    "\n",
    "### NRPy+ Source Code for this module: \n",
    "\n",
    "* [TOV/TOV_Solver.py](../edit/TOV/TOV_Solver.py); ([**NRPy+ Tutorial module reviewing mathematical formulation and equations solved**](Tutorial-ADM_Initial_Data-TOV.ipynb)); ([**start-to-finish NRPy+ Tutorial module demonstrating that initial data satisfy Hamiltonian constraint**](Tutorial-Start_to_Finish-BSSNCurvilinear-Setting_up_TOV_initial_data.ipynb)): Tolman-Oppenheimer-Volkoff (TOV) initial data; defines all ADM variables and nonzero $T^{\\mu\\nu}$ components in Spherical basis.\n",
    "* [BSSN/ADM_Numerical_Spherical_or_Cartesian_to_BSSNCurvilinear.py](../edit/BSSN/ADM_Numerical_Spherical_or_Cartesian_to_BSSNCurvilinear.py); [\\[**tutorial**\\]](Tutorial-ADM_Initial_Data-Converting_Numerical_ADM_Spherical_or_Cartesian_to_BSSNCurvilinear.ipynb): *Numerical* Spherical ADM$\\to$Curvilinear BSSN converter function\n",
    "* [BSSN/BSSN_constraints.py](../edit/BSSN/BSSN_constraints.py); [\\[**tutorial**\\]](Tutorial-BSSN_constraints.ipynb): Hamiltonian constraint in BSSN curvilinear basis/coordinates\n",
    "\n",
    "## Introduction:\n",
    "Here we use NRPy+ to set up initial data for a [simple polytrope TOV star](https://en.wikipedia.org/wiki/Tolman%E2%80%93Oppenheimer%E2%80%93Volkoff_equation).\n",
    "\n",
    "The entire algorithm is outlined as follows, with links to the relevant NRPy+ tutorial notebooks listed at each step:\n",
    "\n",
    "1. Allocate memory for gridfunctions, including temporary storage for the Method of Lines time integration [(**NRPy+ tutorial on NRPy+ Method of Lines algorithm**)](Tutorial-Method_of_Lines-C_Code_Generation.ipynb).\n",
    "1. Set gridfunction values to initial data \n",
    "    * [**NRPy+ tutorial on TOV initial data**](Tutorial-ADM_Initial_Data-TOV.ipynb)\n",
    "    * [**NRPy+ tutorial on validating TOV initial data**](Tutorial-Start_to_Finish-BSSNCurvilinear-Setting_up_TOV_initial_data.ipynb).\n",
    "1. Evaluate the Hamiltonian constraint violation\n",
    "    * [**NRPy+ tutorial on BSSN constraints**](Tutorial-BSSN_constraints.ipynb)\n",
    "1. Repeat above steps at two numerical resolutions to confirm convergence of Hamiltonian constraint violation to zero."
   ]
  },
  {
   "cell_type": "markdown",
   "metadata": {},
   "source": [
    "<a id='toc'></a>\n",
    "\n",
    "# Table of Contents\n",
    "$$\\label{toc}$$\n",
    "\n",
    "This notebook is organized as follows\n",
    "\n",
    "1. [Step 1](#initializenrpy): Set core NRPy+ parameters for numerical grids and reference metric\n",
    "1. [Step 2](#adm_id_tov): Set up ADM initial data for polytropic TOV Star\n",
    "    1. [Step 2.a](#tov_interp): Interpolating the TOV data file as needed\n",
    "    1. [Step 2.b](#source): Compute source terms $S_{ij}$, $S_{i}$, $S$, and $\\rho$\n",
    "    1. [Step 2.c](#jacobian): Jacobian transformation on the ADM/BSSN source terms\n",
    "    1. [Step 2.d](#tensor): Rescale tensorial quantities\n",
    "1. [Step 3](#adm_id_spacetime): Convert ADM spacetime quantity initial data from Spherical to BSSN Curvilinear coordinates\n",
    "1. [Step 4](#validate): Validating that the TOV initial data satisfy the Hamiltonian constraint\n",
    "    1. [Step 4.a](#ham_const_output): Output the Hamiltonian Constraint\n",
    "    1. [Step 4.b](#apply_bcs): Apply singular, curvilinear coordinate boundary conditions\n",
    "    1. [Step 4.c](#enforce3metric): Enforce conformal 3-metric $\\det{\\bar{\\gamma}_{ij}}=\\det{\\hat{\\gamma}_{ij}}$ \n",
    "1. [Step 5](#mainc): `TOV_Playground.c`: The Main C Code\n",
    "1. [Step 6](#plot): Plotting the single-neutron-star initial data\n",
    "1. [Step 7](#convergence): Validation: Convergence of numerical errors (Hamiltonian constraint violation) to zero\n",
    "1. [Step 8](#latex_pdf_output): Output this notebook to $\\LaTeX$-formatted PDF file"
   ]
  },
  {
   "cell_type": "markdown",
   "metadata": {},
   "source": [
    "<a id='initalizenrpy'></a>\n",
    "\n",
    "# Step 1: Set core NRPy+ parameters for numerical grids and reference metric \\[Back to [top](#toc)\\]\n",
    "$$\\label{initializenrpy}$$\n"
   ]
  },
  {
   "cell_type": "code",
   "execution_count": 1,
   "metadata": {},
   "outputs": [],
   "source": [
    "# Step 1: Initialize core Python/NRPy+ modules and parameters\n",
    "# Step 1.a: Add the NRPy+ base directory to the path\n",
    "import os,sys,shutil            # Standard Python modules for multiplatform OS-level functions\n",
    "nrpy_dir_path = os.path.join(\"..\")\n",
    "if nrpy_dir_path not in sys.path:\n",
    "    sys.path.append(nrpy_dir_path)"
   ]
  },
  {
   "cell_type": "code",
   "execution_count": 2,
   "metadata": {
    "execution": {
     "iopub.execute_input": "2021-03-07T17:27:11.556972Z",
     "iopub.status.busy": "2021-03-07T17:27:11.556062Z",
     "iopub.status.idle": "2021-03-07T17:27:12.308830Z",
     "shell.execute_reply": "2021-03-07T17:27:12.308115Z"
    }
   },
   "outputs": [],
   "source": [
    "# Step P1: Import needed NRPy+ core modules:\n",
    "from outputC import outputC,add_to_Cfunction_dict # NRPy+: Core C code output module\n",
    "import NRPy_param_funcs as par   # NRPy+: Parameter interface\n",
    "import sympy as sp               # SymPy: The Python computer algebra package upon which NRPy+ depends\n",
    "import finite_difference as fin  # NRPy+: Finite difference C code generation module\n",
    "import grid as gri               # NRPy+: Functions having to do with numerical grids\n",
    "import indexedexp as ixp         # NRPy+: Symbolic indexed expression (e.g., tensors, vectors, etc.) support\n",
    "import reference_metric as rfm   # NRPy+: Reference metric support\n",
    "import cmdline_helper as cmd     # NRPy+: Multi-platform Python command-line interface\n",
    "import shutil, os, sys           # Standard Python modules for multiplatform OS-level functions\n",
    "\n",
    "# Step P2: Create C code output directory:\n",
    "Ccodesrootdir = os.path.join(\"TOVID_Ccodes_new_way/\")\n",
    "# First remove C code output directory if it exists\n",
    "# Courtesy https://stackoverflow.com/questions/303200/how-do-i-remove-delete-a-folder-that-is-not-empty\n",
    "# !rm -r ScalarWaveCurvilinear_Playground_Ccodes\n",
    "shutil.rmtree(Ccodesrootdir, ignore_errors=True)\n",
    "# Then create a fresh directory\n",
    "cmd.mkdir(Ccodesrootdir)\n",
    "\n",
    "# Step 1: Set the spatial dimension parameter\n",
    "#         to three this time, and then read\n",
    "#         the parameter as DIM.\n",
    "par.set_parval_from_str(\"grid::DIM\",3)\n",
    "DIM = par.parval_from_str(\"grid::DIM\")\n",
    "\n",
    "# Step 2: Set some core parameters, including CoordSystem MoL timestepping algorithm,\n",
    "#                                 FD order, floating point precision, and CFL factor:\n",
    "# Choices are: Spherical, SinhSpherical, SinhSphericalv2, Cylindrical, SinhCylindrical,\n",
    "#              SymTP, SinhSymTP\n",
    "CoordSystem     = \"Spherical\"\n",
    "par.set_parval_from_str(\"reference_metric::CoordSystem\", CoordSystem)\n",
    "rfm.reference_metric()\n",
    "\n",
    "# Step 2.a: Set defaults for Coordinate system parameters.\n",
    "#           These are perhaps the most commonly adjusted parameters,\n",
    "#           so we enable modifications at this high level.\n",
    "\n",
    "# domain_size     = 7.5 # SET BELOW BASED ON TOV STELLAR RADIUS\n",
    "\n",
    "# sinh_width sets the default value for:\n",
    "#   * SinhSpherical's params.SINHW\n",
    "#   * SinhCylindrical's params.SINHW{RHO,Z}\n",
    "#   * SinhSymTP's params.SINHWAA\n",
    "sinh_width      = 0.4 # If Sinh* coordinates chosen\n",
    "\n",
    "# sinhv2_const_dr sets the default value for:\n",
    "#   * SinhSphericalv2's params.const_dr\n",
    "#   * SinhCylindricalv2's params.const_d{rho,z}\n",
    "sinhv2_const_dr = 0.05# If Sinh*v2 coordinates chosen\n",
    "\n",
    "# SymTP_bScale sets the default value for:\n",
    "#   * SinhSymTP's params.bScale\n",
    "SymTP_bScale    = 0.5 # If SymTP chosen\n",
    "\n",
    "# Step 2.b: Set the order of spatial finite difference derivatives;\n",
    "#           and the core data type.\n",
    "FD_order  = 4        # Finite difference order: even numbers only, starting with 2. 12 is generally unstable\n",
    "REAL      = \"double\" # Best to use double here.\n",
    "\n",
    "# Step 3: Polytropic EOS setup\n",
    "# For EOS_type, choose either \"SimplePolytrope\" or \"PiecewisePolytrope\"\n",
    "EOS_type = \"SimplePolytrope\"\n",
    "# If \"PiecewisePolytrope\" is chosen as EOS_type, you\n",
    "#   must also choose the name of the EOS, which can\n",
    "#   be any of the following:\n",
    "# 'PAL6', 'SLy', 'APR1', 'APR2', 'APR3', 'APR4',\n",
    "# 'FPS', 'WFF1', 'WFF2', 'WFF3', 'BBB2', 'BPAL12',\n",
    "# 'ENG', 'MPA1', 'MS1', 'MS2', 'MS1b', 'PS', 'GS1',\n",
    "# 'GS2', 'BGN1H1', 'GNH3', 'H1', 'H2', 'H3', 'H4',\n",
    "# 'H5', 'H6', 'H7', 'PCL2', 'ALF1', 'ALF2', 'ALF3',\n",
    "# 'ALF4'\n",
    "EOS_name = 'SLy' # <-- IGNORED IF EOS_type is not PiecewisePolytrope."
   ]
  },
  {
   "cell_type": "code",
   "execution_count": 3,
   "metadata": {
    "execution": {
     "iopub.execute_input": "2021-03-07T17:27:11.556972Z",
     "iopub.status.busy": "2021-03-07T17:27:11.556062Z",
     "iopub.status.idle": "2021-03-07T17:27:12.308830Z",
     "shell.execute_reply": "2021-03-07T17:27:12.308115Z"
    }
   },
   "outputs": [],
   "source": [
    "# Step 4: Set the finite differencing order to FD_order (set above).\n",
    "par.set_parval_from_str(\"finite_difference::FD_CENTDERIVS_ORDER\", FD_order)"
   ]
  },
  {
   "cell_type": "markdown",
   "metadata": {},
   "source": [
    "<a id='adm_id_tov'></a>\n",
    "\n",
    "# Step 2: Set up ADM initial data for polytropic TOV Star \\[Back to [top](#toc)\\]\n",
    "$$\\label{adm_id_tov}$$\n",
    "\n",
    "As documented [in the TOV Initial Data NRPy+ Tutorial Module](Tutorial-TOV_Initial_Data.ipynb) ([older version here](Tutorial-GRMHD_UnitConversion.ipynb)), we will now set up TOV initial data, storing the densely-sampled result to file (***Courtesy Phil Chang***).\n",
    "\n",
    "The TOV solver uses an ODE integration routine provided by scipy, so we first make sure that scipy is installed:"
   ]
  },
  {
   "cell_type": "code",
   "execution_count": 4,
   "metadata": {
    "execution": {
     "iopub.execute_input": "2021-03-07T17:27:12.314111Z",
     "iopub.status.busy": "2021-03-07T17:27:12.313153Z",
     "iopub.status.idle": "2021-03-07T17:27:13.367388Z",
     "shell.execute_reply": "2021-03-07T17:27:13.368227Z"
    },
    "scrolled": true
   },
   "outputs": [],
   "source": [
    "!pip install scipy > /dev/null"
   ]
  },
  {
   "cell_type": "markdown",
   "metadata": {},
   "source": [
    "Next we call the [`TOV.TOV_Solver()` function](../edit/TOV/TOV_Solver.py) ([NRPy+ Tutorial module](Tutorial-ADM_Initial_Data-TOV.ipynb)) to set up the initial data, using the default parameters for initial data. This function outputs the solution to a file named `outputTOVpolytrope.txt`."
   ]
  },
  {
   "cell_type": "code",
   "execution_count": 5,
   "metadata": {
    "execution": {
     "iopub.execute_input": "2021-03-07T17:27:13.384270Z",
     "iopub.status.busy": "2021-03-07T17:27:13.383592Z",
     "iopub.status.idle": "2021-03-07T17:27:13.745188Z",
     "shell.execute_reply": "2021-03-07T17:27:13.745799Z"
    }
   },
   "outputs": [
    {
     "name": "stdout",
     "output_type": "stream",
     "text": [
      "1256 1256 1256 1256 1256 1256\n",
      "Just generated a TOV star with\n",
      "* M        = 1.405030336771405e-01 ,\n",
      "* R_Schw   = 9.566044579232513e-01 ,\n",
      "* R_iso    = 8.100085557410308e-01 ,\n",
      "* M/R_Schw = 1.468768334847266e-01 \n",
      "\n"
     ]
    }
   ],
   "source": [
    "##########################\n",
    "# Polytropic EOS example #\n",
    "##########################\n",
    "import TOV.Polytropic_EOSs as ppeos\n",
    "\n",
    "if EOS_type == \"SimplePolytrope\":\n",
    "    # Set neos = 1 (single polytrope)\n",
    "    neos = 1\n",
    "\n",
    "    # Set rho_poly_tab (not needed for a single polytrope)\n",
    "    rho_poly_tab = []\n",
    "\n",
    "    # Set Gamma_poly_tab\n",
    "    Gamma_poly_tab = [2.0]\n",
    "\n",
    "    # Set K_poly_tab0\n",
    "    K_poly_tab0 = 1. # ZACH NOTES: CHANGED FROM 100.\n",
    "\n",
    "    # Set the eos quantities\n",
    "    eos = ppeos.set_up_EOS_parameters__complete_set_of_input_variables(neos,rho_poly_tab,Gamma_poly_tab,K_poly_tab0)\n",
    "    rho_baryon_central = 0.129285\n",
    "elif EOS_type == \"PiecewisePolytrope\":\n",
    "    eos = ppeos.set_up_EOS_parameters__Read_et_al_input_variables(EOS_name)\n",
    "    rho_baryon_central=2.0\n",
    "else:\n",
    "    print(\"\"\"Error: unknown EOS_type. Valid types are 'SimplePolytrope' and 'PiecewisePolytrope' \"\"\")\n",
    "    sys.exit(1)\n",
    "\n",
    "import TOV.TOV_Solver as TOV\n",
    "M_TOV, R_Schw_TOV, R_iso_TOV = TOV.TOV_Solver(eos,\n",
    "                                              outfile=os.path.join(Ccodesrootdir, \"TOVdata.txt\"),\n",
    "                                              rho_baryon_central=rho_baryon_central,\n",
    "                                              return_M_RSchw_and_Riso = True,\n",
    "                                              verbose = True)\n",
    "\n",
    "# domain_size sets the default value for:\n",
    "#   * Spherical's params.RMAX\n",
    "#   * SinhSpherical*'s params.AMAX\n",
    "#   * Cartesians*'s -params.{x,y,z}min & .{x,y,z}max\n",
    "#   * Cylindrical's -params.ZMIN & .{Z,RHO}MAX\n",
    "#   * SinhCylindrical's params.AMPL{RHO,Z}\n",
    "#   * *SymTP's params.AMAX\n",
    "domain_size = 2.0 * R_iso_TOV"
   ]
  },
  {
   "cell_type": "markdown",
   "metadata": {},
   "source": [
    "<a id='adm_id_spacetime'></a>\n",
    "\n",
    "# Step 3: Register C functions for initial data reader \\[Back to [top](#toc)\\]\n",
    "$$\\label{adm_id_spacetime}$$\n",
    "\n",
    " [`BSSN.Initial_Data_Reader__BSSN_Converter`](../edit/BSSN.Initial_Data_Reader__BSSN_Converter.py), and documented [in this tutorial notebook](Tutorial-ADM_Initial_Data_Reader__BSSN_Converter.ipynb)."
   ]
  },
  {
   "cell_type": "code",
   "execution_count": 6,
   "metadata": {
    "execution": {
     "iopub.execute_input": "2021-03-07T17:27:13.841974Z",
     "iopub.status.busy": "2021-03-07T17:27:13.841315Z",
     "iopub.status.idle": "2021-03-07T17:27:14.778513Z",
     "shell.execute_reply": "2021-03-07T17:27:14.777861Z"
    }
   },
   "outputs": [],
   "source": [
    "import TOV.TOV_Ccodegen_library as TOVCL  # NRPy+: TOV C codegen library\n",
    "TOVCL.add_to_Cfunction_dict_TOV_read_data_file_set_ID_persist(interp_stencil_size=12)\n",
    "TOVCL.add_to_Cfunction_dict_TOV_ID_function()\n",
    "TOVCL.add_to_Cfunction_dict_TOV_interpolate_1D()\n",
    "\n",
    "import BSSN.ADM_Initial_Data_Reader__BSSN_Converter as IDread\n",
    "IDread.register_C_functions_and_NRPy_basic_defines(input_Coord=\"Spherical\",\n",
    "                                                   ID_persist_struct_contents_str=TOVCL.ID_persist_str(),\n",
    "                                                   include_T4UU=True)"
   ]
  },
  {
   "cell_type": "markdown",
   "metadata": {},
   "source": [
    "<a id='validate'></a>\n",
    "\n",
    "# Step 4: Validating that the TOV initial data satisfy the Hamiltonian constraint \\[Back to [top](#toc)\\]\n",
    "$$\\label{validate}$$\n",
    "\n",
    "We will validate that the TOV initial data satisfy the Hamiltonian constraint, modulo numerical finite differencing error"
   ]
  },
  {
   "cell_type": "markdown",
   "metadata": {},
   "source": [
    "<a id='ham_const_output'></a>\n",
    "\n",
    "## Step 4.a: Output the Hamiltonian constraint \\[Back to [top](#toc)\\]\n",
    "$$\\label{ham_const_output}$$\n",
    "\n",
    "First output the Hamiltonian constraint [as documented in the corresponding NRPy+ tutorial notebook](Tutorial-BSSN_constraints.ipynb)"
   ]
  },
  {
   "cell_type": "code",
   "execution_count": 7,
   "metadata": {
    "execution": {
     "iopub.execute_input": "2021-03-07T17:27:14.787756Z",
     "iopub.status.busy": "2021-03-07T17:27:14.786761Z",
     "iopub.status.idle": "2021-03-07T17:28:06.273148Z",
     "shell.execute_reply": "2021-03-07T17:28:06.273626Z"
    }
   },
   "outputs": [
    {
     "name": "stdout",
     "output_type": "stream",
     "text": [
      "Generating symbolic expressions for 3-Ricci tensor (Spherical coords)...\n",
      "Finished generating symbolic expressions for 3-Ricci tensor (Spherical coords) in 0.7 seconds. Next up: C codegen...\n",
      "Generating C code for 3-Ricci tensor (FD order=4) (Spherical coords)...\n",
      "Finished generating C code for 3-Ricci tensor (FD order=4) (Spherical coords) in 9.1 seconds.\n",
      "Generating symbolic expressions for BSSN constraints (Spherical coords)...\n",
      "Finished generating symbolic expressions for BSSN constraints (Spherical coords) in 1.3 seconds. Next up: C codegen...\n",
      "Generating C code for BSSN constraints (FD order=4) (Spherical coords)...\n",
      "Finished generating C code for BSSN constraints (FD order=4) (Spherical coords) in 1.3 seconds.\n"
     ]
    }
   ],
   "source": [
    "import BSSN.BSSN_Ccodegen_library as BCl\n",
    "_ignore = BCl.add_Ricci_eval_to_Cfunction_dict(includes=[\"NRPy_basic_defines.h\"], rel_path_to_Cparams=os.path.join(\".\"),\n",
    "                                               enable_rfm_precompute=False, enable_golden_kernels=False, enable_SIMD=False,\n",
    "                                               enable_split_for_optimizations_doesnt_help=False, OMP_pragma_on=\"i2\")\n",
    "\n",
    "_ignore = BCl.add_BSSN_constraints_to_Cfunction_dict(includes=[\"NRPy_basic_defines.h\"],\n",
    "                                                     rel_path_to_Cparams=os.path.join(\".\"), output_H_only=True,\n",
    "                                                     enable_rfm_precompute=False, enable_SIMD=False,\n",
    "                                                     enable_stress_energy_source_terms=True,\n",
    "                                                     leave_Ricci_symbolic=True)"
   ]
  },
  {
   "cell_type": "markdown",
   "metadata": {},
   "source": [
    "<a id='cparams_rfm_and_domainsize'></a>\n",
    "\n",
    "## Step 4.d: Output C codes needed for declaring and setting Cparameters; also set `free_parameters.h` \\[Back to [top](#toc)\\]\n",
    "$$\\label{cparams_rfm_and_domainsize}$$\n",
    "\n",
    "Based on declared NRPy+ Cparameters, first we generate `declare_Cparameters_struct.h`, `set_Cparameters_default.h`, and `set_Cparameters[-SIMD].h`.\n",
    "\n",
    "Then we output `free_parameters.h`, which sets initial data parameters, as well as grid domain & reference metric parameters, applying `domain_size` and `sinh_width`/`SymTP_bScale` (if applicable) as set above"
   ]
  },
  {
   "cell_type": "code",
   "execution_count": 8,
   "metadata": {},
   "outputs": [],
   "source": [
    "# Step 3.a.i: Set free_parameters.h\n",
    "# Output to $Ccodesdir/free_parameters.h reference metric parameters based on generic\n",
    "#    domain_size,sinh_width,sinhv2_const_dr,SymTP_bScale,\n",
    "#    parameters set above.\n",
    "\n",
    "outstr = \"\"\n",
    "outstr += rfm.out_default_free_parameters_for_rfm(\"returnstring\",\n",
    "                                                  domain_size,sinh_width,sinhv2_const_dr,SymTP_bScale)\n",
    "with open(os.path.join(Ccodesrootdir,\"free_parameters.h\"),\"w\") as file:\n",
    "    file.write(outstr.replace(\"params.\", \"griddata.params.\"))"
   ]
  },
  {
   "cell_type": "code",
   "execution_count": 9,
   "metadata": {},
   "outputs": [],
   "source": [
    "import diagnostics_generic.output_yz_or_xy_plane as planar_diags\n",
    "# T4UU00 = e^{-nu} rho, while alpha = e^{nu/2} -> T4UU00 = rho/alpha^2 -> rho = T4UU00*alpha^2\n",
    "list_of_outputs = [\"y_n_gfs[IDX4ptS(CFGF,idx)]\",\n",
    "                   \"log10(fabs(diagnostic_output_gfs[IDX4ptS(HGF,idx)]))\",\n",
    "                   \"y_n_gfs[IDX4ptS(ALPHAGF,idx)]*y_n_gfs[IDX4ptS(ALPHAGF,idx)] * griddata->gridfuncs.auxevol_gfs[IDX4ptS(T4UU00GF,idx)]\",]\n",
    "planar_diags.add_to_Cfunction_dict__plane_diagnostics(plane=\"yz\", include_ghosts=False,\n",
    "                                                      list_of_outputs=list_of_outputs, num_sig_figs=4)"
   ]
  },
  {
   "cell_type": "markdown",
   "metadata": {},
   "source": [
    "<a id='mainc'></a>\n",
    "\n",
    "# Step 5: `TOV_Playground.c`: The Main C Code \\[Back to [top](#toc)\\]\n",
    "$$\\label{mainc}$$\n"
   ]
  },
  {
   "cell_type": "code",
   "execution_count": 10,
   "metadata": {},
   "outputs": [],
   "source": [
    "def add_to_Cfunction_dict_main__Initial_Data_Playground():\n",
    "    includes = [\"NRPy_basic_defines.h\", \"NRPy_function_prototypes.h\", \"time.h\"]\n",
    "    desc = \"\"\"// main() function:\n",
    "// Step 0: Read command-line input, set up grid structure, allocate memory for gridfunctions, set up coordinates\n",
    "// Step 1: Set up initial data to an exact solution\n",
    "// Step 2: Output data on xy plane to file.\n",
    "// Step 3: Free all allocated memory\n",
    "\"\"\"\n",
    "    c_type = \"int\"\n",
    "    name = \"main\"\n",
    "    params = \"int argc, const char *argv[]\"\n",
    "    body = r\"\"\"  griddata_struct griddata;\n",
    "  set_Cparameters_to_default(&griddata.params);\n",
    "\n",
    "  // Step 0.b: Read command-line input, error out if nonconformant\n",
    "  if((argc != 4) || atoi(argv[1]) < NGHOSTS || atoi(argv[2]) < NGHOSTS || atoi(argv[3]) < 2 /* FIXME; allow for axisymmetric sims */) {\n",
    "    fprintf(stderr,\"Error: Expected three command-line arguments: ./BrillLindquist_Playground Nx0 Nx1 Nx2,\\n\");\n",
    "    fprintf(stderr,\"where Nx[0,1,2] is the number of grid points in the 0, 1, and 2 directions.\\n\");\n",
    "    fprintf(stderr,\"Nx[] MUST BE larger than NGHOSTS (= %d)\\n\",NGHOSTS);\n",
    "    exit(1);\n",
    "  }\n",
    "  // Step 0.c: Check grid structure, first in space...\n",
    "  const int Nxx[3] = { atoi(argv[1]), atoi(argv[2]), atoi(argv[3]) };\n",
    "  if(Nxx[0]%2 != 0 || Nxx[1]%2 != 0 || Nxx[2]%2 != 0) {\n",
    "    fprintf(stderr,\"Error: Cannot guarantee a proper cell-centered grid if number of grid cells not set to even number.\\n\");\n",
    "    fprintf(stderr,\"       For example, in case of angular directions, proper symmetry zones will not exist.\\n\");\n",
    "    exit(1);\n",
    "  }\n",
    "\n",
    "#include \"free_parameters.h\"\n",
    "\n",
    "  // Step 0.d: Uniform coordinate grids are stored to *xx[3]\n",
    "  // Step 0.d.i: Set bcstruct\n",
    "  {\n",
    "    // Step 0.f: Call set_Nxx_dxx_invdx_params__and__xx(), which sets\n",
    "    //          params Nxx,Nxx_plus_2NGHOSTS,dxx,invdx, and xx[] for the\n",
    "    //          chosen (non-Eigen) CoordSystem.\n",
    "    int EigenCoord = 0;\n",
    "    set_Nxx_dxx_invdx_params__and__xx(EigenCoord, Nxx, &griddata.params, griddata.xx);\n",
    "  }\n",
    "\n",
    "  // Step 0.j: Allocate memory for y_n_gfs gridfunctions\n",
    "  const int Nxx_plus_2NGHOSTS0 = griddata.params.Nxx_plus_2NGHOSTS0;\n",
    "  const int Nxx_plus_2NGHOSTS1 = griddata.params.Nxx_plus_2NGHOSTS1;\n",
    "  const int Nxx_plus_2NGHOSTS2 = griddata.params.Nxx_plus_2NGHOSTS2;\n",
    "  const int grid_size = Nxx_plus_2NGHOSTS0*Nxx_plus_2NGHOSTS1*Nxx_plus_2NGHOSTS2;\n",
    "  griddata.gridfuncs.y_n_gfs = (REAL *restrict)malloc(sizeof(REAL)*grid_size*NUM_EVOL_GFS);\n",
    "  griddata.gridfuncs.auxevol_gfs = (REAL *restrict)malloc(sizeof(REAL)*grid_size*NUM_AUXEVOL_GFS);\n",
    "\n",
    "  // Step 0.l: Set up initial data to an exact solution\n",
    "  ID_persist_struct ID_persist;\n",
    "  TOV_read_data_file_set_ID_persist(\"TOVdata.txt\", &ID_persist);\n",
    "\n",
    "  initial_data_reader__convert_to_BSSN_from_ADM_Spherical(&griddata, &ID_persist, TOV_ID_function);\n",
    "\n",
    "  REAL *restrict aux_gfs = (REAL *restrict)malloc(sizeof(REAL)*grid_size*NUM_AUX_GFS);\n",
    "\n",
    "  // To simplify the expressions somewhat, we compute & store the Ricci tensor separately\n",
    "  //    from the BSSN constraints.\n",
    "  Ricci_eval(&griddata.params, griddata.xx, griddata.gridfuncs.y_n_gfs, griddata.gridfuncs.auxevol_gfs);\n",
    "  BSSN_constraints(&griddata.params, griddata.xx, griddata.gridfuncs.y_n_gfs, griddata.gridfuncs.auxevol_gfs, aux_gfs);\n",
    "\n",
    "  yz_plane_diagnostics(&griddata, griddata.gridfuncs.y_n_gfs, aux_gfs);\n",
    "\n",
    "  // Step 4: Free all allocated memory\n",
    "  free(griddata.gridfuncs.y_n_gfs);\n",
    "  free(griddata.gridfuncs.auxevol_gfs);\n",
    "  free(aux_gfs);\n",
    "  for(int i=0;i<3;i++) free(griddata.xx[i]);\n",
    "\n",
    "  return 0;\n",
    "\"\"\"\n",
    "    add_to_Cfunction_dict(\n",
    "        includes=includes,\n",
    "        desc=desc,\n",
    "        c_type=c_type, name=name, params=params,\n",
    "        body=body,\n",
    "        rel_path_to_Cparams=os.path.join(\".\"), enableCparameters=False)"
   ]
  },
  {
   "cell_type": "code",
   "execution_count": 11,
   "metadata": {},
   "outputs": [],
   "source": [
    "add_to_Cfunction_dict_main__Initial_Data_Playground()"
   ]
  },
  {
   "cell_type": "code",
   "execution_count": 12,
   "metadata": {
    "execution": {
     "iopub.execute_input": "2021-03-07T17:28:06.668259Z",
     "iopub.status.busy": "2021-03-07T17:28:06.667533Z",
     "iopub.status.idle": "2021-03-07T17:28:06.804048Z",
     "shell.execute_reply": "2021-03-07T17:28:06.803463Z"
    },
    "scrolled": true
   },
   "outputs": [
    {
     "name": "stdout",
     "output_type": "stream",
     "text": [
      "(EXEC): Executing `make -j18`...\n",
      "TOV_ID_function.c: In function ‘TOV_ID_function’:\n",
      "TOV_ID_function.c:11:21: warning: variable ‘phi’ set but not used [-Wunused-but-set-variable]\n",
      "   11 |   REAL rbar, theta, phi;\n",
      "      |                     ^~~\n",
      "(BENCH): Finished executing in 2.01 seconds.\n",
      "Finished compilation.\n",
      "(EXEC): Executing `taskset -c 1,3,5,7,9,11,13,15 ./Initial_Data_Playground 48 12 2`...\n",
      "(BENCH): Finished executing in 0.21 seconds.\n",
      "(EXEC): Executing `taskset -c 1,3,5,7,9,11,13,15 ./Initial_Data_Playground 96 12 2`...\n",
      "(BENCH): Finished executing in 0.21 seconds.\n"
     ]
    }
   ],
   "source": [
    "import outputC as outC\n",
    "import finite_difference as fin\n",
    "fin.register_C_functions_and_NRPy_basic_defines(NGHOSTS_account_for_onezone_upwind=True, enable_SIMD=False)\n",
    "\n",
    "outC.outC_NRPy_basic_defines_h_dict[\"MoL\"] = \"\"\"\n",
    "typedef struct __MoL_gridfunctions_struct__ {\n",
    "  REAL *restrict y_n_gfs;\n",
    "  REAL *restrict auxevol_gfs;\n",
    "} MoL_gridfunctions_struct;\n",
    "\"\"\"\n",
    "par.register_NRPy_basic_defines()  # add `paramstruct params` to griddata struct.\n",
    "list_of_extras_in_griddata_struct = [\"MoL_gridfunctions_struct gridfuncs;\"]\n",
    "gri.register_C_functions_and_NRPy_basic_defines(list_of_extras_in_griddata_struct=list_of_extras_in_griddata_struct)  # #define IDX3S(), etc.\n",
    "\n",
    "rfm.register_C_functions(use_unit_wavespeed_for_find_timestep=True)\n",
    "rfm.register_NRPy_basic_defines()\n",
    "\n",
    "outC.outputC_register_C_functions_and_NRPy_basic_defines()\n",
    "outC.NRPy_param_funcs_register_C_functions_and_NRPy_basic_defines(os.path.join(Ccodesrootdir))\n",
    "\n",
    "# Call this last: Set up NRPy_basic_defines.h and NRPy_function_prototypes.h.\n",
    "outC.construct_NRPy_basic_defines_h(Ccodesrootdir, enable_SIMD=False)\n",
    "outC.construct_NRPy_function_prototypes_h(Ccodesrootdir)\n",
    "\n",
    "cmd.new_C_compile(Ccodesrootdir, \"Initial_Data_Playground\", mkdir_Ccodesrootdir=False,\n",
    "                  uses_free_parameters_h=True, compiler_opt_option=\"fast\") # fastdebug or debug also supported\n",
    "\n",
    "# Change to output directory\n",
    "os.chdir(os.path.join(Ccodesrootdir))\n",
    "# Clean up existing output files\n",
    "cmd.delete_existing_files(\"out*.txt\")\n",
    "cmd.delete_existing_files(\"out*.png\")\n",
    "# Run executable with CFL_FACTOR = 1.0, which is allowed since\n",
    "#   simulation is axisymmetric and all phi derivs are set to zero.\n",
    "cmd.Execute(\"Initial_Data_Playground\", \"48 12 2\", file_to_redirect_stdout=\"out48.txt\")\n",
    "cmd.Execute(\"Initial_Data_Playground\", \"96 12 2\", file_to_redirect_stdout=\"out96.txt\")\n",
    "# os.chdir(os.path.join(\"..\"))\n",
    "# outC.construct_Makefile_from_outC_function_dict(Ccodesrootdir, \"Initial_Data_Playground\", uses_free_parameters_h=False,\n",
    "#                                                 compiler_opt_option=\"fastdebug\", addl_CFLAGS=None,\n",
    "#                                                 mkdir_Ccodesrootdir=True, use_make=True, CC=\"gcc\",\n",
    "#                                                 create_lib=False,  include_dirs=None)\n",
    "# Now all the C codes generated in this notebook may be found in ADM_initial_data_to_BSSN_converter/\n",
    "#    Go there and type `make` to see if it all compiles."
   ]
  },
  {
   "cell_type": "markdown",
   "metadata": {},
   "source": []
  },
  {
   "cell_type": "code",
   "execution_count": 13,
   "metadata": {},
   "outputs": [
    {
     "name": "stdout",
     "output_type": "stream",
     "text": [
      "Requirement already satisfied: scipy in /home/zetienne/jup310/lib/python3.10/site-packages (1.8.1)\r\n",
      "Requirement already satisfied: numpy<1.25.0,>=1.17.3 in /home/zetienne/jup310/lib/python3.10/site-packages (from scipy) (1.22.3)\r\n"
     ]
    }
   ],
   "source": [
    "# First install scipy if it's not yet installed. This will have no effect if it's already installed.\n",
    "!pip install scipy"
   ]
  },
  {
   "cell_type": "code",
   "execution_count": 14,
   "metadata": {},
   "outputs": [],
   "source": [
    "import numpy as np\n",
    "from scipy.interpolate import griddata\n",
    "from pylab import savefig\n",
    "import matplotlib.pyplot as plt\n",
    "from IPython.display import Image"
   ]
  },
  {
   "cell_type": "code",
   "execution_count": 15,
   "metadata": {},
   "outputs": [],
   "source": [
    "import diagnostics_generic.process_2D_data as plot2D\n",
    "xy_extent=domain_size\n",
    "# Data are in format x,y,z, CF,Ham,rho\n",
    "output_grid_x, output_grid_y, output_grid_data_Ham = \\\n",
    "    plot2D.generate_uniform_2D_grid('out96.txt', 1,2,4, [-xy_extent,xy_extent], [-xy_extent,xy_extent])\n",
    "# Ham data are in column 4 --------------------------^\n",
    "output_grid_x, output_grid_y, output_grid_data_rho = \\\n",
    "    plot2D.generate_uniform_2D_grid('out96.txt', 1,2,5, [-xy_extent,xy_extent], [-xy_extent,xy_extent])\n",
    "# rho data are in column 5 --------------------------^\n",
    "\n",
    "output_grid_data = []\n",
    "output_grid_data += [output_grid_data_Ham]\n",
    "output_grid_data += [output_grid_data_rho]"
   ]
  },
  {
   "cell_type": "code",
   "execution_count": 16,
   "metadata": {},
   "outputs": [
    {
     "data": {
      "image/png": "[encoded data removed]",
      "text/plain": [
       "<Figure size 864x432 with 4 Axes>"
      ]
     },
     "metadata": {
      "needs_background": "light"
     },
     "output_type": "display_data"
    }
   ],
   "source": [
    "fig = plt.figure(figsize=(12, 6))\n",
    "\n",
    "axN = []  # initialize axis/plot array.\n",
    "\n",
    "\n",
    "Labels = [r\"$96^3$ Numerical Err.: $log_{10}|\\mathcal{H}|$\",\n",
    "          r\"$96^3$ Mass-Energy Density $\\rho$\"]\n",
    "\n",
    "for whichplot in range(2):\n",
    "    #Generate the subplot for the each constraint\n",
    "    ax = fig.add_subplot(121 + whichplot)\n",
    "    axN.append(ax) # Grid of 2x1\n",
    "\n",
    "    axN[whichplot].set_xlabel(r'$y/M$')\n",
    "    axN[whichplot].set_ylabel(r'$z/M$')\n",
    "    axN[whichplot].set_title(Labels[whichplot])\n",
    "\n",
    "    figure = plt.imshow(output_grid_data[whichplot], extent=(-xy_extent,xy_extent, -xy_extent,xy_extent))\n",
    "    cb = plt.colorbar(figure)\n",
    "\n",
    "# Adjust the spacing between plots\n",
    "plt.tight_layout(pad=4)"
   ]
  },
  {
   "cell_type": "markdown",
   "metadata": {},
   "source": [
    "<a id='convergence'></a>\n",
    "\n",
    "# Step 7: Validation: Convergence of numerical errors (Hamiltonian constraint violation) to zero \\[Back to [top](#toc)\\]\n",
    "$$\\label{convergence}$$\n",
    "\n",
    "The equations behind these initial data solve Einstein's equations exactly, at a single instant in time. One reflection of this solution is that the Hamiltonian constraint violation should be exactly zero in the initial data. \n",
    "\n",
    "However, when evaluated on numerical grids, the Hamiltonian constraint violation will *not* generally evaluate to zero due to the associated numerical derivatives not being exact. However, these numerical derivatives (finite difference derivatives in this case) should *converge* to the exact derivatives as the density of numerical sampling points approaches infinity.\n",
    "\n",
    "In this case, all of our finite difference derivatives agree with the exact solution, with an error term that drops with the uniform gridspacing to the fourth power: $\\left(\\Delta x^i\\right)^4$. \n",
    "\n",
    "Here, as in the [Start-to-Finish Scalar Wave (Cartesian grids) NRPy+ tutorial](Tutorial-Start_to_Finish-ScalarWave.ipynb) and the [Start-to-Finish Scalar Wave (curvilinear grids) NRPy+ tutorial](Tutorial-Start_to_Finish-ScalarWaveCurvilinear.ipynb) we confirm this convergence."
   ]
  },
  {
   "cell_type": "markdown",
   "metadata": {},
   "source": [
    "Next, we set up the same initial data but on a lower-resolution, $48\\times 8\\times 2$ grid (axisymmetric in the $\\phi$ direction). Since the constraint violation (numerical error associated with the fourth-order-accurate, finite-difference derivatives) should converge to zero with the uniform gridspacing to the fourth power: $\\left(\\Delta x^i\\right)^4$, we expect the constraint violation will increase (relative to the $96\\times 16\\times 2$ grid) by a factor of $\\left(96/48\\right)^4$. Here we demonstrate that indeed this order of convergence is observed as expected, *except* at the star's surface where the stress-energy tensor $T^{\\mu\\nu}$ sharply drops to zero."
   ]
  },
  {
   "cell_type": "code",
   "execution_count": 17,
   "metadata": {
    "execution": {
     "iopub.execute_input": "2021-03-07T17:28:12.498962Z",
     "iopub.status.busy": "2021-03-07T17:28:12.498286Z",
     "iopub.status.idle": "2021-03-07T17:28:13.157334Z",
     "shell.execute_reply": "2021-03-07T17:28:13.157818Z"
    },
    "scrolled": false
   },
   "outputs": [
    {
     "data": {
      "text/plain": [
       "<Figure size 432x288 with 0 Axes>"
      ]
     },
     "metadata": {},
     "output_type": "display_data"
    },
    {
     "data": {
      "image/png": "[encoded data removed]",
      "text/plain": [
       "<Figure size 864x864 with 1 Axes>"
      ]
     },
     "metadata": {
      "needs_background": "light"
     },
     "output_type": "display_data"
    }
   ],
   "source": [
    "# Plot settings\n",
    "x_extent=domain_size      # plot from -x_extent to +x_extent\n",
    "sample_numpts_x = 100     # number of points to plot\n",
    "interp_method = \"linear\"  # Could be linear (recommended), nearest (don't use; gridpoints are off-axis), or cubic\n",
    "\n",
    "# Data are in format x,y,z, CF,Ham,rho\n",
    "output_1D_grid_data48 = []\n",
    "output_1D_grid_data96 = []\n",
    "for i in [4]:  # H constraint is in column 4 (where x is stored in the 0th column)\n",
    "    output_grid_x96, output_1D_grid_data48_i = \\\n",
    "        plot2D.extract_1D_slice_from_2D_data('out48.txt', 0.0,\n",
    "                                      1,2,i, [-x_extent, x_extent], sample_numpts_x=sample_numpts_x,\n",
    "                                      interp_method=interp_method)\n",
    "    output_grid_x48, output_1D_grid_data96_i = \\\n",
    "        plot2D.extract_1D_slice_from_2D_data('out96.txt', 0.0,\n",
    "                                      1,2,i, [-x_extent, x_extent], sample_numpts_x=sample_numpts_x,\n",
    "                                      interp_method=interp_method)\n",
    "    output_1D_grid_data48 += [output_1D_grid_data48_i]\n",
    "    output_1D_grid_data96 += [output_1D_grid_data96_i]\n",
    "\n",
    "\n",
    "PlotTitles=[r\"\\mathcal{H}\"]\n",
    "\n",
    "axN = []\n",
    "plt.clf()\n",
    "\n",
    "# We want to create four plots. One for the Hamiltonian, and three for the momentum\n",
    "# constrains (r,th,ph)\n",
    "# Define the size of the overall figure\n",
    "fig = plt.figure(figsize=(12,12))\n",
    "\n",
    "for p in range(1): #loop to cycle through our constraints and plot the data\n",
    "    #Generate the subplot for the each constraint\n",
    "    ax = fig.add_subplot(221+p)\n",
    "    axN.append(ax) # Grid of 2x2\n",
    "    axN[p].set_title('Plot Demonstrating $4^{th}$-Order Convergence of $'+PlotTitles[p]+'$')\n",
    "    axN[p].set_xlabel(r\"$x/M$\")\n",
    "    axN[p].set_ylabel(\"$log_{10}$(Relative Error)\")\n",
    "\n",
    "    ax.plot(output_grid_x96, output_1D_grid_data96[p], 'k-', label='Nr=96')\n",
    "    ax.plot(output_grid_x48, output_1D_grid_data48[p] + 4*np.log10(48./96.), 'k--', label='Nr=48, mult by (48/96)^4')\n",
    "    ax.set_ylim([-15.2,4.5])\n",
    "\n",
    "    legend = ax.legend(loc='lower right', shadow=True, fontsize='x-large')\n",
    "    legend.get_frame().set_facecolor('C1')\n",
    "\n",
    "# Adjust the spacing between plots\n",
    "plt.tight_layout(pad=4)"
   ]
  },
  {
   "cell_type": "markdown",
   "metadata": {},
   "source": [
    "<a id='latex_pdf_output'></a>\n",
    "\n",
    "# Step 8: Output this notebook to $\\LaTeX$-formatted PDF file \\[Back to [top](#toc)\\]\n",
    "$$\\label{latex_pdf_output}$$\n",
    "\n",
    "The following code cell converts this Jupyter notebook into a proper, clickable $\\LaTeX$-formatted PDF file. After the cell is successfully run, the generated PDF may be found in the root NRPy+ tutorial directory, with filename\n",
    "[Tutorial-Start_to_Finish-BSSNCurvilinear-Setting_up_TOV_initial_data.pdf](Tutorial-Start_to_Finish-BSSNCurvilinear-Setting_up_TOV_initial_data.pdf) (Note that clicking on this link may not work; you may need to open the PDF file through another means.)"
   ]
  },
  {
   "cell_type": "code",
   "execution_count": 18,
   "metadata": {
    "execution": {
     "iopub.execute_input": "2021-03-07T17:28:13.166927Z",
     "iopub.status.busy": "2021-03-07T17:28:13.162063Z",
     "iopub.status.idle": "2021-03-07T17:28:18.286719Z",
     "shell.execute_reply": "2021-03-07T17:28:18.287592Z"
    },
    "scrolled": true
   },
   "outputs": [
    {
     "name": "stdout",
     "output_type": "stream",
     "text": [
      "[NbConvertApp] WARNING | pattern 'Tutorial-Start_to_Finish-BSSNCurvilinear-Setting_up_TOV_initial_data.ipynb' matched no files\n",
      "Created Tutorial-Start_to_Finish-BSSNCurvilinear-\n",
      "    Setting_up_TOV_initial_data.tex, and compiled LaTeX file to PDF file\n",
      "    Tutorial-Start_to_Finish-BSSNCurvilinear-\n",
      "    Setting_up_TOV_initial_data.pdf\n"
     ]
    }
   ],
   "source": [
    "import cmdline_helper as cmd    # NRPy+: Multi-platform Python command-line interface\n",
    "cmd.output_Jupyter_notebook_to_LaTeXed_PDF(\"Tutorial-Start_to_Finish-BSSNCurvilinear-Setting_up_TOV_initial_data\")"
   ]
  }
 ],
 "metadata": {
  "kernelspec": {
   "display_name": "Python 3 (ipykernel)",
   "language": "python",
   "name": "python3"
  },
  "language_info": {
   "codemirror_mode": {
    "name": "ipython",
    "version": 3
   },
   "file_extension": ".py",
   "mimetype": "text/x-python",
   "name": "python",
   "nbconvert_exporter": "python",
   "pygments_lexer": "ipython3",
   "version": "3.10.4"
  }
 },
 "nbformat": 4,
 "nbformat_minor": 2
}
