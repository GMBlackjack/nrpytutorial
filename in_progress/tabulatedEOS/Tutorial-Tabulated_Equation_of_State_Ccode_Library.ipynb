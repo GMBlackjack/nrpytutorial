{
 "cells": [
  {
   "cell_type": "markdown",
   "id": "4488f25e",
   "metadata": {},
   "source": [
    "# Tutorial: Tabulated equation of state C code library\n",
    "\n",
    "## Author: Leo Werneck"
   ]
  },
  {
   "cell_type": "markdown",
   "id": "082f7d44",
   "metadata": {},
   "source": [
    "<a id='toc'></a>\n",
    "\n",
    "# Table of Contents\n",
    "$$\\label{toc}$$\n",
    "\n",
    "1. [Step 1](#initialize_nrpy): Initialize NRPy+/Python modules\n",
    "1. [Step 2](#identify_table_quantities): Identify EOS table quantities\n",
    "1. [Step 3](#ccode_gen_helper_functions): C code generation helper functions\n",
    "1. [Step 4](#interp_helpers): Interpolation helpers (<font color=orange>**in progress**</font>)\n",
    "1. [Step 5](#general_wrappers): General wrapper functions for interpolation (<font color=orange>**in progress**</font>)\n",
    "1. [Step 6](#nrpyeos_h): Generating the `NRPyEOS.h` header file (<font color=orange>**in progress**</font>)\n",
    "1. [Step 7](#add_all_functions_to_the_dictionary): Add all functions to the dictionary (<font color=orange>**in progress**</font>)\n",
    "1. [Step 8](#code_test): Code test - compiling and running a simple program (<font color=orange>**in progress**</font>)\n",
    "1. [Step 9](#latex_pdf_output): Output this notebook to $\\LaTeX$-formatted PDF file"
   ]
  },
  {
   "cell_type": "markdown",
   "id": "9915b652",
   "metadata": {},
   "source": [
    "<a id='initialize_nrpy'></a>\n",
    "\n",
    "# Step 1: Initialize NRPy+/Python modules \\[Back to [Top](#toc)\\]\n",
    "$$\\label{initialize_nrpy}$$\n",
    "\n",
    "First load all necessary NRPy+/Python modules."
   ]
  },
  {
   "cell_type": "code",
   "execution_count": 1,
   "id": "ac1ad5aa",
   "metadata": {},
   "outputs": [],
   "source": [
    "# Step 1: Initialize NRPy+/Python modules\n",
    "import shutil, os, sys                   # Standard Python modules for multiplatform OS-level functions, benchmarking\n",
    "from collections import namedtuple       # Standard Python: Enable namedtuple data type\n",
    "sys.path.append(os.path.join(\"..\",\"..\")) # Add NRPy+'s base directory to Python's path\n",
    "import outputC as outC                   # NRPy+: Core C code output module\n",
    "import cmdline_helper as cmd             # NRPy+: Multi-platform Python command-line interface"
   ]
  },
  {
   "cell_type": "markdown",
   "id": "690265aa",
   "metadata": {},
   "source": [
    "<a id='identify_table_quantities'></a>\n",
    "\n",
    "# Step 2: Identify EOS table quantities \\[Back to [Top](#toc)\\]\n",
    "$$\\label{identify_table_quantities}$$\n",
    "\n",
    "We now identify the quantities from our EOS table. These will be used to:\n",
    "\n",
    "1. Set the functions more easily;\n",
    "1. Generate a C header file with $\\mathtt{define}$'s which are compatible with this tutorial notebook;\n",
    "1. Ensure that the interpolation happens in the same order the quantities appear in the table.\n",
    "\n",
    "We do this by creating a [`namedtuple`](https://docs.python.org/3/library/collections.html#collections.namedtuple) that holds:\n",
    "\n",
    "1. An integer that uniquely identifies the hydrodynamic quantity;\n",
    "1. A description of the hydrodynamic quantity;\n",
    "1. The \"key\", which will be the name used by C's $\\mathtt{define}$;\n",
    "1. The C variable name assumed by the functions."
   ]
  },
  {
   "cell_type": "code",
   "execution_count": 2,
   "id": "6349a6c8",
   "metadata": {},
   "outputs": [],
   "source": [
    "# Step 2.a: Create the EOS named tuple\n",
    "eos_tuple = namedtuple(\"eos_tuple\",\"n desc key var\")\n",
    "\n",
    "# Step 2.b: Create tuples for all EOS quantities\n",
    "P      = eos_tuple( 0, \"Pressure\"                          ,\"NRPyEOS_press_key\"  ,\"P\"       )\n",
    "eps    = eos_tuple( 1, \"Energy\"                            ,\"NRPyEOS_eps_key\"    ,\"eps\"     )\n",
    "S      = eos_tuple( 2, \"Entropy\"                           ,\"NRPyEOS_entropy_key\",\"S\"       )\n",
    "munu   = eos_tuple( 3, \"Neutrino chemical potential\"       ,\"NRPyEOS_munu_key\"   ,\"munu\"    )\n",
    "cs2    = eos_tuple( 4, \"Soundspeed\"                        ,\"NRPyEOS_cs2_key\"    ,\"cs2\"     )\n",
    "depsdT = eos_tuple( 5, \"Derivative of eps w.r.t T\"         ,\"NRPyEOS_depsdT_key\" ,\"depsdT\"  )\n",
    "dPdrho = eos_tuple( 6, \"Derivative of P w.r.t rho\"         ,\"NRPyEOS_dPdrho_key\" ,\"dPdrho\"  )\n",
    "dPdeps = eos_tuple( 7, \"Derivative of P w.r.t eps\"         ,\"NRPyEOS_dPdeps_key\" ,\"dPdT\"    )\n",
    "muhat  = eos_tuple( 8, \"mu_n - mu_p\"                       ,\"NRPyEOS_muhat_key\"  ,\"muhat\"   )\n",
    "mu_e   = eos_tuple( 9, \"Electron chemical potential\"       ,\"NRPyEOS_mu_e_key\"   ,\"mu_e\"    )\n",
    "mu_p   = eos_tuple(10, \"Proton chemical potential\"         ,\"NRPyEOS_mu_p_key\"   ,\"mu_p\"    )\n",
    "mu_n   = eos_tuple(11, \"Neutron chemical potential\"        ,\"NRPyEOS_mu_n_key\"   ,\"mu_n\"    )\n",
    "X_a    = eos_tuple(12, \"Alpha particle mass fraction\"      ,\"NRPyEOS_X_a_key\"    ,\"X_a\"     )\n",
    "X_h    = eos_tuple(13, \"Heavy nuclei mass fraction\"        ,\"NRPyEOS_X_h_key\"    ,\"X_h\"     )\n",
    "X_n    = eos_tuple(14, \"Neutron mass fraction\"             ,\"NRPyEOS_X_n_key\"    ,\"X_n\"     )\n",
    "X_p    = eos_tuple(15, \"Proton mass fraction\"              ,\"NRPyEOS_X_p_key\"    ,\"X_p\"     )\n",
    "Abar   = eos_tuple(16, \"Avg. mass number of heavy nuclei\"  ,\"NRPyEOS_Abar_key\"   ,\"Abar\"    )\n",
    "Zbar   = eos_tuple(17, \"Avg. charge number of heavy nuclei\",\"NRPyEOS_Zbar_key\"   ,\"Zbar\"    )\n",
    "Gamma  = eos_tuple(18, \"Adiabatic index\"                   ,\"NRPyEOS_Gamma_key\"  ,\"Gamma\"   )"
   ]
  },
  {
   "cell_type": "markdown",
   "id": "812af6f0",
   "metadata": {},
   "source": [
    "<a id='ccode_gen_helper_functions'></a>\n",
    "\n",
    "# Step 3: C code generation helper functions \\[Back to [Top](#toc)\\]\n",
    "$$\\label{ccode_gen_helper_functions}$$\n",
    "\n",
    "We now write a series of helper functions that allow us to use lists of the `namedtuples` defined in the previous step to easily generate C functions to interpolate hydrodynamic quantities using the EOS table."
   ]
  },
  {
   "cell_type": "code",
   "execution_count": 3,
   "id": "7aa75352",
   "metadata": {},
   "outputs": [],
   "source": [
    "# Step 3: Helper functions\n",
    "# Step 3.a: Set function name\n",
    "def func_name(eos_params,auxvar_name):\n",
    "    N_params = len(eos_params)\n",
    "    name = \"NRPyEOS\"\n",
    "    for i in range(N_params):\n",
    "        if auxvar_name == \"T\" and i == len(eos_params)-1 and N_params > 1:\n",
    "            name += \"_and\"\n",
    "        name += \"_\"+eos_params[i].var.replace(\"_\",\"\")\n",
    "    if auxvar_name != \"T\":\n",
    "        name += \"_and_T\"\n",
    "    name += \"_from_rho_Ye_\"+auxvar_name\n",
    "    return name\n",
    "\n",
    "# Step 3.b: Determine identation of function parameters\n",
    "def param_indentation(c_type,name):\n",
    "    indent = \"  \" # Parenthesis and space between type and name\n",
    "    for i in range(len(c_type)):\n",
    "        indent += \" \"\n",
    "    for i in range(len(name)):\n",
    "        indent += \" \"\n",
    "    return indent\n",
    "\n",
    "# Step 3.c: Set function parameters\n",
    "def func_params(c_type,name,auxvar_name,eos_params):\n",
    "    indent   = param_indentation(c_type,name)\n",
    "    params   = \"const NRPyEOS_params *restrict eos_params,\\n\"\n",
    "    params  += indent+\"const double rho,\\n\"\n",
    "    params  += indent+\"const double Ye,\\n\"\n",
    "    params  += indent+\"const double \"+auxvar_name+\",\\n\"\n",
    "    N_params = len(eos_params)\n",
    "    for i in range(N_params):\n",
    "        if i == N_params-1:\n",
    "            params += indent+\"double *restrict \"+eos_params[i].var\n",
    "        else:\n",
    "            params += indent+\"double *restrict \"+eos_params[i].var+\",\\n\"\n",
    "    return params\n",
    "\n",
    "# Step 3.d: Set function body\n",
    "def func_body(name,eos_params,auxvar):\n",
    "    N_params   = len(eos_params)\n",
    "    indent     = \"  \"\n",
    "    body       = \"\"\n",
    "    body      += indent+\"// Step 1: Set EOS table keys\\n\"\n",
    "    body      += indent+\"const int keys[\"+str(N_params)+\"] = {\"\n",
    "    for i in range(N_params):\n",
    "        if i == N_params-1:\n",
    "            body += eos_params[i].key\n",
    "        else:\n",
    "            body += eos_params[i].key+\",\"\n",
    "    body      += \"};\\n\\n\"\n",
    "    body      += indent+\"// Step 2: Declare EOS error report struct\\n\"\n",
    "    body      += indent+\"NRPyEOS_error_report report;\\n\\n\"\n",
    "    body      += indent+\"// Step 3: Declare output array\\n\"\n",
    "    body      += indent+\"double outvars[\"+str(N_params)+\"];\\n\\n\"\n",
    "    body      += indent+\"// Step 4: Perform the interpolation\\n\"\n",
    "    if auxvar == \"T\":\n",
    "        body  += indent+\"NRPyEOS_from_rho_Ye_T_interpolate_n_quantities( eos_params, \"+str(N_params)+\",rho,Ye,T, keys,outvars, &report );\\n\\n\"\n",
    "    else:\n",
    "        body  += indent+\"const root_finding_precision = 1e-10;\"\n",
    "        body  += \"\"\"\n",
    "  NRPyEOS_from_rho_Ye_aux_find_T_and_interpolate_n_quantities( eos_params, \"\"\"+str(N_params)+\"\"\",root_finding_precision,\n",
    "                                                               rho,Ye,\"\"\"+auxvar.var+\",\"+auxvar.key+\"\"\", keys,outvars, T, &report );\\n\\n\"\"\"\n",
    "    body      += indent+\"// Step 5: Check for errors\"\n",
    "    body      += \"\"\"\n",
    "  if( report.error ) {\n",
    "    fprintf(stderr,\"(NRPyEOS) Inside \"\"\"+name+\"\"\". Error message: %s (key = %d)\",report.message,report.error_key);\n",
    "  }\\n\\n\"\"\"\n",
    "    body      += indent+\"// Step 6: Update output variables\\n\"\n",
    "    for i in range(N_params):\n",
    "        body  += indent+\"*\"+eos_params[i].var+\" = outvars[\"+str(i)+\"];\\n\"\n",
    "    return body\n",
    "\n",
    "# Step 3.e: Functions for which the temperature is known\n",
    "def Cfunc_known_T(eos_params_in):\n",
    "    eos_params = sorted(eos_params_in)\n",
    "    includes   = [\"NRPyEOS.h\"]\n",
    "    desc       = \"(c) 2022 Leo Werneck\"\n",
    "    c_type     = \"void\"\n",
    "    name       = func_name(eos_params,\"T\")\n",
    "    params     = func_params(c_type,name,\"T\",eos_params)\n",
    "    body       = func_body(name,eos_params,\"T\")\n",
    "    outC.add_to_Cfunction_dict(includes=includes,desc=desc,c_type=c_type,name=name,\n",
    "                               params=params,body=body,enableCparameters=False)\n",
    "#     print(outC.outCfunction(\"returnstring\",\n",
    "#                             includes=includes,desc=desc,c_type=c_type,name=name,\n",
    "#                             params=params,body=body,enableCparameters=False))\n",
    "\n",
    "# Step 3.f: Functinos for which the temperature is unknown\n",
    "def Cfunc_unknown_T(auxvar,eos_params_in):\n",
    "    eos_params = sorted(eos_params_in)\n",
    "    includes   = [\"NRPyEOS.h\"]\n",
    "    desc       = \"(c) 2022 Leo Werneck\"\n",
    "    c_type     = \"void\"\n",
    "    name       = func_name(eos_params,auxvar.var)\n",
    "    params     = func_params(c_type,name,auxvar.var,eos_params)\n",
    "    body       = func_body(name,eos_params,auxvar)\n",
    "    outC.add_to_Cfunction_dict(includes=includes,desc=desc,c_type=c_type,name=name,\n",
    "                               params=params,body=body,enableCparameters=False)\n",
    "#     print(outC.outCfunction(\"returnstring\",\n",
    "#                             includes=includes,desc=desc,c_type=c_type,name=name,\n",
    "#                             params=params,body=body,enableCparameters=False))"
   ]
  },
  {
   "cell_type": "markdown",
   "id": "5902dbe7",
   "metadata": {},
   "source": [
    "<a id='interp_helpers'></a>\n",
    "\n",
    "# Step 4: Interpolation helpers \\[Back to [Top](#toc)\\]\n",
    "$$\\label{interp_helpers}$$"
   ]
  },
  {
   "cell_type": "markdown",
   "id": "f2195dab",
   "metadata": {},
   "source": [
    "<a id='general_wrappers'></a>\n",
    "\n",
    "# Step 5: General wrapper functions for interpolation \\[Back to [Top](#toc)\\]\n",
    "$$\\label{general_wrappers}$$"
   ]
  },
  {
   "cell_type": "markdown",
   "id": "dcececc0",
   "metadata": {},
   "source": [
    "<a id='nrpyeos_h'></a>\n",
    "\n",
    "# Step 6: Generating the `NRPyEOS.h` header file \\[Back to [Top](#toc)\\]\n",
    "$$\\label{nrpyeos_h}$$"
   ]
  },
  {
   "cell_type": "markdown",
   "id": "2f48b3e8",
   "metadata": {},
   "source": [
    "<a id='add_all_functions_to_the_dictionary'></a>\n",
    "\n",
    "# Step 7: Adding all functions to the dictionary \\[Back to [Top](#toc)\\]\n",
    "$$\\label{add_all_functions_to_the_dictionary}$$\n",
    "\n",
    "The function below can be called to add all functions defined in this tutorial notebook to the C function dictionary."
   ]
  },
  {
   "cell_type": "code",
   "execution_count": 4,
   "id": "c00bc867",
   "metadata": {},
   "outputs": [],
   "source": [
    "# Step N: Add all C functions to the dictionary\n",
    "def add_all_Cfuncs_to_dict():\n",
    "    # Step N.a: Functions for which the temperature is known\n",
    "    Cfunc_known_T([P])\n",
    "    Cfunc_known_T([eps])\n",
    "    Cfunc_known_T([P,eps])\n",
    "    Cfunc_known_T([P,eps,S])\n",
    "    Cfunc_known_T([P,eps,S,cs2])\n",
    "    Cfunc_known_T([P,eps,depsdT])\n",
    "    Cfunc_known_T([P,eps,mu_e,mu_p,mu_n,muhat])\n",
    "    Cfunc_known_T([mu_e,mu_p,mu_n,muhat,X_p,X_n])\n",
    "    \n",
    "    # Step N.b: Functions for which the temperature is unknown\n",
    "    # Step N.b.i: Temperature is determined using the specific internal energy\n",
    "    Cfunc_unknown_T(eps,[P])\n",
    "    Cfunc_unknown_T(eps,[P,S,depsdT])\n",
    "    # Step N.b.ii: Temperature is determined using the pressure\n",
    "    Cfunc_unknown_T(P  ,[eps,S])\n",
    "    # Step N.b.iii: Temperature is determined using the entropy\n",
    "    Cfunc_unknown_T(S  ,[P,eps])"
   ]
  },
  {
   "cell_type": "markdown",
   "id": "f67fb2d3",
   "metadata": {},
   "source": [
    "<a id='code_test'></a>\n",
    "\n",
    "# Step 8: Code test - compiling and running a simple program \\[Back to [Top](#toc)\\]\n",
    "$$\\label{code_test}$$\n",
    "\n",
    "We now validate the implementation above by compiling a simple program and comparing the results against the trusted [`EOS_Omni`](https://einsteintoolkit.org/thornguide/EinsteinEOS/EOS_Omni/documentation.html) thorn from the [`Einstein Toolkit`](https://einsteintoolkit.org)."
   ]
  },
  {
   "cell_type": "code",
   "execution_count": 5,
   "id": "5d6db9a1",
   "metadata": {},
   "outputs": [],
   "source": [
    "# Step N+1: Code test (in progress)\n",
    "add_all_Cfuncs_to_dict()"
   ]
  },
  {
   "cell_type": "markdown",
   "id": "706fd28e",
   "metadata": {},
   "source": [
    "<a id='latex_pdf_output'></a>\n",
    "\n",
    "# Step 9: Output this notebook to $\\LaTeX$-formatted PDF file \\[Back to [top](#toc)\\]\n",
    "$$\\label{latex_pdf_output}$$\n",
    "\n",
    "The following code cell converts this Jupyter notebook into a proper, clickable $\\LaTeX$-formatted PDF file. After the cell is successfully run, the generated PDF may be found in the root NRPy+ tutorial directory, with filename\n",
    "[Tutorial-Tabulated_Equation_of_State_Ccode_Library.pdf](Tutorial-Tabulated_Equation_of_State_Ccode_Library.pdf) (Note that clicking on this link may not work; you may need to open the PDF file through another means.)"
   ]
  },
  {
   "cell_type": "code",
   "execution_count": 6,
   "id": "a3bf0c47",
   "metadata": {},
   "outputs": [
    {
     "name": "stdout",
     "output_type": "stream",
     "text": [
      "Created Tutorial-Tabulated_Equation_of_State_Ccode_Library.tex, and\n",
      "    compiled LaTeX file to PDF file Tutorial-\n",
      "    Tabulated_Equation_of_State_Ccode_Library.pdf\n"
     ]
    }
   ],
   "source": [
    "cmd.output_Jupyter_notebook_to_LaTeXed_PDF(\"Tutorial-Tabulated_Equation_of_State_Ccode_Library\")"
   ]
  }
 ],
 "metadata": {
  "kernelspec": {
   "display_name": "Python 3 (ipykernel)",
   "language": "python",
   "name": "python3"
  },
  "language_info": {
   "codemirror_mode": {
    "name": "ipython",
    "version": 3
   },
   "file_extension": ".py",
   "mimetype": "text/x-python",
   "name": "python",
   "nbconvert_exporter": "python",
   "pygments_lexer": "ipython3",
   "version": "3.9.2"
  }
 },
 "nbformat": 4,
 "nbformat_minor": 5
}
